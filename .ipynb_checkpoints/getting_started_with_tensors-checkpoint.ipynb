{
 "cells": [
  {
   "cell_type": "code",
   "execution_count": 1,
   "id": "3c6e92d4",
   "metadata": {},
   "outputs": [],
   "source": [
    "!pip install -q -U torch watermark"
   ]
  },
  {
   "cell_type": "markdown",
   "id": "31161a4e",
   "metadata": {},
   "source": [
    "Pytorch is an open source machine learning framework that accelerates the path from research prototyping to production deployment."
   ]
  },
  {
   "cell_type": "markdown",
   "id": "2986c94b",
   "metadata": {},
   "source": [
    "## PyTorch ❤ NumPy\n",
    "\n",
    "Pytorch is similar to Numpy. If you have good skills in Numpy then Pytorch will be a piece of cake for you. If not, don't worry, you will learn along the way!!\n",
    "\n",
    "Let's start with something simple:"
   ]
  },
  {
   "cell_type": "code",
   "execution_count": 2,
   "id": "f7b7d47b",
   "metadata": {},
   "outputs": [
    {
     "name": "stderr",
     "output_type": "stream",
     "text": [
      "/home/hafsa/anaconda3/envs/py37/lib/python3.7/site-packages/torch/cuda/__init__.py:83: UserWarning: CUDA initialization: The NVIDIA driver on your system is too old (found version 9010). Please update your GPU driver by downloading and installing a new version from the URL: http://www.nvidia.com/Download/index.aspx Alternatively, go to: https://pytorch.org to install a PyTorch version that has been compiled with your version of the CUDA driver. (Triggered internally at  ../c10/cuda/CUDAFunctions.cpp:109.)\n",
      "  return torch._C._cuda_getDeviceCount() > 0\n"
     ]
    }
   ],
   "source": [
    "import torch\n",
    "import numpy as np"
   ]
  },
  {
   "cell_type": "code",
   "execution_count": 3,
   "id": "9e36e564",
   "metadata": {},
   "outputs": [],
   "source": [
    "x = np.array([1, 2])\n",
    "y = np.array([3, 4])"
   ]
  },
  {
   "cell_type": "code",
   "execution_count": 4,
   "id": "86433c19",
   "metadata": {},
   "outputs": [
    {
     "data": {
      "text/plain": [
       "(array([1, 2]), array([3, 4]))"
      ]
     },
     "execution_count": 4,
     "metadata": {},
     "output_type": "execute_result"
    }
   ],
   "source": [
    "x, y"
   ]
  },
  {
   "cell_type": "code",
   "execution_count": 5,
   "id": "46268451",
   "metadata": {},
   "outputs": [
    {
     "data": {
      "text/plain": [
       "array([4, 6])"
      ]
     },
     "execution_count": 5,
     "metadata": {},
     "output_type": "execute_result"
    }
   ],
   "source": [
    "z=x+y\n",
    "z"
   ]
  },
  {
   "cell_type": "markdown",
   "id": "b923e53a",
   "metadata": {},
   "source": [
    "Now let's do the same thing using Pytorch!!"
   ]
  },
  {
   "cell_type": "code",
   "execution_count": 6,
   "id": "23b79e14",
   "metadata": {},
   "outputs": [
    {
     "data": {
      "text/plain": [
       "(tensor([1, 2]), tensor([3, 4]))"
      ]
     },
     "execution_count": 6,
     "metadata": {},
     "output_type": "execute_result"
    }
   ],
   "source": [
    "x = torch.tensor([1, 2])\n",
    "y = torch.tensor([3, 4])\n",
    "x, y"
   ]
  },
  {
   "cell_type": "markdown",
   "id": "5733c20a",
   "metadata": {},
   "source": [
    "Now we can simply add these 2 just like we did in the case of Numpy arrays."
   ]
  },
  {
   "cell_type": "code",
   "execution_count": 7,
   "id": "3c79afb6",
   "metadata": {},
   "outputs": [
    {
     "data": {
      "text/plain": [
       "tensor([4, 6])"
      ]
     },
     "execution_count": 7,
     "metadata": {},
     "output_type": "execute_result"
    }
   ],
   "source": [
    "z=x+y\n",
    "z"
   ]
  },
  {
   "cell_type": "markdown",
   "id": "7957f6ec",
   "metadata": {},
   "source": [
    "### Convert from PyTorch to Numpy and vice versa."
   ]
  },
  {
   "cell_type": "code",
   "execution_count": 8,
   "id": "0a2d0426",
   "metadata": {},
   "outputs": [
    {
     "data": {
      "text/plain": [
       "array([4, 6])"
      ]
     },
     "execution_count": 8,
     "metadata": {},
     "output_type": "execute_result"
    }
   ],
   "source": [
    "z=z.numpy()\n",
    "z"
   ]
  },
  {
   "cell_type": "code",
   "execution_count": 9,
   "id": "fbc86d4a",
   "metadata": {},
   "outputs": [
    {
     "data": {
      "text/plain": [
       "tensor([4, 6])"
      ]
     },
     "execution_count": 9,
     "metadata": {},
     "output_type": "execute_result"
    }
   ],
   "source": [
    "z=torch.from_numpy(z)\n",
    "z"
   ]
  },
  {
   "cell_type": "markdown",
   "id": "db347446",
   "metadata": {},
   "source": [
    "Good thing about these conversions is that these operations do not affect the code performance. Numpy and Pytorch saves the data in almost the same way in the memory and hence Pytorch can reuse the work done by Numpy.\n"
   ]
  },
  {
   "cell_type": "markdown",
   "id": "fa46a6c2",
   "metadata": {},
   "source": [
    "\n",
    "## Multi-dimensional Tensors\n",
    "\n",
    "Tensors are just n-dimensional number (including booleans) containers. YOu can get more details about Tensor at at [PyTorch's Tensor Docs](https://pytorch.org/docs/stable/tensors.html).\n",
    "\n",
    "We have already created tensors. Now let's see how can we build n-dimensional tensors. "
   ]
  },
  {
   "cell_type": "code",
   "execution_count": 10,
   "id": "45dd6a3d",
   "metadata": {},
   "outputs": [
    {
     "data": {
      "text/plain": [
       "tensor([[1, 2],\n",
       "        [3, 4]])"
      ]
     },
     "execution_count": 10,
     "metadata": {},
     "output_type": "execute_result"
    }
   ],
   "source": [
    "a= torch.tensor([[1, 2], [3, 4]])\n",
    "a"
   ]
  },
  {
   "cell_type": "markdown",
   "id": "f6a60d6d",
   "metadata": {},
   "source": [
    "We can define type of tensor as:"
   ]
  },
  {
   "cell_type": "code",
   "execution_count": 12,
   "id": "49a9837e",
   "metadata": {},
   "outputs": [
    {
     "data": {
      "text/plain": [
       "tensor([[1., 2.],\n",
       "        [3., 4.]])"
      ]
     },
     "execution_count": 12,
     "metadata": {},
     "output_type": "execute_result"
    }
   ],
   "source": [
    "a=torch.FloatTensor([[1, 2], [3, 4]])\n",
    "a"
   ]
  },
  {
   "cell_type": "markdown",
   "id": "2e98d238",
   "metadata": {},
   "source": [
    "Another way can be:"
   ]
  },
  {
   "cell_type": "code",
   "execution_count": 14,
   "id": "4650408d",
   "metadata": {},
   "outputs": [
    {
     "data": {
      "text/plain": [
       "tensor([[1., 2.],\n",
       "        [3., 4.]])"
      ]
     },
     "execution_count": 14,
     "metadata": {},
     "output_type": "execute_result"
    }
   ],
   "source": [
    "a=torch.tensor([[1, 2], [3, 4]], dtype=torch.float)\n",
    "a"
   ]
  },
  {
   "cell_type": "markdown",
   "id": "82bbcad6",
   "metadata": {},
   "source": [
    "We can create matrices of random numbers, O's, 1's and identity matrices as:"
   ]
  },
  {
   "cell_type": "code",
   "execution_count": 15,
   "id": "e19f3914",
   "metadata": {},
   "outputs": [
    {
     "data": {
      "text/plain": [
       "tensor([[0.1446, 0.5356, 0.5201],\n",
       "        [0.0476, 0.6236, 0.6211],\n",
       "        [0.7089, 0.6842, 0.2209],\n",
       "        [0.8935, 0.4117, 0.9426]])"
      ]
     },
     "execution_count": 15,
     "metadata": {},
     "output_type": "execute_result"
    }
   ],
   "source": [
    "rand_mat=torch.rand(4,3)\n",
    "rand_mat"
   ]
  },
  {
   "cell_type": "code",
   "execution_count": 16,
   "id": "441ac10f",
   "metadata": {},
   "outputs": [
    {
     "data": {
      "text/plain": [
       "tensor([[1., 1., 1., 1.],\n",
       "        [1., 1., 1., 1.],\n",
       "        [1., 1., 1., 1.]])"
      ]
     },
     "execution_count": 16,
     "metadata": {},
     "output_type": "execute_result"
    }
   ],
   "source": [
    "ones_mat=torch.ones(3,4)\n",
    "ones_mat"
   ]
  },
  {
   "cell_type": "code",
   "execution_count": 17,
   "id": "ae0982b9",
   "metadata": {},
   "outputs": [
    {
     "data": {
      "text/plain": [
       "tensor([[0., 0., 0., 0.],\n",
       "        [0., 0., 0., 0.],\n",
       "        [0., 0., 0., 0.]])"
      ]
     },
     "execution_count": 17,
     "metadata": {},
     "output_type": "execute_result"
    }
   ],
   "source": [
    "zeros_mat=torch.zeros(3,4)\n",
    "zeros_mat"
   ]
  },
  {
   "cell_type": "code",
   "execution_count": 20,
   "id": "d8a11670",
   "metadata": {},
   "outputs": [
    {
     "data": {
      "text/plain": [
       "tensor([[1., 0., 0., 0.],\n",
       "        [0., 1., 0., 0.],\n",
       "        [0., 0., 1., 0.],\n",
       "        [0., 0., 0., 1.]])"
      ]
     },
     "execution_count": 20,
     "metadata": {},
     "output_type": "execute_result"
    }
   ],
   "source": [
    "identity_mat=torch.eye(4)\n",
    "identity_mat"
   ]
  },
  {
   "cell_type": "markdown",
   "id": "b2c4dadc",
   "metadata": {},
   "source": [
    "PyTorch has several useful operations as shown below:"
   ]
  },
  {
   "cell_type": "code",
   "execution_count": 35,
   "id": "65ecf0da",
   "metadata": {},
   "outputs": [
    {
     "data": {
      "text/plain": [
       "tensor([[1.0279, 0.6961, 0.5188],\n",
       "        [0.1491, 0.6077, 1.5884]])"
      ]
     },
     "execution_count": 35,
     "metadata": {},
     "output_type": "execute_result"
    }
   ],
   "source": [
    "x = torch.rand(2, 3) \n",
    "y = torch.rand(2, 3)  \n",
    "z = torch.add(x, y) \n",
    "\n",
    "z"
   ]
  },
  {
   "cell_type": "markdown",
   "id": "810929b0",
   "metadata": {},
   "source": [
    "Another way to assign outout to a variable is given below:"
   ]
  },
  {
   "cell_type": "code",
   "execution_count": 36,
   "id": "b21fa31a",
   "metadata": {},
   "outputs": [
    {
     "data": {
      "text/plain": [
       "tensor([[1.0279, 0.6961, 0.5188],\n",
       "        [0.1491, 0.6077, 1.5884]])"
      ]
     },
     "execution_count": 36,
     "metadata": {},
     "output_type": "execute_result"
    }
   ],
   "source": [
    "torch.add(x, y, out=z)\n",
    "z"
   ]
  },
  {
   "cell_type": "markdown",
   "id": "d70d62fc",
   "metadata": {},
   "source": [
    "### In-place operation"
   ]
  },
  {
   "cell_type": "markdown",
   "id": "3e606968",
   "metadata": {},
   "source": [
    "All operations end with “_” is in place operations:"
   ]
  },
  {
   "cell_type": "code",
   "execution_count": 30,
   "id": "2f03d203",
   "metadata": {},
   "outputs": [
    {
     "data": {
      "text/plain": [
       "tensor([[2.1735, 1.6123, 1.1719],\n",
       "        [0.8051, 1.3389, 1.8761]])"
      ]
     },
     "execution_count": 30,
     "metadata": {},
     "output_type": "execute_result"
    }
   ],
   "source": [
    "z_1=x.add_(y)   # same results as in above expression\n",
    "z_1"
   ]
  },
  {
   "cell_type": "markdown",
   "id": "25bc7abc",
   "metadata": {},
   "source": [
    "Generally, performing some operation creates a new Tensor, just like z_2 was created in above expression. We can use in-place to assign value to same variable:"
   ]
  },
  {
   "cell_type": "code",
   "execution_count": 37,
   "id": "9b34a247",
   "metadata": {},
   "outputs": [
    {
     "name": "stdout",
     "output_type": "stream",
     "text": [
      "value of x is: tensor([[0.5067, 0.2824, 0.1337],\n",
      "        [0.0926, 0.2543, 0.9337]])\n",
      "updated value of x is: tensor([[1.0279, 0.6961, 0.5188],\n",
      "        [0.1491, 0.6077, 1.5884]])\n"
     ]
    }
   ],
   "source": [
    "print ('value of x is:',x)\n",
    "x.add_(y)\n",
    "print ('updated value of x is:',x)\n"
   ]
  },
  {
   "cell_type": "markdown",
   "id": "d94f6a98",
   "metadata": {},
   "source": [
    "### Transpose of a tensor\n",
    "Transpose of a tensor can be taken as follows:"
   ]
  },
  {
   "cell_type": "code",
   "execution_count": 38,
   "id": "c356ed94",
   "metadata": {},
   "outputs": [
    {
     "data": {
      "text/plain": [
       "tensor([[1.0279, 0.1491],\n",
       "        [0.6961, 0.6077],\n",
       "        [0.5188, 1.5884]])"
      ]
     },
     "execution_count": 38,
     "metadata": {},
     "output_type": "execute_result"
    }
   ],
   "source": [
    "x.t()"
   ]
  },
  {
   "cell_type": "markdown",
   "id": "933f4629",
   "metadata": {},
   "source": [
    "### Tensor meta-data\n",
    "Size of the Tensor and number of elements in Tensor:"
   ]
  },
  {
   "cell_type": "code",
   "execution_count": 39,
   "id": "2fc13816",
   "metadata": {},
   "outputs": [
    {
     "name": "stdout",
     "output_type": "stream",
     "text": [
      "size of x is: torch.Size([2, 3])\n",
      "total number of elements in x are: 6\n"
     ]
    }
   ],
   "source": [
    "x_size=x.size()                        \n",
    "total_elements=torch.numel(x)\n",
    "print ('size of x is:', x_size)\n",
    "print ('total number of elements in x are:', total_elements)"
   ]
  },
  {
   "cell_type": "markdown",
   "id": "4ea86c42",
   "metadata": {},
   "source": [
    "### Reshaping a Tensor\n",
    "Tensors can be reshaped to any shape as:"
   ]
  },
  {
   "cell_type": "code",
   "execution_count": 41,
   "id": "b795c300",
   "metadata": {},
   "outputs": [
    {
     "name": "stdout",
     "output_type": "stream",
     "text": [
      "original x is: tensor([[-1.1891, -0.6359,  1.2239],\n",
      "        [ 0.3079,  1.0337,  0.6203]])\n",
      "reshaped x is: tensor([-1.1891, -0.6359,  1.2239,  0.3079,  1.0337,  0.6203])\n"
     ]
    }
   ],
   "source": [
    "### Tensor resizing\n",
    "x = torch.randn(2, 3)            # Size 2x3\n",
    "print ('original x is:', x)\n",
    "y = x.view(6)                    # Resize x to size 6- a single row having 6 elements\n",
    "print ('reshaped x is:', y)\n"
   ]
  },
  {
   "cell_type": "code",
   "execution_count": null,
   "id": "94a08edc",
   "metadata": {},
   "outputs": [],
   "source": []
  }
 ],
 "metadata": {
  "kernelspec": {
   "display_name": "Python 3",
   "language": "python",
   "name": "python3"
  },
  "language_info": {
   "codemirror_mode": {
    "name": "ipython",
    "version": 3
   },
   "file_extension": ".py",
   "mimetype": "text/x-python",
   "name": "python",
   "nbconvert_exporter": "python",
   "pygments_lexer": "ipython3",
   "version": "3.7.10"
  }
 },
 "nbformat": 4,
 "nbformat_minor": 5
}
