{
 "cells": [
  {
   "cell_type": "code",
   "execution_count": 1,
   "id": "3c6e92d4",
   "metadata": {},
   "outputs": [],
   "source": [
    "try:\n",
    "    import torch\n",
    "except ImportError as e:\n",
    "    print ('installing PyTorch')\n",
    "    !pip install -q -U torch watermark  # module doesn't exist, deal with it.\n",
    "    \n"
   ]
  },
  {
   "cell_type": "code",
   "execution_count": null,
   "id": "6f3a269b",
   "metadata": {},
   "outputs": [],
   "source": []
  },
  {
   "cell_type": "markdown",
   "id": "31161a4e",
   "metadata": {},
   "source": [
    "Pytorch is an open source machine learning framework that accelerates the path from research prototyping to production deployment."
   ]
  },
  {
   "cell_type": "markdown",
   "id": "2986c94b",
   "metadata": {},
   "source": [
    "## PyTorch ❤ NumPy\n",
    "\n",
    "Pytorch is similar to Numpy. If you have good skills in Numpy then Pytorch will be a piece of cake for you. If not, don't worry, you will learn along the way!!\n",
    "\n",
    "Let's start with something simple:"
   ]
  },
  {
   "cell_type": "code",
   "execution_count": 2,
   "id": "f7b7d47b",
   "metadata": {},
   "outputs": [],
   "source": [
    "import torch\n",
    "import numpy as np"
   ]
  },
  {
   "cell_type": "code",
   "execution_count": 3,
   "id": "9e36e564",
   "metadata": {},
   "outputs": [],
   "source": [
    "x = np.array([1, 2])\n",
    "y = np.array([3, 4])"
   ]
  },
  {
   "cell_type": "code",
   "execution_count": 4,
   "id": "86433c19",
   "metadata": {},
   "outputs": [
    {
     "data": {
      "text/plain": [
       "(array([1, 2]), array([3, 4]))"
      ]
     },
     "execution_count": 4,
     "metadata": {},
     "output_type": "execute_result"
    }
   ],
   "source": [
    "x, y"
   ]
  },
  {
   "cell_type": "code",
   "execution_count": 5,
   "id": "46268451",
   "metadata": {},
   "outputs": [
    {
     "data": {
      "text/plain": [
       "array([4, 6])"
      ]
     },
     "execution_count": 5,
     "metadata": {},
     "output_type": "execute_result"
    }
   ],
   "source": [
    "z=x+y\n",
    "z"
   ]
  },
  {
   "cell_type": "markdown",
   "id": "b923e53a",
   "metadata": {},
   "source": [
    "Now let's do the same thing using Pytorch!!"
   ]
  },
  {
   "cell_type": "code",
   "execution_count": 6,
   "id": "23b79e14",
   "metadata": {},
   "outputs": [
    {
     "data": {
      "text/plain": [
       "(tensor([1, 2]), tensor([3, 4]))"
      ]
     },
     "execution_count": 6,
     "metadata": {},
     "output_type": "execute_result"
    }
   ],
   "source": [
    "x = torch.tensor([1, 2])\n",
    "y = torch.tensor([3, 4])\n",
    "x, y"
   ]
  },
  {
   "cell_type": "markdown",
   "id": "5733c20a",
   "metadata": {},
   "source": [
    "Now we can simply add these 2 just like we did in the case of Numpy arrays."
   ]
  },
  {
   "cell_type": "code",
   "execution_count": 7,
   "id": "3c79afb6",
   "metadata": {},
   "outputs": [
    {
     "data": {
      "text/plain": [
       "tensor([4, 6])"
      ]
     },
     "execution_count": 7,
     "metadata": {},
     "output_type": "execute_result"
    }
   ],
   "source": [
    "z=x+y\n",
    "z"
   ]
  },
  {
   "cell_type": "markdown",
   "id": "7957f6ec",
   "metadata": {},
   "source": [
    "### Convert from PyTorch to Numpy and vice versa."
   ]
  },
  {
   "cell_type": "code",
   "execution_count": 8,
   "id": "0a2d0426",
   "metadata": {},
   "outputs": [
    {
     "data": {
      "text/plain": [
       "array([4, 6])"
      ]
     },
     "execution_count": 8,
     "metadata": {},
     "output_type": "execute_result"
    }
   ],
   "source": [
    "z=z.numpy()\n",
    "z"
   ]
  },
  {
   "cell_type": "code",
   "execution_count": 9,
   "id": "fbc86d4a",
   "metadata": {},
   "outputs": [
    {
     "data": {
      "text/plain": [
       "tensor([4, 6])"
      ]
     },
     "execution_count": 9,
     "metadata": {},
     "output_type": "execute_result"
    }
   ],
   "source": [
    "z=torch.from_numpy(z)\n",
    "z"
   ]
  },
  {
   "cell_type": "markdown",
   "id": "db347446",
   "metadata": {},
   "source": [
    "Good thing about these conversions is that these operations do not affect the code performance. Numpy and Pytorch saves the data in almost the same way in the memory and hence Pytorch can reuse the work done by Numpy.\n"
   ]
  },
  {
   "cell_type": "markdown",
   "id": "fa46a6c2",
   "metadata": {},
   "source": [
    "\n",
    "## Multi-dimensional Tensors\n",
    "\n",
    "Tensors are just n-dimensional number (including booleans) containers. YOu can get more details about Tensor at at [PyTorch's Tensor Docs](https://pytorch.org/docs/stable/tensors.html).\n",
    "\n",
    "We have already created tensors. Now let's see how can we build n-dimensional tensors. "
   ]
  },
  {
   "cell_type": "code",
   "execution_count": 10,
   "id": "45dd6a3d",
   "metadata": {},
   "outputs": [
    {
     "data": {
      "text/plain": [
       "tensor([[1, 2],\n",
       "        [3, 4]])"
      ]
     },
     "execution_count": 10,
     "metadata": {},
     "output_type": "execute_result"
    }
   ],
   "source": [
    "a= torch.tensor([[1, 2], [3, 4]])\n",
    "a"
   ]
  },
  {
   "cell_type": "markdown",
   "id": "f6a60d6d",
   "metadata": {},
   "source": [
    "We can define type of tensor as:"
   ]
  },
  {
   "cell_type": "code",
   "execution_count": 11,
   "id": "49a9837e",
   "metadata": {},
   "outputs": [
    {
     "data": {
      "text/plain": [
       "tensor([[1., 2.],\n",
       "        [3., 4.]])"
      ]
     },
     "execution_count": 11,
     "metadata": {},
     "output_type": "execute_result"
    }
   ],
   "source": [
    "a=torch.FloatTensor([[1, 2], [3, 4]])\n",
    "a"
   ]
  },
  {
   "cell_type": "markdown",
   "id": "2e98d238",
   "metadata": {},
   "source": [
    "Another way can be:"
   ]
  },
  {
   "cell_type": "code",
   "execution_count": 12,
   "id": "4650408d",
   "metadata": {},
   "outputs": [
    {
     "data": {
      "text/plain": [
       "tensor([[1., 2.],\n",
       "        [3., 4.]])"
      ]
     },
     "execution_count": 12,
     "metadata": {},
     "output_type": "execute_result"
    }
   ],
   "source": [
    "a=torch.tensor([[1, 2], [3, 4]], dtype=torch.float)\n",
    "a"
   ]
  },
  {
   "cell_type": "markdown",
   "id": "82bbcad6",
   "metadata": {},
   "source": [
    "We can create matrices of random numbers, O's, 1's and identity matrices as:"
   ]
  },
  {
   "cell_type": "code",
   "execution_count": 13,
   "id": "e19f3914",
   "metadata": {},
   "outputs": [
    {
     "data": {
      "text/plain": [
       "tensor([[0.9471, 0.5586, 0.4430],\n",
       "        [0.4474, 0.1853, 0.2681],\n",
       "        [0.1750, 0.5708, 0.7609],\n",
       "        [0.6340, 0.4863, 0.1911]])"
      ]
     },
     "execution_count": 13,
     "metadata": {},
     "output_type": "execute_result"
    }
   ],
   "source": [
    "rand_mat=torch.rand(4,3)\n",
    "rand_mat"
   ]
  },
  {
   "cell_type": "code",
   "execution_count": 14,
   "id": "441ac10f",
   "metadata": {},
   "outputs": [
    {
     "data": {
      "text/plain": [
       "tensor([[1., 1., 1., 1.],\n",
       "        [1., 1., 1., 1.],\n",
       "        [1., 1., 1., 1.]])"
      ]
     },
     "execution_count": 14,
     "metadata": {},
     "output_type": "execute_result"
    }
   ],
   "source": [
    "ones_mat=torch.ones(3,4)\n",
    "ones_mat"
   ]
  },
  {
   "cell_type": "code",
   "execution_count": 15,
   "id": "ae0982b9",
   "metadata": {},
   "outputs": [
    {
     "data": {
      "text/plain": [
       "tensor([[0., 0., 0., 0.],\n",
       "        [0., 0., 0., 0.],\n",
       "        [0., 0., 0., 0.]])"
      ]
     },
     "execution_count": 15,
     "metadata": {},
     "output_type": "execute_result"
    }
   ],
   "source": [
    "zeros_mat=torch.zeros(3,4)\n",
    "zeros_mat"
   ]
  },
  {
   "cell_type": "code",
   "execution_count": 16,
   "id": "d8a11670",
   "metadata": {},
   "outputs": [
    {
     "data": {
      "text/plain": [
       "tensor([[1., 0., 0., 0.],\n",
       "        [0., 1., 0., 0.],\n",
       "        [0., 0., 1., 0.],\n",
       "        [0., 0., 0., 1.]])"
      ]
     },
     "execution_count": 16,
     "metadata": {},
     "output_type": "execute_result"
    }
   ],
   "source": [
    "identity_mat=torch.eye(4)\n",
    "identity_mat"
   ]
  },
  {
   "cell_type": "markdown",
   "id": "b2c4dadc",
   "metadata": {},
   "source": [
    "PyTorch has several useful operations as shown below:"
   ]
  },
  {
   "cell_type": "code",
   "execution_count": 17,
   "id": "65ecf0da",
   "metadata": {},
   "outputs": [
    {
     "data": {
      "text/plain": [
       "tensor([[0.4868, 0.9866, 1.2861],\n",
       "        [1.6993, 0.9130, 0.9724]])"
      ]
     },
     "execution_count": 17,
     "metadata": {},
     "output_type": "execute_result"
    }
   ],
   "source": [
    "x = torch.rand(2, 3) \n",
    "y = torch.rand(2, 3)  \n",
    "z = torch.add(x, y) \n",
    "\n",
    "z"
   ]
  },
  {
   "cell_type": "markdown",
   "id": "810929b0",
   "metadata": {},
   "source": [
    "Another way to assign outout to a variable is given below:"
   ]
  },
  {
   "cell_type": "code",
   "execution_count": 18,
   "id": "b21fa31a",
   "metadata": {},
   "outputs": [
    {
     "data": {
      "text/plain": [
       "tensor([[0.4868, 0.9866, 1.2861],\n",
       "        [1.6993, 0.9130, 0.9724]])"
      ]
     },
     "execution_count": 18,
     "metadata": {},
     "output_type": "execute_result"
    }
   ],
   "source": [
    "torch.add(x, y, out=z)\n",
    "z"
   ]
  },
  {
   "cell_type": "markdown",
   "id": "d70d62fc",
   "metadata": {},
   "source": [
    "### In-place operation"
   ]
  },
  {
   "cell_type": "markdown",
   "id": "3e606968",
   "metadata": {},
   "source": [
    "All operations end with “_” is in place operations:"
   ]
  },
  {
   "cell_type": "code",
   "execution_count": 19,
   "id": "2f03d203",
   "metadata": {},
   "outputs": [
    {
     "data": {
      "text/plain": [
       "tensor([[0.4868, 0.9866, 1.2861],\n",
       "        [1.6993, 0.9130, 0.9724]])"
      ]
     },
     "execution_count": 19,
     "metadata": {},
     "output_type": "execute_result"
    }
   ],
   "source": [
    "z_1=x.add_(y)   # same results as in above expression\n",
    "z_1"
   ]
  },
  {
   "cell_type": "markdown",
   "id": "25bc7abc",
   "metadata": {},
   "source": [
    "Generally, performing some operation creates a new Tensor, just like z_2 was created in above expression. We can use in-place to assign value to same variable:"
   ]
  },
  {
   "cell_type": "code",
   "execution_count": 20,
   "id": "9b34a247",
   "metadata": {},
   "outputs": [
    {
     "name": "stdout",
     "output_type": "stream",
     "text": [
      "value of x is: tensor([[0.4868, 0.9866, 1.2861],\n",
      "        [1.6993, 0.9130, 0.9724]])\n",
      "updated value of x is: tensor([[0.7824, 1.6582, 1.8156],\n",
      "        [2.4036, 1.5551, 1.3320]])\n"
     ]
    }
   ],
   "source": [
    "print ('value of x is:',x)\n",
    "x.add_(y)\n",
    "print ('updated value of x is:',x)\n"
   ]
  },
  {
   "cell_type": "markdown",
   "id": "d94f6a98",
   "metadata": {},
   "source": [
    "### Transpose of a tensor\n",
    "Transpose of a tensor can be taken as follows:"
   ]
  },
  {
   "cell_type": "code",
   "execution_count": 21,
   "id": "c356ed94",
   "metadata": {},
   "outputs": [
    {
     "data": {
      "text/plain": [
       "tensor([[0.7824, 2.4036],\n",
       "        [1.6582, 1.5551],\n",
       "        [1.8156, 1.3320]])"
      ]
     },
     "execution_count": 21,
     "metadata": {},
     "output_type": "execute_result"
    }
   ],
   "source": [
    "x.t()"
   ]
  },
  {
   "cell_type": "markdown",
   "id": "933f4629",
   "metadata": {},
   "source": [
    "### Tensor meta-data\n",
    "Size of the Tensor and number of elements in Tensor:"
   ]
  },
  {
   "cell_type": "code",
   "execution_count": 22,
   "id": "2fc13816",
   "metadata": {},
   "outputs": [
    {
     "name": "stdout",
     "output_type": "stream",
     "text": [
      "size of x is: torch.Size([2, 3])\n",
      "total number of elements in x are: 6\n"
     ]
    }
   ],
   "source": [
    "x_size=x.size()                        \n",
    "total_elements=torch.numel(x)\n",
    "print ('size of x is:', x_size)\n",
    "print ('total number of elements in x are:', total_elements)"
   ]
  },
  {
   "cell_type": "markdown",
   "id": "4ea86c42",
   "metadata": {},
   "source": [
    "### Reshaping a Tensor\n",
    "Tensors can be reshaped to any shape as:"
   ]
  },
  {
   "cell_type": "code",
   "execution_count": 23,
   "id": "b795c300",
   "metadata": {},
   "outputs": [
    {
     "name": "stdout",
     "output_type": "stream",
     "text": [
      "original x is: tensor([[ 1.3211, -0.4986,  0.2360],\n",
      "        [ 1.1495,  1.7325, -0.8947]])\n",
      "reshaped x is: tensor([ 1.3211, -0.4986,  0.2360,  1.1495,  1.7325, -0.8947])\n"
     ]
    }
   ],
   "source": [
    "### Tensor resizing\n",
    "x = torch.randn(2, 3)            # Size 2x3\n",
    "print ('original x is:', x)\n",
    "y = x.view(6)                    # Resize x to size 6- a single row having 6 elements\n",
    "print ('reshaped x is:', y)\n"
   ]
  },
  {
   "cell_type": "markdown",
   "id": "fe4b516b",
   "metadata": {},
   "source": [
    "## Running the code on GPU"
   ]
  },
  {
   "cell_type": "markdown",
   "id": "496aac37",
   "metadata": {},
   "source": [
    "At this point, you might be like: \"Why do I need PyTorch at all? All of this is perfectly doable with NumPy?\". PyTorch has three major superpowers: \n",
    "- you can run your operations on the GPU(s) (or something else)\n",
    "- [Autograd: automatic differentiation](https://pytorch.org/tutorials/beginner/blitz/autograd_tutorial.html)\n",
    "- A set of tools to build Neural Networks. Including several additional packages for working [with text](https://github.com/pytorch/text) or [images](https://github.com/pytorch/vision).\n",
    "\n",
    "Doing your Deep Learning computations on the GPU speeds up your experiment by a lot! And PyTorch makes it ridiculously easy to do it. Let's start by checking if GPU is available:"
   ]
  },
  {
   "cell_type": "code",
   "execution_count": 24,
   "id": "94a08edc",
   "metadata": {},
   "outputs": [
    {
     "data": {
      "text/plain": [
       "device(type='cuda')"
      ]
     },
     "execution_count": 24,
     "metadata": {},
     "output_type": "execute_result"
    }
   ],
   "source": [
    "device=torch.device(\"cuda\") if torch.cuda.is_available() else torch.device(\"cpu\")\n",
    "device"
   ]
  },
  {
   "cell_type": "code",
   "execution_count": 25,
   "id": "6a7a63ed",
   "metadata": {},
   "outputs": [
    {
     "data": {
      "text/plain": [
       "True"
      ]
     },
     "execution_count": 25,
     "metadata": {},
     "output_type": "execute_result"
    }
   ],
   "source": [
    "torch.cuda.is_available()"
   ]
  },
  {
   "cell_type": "code",
   "execution_count": 26,
   "id": "5b9dcccf",
   "metadata": {},
   "outputs": [
    {
     "data": {
      "text/plain": [
       "0"
      ]
     },
     "execution_count": 26,
     "metadata": {},
     "output_type": "execute_result"
    }
   ],
   "source": [
    "torch.cuda.current_device()"
   ]
  },
  {
   "cell_type": "markdown",
   "id": "1344cfa8",
   "metadata": {},
   "source": [
    "Good, we have a [CUDA](https://en.wikipedia.org/wiki/CUDA)-enabled GPU device on our hands. Let's store a Tensor on it:"
   ]
  },
  {
   "cell_type": "code",
   "execution_count": 28,
   "id": "f44e6d65",
   "metadata": {},
   "outputs": [
    {
     "name": "stdout",
     "output_type": "stream",
     "text": [
      "x without gpu=  tensor([[2, 3],\n",
      "        [1, 2]])\n",
      "x with gpu=  tensor([[2, 3],\n",
      "        [1, 2]], device='cuda:0')\n"
     ]
    }
   ],
   "source": [
    "x = torch.tensor([[2, 3], [1, 2]])\n",
    "print ('x without gpu= ', x)\n",
    "x=x.to(device)\n",
    "print ('x with gpu= ', x)"
   ]
  },
  {
   "cell_type": "markdown",
   "id": "5b337e13",
   "metadata": {},
   "source": [
    "Now we can do normal operations with these Tensors just like we did before:"
   ]
  },
  {
   "cell_type": "code",
   "execution_count": 32,
   "id": "2ec06ba0",
   "metadata": {},
   "outputs": [],
   "source": [
    "y = torch.tensor([[1, 2], [3, 1]])\n",
    "y = y.to(device)"
   ]
  },
  {
   "cell_type": "code",
   "execution_count": 33,
   "id": "b46181e6",
   "metadata": {},
   "outputs": [
    {
     "data": {
      "text/plain": [
       "tensor([[3, 5],\n",
       "        [4, 3]], device='cuda:0')"
      ]
     },
     "execution_count": 33,
     "metadata": {},
     "output_type": "execute_result"
    }
   ],
   "source": [
    "x.add(y)"
   ]
  },
  {
   "cell_type": "markdown",
   "id": "f6fbefc5",
   "metadata": {},
   "source": [
    "Please note that we will need to shift 'y' to GPU too if we want to add 'x' with 'y'."
   ]
  },
  {
   "cell_type": "code",
   "execution_count": null,
   "id": "7c2163dd",
   "metadata": {},
   "outputs": [],
   "source": []
  }
 ],
 "metadata": {
  "kernelspec": {
   "display_name": "Python 3",
   "language": "python",
   "name": "python3"
  },
  "language_info": {
   "codemirror_mode": {
    "name": "ipython",
    "version": 3
   },
   "file_extension": ".py",
   "mimetype": "text/x-python",
   "name": "python",
   "nbconvert_exporter": "python",
   "pygments_lexer": "ipython3",
   "version": "3.7.10"
  }
 },
 "nbformat": 4,
 "nbformat_minor": 5
}
