{
 "cells": [
  {
   "cell_type": "markdown",
   "id": "36e62642",
   "metadata": {},
   "source": [
    "# Multi-Class Sentiment Analysis with BERT"
   ]
  },
  {
   "cell_type": "markdown",
   "id": "862e84ee",
   "metadata": {},
   "source": [
    "TL;DR In this tutorial, you'll learn how to fine-tune BERT for sentiment analysis. You'll do the required text preprocessing (special tokens, padding, and attention masks) and build a Sentiment Classifier using the amazing Transformers library by Hugging Face!\n",
    "\n",
    "- [Read the tutorial](https://www.curiousily.com/posts/sentiment-analysis-with-bert-and-hugging-face-using-pytorch-and-python/)\n",
    "\n",
    "- [Run the notebook in your browser (Google Colab)](https://colab.research.google.com/drive/1PHv-IRLPCtv7oTcIGbsgZHqrB5LPvB7S)\n",
    "\n",
    "- [Read the Getting Things Done with Pytorch book](https://github.com/curiousily/Getting-Things-Done-with-Pytorch)\n",
    "\n",
    "You'll learn how to:\n",
    "\n",
    "- Intuitively understand what BERT is\n",
    "- Preprocess text data for BERT and build PyTorch Dataset (tokenization, attention masks, and padding)\n",
    "- Use Transfer Learning to build Sentiment Classifier using the Transformers library by Hugging Face\n",
    "- Evaluate the model on test data\n",
    "- Predict sentiment on raw text"
   ]
  },
  {
   "cell_type": "markdown",
   "id": "c50aef77",
   "metadata": {},
   "source": [
    "# What is BERT?"
   ]
  },
  {
   "cell_type": "markdown",
   "id": "c672865d",
   "metadata": {},
   "source": [
    "BERT (introduced in [this paper](https://arxiv.org/abs/1810.04805)) stands for Bidirectional Encoder Representations from Transformers. If you don't know what most of that means - you've come to the right place! Let's unpack the main ideas:\n",
    "\n",
    "- Bidirectional - to understand the text you're looking you'll have to look back (at the previous words) and forward (at the next words)\n",
    "- Transformers - The [Attention Is All You Need](https://arxiv.org/abs/1706.03762) paper presented the Transformer model. The Transformer reads entire sequences of tokens at once. In a sense, the model is non-directional, while LSTMs read sequentially (left-to-right or right-to-left). The attention mechanism allows for learning contextual relations between words (e.g. his in a sentence refers to Jim).\n",
    "- (Pre-trained) contextualized word embeddings - [The ELMO paper](https://arxiv.org/abs/1802.05365v2) introduced a way to encode words based on their meaning/context. Nails has multiple meanings - fingernails and metal nails.\n",
    "\n",
    "BERT was trained by masking 15% of the tokens with the goal to guess them. An additional objective was to predict the next sentence. Let's look at examples of these tasks:\n"
   ]
  },
  {
   "cell_type": "markdown",
   "id": "e5e92caa",
   "metadata": {},
   "source": [
    "## Masked Language Modeling (Masked LM)\n",
    "The objective of this task is to guess the masked tokens. Let's look at an example, and try to not make it harder than it has to be:\n",
    "\n",
    "That's [mask] she [mask] -> That's what she said\n",
    "\n",
    "## Next Sentence Prediction (NSP)\n",
    "Given a pair of two sentences, the task is to say whether or not the second follows the first (binary classification). Let's continue with the example:\n",
    "\n",
    "Input = [CLS] That's [mask] she [mask]. [SEP] Hahaha, nice! [SEP]\n",
    "\n",
    "Label = IsNext\n",
    "\n",
    "Input = [CLS] That's [mask] she [mask]. [SEP] Dwight, you ignorant [mask]! [SEP]\n",
    "\n",
    "Label = NotNext\n",
    "\n",
    "The training corpus was comprised of two entries: [Toronto Book Corpus](https://arxiv.org/abs/1506.06724) (800M words) and English Wikipedia (2,500M words). While the original Transformer has an encoder (for reading the input) and a decoder (that makes the prediction), BERT uses only the decoder.\n",
    "\n",
    "BERT is simply a pre-trained stack of Transformer Encoders. How many Encoders? We have two versions - with 12 (BERT base) and 24 (BERT Large).\n",
    "\n",
    "## Is This Thing Useful in Practice?\n",
    "The BERT paper was released along with [the source code](https://github.com/google-research/bert) and pre-trained models.\n",
    "\n",
    "The best part is that you can do Transfer Learning (thanks to the ideas from OpenAI Transformer) with BERT for many NLP tasks - Classification, Question Answering, Entity Recognition, etc. You can train with small amounts of data and achieve great performance!\n",
    "\n",
    "# Setup\n",
    "\n",
    "We'll need [the Transformers library](https://huggingface.co/transformers/) by Hugging Face:"
   ]
  },
  {
   "cell_type": "code",
   "execution_count": null,
   "id": "13f0d795",
   "metadata": {},
   "outputs": [],
   "source": [
    "# for pep-8\n",
    "!pip install nb_black\n",
    "!pip install pycodestyle_magic\n",
    "!pip install pycodestyle\n",
    "!pip install flake8"
   ]
  },
  {
   "cell_type": "code",
   "execution_count": 7,
   "id": "c60bc35c",
   "metadata": {},
   "outputs": [
    {
     "data": {
      "application/javascript": [
       "\n",
       "            setTimeout(function() {\n",
       "                var nbb_cell_id = 7;\n",
       "                var nbb_unformatted_code = \"%load_ext nb_black\\n%load_ext pycodestyle_magic\";\n",
       "                var nbb_formatted_code = \"%load_ext nb_black\\n%load_ext pycodestyle_magic\";\n",
       "                var nbb_cells = Jupyter.notebook.get_cells();\n",
       "                for (var i = 0; i < nbb_cells.length; ++i) {\n",
       "                    if (nbb_cells[i].input_prompt_number == nbb_cell_id) {\n",
       "                        if (nbb_cells[i].get_text() == nbb_unformatted_code) {\n",
       "                             nbb_cells[i].set_text(nbb_formatted_code);\n",
       "                        }\n",
       "                        break;\n",
       "                    }\n",
       "                }\n",
       "            }, 500);\n",
       "            "
      ],
      "text/plain": [
       "<IPython.core.display.Javascript object>"
      ]
     },
     "metadata": {},
     "output_type": "display_data"
    }
   ],
   "source": [
    "%load_ext nb_black\n",
    "%load_ext pycodestyle_magic"
   ]
  },
  {
   "cell_type": "code",
   "execution_count": 2,
   "id": "811fa6ad",
   "metadata": {},
   "outputs": [
    {
     "data": {
      "application/javascript": [
       "\n",
       "            setTimeout(function() {\n",
       "                var nbb_cell_id = 2;\n",
       "                var nbb_unformatted_code = \"!pip install -q -U watermark\";\n",
       "                var nbb_formatted_code = \"!pip install -q -U watermark\";\n",
       "                var nbb_cells = Jupyter.notebook.get_cells();\n",
       "                for (var i = 0; i < nbb_cells.length; ++i) {\n",
       "                    if (nbb_cells[i].input_prompt_number == nbb_cell_id) {\n",
       "                        if (nbb_cells[i].get_text() == nbb_unformatted_code) {\n",
       "                             nbb_cells[i].set_text(nbb_formatted_code);\n",
       "                        }\n",
       "                        break;\n",
       "                    }\n",
       "                }\n",
       "            }, 500);\n",
       "            "
      ],
      "text/plain": [
       "<IPython.core.display.Javascript object>"
      ]
     },
     "metadata": {},
     "output_type": "display_data"
    }
   ],
   "source": [
    "!pip install -q -U watermark"
   ]
  },
  {
   "cell_type": "code",
   "execution_count": 3,
   "id": "7824d10a",
   "metadata": {},
   "outputs": [
    {
     "data": {
      "application/javascript": [
       "\n",
       "            setTimeout(function() {\n",
       "                var nbb_cell_id = 3;\n",
       "                var nbb_unformatted_code = \"!pip install -qq transformers\";\n",
       "                var nbb_formatted_code = \"!pip install -qq transformers\";\n",
       "                var nbb_cells = Jupyter.notebook.get_cells();\n",
       "                for (var i = 0; i < nbb_cells.length; ++i) {\n",
       "                    if (nbb_cells[i].input_prompt_number == nbb_cell_id) {\n",
       "                        if (nbb_cells[i].get_text() == nbb_unformatted_code) {\n",
       "                             nbb_cells[i].set_text(nbb_formatted_code);\n",
       "                        }\n",
       "                        break;\n",
       "                    }\n",
       "                }\n",
       "            }, 500);\n",
       "            "
      ],
      "text/plain": [
       "<IPython.core.display.Javascript object>"
      ]
     },
     "metadata": {},
     "output_type": "display_data"
    }
   ],
   "source": [
    "!pip install -qq transformers"
   ]
  },
  {
   "cell_type": "code",
   "execution_count": 4,
   "id": "f07df2e5",
   "metadata": {},
   "outputs": [
    {
     "name": "stdout",
     "output_type": "stream",
     "text": [
      "Python implementation: CPython\n",
      "Python version       : 3.8.0\n",
      "IPython version      : 8.3.0\n",
      "\n",
      "numpy       : 1.22.3\n",
      "pandas      : 1.4.3\n",
      "torch       : 1.11.0+cu113\n",
      "transformers: 4.21.0\n",
      "\n"
     ]
    },
    {
     "data": {
      "application/javascript": [
       "\n",
       "            setTimeout(function() {\n",
       "                var nbb_cell_id = 4;\n",
       "                var nbb_unformatted_code = \"%reload_ext watermark\\n%watermark -v -p numpy,pandas,torch,transformers\";\n",
       "                var nbb_formatted_code = \"%reload_ext watermark\\n%watermark -v -p numpy,pandas,torch,transformers\";\n",
       "                var nbb_cells = Jupyter.notebook.get_cells();\n",
       "                for (var i = 0; i < nbb_cells.length; ++i) {\n",
       "                    if (nbb_cells[i].input_prompt_number == nbb_cell_id) {\n",
       "                        if (nbb_cells[i].get_text() == nbb_unformatted_code) {\n",
       "                             nbb_cells[i].set_text(nbb_formatted_code);\n",
       "                        }\n",
       "                        break;\n",
       "                    }\n",
       "                }\n",
       "            }, 500);\n",
       "            "
      ],
      "text/plain": [
       "<IPython.core.display.Javascript object>"
      ]
     },
     "metadata": {},
     "output_type": "display_data"
    }
   ],
   "source": [
    "%reload_ext watermark\n",
    "%watermark -v -p numpy,pandas,torch,transformers"
   ]
  },
  {
   "cell_type": "code",
   "execution_count": 67,
   "id": "b2da0a9f",
   "metadata": {},
   "outputs": [
    {
     "data": {
      "text/plain": [
       "device(type='cuda', index=0)"
      ]
     },
     "execution_count": 67,
     "metadata": {},
     "output_type": "execute_result"
    },
    {
     "data": {
      "application/javascript": [
       "\n",
       "            setTimeout(function() {\n",
       "                var nbb_cell_id = 67;\n",
       "                var nbb_unformatted_code = \"# @title Setup & Config\\nimport transformers\\nfrom transformers import (\\n    BertModel,\\n    BertTokenizer,\\n    AdamW,\\n    get_linear_schedule_with_warmup,\\n)\\nimport torch\\nimport os\\nimport numpy as np\\nimport pandas as pd\\nimport seaborn as sns\\nfrom pylab import rcParams\\nimport matplotlib.pyplot as plt\\nfrom matplotlib import rc\\nfrom sklearn.preprocessing import LabelEncoder\\nfrom sklearn.model_selection import train_test_split\\nfrom sklearn.metrics import confusion_matrix, classification_report\\nfrom collections import defaultdict\\nfrom textwrap import wrap\\nimport zipfile\\n\\nfrom torch import nn, optim\\nfrom torch.utils.data import Dataset, DataLoader\\nimport torch.nn.functional as F\\n\\n%matplotlib inline\\n%config InlineBackend.figure_format='retina'\\n\\nsns.set(style=\\\"whitegrid\\\", palette=\\\"muted\\\", font_scale=1.2)\\n\\nHAPPY_COLORS_PALETTE = [\\n    \\\"#01BEFE\\\",\\n    \\\"#FFDD00\\\",\\n    \\\"#FF7D00\\\",\\n    \\\"#FF006D\\\",\\n    \\\"#ADFF02\\\",\\n    \\\"#8F00FF\\\",\\n]\\n\\nsns.set_palette(sns.color_palette(HAPPY_COLORS_PALETTE))\\n\\nrcParams[\\\"figure.figsize\\\"] = 12, 8\\n\\nRANDOM_SEED = 42\\nnp.random.seed(RANDOM_SEED)\\ntorch.manual_seed(RANDOM_SEED)\\n\\ndevice = torch.device(\\\"cuda:0\\\" if torch.cuda.is_available() else \\\"cpu\\\")\\ndevice\";\n",
       "                var nbb_formatted_code = \"# @title Setup & Config\\nimport transformers\\nfrom transformers import (\\n    BertModel,\\n    BertTokenizer,\\n    AdamW,\\n    get_linear_schedule_with_warmup,\\n)\\nimport torch\\nimport os\\nimport numpy as np\\nimport pandas as pd\\nimport seaborn as sns\\nfrom pylab import rcParams\\nimport matplotlib.pyplot as plt\\nfrom matplotlib import rc\\nfrom sklearn.preprocessing import LabelEncoder\\nfrom sklearn.model_selection import train_test_split\\nfrom sklearn.metrics import confusion_matrix, classification_report\\nfrom collections import defaultdict\\nfrom textwrap import wrap\\nimport zipfile\\n\\nfrom torch import nn, optim\\nfrom torch.utils.data import Dataset, DataLoader\\nimport torch.nn.functional as F\\n\\n%matplotlib inline\\n%config InlineBackend.figure_format='retina'\\n\\nsns.set(style=\\\"whitegrid\\\", palette=\\\"muted\\\", font_scale=1.2)\\n\\nHAPPY_COLORS_PALETTE = [\\n    \\\"#01BEFE\\\",\\n    \\\"#FFDD00\\\",\\n    \\\"#FF7D00\\\",\\n    \\\"#FF006D\\\",\\n    \\\"#ADFF02\\\",\\n    \\\"#8F00FF\\\",\\n]\\n\\nsns.set_palette(sns.color_palette(HAPPY_COLORS_PALETTE))\\n\\nrcParams[\\\"figure.figsize\\\"] = 12, 8\\n\\nRANDOM_SEED = 42\\nnp.random.seed(RANDOM_SEED)\\ntorch.manual_seed(RANDOM_SEED)\\n\\ndevice = torch.device(\\\"cuda:0\\\" if torch.cuda.is_available() else \\\"cpu\\\")\\ndevice\";\n",
       "                var nbb_cells = Jupyter.notebook.get_cells();\n",
       "                for (var i = 0; i < nbb_cells.length; ++i) {\n",
       "                    if (nbb_cells[i].input_prompt_number == nbb_cell_id) {\n",
       "                        if (nbb_cells[i].get_text() == nbb_unformatted_code) {\n",
       "                             nbb_cells[i].set_text(nbb_formatted_code);\n",
       "                        }\n",
       "                        break;\n",
       "                    }\n",
       "                }\n",
       "            }, 500);\n",
       "            "
      ],
      "text/plain": [
       "<IPython.core.display.Javascript object>"
      ]
     },
     "metadata": {},
     "output_type": "display_data"
    }
   ],
   "source": [
    "# @title Setup & Config\n",
    "import transformers\n",
    "from transformers import (\n",
    "    BertModel,\n",
    "    BertTokenizer,\n",
    "    AdamW,\n",
    "    get_linear_schedule_with_warmup,\n",
    ")\n",
    "import torch\n",
    "import os\n",
    "import numpy as np\n",
    "import pandas as pd\n",
    "import seaborn as sns\n",
    "from pylab import rcParams\n",
    "import matplotlib.pyplot as plt\n",
    "from matplotlib import rc\n",
    "from sklearn.preprocessing import LabelEncoder\n",
    "from sklearn.model_selection import train_test_split\n",
    "from sklearn.metrics import confusion_matrix, classification_report\n",
    "from collections import defaultdict\n",
    "from textwrap import wrap\n",
    "import zipfile\n",
    "\n",
    "from torch import nn, optim\n",
    "from torch.utils.data import Dataset, DataLoader\n",
    "import torch.nn.functional as F\n",
    "\n",
    "%matplotlib inline\n",
    "%config InlineBackend.figure_format='retina'\n",
    "\n",
    "sns.set(style=\"whitegrid\", palette=\"muted\", font_scale=1.2)\n",
    "\n",
    "HAPPY_COLORS_PALETTE = [\n",
    "    \"#01BEFE\",\n",
    "    \"#FFDD00\",\n",
    "    \"#FF7D00\",\n",
    "    \"#FF006D\",\n",
    "    \"#ADFF02\",\n",
    "    \"#8F00FF\",\n",
    "]\n",
    "\n",
    "sns.set_palette(sns.color_palette(HAPPY_COLORS_PALETTE))\n",
    "\n",
    "rcParams[\"figure.figsize\"] = 12, 8\n",
    "\n",
    "RANDOM_SEED = 42\n",
    "np.random.seed(RANDOM_SEED)\n",
    "torch.manual_seed(RANDOM_SEED)\n",
    "\n",
    "device = torch.device(\"cuda:0\" if torch.cuda.is_available() else \"cpu\")\n",
    "device"
   ]
  },
  {
   "cell_type": "markdown",
   "id": "053ee133",
   "metadata": {},
   "source": [
    "# Data Exploration\n",
    "I'm using the public dataset Financial PhraseBank (https://arxiv.org/abs/1307.5336).\n",
    "It consists of 4845 english sentences selected randomly from financial news, labeled according to how the information contained might affect the mentioned company stock price: positive, negative or neutral.\n"
   ]
  },
  {
   "cell_type": "markdown",
   "id": "6751eacf",
   "metadata": {},
   "source": [
    "## Download the dataset"
   ]
  },
  {
   "cell_type": "code",
   "execution_count": 18,
   "id": "3b7ce8f3",
   "metadata": {},
   "outputs": [
    {
     "data": {
      "application/javascript": [
       "\n",
       "            setTimeout(function() {\n",
       "                var nbb_cell_id = 18;\n",
       "                var nbb_unformatted_code = \"df = pd.read_csv(\\\"data_light/financial_news_dataset/financial_news_data.csv\\\")\";\n",
       "                var nbb_formatted_code = \"df = pd.read_csv(\\\"data_light/financial_news_dataset/financial_news_data.csv\\\")\";\n",
       "                var nbb_cells = Jupyter.notebook.get_cells();\n",
       "                for (var i = 0; i < nbb_cells.length; ++i) {\n",
       "                    if (nbb_cells[i].input_prompt_number == nbb_cell_id) {\n",
       "                        if (nbb_cells[i].get_text() == nbb_unformatted_code) {\n",
       "                             nbb_cells[i].set_text(nbb_formatted_code);\n",
       "                        }\n",
       "                        break;\n",
       "                    }\n",
       "                }\n",
       "            }, 500);\n",
       "            "
      ],
      "text/plain": [
       "<IPython.core.display.Javascript object>"
      ]
     },
     "metadata": {},
     "output_type": "display_data"
    }
   ],
   "source": [
    "df = pd.read_csv(\"data_light/financial_news_dataset/financial_news_data.csv\")"
   ]
  },
  {
   "cell_type": "code",
   "execution_count": 19,
   "id": "aebd6b5c",
   "metadata": {},
   "outputs": [
    {
     "data": {
      "application/javascript": [
       "\n",
       "            setTimeout(function() {\n",
       "                var nbb_cell_id = 19;\n",
       "                var nbb_unformatted_code = \"df.columns = [\\\"sentiment\\\", \\\"statement\\\", \\\"0\\\", \\\"1\\\"]\";\n",
       "                var nbb_formatted_code = \"df.columns = [\\\"sentiment\\\", \\\"statement\\\", \\\"0\\\", \\\"1\\\"]\";\n",
       "                var nbb_cells = Jupyter.notebook.get_cells();\n",
       "                for (var i = 0; i < nbb_cells.length; ++i) {\n",
       "                    if (nbb_cells[i].input_prompt_number == nbb_cell_id) {\n",
       "                        if (nbb_cells[i].get_text() == nbb_unformatted_code) {\n",
       "                             nbb_cells[i].set_text(nbb_formatted_code);\n",
       "                        }\n",
       "                        break;\n",
       "                    }\n",
       "                }\n",
       "            }, 500);\n",
       "            "
      ],
      "text/plain": [
       "<IPython.core.display.Javascript object>"
      ]
     },
     "metadata": {},
     "output_type": "display_data"
    }
   ],
   "source": [
    "df.columns = [\"sentiment\", \"statement\", \"0\", \"1\"]"
   ]
  },
  {
   "cell_type": "code",
   "execution_count": 20,
   "id": "a089588c",
   "metadata": {},
   "outputs": [
    {
     "data": {
      "application/javascript": [
       "\n",
       "            setTimeout(function() {\n",
       "                var nbb_cell_id = 20;\n",
       "                var nbb_unformatted_code = \"df = df.rename(\\n    columns={\\n        \\\"neutral\\\": \\\"sentiment\\\",\\n        \\\"According to Gran , the company has no plans to move all production to Russia , although that is where the company is growing .\\\": \\\"statement\\\",\\n    }\\n)\";\n",
       "                var nbb_formatted_code = \"df = df.rename(\\n    columns={\\n        \\\"neutral\\\": \\\"sentiment\\\",\\n        \\\"According to Gran , the company has no plans to move all production to Russia , although that is where the company is growing .\\\": \\\"statement\\\",\\n    }\\n)\";\n",
       "                var nbb_cells = Jupyter.notebook.get_cells();\n",
       "                for (var i = 0; i < nbb_cells.length; ++i) {\n",
       "                    if (nbb_cells[i].input_prompt_number == nbb_cell_id) {\n",
       "                        if (nbb_cells[i].get_text() == nbb_unformatted_code) {\n",
       "                             nbb_cells[i].set_text(nbb_formatted_code);\n",
       "                        }\n",
       "                        break;\n",
       "                    }\n",
       "                }\n",
       "            }, 500);\n",
       "            "
      ],
      "text/plain": [
       "<IPython.core.display.Javascript object>"
      ]
     },
     "metadata": {},
     "output_type": "display_data"
    }
   ],
   "source": [
    "df = df.rename(\n",
    "    columns={\n",
    "        \"neutral\": \"sentiment\",\n",
    "        \"According to Gran , the company has no plans to move all production to Russia , although that is where the company is growing .\": \"statement\",\n",
    "    }\n",
    ")"
   ]
  },
  {
   "cell_type": "code",
   "execution_count": 21,
   "id": "2a718802",
   "metadata": {},
   "outputs": [
    {
     "data": {
      "text/plain": [
       "Index(['sentiment', 'statement', '0', '1'], dtype='object')"
      ]
     },
     "execution_count": 21,
     "metadata": {},
     "output_type": "execute_result"
    },
    {
     "data": {
      "application/javascript": [
       "\n",
       "            setTimeout(function() {\n",
       "                var nbb_cell_id = 21;\n",
       "                var nbb_unformatted_code = \"df.columns\";\n",
       "                var nbb_formatted_code = \"df.columns\";\n",
       "                var nbb_cells = Jupyter.notebook.get_cells();\n",
       "                for (var i = 0; i < nbb_cells.length; ++i) {\n",
       "                    if (nbb_cells[i].input_prompt_number == nbb_cell_id) {\n",
       "                        if (nbb_cells[i].get_text() == nbb_unformatted_code) {\n",
       "                             nbb_cells[i].set_text(nbb_formatted_code);\n",
       "                        }\n",
       "                        break;\n",
       "                    }\n",
       "                }\n",
       "            }, 500);\n",
       "            "
      ],
      "text/plain": [
       "<IPython.core.display.Javascript object>"
      ]
     },
     "metadata": {},
     "output_type": "display_data"
    }
   ],
   "source": [
    "df.columns"
   ]
  },
  {
   "cell_type": "code",
   "execution_count": 22,
   "id": "8be2395c",
   "metadata": {},
   "outputs": [
    {
     "data": {
      "application/javascript": [
       "\n",
       "            setTimeout(function() {\n",
       "                var nbb_cell_id = 22;\n",
       "                var nbb_unformatted_code = \"df = df[[\\\"sentiment\\\", \\\"statement\\\"]]\";\n",
       "                var nbb_formatted_code = \"df = df[[\\\"sentiment\\\", \\\"statement\\\"]]\";\n",
       "                var nbb_cells = Jupyter.notebook.get_cells();\n",
       "                for (var i = 0; i < nbb_cells.length; ++i) {\n",
       "                    if (nbb_cells[i].input_prompt_number == nbb_cell_id) {\n",
       "                        if (nbb_cells[i].get_text() == nbb_unformatted_code) {\n",
       "                             nbb_cells[i].set_text(nbb_formatted_code);\n",
       "                        }\n",
       "                        break;\n",
       "                    }\n",
       "                }\n",
       "            }, 500);\n",
       "            "
      ],
      "text/plain": [
       "<IPython.core.display.Javascript object>"
      ]
     },
     "metadata": {},
     "output_type": "display_data"
    }
   ],
   "source": [
    "df = df[[\"sentiment\", \"statement\"]]"
   ]
  },
  {
   "cell_type": "code",
   "execution_count": 23,
   "id": "07d9145f",
   "metadata": {},
   "outputs": [
    {
     "data": {
      "text/html": [
       "<div>\n",
       "<style scoped>\n",
       "    .dataframe tbody tr th:only-of-type {\n",
       "        vertical-align: middle;\n",
       "    }\n",
       "\n",
       "    .dataframe tbody tr th {\n",
       "        vertical-align: top;\n",
       "    }\n",
       "\n",
       "    .dataframe thead th {\n",
       "        text-align: right;\n",
       "    }\n",
       "</style>\n",
       "<table border=\"1\" class=\"dataframe\">\n",
       "  <thead>\n",
       "    <tr style=\"text-align: right;\">\n",
       "      <th></th>\n",
       "      <th>sentiment</th>\n",
       "      <th>statement</th>\n",
       "    </tr>\n",
       "  </thead>\n",
       "  <tbody>\n",
       "    <tr>\n",
       "      <th>0</th>\n",
       "      <td>neutral</td>\n",
       "      <td>Technopolis plans to develop in stages an area...</td>\n",
       "    </tr>\n",
       "    <tr>\n",
       "      <th>1</th>\n",
       "      <td>negative</td>\n",
       "      <td>The international electronic industry company ...</td>\n",
       "    </tr>\n",
       "    <tr>\n",
       "      <th>2</th>\n",
       "      <td>positive</td>\n",
       "      <td>With the new production plant the company woul...</td>\n",
       "    </tr>\n",
       "    <tr>\n",
       "      <th>3</th>\n",
       "      <td>positive</td>\n",
       "      <td>According to the company 's updated strategy f...</td>\n",
       "    </tr>\n",
       "    <tr>\n",
       "      <th>4</th>\n",
       "      <td>positive</td>\n",
       "      <td>FINANCING OF ASPOCOMP 'S GROWTH Aspocomp is ag...</td>\n",
       "    </tr>\n",
       "  </tbody>\n",
       "</table>\n",
       "</div>"
      ],
      "text/plain": [
       "  sentiment                                          statement\n",
       "0   neutral  Technopolis plans to develop in stages an area...\n",
       "1  negative  The international electronic industry company ...\n",
       "2  positive  With the new production plant the company woul...\n",
       "3  positive  According to the company 's updated strategy f...\n",
       "4  positive  FINANCING OF ASPOCOMP 'S GROWTH Aspocomp is ag..."
      ]
     },
     "execution_count": 23,
     "metadata": {},
     "output_type": "execute_result"
    },
    {
     "data": {
      "application/javascript": [
       "\n",
       "            setTimeout(function() {\n",
       "                var nbb_cell_id = 23;\n",
       "                var nbb_unformatted_code = \"df.head()\";\n",
       "                var nbb_formatted_code = \"df.head()\";\n",
       "                var nbb_cells = Jupyter.notebook.get_cells();\n",
       "                for (var i = 0; i < nbb_cells.length; ++i) {\n",
       "                    if (nbb_cells[i].input_prompt_number == nbb_cell_id) {\n",
       "                        if (nbb_cells[i].get_text() == nbb_unformatted_code) {\n",
       "                             nbb_cells[i].set_text(nbb_formatted_code);\n",
       "                        }\n",
       "                        break;\n",
       "                    }\n",
       "                }\n",
       "            }, 500);\n",
       "            "
      ],
      "text/plain": [
       "<IPython.core.display.Javascript object>"
      ]
     },
     "metadata": {},
     "output_type": "display_data"
    }
   ],
   "source": [
    "df.head()"
   ]
  },
  {
   "cell_type": "code",
   "execution_count": 24,
   "id": "0bda3a3b",
   "metadata": {},
   "outputs": [
    {
     "name": "stdout",
     "output_type": "stream",
     "text": [
      "<class 'pandas.core.frame.DataFrame'>\n",
      "RangeIndex: 4845 entries, 0 to 4844\n",
      "Data columns (total 2 columns):\n",
      " #   Column     Non-Null Count  Dtype \n",
      "---  ------     --------------  ----- \n",
      " 0   sentiment  4845 non-null   object\n",
      " 1   statement  4845 non-null   object\n",
      "dtypes: object(2)\n",
      "memory usage: 75.8+ KB\n"
     ]
    },
    {
     "data": {
      "application/javascript": [
       "\n",
       "            setTimeout(function() {\n",
       "                var nbb_cell_id = 24;\n",
       "                var nbb_unformatted_code = \"df.info()\";\n",
       "                var nbb_formatted_code = \"df.info()\";\n",
       "                var nbb_cells = Jupyter.notebook.get_cells();\n",
       "                for (var i = 0; i < nbb_cells.length; ++i) {\n",
       "                    if (nbb_cells[i].input_prompt_number == nbb_cell_id) {\n",
       "                        if (nbb_cells[i].get_text() == nbb_unformatted_code) {\n",
       "                             nbb_cells[i].set_text(nbb_formatted_code);\n",
       "                        }\n",
       "                        break;\n",
       "                    }\n",
       "                }\n",
       "            }, 500);\n",
       "            "
      ],
      "text/plain": [
       "<IPython.core.display.Javascript object>"
      ]
     },
     "metadata": {},
     "output_type": "display_data"
    }
   ],
   "source": [
    "df.info()"
   ]
  },
  {
   "cell_type": "markdown",
   "id": "04f6542f",
   "metadata": {},
   "source": [
    "We have about 4845 examples. Let's check for missing values:"
   ]
  },
  {
   "cell_type": "markdown",
   "id": "a98c38f6",
   "metadata": {},
   "source": [
    "Great, no missing values in the score and review texts!"
   ]
  },
  {
   "cell_type": "code",
   "execution_count": 25,
   "id": "a83607df",
   "metadata": {
    "scrolled": false
   },
   "outputs": [
    {
     "data": {
      "text/plain": [
       "Text(0.5, 0, 'sentiment')"
      ]
     },
     "execution_count": 25,
     "metadata": {},
     "output_type": "execute_result"
    },
    {
     "data": {
      "image/png": "[encoded data removed]",
      "text/plain": [
       "<Figure size 864x576 with 1 Axes>"
      ]
     },
     "metadata": {
      "image/png": {
       "height": 491,
       "width": 745
      }
     },
     "output_type": "display_data"
    },
    {
     "data": {
      "application/javascript": [
       "\n",
       "            setTimeout(function() {\n",
       "                var nbb_cell_id = 25;\n",
       "                var nbb_unformatted_code = \"sns.countplot(x=\\\"sentiment\\\", data=df)\\nplt.xlabel(\\\"sentiment\\\")\";\n",
       "                var nbb_formatted_code = \"sns.countplot(x=\\\"sentiment\\\", data=df)\\nplt.xlabel(\\\"sentiment\\\")\";\n",
       "                var nbb_cells = Jupyter.notebook.get_cells();\n",
       "                for (var i = 0; i < nbb_cells.length; ++i) {\n",
       "                    if (nbb_cells[i].input_prompt_number == nbb_cell_id) {\n",
       "                        if (nbb_cells[i].get_text() == nbb_unformatted_code) {\n",
       "                             nbb_cells[i].set_text(nbb_formatted_code);\n",
       "                        }\n",
       "                        break;\n",
       "                    }\n",
       "                }\n",
       "            }, 500);\n",
       "            "
      ],
      "text/plain": [
       "<IPython.core.display.Javascript object>"
      ]
     },
     "metadata": {},
     "output_type": "display_data"
    }
   ],
   "source": [
    "sns.countplot(x=\"sentiment\", data=df)\n",
    "plt.xlabel(\"sentiment\")"
   ]
  },
  {
   "cell_type": "code",
   "execution_count": 26,
   "id": "e6d7cd40",
   "metadata": {},
   "outputs": [
    {
     "data": {
      "text/html": [
       "<div>\n",
       "<style scoped>\n",
       "    .dataframe tbody tr th:only-of-type {\n",
       "        vertical-align: middle;\n",
       "    }\n",
       "\n",
       "    .dataframe tbody tr th {\n",
       "        vertical-align: top;\n",
       "    }\n",
       "\n",
       "    .dataframe thead th {\n",
       "        text-align: right;\n",
       "    }\n",
       "</style>\n",
       "<table border=\"1\" class=\"dataframe\">\n",
       "  <thead>\n",
       "    <tr style=\"text-align: right;\">\n",
       "      <th></th>\n",
       "      <th>sentiment</th>\n",
       "      <th>statement</th>\n",
       "      <th>sentiment_enc</th>\n",
       "    </tr>\n",
       "  </thead>\n",
       "  <tbody>\n",
       "    <tr>\n",
       "      <th>4835</th>\n",
       "      <td>negative</td>\n",
       "      <td>Operating profits in the half were  0.8 m , do...</td>\n",
       "      <td>0</td>\n",
       "    </tr>\n",
       "    <tr>\n",
       "      <th>4836</th>\n",
       "      <td>negative</td>\n",
       "      <td>Sales in Finland decreased by 2.0 % , and inte...</td>\n",
       "      <td>0</td>\n",
       "    </tr>\n",
       "    <tr>\n",
       "      <th>4837</th>\n",
       "      <td>negative</td>\n",
       "      <td>The company said that its comparable operating...</td>\n",
       "      <td>0</td>\n",
       "    </tr>\n",
       "    <tr>\n",
       "      <th>4838</th>\n",
       "      <td>negative</td>\n",
       "      <td>Operating result for the 12-month period decre...</td>\n",
       "      <td>0</td>\n",
       "    </tr>\n",
       "    <tr>\n",
       "      <th>4839</th>\n",
       "      <td>negative</td>\n",
       "      <td>HELSINKI Thomson Financial - Shares in Cargote...</td>\n",
       "      <td>0</td>\n",
       "    </tr>\n",
       "    <tr>\n",
       "      <th>4840</th>\n",
       "      <td>negative</td>\n",
       "      <td>LONDON MarketWatch -- Share prices ended lower...</td>\n",
       "      <td>0</td>\n",
       "    </tr>\n",
       "    <tr>\n",
       "      <th>4841</th>\n",
       "      <td>neutral</td>\n",
       "      <td>Rinkuskiai 's beer sales fell by 6.5 per cent ...</td>\n",
       "      <td>1</td>\n",
       "    </tr>\n",
       "    <tr>\n",
       "      <th>4842</th>\n",
       "      <td>negative</td>\n",
       "      <td>Operating profit fell to EUR 35.4 mn from EUR ...</td>\n",
       "      <td>0</td>\n",
       "    </tr>\n",
       "    <tr>\n",
       "      <th>4843</th>\n",
       "      <td>negative</td>\n",
       "      <td>Net sales of the Paper segment decreased to EU...</td>\n",
       "      <td>0</td>\n",
       "    </tr>\n",
       "    <tr>\n",
       "      <th>4844</th>\n",
       "      <td>negative</td>\n",
       "      <td>Sales in Finland decreased by 10.5 % in Januar...</td>\n",
       "      <td>0</td>\n",
       "    </tr>\n",
       "  </tbody>\n",
       "</table>\n",
       "</div>"
      ],
      "text/plain": [
       "     sentiment                                          statement  \\\n",
       "4835  negative  Operating profits in the half were  0.8 m , do...   \n",
       "4836  negative  Sales in Finland decreased by 2.0 % , and inte...   \n",
       "4837  negative  The company said that its comparable operating...   \n",
       "4838  negative  Operating result for the 12-month period decre...   \n",
       "4839  negative  HELSINKI Thomson Financial - Shares in Cargote...   \n",
       "4840  negative  LONDON MarketWatch -- Share prices ended lower...   \n",
       "4841   neutral  Rinkuskiai 's beer sales fell by 6.5 per cent ...   \n",
       "4842  negative  Operating profit fell to EUR 35.4 mn from EUR ...   \n",
       "4843  negative  Net sales of the Paper segment decreased to EU...   \n",
       "4844  negative  Sales in Finland decreased by 10.5 % in Januar...   \n",
       "\n",
       "      sentiment_enc  \n",
       "4835              0  \n",
       "4836              0  \n",
       "4837              0  \n",
       "4838              0  \n",
       "4839              0  \n",
       "4840              0  \n",
       "4841              1  \n",
       "4842              0  \n",
       "4843              0  \n",
       "4844              0  "
      ]
     },
     "execution_count": 26,
     "metadata": {},
     "output_type": "execute_result"
    },
    {
     "data": {
      "application/javascript": [
       "\n",
       "            setTimeout(function() {\n",
       "                var nbb_cell_id = 26;\n",
       "                var nbb_unformatted_code = \"# to transform string labels to integer values\\nLE = LabelEncoder()\\ndf[\\\"sentiment_enc\\\"] = LE.fit_transform(df[\\\"sentiment\\\"].values)\\n\\ndf.tail(10)\";\n",
       "                var nbb_formatted_code = \"# to transform string labels to integer values\\nLE = LabelEncoder()\\ndf[\\\"sentiment_enc\\\"] = LE.fit_transform(df[\\\"sentiment\\\"].values)\\n\\ndf.tail(10)\";\n",
       "                var nbb_cells = Jupyter.notebook.get_cells();\n",
       "                for (var i = 0; i < nbb_cells.length; ++i) {\n",
       "                    if (nbb_cells[i].input_prompt_number == nbb_cell_id) {\n",
       "                        if (nbb_cells[i].get_text() == nbb_unformatted_code) {\n",
       "                             nbb_cells[i].set_text(nbb_formatted_code);\n",
       "                        }\n",
       "                        break;\n",
       "                    }\n",
       "                }\n",
       "            }, 500);\n",
       "            "
      ],
      "text/plain": [
       "<IPython.core.display.Javascript object>"
      ]
     },
     "metadata": {},
     "output_type": "display_data"
    }
   ],
   "source": [
    "# to transform string labels to integer values\n",
    "LE = LabelEncoder()\n",
    "df[\"sentiment_enc\"] = LE.fit_transform(df[\"sentiment\"].values)\n",
    "\n",
    "df.tail(10)"
   ]
  },
  {
   "cell_type": "code",
   "execution_count": 27,
   "id": "1b8f294f",
   "metadata": {},
   "outputs": [
    {
     "data": {
      "application/javascript": [
       "\n",
       "            setTimeout(function() {\n",
       "                var nbb_cell_id = 27;\n",
       "                var nbb_unformatted_code = \"class_names = [\\\"negative\\\", \\\"neutral\\\", \\\"positive\\\"]\";\n",
       "                var nbb_formatted_code = \"class_names = [\\\"negative\\\", \\\"neutral\\\", \\\"positive\\\"]\";\n",
       "                var nbb_cells = Jupyter.notebook.get_cells();\n",
       "                for (var i = 0; i < nbb_cells.length; ++i) {\n",
       "                    if (nbb_cells[i].input_prompt_number == nbb_cell_id) {\n",
       "                        if (nbb_cells[i].get_text() == nbb_unformatted_code) {\n",
       "                             nbb_cells[i].set_text(nbb_formatted_code);\n",
       "                        }\n",
       "                        break;\n",
       "                    }\n",
       "                }\n",
       "            }, 500);\n",
       "            "
      ],
      "text/plain": [
       "<IPython.core.display.Javascript object>"
      ]
     },
     "metadata": {},
     "output_type": "display_data"
    }
   ],
   "source": [
    "class_names = [\"negative\", \"neutral\", \"positive\"]"
   ]
  },
  {
   "cell_type": "markdown",
   "id": "d9fd5787",
   "metadata": {},
   "source": [
    "# Data Preprocessing\n",
    "You might already know that Machine Learning models don't work with raw text. You need to convert text to numbers (of some sort). BERT requires even more attention (good one, right?). Here are the requirements:\n",
    "\n",
    "- Add special tokens to separate sentences and do classification\n",
    "- Pass sequences of constant length (introduce padding)\n",
    "- Create array of 0s (pad token) and 1s (real token) called attention mask\n",
    "\n",
    "The Transformers library provides (you've guessed it) a wide variety of Transformer models (including BERT). It works with TensorFlow and PyTorch! It also includes prebuild tokenizers that do the heavy lifting for us!"
   ]
  },
  {
   "cell_type": "code",
   "execution_count": 28,
   "id": "7524f631",
   "metadata": {},
   "outputs": [
    {
     "data": {
      "application/javascript": [
       "\n",
       "            setTimeout(function() {\n",
       "                var nbb_cell_id = 28;\n",
       "                var nbb_unformatted_code = \"PRE_TRAINED_MODEL_NAME = \\\"bert-base-cased\\\"\";\n",
       "                var nbb_formatted_code = \"PRE_TRAINED_MODEL_NAME = \\\"bert-base-cased\\\"\";\n",
       "                var nbb_cells = Jupyter.notebook.get_cells();\n",
       "                for (var i = 0; i < nbb_cells.length; ++i) {\n",
       "                    if (nbb_cells[i].input_prompt_number == nbb_cell_id) {\n",
       "                        if (nbb_cells[i].get_text() == nbb_unformatted_code) {\n",
       "                             nbb_cells[i].set_text(nbb_formatted_code);\n",
       "                        }\n",
       "                        break;\n",
       "                    }\n",
       "                }\n",
       "            }, 500);\n",
       "            "
      ],
      "text/plain": [
       "<IPython.core.display.Javascript object>"
      ]
     },
     "metadata": {},
     "output_type": "display_data"
    }
   ],
   "source": [
    "PRE_TRAINED_MODEL_NAME = \"bert-base-cased\""
   ]
  },
  {
   "cell_type": "markdown",
   "id": "a088eba8",
   "metadata": {},
   "source": [
    "You can use a cased and uncased version of BERT and tokenizer. I've experimented with both. The cased version works better. Intuitively, that makes sense, since \"BAD\" might convey more sentiment than \"bad\".\n",
    "\n",
    "Let's load a pre-trained [BertTokenizer](https://huggingface.co/transformers/model_doc/bert.html#berttokenizer):"
   ]
  },
  {
   "cell_type": "code",
   "execution_count": 29,
   "id": "0690d8c3",
   "metadata": {},
   "outputs": [
    {
     "data": {
      "application/javascript": [
       "\n",
       "            setTimeout(function() {\n",
       "                var nbb_cell_id = 29;\n",
       "                var nbb_unformatted_code = \"tokenizer = BertTokenizer.from_pretrained(PRE_TRAINED_MODEL_NAME)\";\n",
       "                var nbb_formatted_code = \"tokenizer = BertTokenizer.from_pretrained(PRE_TRAINED_MODEL_NAME)\";\n",
       "                var nbb_cells = Jupyter.notebook.get_cells();\n",
       "                for (var i = 0; i < nbb_cells.length; ++i) {\n",
       "                    if (nbb_cells[i].input_prompt_number == nbb_cell_id) {\n",
       "                        if (nbb_cells[i].get_text() == nbb_unformatted_code) {\n",
       "                             nbb_cells[i].set_text(nbb_formatted_code);\n",
       "                        }\n",
       "                        break;\n",
       "                    }\n",
       "                }\n",
       "            }, 500);\n",
       "            "
      ],
      "text/plain": [
       "<IPython.core.display.Javascript object>"
      ]
     },
     "metadata": {},
     "output_type": "display_data"
    }
   ],
   "source": [
    "tokenizer = BertTokenizer.from_pretrained(PRE_TRAINED_MODEL_NAME)"
   ]
  },
  {
   "cell_type": "markdown",
   "id": "a50201d9",
   "metadata": {},
   "source": [
    "We'll use this text to understand the tokenization process:"
   ]
  },
  {
   "cell_type": "code",
   "execution_count": 30,
   "id": "158a06bd",
   "metadata": {},
   "outputs": [
    {
     "data": {
      "application/javascript": [
       "\n",
       "            setTimeout(function() {\n",
       "                var nbb_cell_id = 30;\n",
       "                var nbb_unformatted_code = \"sample_txt = \\\"Sales of clothing developed best.\\\"\";\n",
       "                var nbb_formatted_code = \"sample_txt = \\\"Sales of clothing developed best.\\\"\";\n",
       "                var nbb_cells = Jupyter.notebook.get_cells();\n",
       "                for (var i = 0; i < nbb_cells.length; ++i) {\n",
       "                    if (nbb_cells[i].input_prompt_number == nbb_cell_id) {\n",
       "                        if (nbb_cells[i].get_text() == nbb_unformatted_code) {\n",
       "                             nbb_cells[i].set_text(nbb_formatted_code);\n",
       "                        }\n",
       "                        break;\n",
       "                    }\n",
       "                }\n",
       "            }, 500);\n",
       "            "
      ],
      "text/plain": [
       "<IPython.core.display.Javascript object>"
      ]
     },
     "metadata": {},
     "output_type": "display_data"
    }
   ],
   "source": [
    "sample_txt = \"Sales of clothing developed best.\""
   ]
  },
  {
   "cell_type": "markdown",
   "id": "82b2239e",
   "metadata": {},
   "source": [
    "Some basic operations can convert the text to tokens and tokens to unique integers (ids):"
   ]
  },
  {
   "cell_type": "code",
   "execution_count": 31,
   "id": "87679696",
   "metadata": {},
   "outputs": [
    {
     "name": "stdout",
     "output_type": "stream",
     "text": [
      " Sentence: Sales of clothing developed best.\n",
      "   Tokens: ['Sales', 'of', 'clothing', 'developed', 'best', '.']\n",
      "Token IDs: [15689, 1104, 5413, 1872, 1436, 119]\n"
     ]
    },
    {
     "data": {
      "application/javascript": [
       "\n",
       "            setTimeout(function() {\n",
       "                var nbb_cell_id = 31;\n",
       "                var nbb_unformatted_code = \"tokens = tokenizer.tokenize(sample_txt)\\ntoken_ids = tokenizer.convert_tokens_to_ids(tokens)\\n\\nprint(f\\\" Sentence: {sample_txt}\\\")\\nprint(f\\\"   Tokens: {tokens}\\\")\\nprint(f\\\"Token IDs: {token_ids}\\\")\";\n",
       "                var nbb_formatted_code = \"tokens = tokenizer.tokenize(sample_txt)\\ntoken_ids = tokenizer.convert_tokens_to_ids(tokens)\\n\\nprint(f\\\" Sentence: {sample_txt}\\\")\\nprint(f\\\"   Tokens: {tokens}\\\")\\nprint(f\\\"Token IDs: {token_ids}\\\")\";\n",
       "                var nbb_cells = Jupyter.notebook.get_cells();\n",
       "                for (var i = 0; i < nbb_cells.length; ++i) {\n",
       "                    if (nbb_cells[i].input_prompt_number == nbb_cell_id) {\n",
       "                        if (nbb_cells[i].get_text() == nbb_unformatted_code) {\n",
       "                             nbb_cells[i].set_text(nbb_formatted_code);\n",
       "                        }\n",
       "                        break;\n",
       "                    }\n",
       "                }\n",
       "            }, 500);\n",
       "            "
      ],
      "text/plain": [
       "<IPython.core.display.Javascript object>"
      ]
     },
     "metadata": {},
     "output_type": "display_data"
    }
   ],
   "source": [
    "tokens = tokenizer.tokenize(sample_txt)\n",
    "token_ids = tokenizer.convert_tokens_to_ids(tokens)\n",
    "\n",
    "print(f\" Sentence: {sample_txt}\")\n",
    "print(f\"   Tokens: {tokens}\")\n",
    "print(f\"Token IDs: {token_ids}\")"
   ]
  },
  {
   "cell_type": "markdown",
   "id": "dda68672",
   "metadata": {},
   "source": [
    "## Special Tokens\n",
    "[SEP] - marker for ending of a sentence"
   ]
  },
  {
   "cell_type": "code",
   "execution_count": 32,
   "id": "f55f28e0",
   "metadata": {},
   "outputs": [
    {
     "data": {
      "text/plain": [
       "('[SEP]', 102)"
      ]
     },
     "execution_count": 32,
     "metadata": {},
     "output_type": "execute_result"
    },
    {
     "data": {
      "application/javascript": [
       "\n",
       "            setTimeout(function() {\n",
       "                var nbb_cell_id = 32;\n",
       "                var nbb_unformatted_code = \"tokenizer.sep_token, tokenizer.sep_token_id\";\n",
       "                var nbb_formatted_code = \"tokenizer.sep_token, tokenizer.sep_token_id\";\n",
       "                var nbb_cells = Jupyter.notebook.get_cells();\n",
       "                for (var i = 0; i < nbb_cells.length; ++i) {\n",
       "                    if (nbb_cells[i].input_prompt_number == nbb_cell_id) {\n",
       "                        if (nbb_cells[i].get_text() == nbb_unformatted_code) {\n",
       "                             nbb_cells[i].set_text(nbb_formatted_code);\n",
       "                        }\n",
       "                        break;\n",
       "                    }\n",
       "                }\n",
       "            }, 500);\n",
       "            "
      ],
      "text/plain": [
       "<IPython.core.display.Javascript object>"
      ]
     },
     "metadata": {},
     "output_type": "display_data"
    }
   ],
   "source": [
    "tokenizer.sep_token, tokenizer.sep_token_id"
   ]
  },
  {
   "cell_type": "markdown",
   "id": "28d66cbe",
   "metadata": {},
   "source": [
    "[CLS] - we must add this token to the start of each sentence, so BERT knows we're doing classification"
   ]
  },
  {
   "cell_type": "code",
   "execution_count": 33,
   "id": "bfbd0998",
   "metadata": {},
   "outputs": [
    {
     "data": {
      "text/plain": [
       "('[CLS]', 101)"
      ]
     },
     "execution_count": 33,
     "metadata": {},
     "output_type": "execute_result"
    },
    {
     "data": {
      "application/javascript": [
       "\n",
       "            setTimeout(function() {\n",
       "                var nbb_cell_id = 33;\n",
       "                var nbb_unformatted_code = \"tokenizer.cls_token, tokenizer.cls_token_id\";\n",
       "                var nbb_formatted_code = \"tokenizer.cls_token, tokenizer.cls_token_id\";\n",
       "                var nbb_cells = Jupyter.notebook.get_cells();\n",
       "                for (var i = 0; i < nbb_cells.length; ++i) {\n",
       "                    if (nbb_cells[i].input_prompt_number == nbb_cell_id) {\n",
       "                        if (nbb_cells[i].get_text() == nbb_unformatted_code) {\n",
       "                             nbb_cells[i].set_text(nbb_formatted_code);\n",
       "                        }\n",
       "                        break;\n",
       "                    }\n",
       "                }\n",
       "            }, 500);\n",
       "            "
      ],
      "text/plain": [
       "<IPython.core.display.Javascript object>"
      ]
     },
     "metadata": {},
     "output_type": "display_data"
    }
   ],
   "source": [
    "tokenizer.cls_token, tokenizer.cls_token_id"
   ]
  },
  {
   "cell_type": "markdown",
   "id": "195cc5cb",
   "metadata": {},
   "source": [
    "There is also a special token for padding:"
   ]
  },
  {
   "cell_type": "code",
   "execution_count": 34,
   "id": "413729f8",
   "metadata": {},
   "outputs": [
    {
     "data": {
      "text/plain": [
       "('[PAD]', 0)"
      ]
     },
     "execution_count": 34,
     "metadata": {},
     "output_type": "execute_result"
    },
    {
     "data": {
      "application/javascript": [
       "\n",
       "            setTimeout(function() {\n",
       "                var nbb_cell_id = 34;\n",
       "                var nbb_unformatted_code = \"tokenizer.pad_token, tokenizer.pad_token_id\";\n",
       "                var nbb_formatted_code = \"tokenizer.pad_token, tokenizer.pad_token_id\";\n",
       "                var nbb_cells = Jupyter.notebook.get_cells();\n",
       "                for (var i = 0; i < nbb_cells.length; ++i) {\n",
       "                    if (nbb_cells[i].input_prompt_number == nbb_cell_id) {\n",
       "                        if (nbb_cells[i].get_text() == nbb_unformatted_code) {\n",
       "                             nbb_cells[i].set_text(nbb_formatted_code);\n",
       "                        }\n",
       "                        break;\n",
       "                    }\n",
       "                }\n",
       "            }, 500);\n",
       "            "
      ],
      "text/plain": [
       "<IPython.core.display.Javascript object>"
      ]
     },
     "metadata": {},
     "output_type": "display_data"
    }
   ],
   "source": [
    "tokenizer.pad_token, tokenizer.pad_token_id"
   ]
  },
  {
   "cell_type": "code",
   "execution_count": 35,
   "id": "700c6075",
   "metadata": {},
   "outputs": [
    {
     "data": {
      "text/plain": [
       "('[UNK]', 100)"
      ]
     },
     "execution_count": 35,
     "metadata": {},
     "output_type": "execute_result"
    },
    {
     "data": {
      "application/javascript": [
       "\n",
       "            setTimeout(function() {\n",
       "                var nbb_cell_id = 35;\n",
       "                var nbb_unformatted_code = \"tokenizer.unk_token, tokenizer.unk_token_id\";\n",
       "                var nbb_formatted_code = \"tokenizer.unk_token, tokenizer.unk_token_id\";\n",
       "                var nbb_cells = Jupyter.notebook.get_cells();\n",
       "                for (var i = 0; i < nbb_cells.length; ++i) {\n",
       "                    if (nbb_cells[i].input_prompt_number == nbb_cell_id) {\n",
       "                        if (nbb_cells[i].get_text() == nbb_unformatted_code) {\n",
       "                             nbb_cells[i].set_text(nbb_formatted_code);\n",
       "                        }\n",
       "                        break;\n",
       "                    }\n",
       "                }\n",
       "            }, 500);\n",
       "            "
      ],
      "text/plain": [
       "<IPython.core.display.Javascript object>"
      ]
     },
     "metadata": {},
     "output_type": "display_data"
    }
   ],
   "source": [
    "tokenizer.unk_token, tokenizer.unk_token_id"
   ]
  },
  {
   "cell_type": "markdown",
   "id": "203dda34",
   "metadata": {},
   "source": [
    "All of that work can be done using the encode_plus() method:"
   ]
  },
  {
   "cell_type": "code",
   "execution_count": 36,
   "id": "c791b06d",
   "metadata": {},
   "outputs": [
    {
     "data": {
      "text/plain": [
       "dict_keys(['input_ids', 'attention_mask'])"
      ]
     },
     "execution_count": 36,
     "metadata": {},
     "output_type": "execute_result"
    },
    {
     "data": {
      "application/javascript": [
       "\n",
       "            setTimeout(function() {\n",
       "                var nbb_cell_id = 36;\n",
       "                var nbb_unformatted_code = \"encoding = tokenizer.encode_plus(\\n    sample_txt,\\n    max_length=12,\\n    add_special_tokens=True,  # Add '[CLS]' and '[SEP]'\\n    return_token_type_ids=False,\\n    padding=\\\"max_length\\\",\\n    return_attention_mask=True,\\n    return_tensors=\\\"pt\\\",  # Return PyTorch tensors\\n)\\n\\nencoding.keys()\";\n",
       "                var nbb_formatted_code = \"encoding = tokenizer.encode_plus(\\n    sample_txt,\\n    max_length=12,\\n    add_special_tokens=True,  # Add '[CLS]' and '[SEP]'\\n    return_token_type_ids=False,\\n    padding=\\\"max_length\\\",\\n    return_attention_mask=True,\\n    return_tensors=\\\"pt\\\",  # Return PyTorch tensors\\n)\\n\\nencoding.keys()\";\n",
       "                var nbb_cells = Jupyter.notebook.get_cells();\n",
       "                for (var i = 0; i < nbb_cells.length; ++i) {\n",
       "                    if (nbb_cells[i].input_prompt_number == nbb_cell_id) {\n",
       "                        if (nbb_cells[i].get_text() == nbb_unformatted_code) {\n",
       "                             nbb_cells[i].set_text(nbb_formatted_code);\n",
       "                        }\n",
       "                        break;\n",
       "                    }\n",
       "                }\n",
       "            }, 500);\n",
       "            "
      ],
      "text/plain": [
       "<IPython.core.display.Javascript object>"
      ]
     },
     "metadata": {},
     "output_type": "display_data"
    }
   ],
   "source": [
    "encoding = tokenizer.encode_plus(\n",
    "    sample_txt,\n",
    "    max_length=12,\n",
    "    add_special_tokens=True,  # Add '[CLS]' and '[SEP]'\n",
    "    return_token_type_ids=False,\n",
    "    padding=\"max_length\",\n",
    "    return_attention_mask=True,\n",
    "    return_tensors=\"pt\",  # Return PyTorch tensors\n",
    ")\n",
    "\n",
    "encoding.keys()"
   ]
  },
  {
   "cell_type": "markdown",
   "id": "1f6d3797",
   "metadata": {},
   "source": [
    "The token ids are now stored in a Tensor and padded to a length of 32:"
   ]
  },
  {
   "cell_type": "code",
   "execution_count": 37,
   "id": "18ca971d",
   "metadata": {},
   "outputs": [
    {
     "name": "stdout",
     "output_type": "stream",
     "text": [
      "12\n"
     ]
    },
    {
     "data": {
      "text/plain": [
       "tensor([  101, 15689,  1104,  5413,  1872,  1436,   119,   102,     0,     0,\n",
       "            0,     0])"
      ]
     },
     "execution_count": 37,
     "metadata": {},
     "output_type": "execute_result"
    },
    {
     "data": {
      "application/javascript": [
       "\n",
       "            setTimeout(function() {\n",
       "                var nbb_cell_id = 37;\n",
       "                var nbb_unformatted_code = \"print(len(encoding[\\\"input_ids\\\"][0]))\\nencoding[\\\"input_ids\\\"][0]\";\n",
       "                var nbb_formatted_code = \"print(len(encoding[\\\"input_ids\\\"][0]))\\nencoding[\\\"input_ids\\\"][0]\";\n",
       "                var nbb_cells = Jupyter.notebook.get_cells();\n",
       "                for (var i = 0; i < nbb_cells.length; ++i) {\n",
       "                    if (nbb_cells[i].input_prompt_number == nbb_cell_id) {\n",
       "                        if (nbb_cells[i].get_text() == nbb_unformatted_code) {\n",
       "                             nbb_cells[i].set_text(nbb_formatted_code);\n",
       "                        }\n",
       "                        break;\n",
       "                    }\n",
       "                }\n",
       "            }, 500);\n",
       "            "
      ],
      "text/plain": [
       "<IPython.core.display.Javascript object>"
      ]
     },
     "metadata": {},
     "output_type": "display_data"
    }
   ],
   "source": [
    "print(len(encoding[\"input_ids\"][0]))\n",
    "encoding[\"input_ids\"][0]"
   ]
  },
  {
   "cell_type": "markdown",
   "id": "0a2a52e9",
   "metadata": {},
   "source": [
    "The attention mask has the same length:"
   ]
  },
  {
   "cell_type": "code",
   "execution_count": 38,
   "id": "5f5277ec",
   "metadata": {},
   "outputs": [
    {
     "name": "stdout",
     "output_type": "stream",
     "text": [
      "12\n"
     ]
    },
    {
     "data": {
      "text/plain": [
       "tensor([[1, 1, 1, 1, 1, 1, 1, 1, 0, 0, 0, 0]])"
      ]
     },
     "execution_count": 38,
     "metadata": {},
     "output_type": "execute_result"
    },
    {
     "data": {
      "application/javascript": [
       "\n",
       "            setTimeout(function() {\n",
       "                var nbb_cell_id = 38;\n",
       "                var nbb_unformatted_code = \"print(len(encoding[\\\"attention_mask\\\"][0]))\\nencoding[\\\"attention_mask\\\"]\";\n",
       "                var nbb_formatted_code = \"print(len(encoding[\\\"attention_mask\\\"][0]))\\nencoding[\\\"attention_mask\\\"]\";\n",
       "                var nbb_cells = Jupyter.notebook.get_cells();\n",
       "                for (var i = 0; i < nbb_cells.length; ++i) {\n",
       "                    if (nbb_cells[i].input_prompt_number == nbb_cell_id) {\n",
       "                        if (nbb_cells[i].get_text() == nbb_unformatted_code) {\n",
       "                             nbb_cells[i].set_text(nbb_formatted_code);\n",
       "                        }\n",
       "                        break;\n",
       "                    }\n",
       "                }\n",
       "            }, 500);\n",
       "            "
      ],
      "text/plain": [
       "<IPython.core.display.Javascript object>"
      ]
     },
     "metadata": {},
     "output_type": "display_data"
    }
   ],
   "source": [
    "print(len(encoding[\"attention_mask\"][0]))\n",
    "encoding[\"attention_mask\"]"
   ]
  },
  {
   "cell_type": "markdown",
   "id": "bdab72fc",
   "metadata": {},
   "source": [
    "We can inverse the tokenization to have a look at the special tokens:"
   ]
  },
  {
   "cell_type": "code",
   "execution_count": 39,
   "id": "a9af6426",
   "metadata": {},
   "outputs": [
    {
     "data": {
      "text/plain": [
       "['[CLS]',\n",
       " 'Sales',\n",
       " 'of',\n",
       " 'clothing',\n",
       " 'developed',\n",
       " 'best',\n",
       " '.',\n",
       " '[SEP]',\n",
       " '[PAD]',\n",
       " '[PAD]',\n",
       " '[PAD]',\n",
       " '[PAD]']"
      ]
     },
     "execution_count": 39,
     "metadata": {},
     "output_type": "execute_result"
    },
    {
     "data": {
      "application/javascript": [
       "\n",
       "            setTimeout(function() {\n",
       "                var nbb_cell_id = 39;\n",
       "                var nbb_unformatted_code = \"tokenizer.convert_ids_to_tokens(encoding[\\\"input_ids\\\"][0])\";\n",
       "                var nbb_formatted_code = \"tokenizer.convert_ids_to_tokens(encoding[\\\"input_ids\\\"][0])\";\n",
       "                var nbb_cells = Jupyter.notebook.get_cells();\n",
       "                for (var i = 0; i < nbb_cells.length; ++i) {\n",
       "                    if (nbb_cells[i].input_prompt_number == nbb_cell_id) {\n",
       "                        if (nbb_cells[i].get_text() == nbb_unformatted_code) {\n",
       "                             nbb_cells[i].set_text(nbb_formatted_code);\n",
       "                        }\n",
       "                        break;\n",
       "                    }\n",
       "                }\n",
       "            }, 500);\n",
       "            "
      ],
      "text/plain": [
       "<IPython.core.display.Javascript object>"
      ]
     },
     "metadata": {},
     "output_type": "display_data"
    }
   ],
   "source": [
    "tokenizer.convert_ids_to_tokens(encoding[\"input_ids\"][0])"
   ]
  },
  {
   "cell_type": "markdown",
   "id": "820d88af",
   "metadata": {},
   "source": [
    "## Choosing Sequence Length\n",
    "BERT works with fixed-length sequences. We'll use a simple strategy to choose the max length. Let's store the token length of each review:"
   ]
  },
  {
   "cell_type": "code",
   "execution_count": 40,
   "id": "9ee40db0",
   "metadata": {},
   "outputs": [
    {
     "data": {
      "text/plain": [
       "Index(['sentiment', 'statement', 'sentiment_enc'], dtype='object')"
      ]
     },
     "execution_count": 40,
     "metadata": {},
     "output_type": "execute_result"
    },
    {
     "data": {
      "application/javascript": [
       "\n",
       "            setTimeout(function() {\n",
       "                var nbb_cell_id = 40;\n",
       "                var nbb_unformatted_code = \"df.columns\";\n",
       "                var nbb_formatted_code = \"df.columns\";\n",
       "                var nbb_cells = Jupyter.notebook.get_cells();\n",
       "                for (var i = 0; i < nbb_cells.length; ++i) {\n",
       "                    if (nbb_cells[i].input_prompt_number == nbb_cell_id) {\n",
       "                        if (nbb_cells[i].get_text() == nbb_unformatted_code) {\n",
       "                             nbb_cells[i].set_text(nbb_formatted_code);\n",
       "                        }\n",
       "                        break;\n",
       "                    }\n",
       "                }\n",
       "            }, 500);\n",
       "            "
      ],
      "text/plain": [
       "<IPython.core.display.Javascript object>"
      ]
     },
     "metadata": {},
     "output_type": "display_data"
    }
   ],
   "source": [
    "df.columns"
   ]
  },
  {
   "cell_type": "code",
   "execution_count": 41,
   "id": "ffb2128a",
   "metadata": {},
   "outputs": [
    {
     "data": {
      "application/javascript": [
       "\n",
       "            setTimeout(function() {\n",
       "                var nbb_cell_id = 41;\n",
       "                var nbb_unformatted_code = \"token_lens = []\\n\\nfor txt in df.statement:\\n    tokens = tokenizer.encode(txt, max_length=512, truncation=True)\\n    token_lens.append(len(tokens))\";\n",
       "                var nbb_formatted_code = \"token_lens = []\\n\\nfor txt in df.statement:\\n    tokens = tokenizer.encode(txt, max_length=512, truncation=True)\\n    token_lens.append(len(tokens))\";\n",
       "                var nbb_cells = Jupyter.notebook.get_cells();\n",
       "                for (var i = 0; i < nbb_cells.length; ++i) {\n",
       "                    if (nbb_cells[i].input_prompt_number == nbb_cell_id) {\n",
       "                        if (nbb_cells[i].get_text() == nbb_unformatted_code) {\n",
       "                             nbb_cells[i].set_text(nbb_formatted_code);\n",
       "                        }\n",
       "                        break;\n",
       "                    }\n",
       "                }\n",
       "            }, 500);\n",
       "            "
      ],
      "text/plain": [
       "<IPython.core.display.Javascript object>"
      ]
     },
     "metadata": {},
     "output_type": "display_data"
    }
   ],
   "source": [
    "token_lens = []\n",
    "\n",
    "for txt in df.statement:\n",
    "    tokens = tokenizer.encode(txt, max_length=512, truncation=True)\n",
    "    token_lens.append(len(tokens))"
   ]
  },
  {
   "cell_type": "markdown",
   "id": "d8e965b3",
   "metadata": {},
   "source": [
    "and plot the distribution:"
   ]
  },
  {
   "cell_type": "code",
   "execution_count": 42,
   "id": "28b2b274",
   "metadata": {},
   "outputs": [
    {
     "data": {
      "text/plain": [
       "Text(0.5, 0, 'Token count')"
      ]
     },
     "execution_count": 42,
     "metadata": {},
     "output_type": "execute_result"
    },
    {
     "data": {
      "image/png": "[encoded data removed]",
      "text/plain": [
       "<Figure size 864x576 with 1 Axes>"
      ]
     },
     "metadata": {
      "image/png": {
       "height": 489,
       "width": 736
      }
     },
     "output_type": "display_data"
    },
    {
     "data": {
      "application/javascript": [
       "\n",
       "            setTimeout(function() {\n",
       "                var nbb_cell_id = 42;\n",
       "                var nbb_unformatted_code = \"sns.histplot(token_lens)\\nplt.xlim([0, 256])\\nplt.xlabel(\\\"Token count\\\")\";\n",
       "                var nbb_formatted_code = \"sns.histplot(token_lens)\\nplt.xlim([0, 256])\\nplt.xlabel(\\\"Token count\\\")\";\n",
       "                var nbb_cells = Jupyter.notebook.get_cells();\n",
       "                for (var i = 0; i < nbb_cells.length; ++i) {\n",
       "                    if (nbb_cells[i].input_prompt_number == nbb_cell_id) {\n",
       "                        if (nbb_cells[i].get_text() == nbb_unformatted_code) {\n",
       "                             nbb_cells[i].set_text(nbb_formatted_code);\n",
       "                        }\n",
       "                        break;\n",
       "                    }\n",
       "                }\n",
       "            }, 500);\n",
       "            "
      ],
      "text/plain": [
       "<IPython.core.display.Javascript object>"
      ]
     },
     "metadata": {},
     "output_type": "display_data"
    }
   ],
   "source": [
    "sns.histplot(token_lens)\n",
    "plt.xlim([0, 256])\n",
    "plt.xlabel(\"Token count\")"
   ]
  },
  {
   "cell_type": "markdown",
   "id": "7b84e219",
   "metadata": {},
   "source": [
    "Most of the reviews seem to contain less than 25 tokens, but we'll be on the safe side and choose a maximum length of 35."
   ]
  },
  {
   "cell_type": "code",
   "execution_count": 43,
   "id": "e6699690",
   "metadata": {},
   "outputs": [
    {
     "data": {
      "application/javascript": [
       "\n",
       "            setTimeout(function() {\n",
       "                var nbb_cell_id = 43;\n",
       "                var nbb_unformatted_code = \"MAX_LEN = 72\";\n",
       "                var nbb_formatted_code = \"MAX_LEN = 72\";\n",
       "                var nbb_cells = Jupyter.notebook.get_cells();\n",
       "                for (var i = 0; i < nbb_cells.length; ++i) {\n",
       "                    if (nbb_cells[i].input_prompt_number == nbb_cell_id) {\n",
       "                        if (nbb_cells[i].get_text() == nbb_unformatted_code) {\n",
       "                             nbb_cells[i].set_text(nbb_formatted_code);\n",
       "                        }\n",
       "                        break;\n",
       "                    }\n",
       "                }\n",
       "            }, 500);\n",
       "            "
      ],
      "text/plain": [
       "<IPython.core.display.Javascript object>"
      ]
     },
     "metadata": {},
     "output_type": "display_data"
    }
   ],
   "source": [
    "MAX_LEN = 72"
   ]
  },
  {
   "cell_type": "markdown",
   "id": "756d3593",
   "metadata": {},
   "source": [
    "We have all building blocks required to create a PyTorch dataset. Let's do it:"
   ]
  },
  {
   "cell_type": "code",
   "execution_count": 44,
   "id": "975394aa",
   "metadata": {},
   "outputs": [
    {
     "data": {
      "application/javascript": [
       "\n",
       "            setTimeout(function() {\n",
       "                var nbb_cell_id = 44;\n",
       "                var nbb_unformatted_code = \"class FinancialReviewDataset(Dataset):\\n    def __init__(self, reviews, targets, tokenizer, max_len):\\n        self.reviews = reviews\\n        self.targets = targets\\n        self.tokenizer = tokenizer\\n        self.max_len = max_len\\n\\n    def __len__(self):\\n        return len(self.reviews)\\n\\n    def __getitem__(self, item):\\n        review = str(self.reviews[item])\\n        target = self.targets[item]\\n\\n        encoding = self.tokenizer.encode_plus(\\n            review,\\n            add_special_tokens=True,\\n            max_length=self.max_len,\\n            return_token_type_ids=False,\\n            padding=\\\"max_length\\\",\\n            truncation=True,\\n            return_attention_mask=True,\\n            return_tensors=\\\"pt\\\",\\n        )\\n\\n        return {\\n            \\\"review_text\\\": review,\\n            \\\"input_ids\\\": encoding[\\\"input_ids\\\"].flatten(),\\n            \\\"attention_mask\\\": encoding[\\\"attention_mask\\\"].flatten(),\\n            \\\"targets\\\": torch.tensor(target, dtype=torch.long),\\n        }\";\n",
       "                var nbb_formatted_code = \"class FinancialReviewDataset(Dataset):\\n    def __init__(self, reviews, targets, tokenizer, max_len):\\n        self.reviews = reviews\\n        self.targets = targets\\n        self.tokenizer = tokenizer\\n        self.max_len = max_len\\n\\n    def __len__(self):\\n        return len(self.reviews)\\n\\n    def __getitem__(self, item):\\n        review = str(self.reviews[item])\\n        target = self.targets[item]\\n\\n        encoding = self.tokenizer.encode_plus(\\n            review,\\n            add_special_tokens=True,\\n            max_length=self.max_len,\\n            return_token_type_ids=False,\\n            padding=\\\"max_length\\\",\\n            truncation=True,\\n            return_attention_mask=True,\\n            return_tensors=\\\"pt\\\",\\n        )\\n\\n        return {\\n            \\\"review_text\\\": review,\\n            \\\"input_ids\\\": encoding[\\\"input_ids\\\"].flatten(),\\n            \\\"attention_mask\\\": encoding[\\\"attention_mask\\\"].flatten(),\\n            \\\"targets\\\": torch.tensor(target, dtype=torch.long),\\n        }\";\n",
       "                var nbb_cells = Jupyter.notebook.get_cells();\n",
       "                for (var i = 0; i < nbb_cells.length; ++i) {\n",
       "                    if (nbb_cells[i].input_prompt_number == nbb_cell_id) {\n",
       "                        if (nbb_cells[i].get_text() == nbb_unformatted_code) {\n",
       "                             nbb_cells[i].set_text(nbb_formatted_code);\n",
       "                        }\n",
       "                        break;\n",
       "                    }\n",
       "                }\n",
       "            }, 500);\n",
       "            "
      ],
      "text/plain": [
       "<IPython.core.display.Javascript object>"
      ]
     },
     "metadata": {},
     "output_type": "display_data"
    }
   ],
   "source": [
    "class FinancialReviewDataset(Dataset):\n",
    "    def __init__(self, reviews, targets, tokenizer, max_len):\n",
    "        self.reviews = reviews\n",
    "        self.targets = targets\n",
    "        self.tokenizer = tokenizer\n",
    "        self.max_len = max_len\n",
    "\n",
    "    def __len__(self):\n",
    "        return len(self.reviews)\n",
    "\n",
    "    def __getitem__(self, item):\n",
    "        review = str(self.reviews[item])\n",
    "        target = self.targets[item]\n",
    "\n",
    "        encoding = self.tokenizer.encode_plus(\n",
    "            review,\n",
    "            add_special_tokens=True,\n",
    "            max_length=self.max_len,\n",
    "            return_token_type_ids=False,\n",
    "            padding=\"max_length\",\n",
    "            truncation=True,\n",
    "            return_attention_mask=True,\n",
    "            return_tensors=\"pt\",\n",
    "        )\n",
    "\n",
    "        return {\n",
    "            \"review_text\": review,\n",
    "            \"input_ids\": encoding[\"input_ids\"].flatten(),\n",
    "            \"attention_mask\": encoding[\"attention_mask\"].flatten(),\n",
    "            \"targets\": torch.tensor(target, dtype=torch.long),\n",
    "        }"
   ]
  },
  {
   "cell_type": "markdown",
   "id": "4eaa50a4",
   "metadata": {},
   "source": [
    "The tokenizer is doing most of the heavy lifting for us. We also return the review texts, so it'll be easier to evaluate the predictions from our model. Let's split the data:"
   ]
  },
  {
   "cell_type": "code",
   "execution_count": 45,
   "id": "26867ba5",
   "metadata": {},
   "outputs": [
    {
     "data": {
      "application/javascript": [
       "\n",
       "            setTimeout(function() {\n",
       "                var nbb_cell_id = 45;\n",
       "                var nbb_unformatted_code = \"df_train, df_test = train_test_split(df, test_size=0.1, random_state=RANDOM_SEED)\\ndf_val, df_test = train_test_split(df_test, test_size=0.5, random_state=RANDOM_SEED)\";\n",
       "                var nbb_formatted_code = \"df_train, df_test = train_test_split(df, test_size=0.1, random_state=RANDOM_SEED)\\ndf_val, df_test = train_test_split(df_test, test_size=0.5, random_state=RANDOM_SEED)\";\n",
       "                var nbb_cells = Jupyter.notebook.get_cells();\n",
       "                for (var i = 0; i < nbb_cells.length; ++i) {\n",
       "                    if (nbb_cells[i].input_prompt_number == nbb_cell_id) {\n",
       "                        if (nbb_cells[i].get_text() == nbb_unformatted_code) {\n",
       "                             nbb_cells[i].set_text(nbb_formatted_code);\n",
       "                        }\n",
       "                        break;\n",
       "                    }\n",
       "                }\n",
       "            }, 500);\n",
       "            "
      ],
      "text/plain": [
       "<IPython.core.display.Javascript object>"
      ]
     },
     "metadata": {},
     "output_type": "display_data"
    }
   ],
   "source": [
    "df_train, df_test = train_test_split(df, test_size=0.1, random_state=RANDOM_SEED)\n",
    "df_val, df_test = train_test_split(df_test, test_size=0.5, random_state=RANDOM_SEED)"
   ]
  },
  {
   "cell_type": "code",
   "execution_count": 46,
   "id": "7521fbd8",
   "metadata": {},
   "outputs": [
    {
     "data": {
      "text/plain": [
       "(4845, 3)"
      ]
     },
     "execution_count": 46,
     "metadata": {},
     "output_type": "execute_result"
    },
    {
     "data": {
      "application/javascript": [
       "\n",
       "            setTimeout(function() {\n",
       "                var nbb_cell_id = 46;\n",
       "                var nbb_unformatted_code = \"df.shape\";\n",
       "                var nbb_formatted_code = \"df.shape\";\n",
       "                var nbb_cells = Jupyter.notebook.get_cells();\n",
       "                for (var i = 0; i < nbb_cells.length; ++i) {\n",
       "                    if (nbb_cells[i].input_prompt_number == nbb_cell_id) {\n",
       "                        if (nbb_cells[i].get_text() == nbb_unformatted_code) {\n",
       "                             nbb_cells[i].set_text(nbb_formatted_code);\n",
       "                        }\n",
       "                        break;\n",
       "                    }\n",
       "                }\n",
       "            }, 500);\n",
       "            "
      ],
      "text/plain": [
       "<IPython.core.display.Javascript object>"
      ]
     },
     "metadata": {},
     "output_type": "display_data"
    }
   ],
   "source": [
    "df.shape"
   ]
  },
  {
   "cell_type": "code",
   "execution_count": 47,
   "id": "31279f71",
   "metadata": {},
   "outputs": [
    {
     "data": {
      "text/plain": [
       "((4360, 3), (242, 3), (243, 3))"
      ]
     },
     "execution_count": 47,
     "metadata": {},
     "output_type": "execute_result"
    },
    {
     "data": {
      "application/javascript": [
       "\n",
       "            setTimeout(function() {\n",
       "                var nbb_cell_id = 47;\n",
       "                var nbb_unformatted_code = \"df_train.shape, df_val.shape, df_test.shape\";\n",
       "                var nbb_formatted_code = \"df_train.shape, df_val.shape, df_test.shape\";\n",
       "                var nbb_cells = Jupyter.notebook.get_cells();\n",
       "                for (var i = 0; i < nbb_cells.length; ++i) {\n",
       "                    if (nbb_cells[i].input_prompt_number == nbb_cell_id) {\n",
       "                        if (nbb_cells[i].get_text() == nbb_unformatted_code) {\n",
       "                             nbb_cells[i].set_text(nbb_formatted_code);\n",
       "                        }\n",
       "                        break;\n",
       "                    }\n",
       "                }\n",
       "            }, 500);\n",
       "            "
      ],
      "text/plain": [
       "<IPython.core.display.Javascript object>"
      ]
     },
     "metadata": {},
     "output_type": "display_data"
    }
   ],
   "source": [
    "df_train.shape, df_val.shape, df_test.shape"
   ]
  },
  {
   "cell_type": "markdown",
   "id": "38085a08",
   "metadata": {},
   "source": [
    "We also need to create a couple of data loaders. Here's a helper function to do it:"
   ]
  },
  {
   "cell_type": "code",
   "execution_count": 48,
   "id": "12163972",
   "metadata": {},
   "outputs": [
    {
     "data": {
      "application/javascript": [
       "\n",
       "            setTimeout(function() {\n",
       "                var nbb_cell_id = 48;\n",
       "                var nbb_unformatted_code = \"def create_data_loader(df, tokenizer, max_len, batch_size):\\n    ds = FinancialReviewDataset(\\n        reviews=df.statement.to_numpy(),\\n        targets=df.sentiment_enc.to_numpy(),\\n        tokenizer=tokenizer,\\n        max_len=max_len,\\n    )\\n\\n    return DataLoader(ds, batch_size=batch_size, num_workers=4)\";\n",
       "                var nbb_formatted_code = \"def create_data_loader(df, tokenizer, max_len, batch_size):\\n    ds = FinancialReviewDataset(\\n        reviews=df.statement.to_numpy(),\\n        targets=df.sentiment_enc.to_numpy(),\\n        tokenizer=tokenizer,\\n        max_len=max_len,\\n    )\\n\\n    return DataLoader(ds, batch_size=batch_size, num_workers=4)\";\n",
       "                var nbb_cells = Jupyter.notebook.get_cells();\n",
       "                for (var i = 0; i < nbb_cells.length; ++i) {\n",
       "                    if (nbb_cells[i].input_prompt_number == nbb_cell_id) {\n",
       "                        if (nbb_cells[i].get_text() == nbb_unformatted_code) {\n",
       "                             nbb_cells[i].set_text(nbb_formatted_code);\n",
       "                        }\n",
       "                        break;\n",
       "                    }\n",
       "                }\n",
       "            }, 500);\n",
       "            "
      ],
      "text/plain": [
       "<IPython.core.display.Javascript object>"
      ]
     },
     "metadata": {},
     "output_type": "display_data"
    }
   ],
   "source": [
    "def create_data_loader(df, tokenizer, max_len, batch_size):\n",
    "    ds = FinancialReviewDataset(\n",
    "        reviews=df.statement.to_numpy(),\n",
    "        targets=df.sentiment_enc.to_numpy(),\n",
    "        tokenizer=tokenizer,\n",
    "        max_len=max_len,\n",
    "    )\n",
    "\n",
    "    return DataLoader(ds, batch_size=batch_size, num_workers=4)"
   ]
  },
  {
   "cell_type": "code",
   "execution_count": 49,
   "id": "6b2dad6a",
   "metadata": {},
   "outputs": [
    {
     "data": {
      "application/javascript": [
       "\n",
       "            setTimeout(function() {\n",
       "                var nbb_cell_id = 49;\n",
       "                var nbb_unformatted_code = \"BATCH_SIZE = 16\\n\\ntrain_data_loader = create_data_loader(df_train, tokenizer, MAX_LEN, BATCH_SIZE)\\nval_data_loader = create_data_loader(df_val, tokenizer, MAX_LEN, BATCH_SIZE)\\ntest_data_loader = create_data_loader(df_test, tokenizer, MAX_LEN, BATCH_SIZE)\";\n",
       "                var nbb_formatted_code = \"BATCH_SIZE = 16\\n\\ntrain_data_loader = create_data_loader(df_train, tokenizer, MAX_LEN, BATCH_SIZE)\\nval_data_loader = create_data_loader(df_val, tokenizer, MAX_LEN, BATCH_SIZE)\\ntest_data_loader = create_data_loader(df_test, tokenizer, MAX_LEN, BATCH_SIZE)\";\n",
       "                var nbb_cells = Jupyter.notebook.get_cells();\n",
       "                for (var i = 0; i < nbb_cells.length; ++i) {\n",
       "                    if (nbb_cells[i].input_prompt_number == nbb_cell_id) {\n",
       "                        if (nbb_cells[i].get_text() == nbb_unformatted_code) {\n",
       "                             nbb_cells[i].set_text(nbb_formatted_code);\n",
       "                        }\n",
       "                        break;\n",
       "                    }\n",
       "                }\n",
       "            }, 500);\n",
       "            "
      ],
      "text/plain": [
       "<IPython.core.display.Javascript object>"
      ]
     },
     "metadata": {},
     "output_type": "display_data"
    }
   ],
   "source": [
    "BATCH_SIZE = 16\n",
    "\n",
    "train_data_loader = create_data_loader(df_train, tokenizer, MAX_LEN, BATCH_SIZE)\n",
    "val_data_loader = create_data_loader(df_val, tokenizer, MAX_LEN, BATCH_SIZE)\n",
    "test_data_loader = create_data_loader(df_test, tokenizer, MAX_LEN, BATCH_SIZE)"
   ]
  },
  {
   "cell_type": "markdown",
   "id": "33343adc",
   "metadata": {},
   "source": [
    "Let's have a look at an example batch from our training data loader:"
   ]
  },
  {
   "cell_type": "code",
   "execution_count": 50,
   "id": "ef0c90f4",
   "metadata": {
    "scrolled": true
   },
   "outputs": [
    {
     "data": {
      "text/plain": [
       "dict_keys(['review_text', 'input_ids', 'attention_mask', 'targets'])"
      ]
     },
     "execution_count": 50,
     "metadata": {},
     "output_type": "execute_result"
    },
    {
     "data": {
      "application/javascript": [
       "\n",
       "            setTimeout(function() {\n",
       "                var nbb_cell_id = 50;\n",
       "                var nbb_unformatted_code = \"data = next(iter(train_data_loader))\\ndata.keys()\";\n",
       "                var nbb_formatted_code = \"data = next(iter(train_data_loader))\\ndata.keys()\";\n",
       "                var nbb_cells = Jupyter.notebook.get_cells();\n",
       "                for (var i = 0; i < nbb_cells.length; ++i) {\n",
       "                    if (nbb_cells[i].input_prompt_number == nbb_cell_id) {\n",
       "                        if (nbb_cells[i].get_text() == nbb_unformatted_code) {\n",
       "                             nbb_cells[i].set_text(nbb_formatted_code);\n",
       "                        }\n",
       "                        break;\n",
       "                    }\n",
       "                }\n",
       "            }, 500);\n",
       "            "
      ],
      "text/plain": [
       "<IPython.core.display.Javascript object>"
      ]
     },
     "metadata": {},
     "output_type": "display_data"
    }
   ],
   "source": [
    "data = next(iter(train_data_loader))\n",
    "data.keys()"
   ]
  },
  {
   "cell_type": "code",
   "execution_count": 51,
   "id": "6e1a8a74",
   "metadata": {},
   "outputs": [
    {
     "name": "stdout",
     "output_type": "stream",
     "text": [
      "torch.Size([16, 72])\n",
      "torch.Size([16, 72])\n",
      "torch.Size([16])\n"
     ]
    },
    {
     "data": {
      "application/javascript": [
       "\n",
       "            setTimeout(function() {\n",
       "                var nbb_cell_id = 51;\n",
       "                var nbb_unformatted_code = \"print(data[\\\"input_ids\\\"].shape)\\nprint(data[\\\"attention_mask\\\"].shape)\\nprint(data[\\\"targets\\\"].shape)\";\n",
       "                var nbb_formatted_code = \"print(data[\\\"input_ids\\\"].shape)\\nprint(data[\\\"attention_mask\\\"].shape)\\nprint(data[\\\"targets\\\"].shape)\";\n",
       "                var nbb_cells = Jupyter.notebook.get_cells();\n",
       "                for (var i = 0; i < nbb_cells.length; ++i) {\n",
       "                    if (nbb_cells[i].input_prompt_number == nbb_cell_id) {\n",
       "                        if (nbb_cells[i].get_text() == nbb_unformatted_code) {\n",
       "                             nbb_cells[i].set_text(nbb_formatted_code);\n",
       "                        }\n",
       "                        break;\n",
       "                    }\n",
       "                }\n",
       "            }, 500);\n",
       "            "
      ],
      "text/plain": [
       "<IPython.core.display.Javascript object>"
      ]
     },
     "metadata": {},
     "output_type": "display_data"
    }
   ],
   "source": [
    "print(data[\"input_ids\"].shape)\n",
    "print(data[\"attention_mask\"].shape)\n",
    "print(data[\"targets\"].shape)"
   ]
  },
  {
   "cell_type": "markdown",
   "id": "aebe82b8",
   "metadata": {},
   "source": [
    "# Sentiment Classification with BERT and Hugging Face\n",
    "There are a lot of helpers that make using BERT easy with the Transformers library. Depending on the task you might want to use [BertForSequenceClassification](https://huggingface.co/transformers/model_doc/bert.html#bertforsequenceclassification), [BertForQuestionAnswering](https://huggingface.co/transformers/model_doc/bert.html#bertforquestionanswering) or something else.\n",
    "\n",
    "But who cares, right? We're hardcore! We'll use the basic [BertModel](https://huggingface.co/transformers/model_doc/bert.html#bertmodel) and build our sentiment classifier on top of it. Let's load the model:"
   ]
  },
  {
   "cell_type": "code",
   "execution_count": 52,
   "id": "23ce5eda",
   "metadata": {},
   "outputs": [
    {
     "name": "stderr",
     "output_type": "stream",
     "text": [
      "Some weights of the model checkpoint at bert-base-cased were not used when initializing BertModel: ['cls.predictions.transform.dense.weight', 'cls.seq_relationship.bias', 'cls.predictions.transform.dense.bias', 'cls.seq_relationship.weight', 'cls.predictions.transform.LayerNorm.bias', 'cls.predictions.transform.LayerNorm.weight', 'cls.predictions.bias', 'cls.predictions.decoder.weight']\n",
      "- This IS expected if you are initializing BertModel from the checkpoint of a model trained on another task or with another architecture (e.g. initializing a BertForSequenceClassification model from a BertForPreTraining model).\n",
      "- This IS NOT expected if you are initializing BertModel from the checkpoint of a model that you expect to be exactly identical (initializing a BertForSequenceClassification model from a BertForSequenceClassification model).\n"
     ]
    },
    {
     "data": {
      "application/javascript": [
       "\n",
       "            setTimeout(function() {\n",
       "                var nbb_cell_id = 52;\n",
       "                var nbb_unformatted_code = \"bert_model = BertModel.from_pretrained(PRE_TRAINED_MODEL_NAME, return_dict=False)\";\n",
       "                var nbb_formatted_code = \"bert_model = BertModel.from_pretrained(PRE_TRAINED_MODEL_NAME, return_dict=False)\";\n",
       "                var nbb_cells = Jupyter.notebook.get_cells();\n",
       "                for (var i = 0; i < nbb_cells.length; ++i) {\n",
       "                    if (nbb_cells[i].input_prompt_number == nbb_cell_id) {\n",
       "                        if (nbb_cells[i].get_text() == nbb_unformatted_code) {\n",
       "                             nbb_cells[i].set_text(nbb_formatted_code);\n",
       "                        }\n",
       "                        break;\n",
       "                    }\n",
       "                }\n",
       "            }, 500);\n",
       "            "
      ],
      "text/plain": [
       "<IPython.core.display.Javascript object>"
      ]
     },
     "metadata": {},
     "output_type": "display_data"
    }
   ],
   "source": [
    "bert_model = BertModel.from_pretrained(PRE_TRAINED_MODEL_NAME, return_dict=False)"
   ]
  },
  {
   "cell_type": "markdown",
   "id": "7dc02e5a",
   "metadata": {},
   "source": [
    "And try to use it on the encoding of our sample text:"
   ]
  },
  {
   "cell_type": "code",
   "execution_count": 53,
   "id": "5c667845",
   "metadata": {},
   "outputs": [
    {
     "data": {
      "application/javascript": [
       "\n",
       "            setTimeout(function() {\n",
       "                var nbb_cell_id = 53;\n",
       "                var nbb_unformatted_code = \"outputs = bert_model(\\n  input_ids=encoding['input_ids'], \\n  attention_mask=encoding['attention_mask'])\";\n",
       "                var nbb_formatted_code = \"outputs = bert_model(\\n    input_ids=encoding[\\\"input_ids\\\"], attention_mask=encoding[\\\"attention_mask\\\"]\\n)\";\n",
       "                var nbb_cells = Jupyter.notebook.get_cells();\n",
       "                for (var i = 0; i < nbb_cells.length; ++i) {\n",
       "                    if (nbb_cells[i].input_prompt_number == nbb_cell_id) {\n",
       "                        if (nbb_cells[i].get_text() == nbb_unformatted_code) {\n",
       "                             nbb_cells[i].set_text(nbb_formatted_code);\n",
       "                        }\n",
       "                        break;\n",
       "                    }\n",
       "                }\n",
       "            }, 500);\n",
       "            "
      ],
      "text/plain": [
       "<IPython.core.display.Javascript object>"
      ]
     },
     "metadata": {},
     "output_type": "display_data"
    }
   ],
   "source": [
    "outputs = bert_model(\n",
    "  input_ids=encoding['input_ids'], \n",
    "  attention_mask=encoding['attention_mask'])\n"
   ]
  },
  {
   "cell_type": "markdown",
   "id": "073f21e8",
   "metadata": {},
   "source": [
    "The last_hidden_state is a sequence of hidden states of the last layer of the model."
   ]
  },
  {
   "cell_type": "code",
   "execution_count": 54,
   "id": "9b75666e",
   "metadata": {},
   "outputs": [
    {
     "data": {
      "text/plain": [
       "torch.Size([1, 12, 768])"
      ]
     },
     "execution_count": 54,
     "metadata": {},
     "output_type": "execute_result"
    },
    {
     "data": {
      "application/javascript": [
       "\n",
       "            setTimeout(function() {\n",
       "                var nbb_cell_id = 54;\n",
       "                var nbb_unformatted_code = \"outputs[0].shape\";\n",
       "                var nbb_formatted_code = \"outputs[0].shape\";\n",
       "                var nbb_cells = Jupyter.notebook.get_cells();\n",
       "                for (var i = 0; i < nbb_cells.length; ++i) {\n",
       "                    if (nbb_cells[i].input_prompt_number == nbb_cell_id) {\n",
       "                        if (nbb_cells[i].get_text() == nbb_unformatted_code) {\n",
       "                             nbb_cells[i].set_text(nbb_formatted_code);\n",
       "                        }\n",
       "                        break;\n",
       "                    }\n",
       "                }\n",
       "            }, 500);\n",
       "            "
      ],
      "text/plain": [
       "<IPython.core.display.Javascript object>"
      ]
     },
     "metadata": {},
     "output_type": "display_data"
    }
   ],
   "source": [
    "outputs[0].shape"
   ]
  },
  {
   "cell_type": "markdown",
   "id": "867d0f18",
   "metadata": {},
   "source": [
    "We have the hidden state for each of our 32 tokens (the length of our example sequence). But why 768? This is the number of hidden units in the feedforward-networks. We can verify that by checking the config:"
   ]
  },
  {
   "cell_type": "code",
   "execution_count": 55,
   "id": "81d909d1",
   "metadata": {},
   "outputs": [
    {
     "data": {
      "text/plain": [
       "768"
      ]
     },
     "execution_count": 55,
     "metadata": {},
     "output_type": "execute_result"
    },
    {
     "data": {
      "application/javascript": [
       "\n",
       "            setTimeout(function() {\n",
       "                var nbb_cell_id = 55;\n",
       "                var nbb_unformatted_code = \"bert_model.config.hidden_size\";\n",
       "                var nbb_formatted_code = \"bert_model.config.hidden_size\";\n",
       "                var nbb_cells = Jupyter.notebook.get_cells();\n",
       "                for (var i = 0; i < nbb_cells.length; ++i) {\n",
       "                    if (nbb_cells[i].input_prompt_number == nbb_cell_id) {\n",
       "                        if (nbb_cells[i].get_text() == nbb_unformatted_code) {\n",
       "                             nbb_cells[i].set_text(nbb_formatted_code);\n",
       "                        }\n",
       "                        break;\n",
       "                    }\n",
       "                }\n",
       "            }, 500);\n",
       "            "
      ],
      "text/plain": [
       "<IPython.core.display.Javascript object>"
      ]
     },
     "metadata": {},
     "output_type": "display_data"
    }
   ],
   "source": [
    "bert_model.config.hidden_size"
   ]
  },
  {
   "cell_type": "markdown",
   "id": "43008280",
   "metadata": {},
   "source": [
    "We can use all of this knowledge to create a classifier that uses the BERT model:"
   ]
  },
  {
   "cell_type": "code",
   "execution_count": 56,
   "id": "4b221e0d",
   "metadata": {},
   "outputs": [
    {
     "data": {
      "application/javascript": [
       "\n",
       "            setTimeout(function() {\n",
       "                var nbb_cell_id = 56;\n",
       "                var nbb_unformatted_code = \"class SentimentPredictor(nn.Module):\\n    def __init__(self, n_classes):\\n        super(SentimentPredictor, self).__init__()\\n        self.bert = BertModel.from_pretrained(PRE_TRAINED_MODEL_NAME, return_dict=False)\\n        self.drop = nn.Dropout(p=0.3)\\n        self.out = nn.Linear(self.bert.config.hidden_size, n_classes)\\n\\n    def forward(self, input_ids, attention_mask):\\n        _, pooled_output = self.bert(input_ids=input_ids, attention_mask=attention_mask)\\n        output = self.drop(pooled_output)\\n        return self.out(output)\";\n",
       "                var nbb_formatted_code = \"class SentimentPredictor(nn.Module):\\n    def __init__(self, n_classes):\\n        super(SentimentPredictor, self).__init__()\\n        self.bert = BertModel.from_pretrained(PRE_TRAINED_MODEL_NAME, return_dict=False)\\n        self.drop = nn.Dropout(p=0.3)\\n        self.out = nn.Linear(self.bert.config.hidden_size, n_classes)\\n\\n    def forward(self, input_ids, attention_mask):\\n        _, pooled_output = self.bert(input_ids=input_ids, attention_mask=attention_mask)\\n        output = self.drop(pooled_output)\\n        return self.out(output)\";\n",
       "                var nbb_cells = Jupyter.notebook.get_cells();\n",
       "                for (var i = 0; i < nbb_cells.length; ++i) {\n",
       "                    if (nbb_cells[i].input_prompt_number == nbb_cell_id) {\n",
       "                        if (nbb_cells[i].get_text() == nbb_unformatted_code) {\n",
       "                             nbb_cells[i].set_text(nbb_formatted_code);\n",
       "                        }\n",
       "                        break;\n",
       "                    }\n",
       "                }\n",
       "            }, 500);\n",
       "            "
      ],
      "text/plain": [
       "<IPython.core.display.Javascript object>"
      ]
     },
     "metadata": {},
     "output_type": "display_data"
    }
   ],
   "source": [
    "class SentimentPredictor(nn.Module):\n",
    "    def __init__(self, n_classes):\n",
    "        super(SentimentPredictor, self).__init__()\n",
    "        self.bert = BertModel.from_pretrained(PRE_TRAINED_MODEL_NAME, return_dict=False)\n",
    "        self.drop = nn.Dropout(p=0.3)\n",
    "        self.out = nn.Linear(self.bert.config.hidden_size, n_classes)\n",
    "\n",
    "    def forward(self, input_ids, attention_mask):\n",
    "        _, pooled_output = self.bert(input_ids=input_ids, attention_mask=attention_mask)\n",
    "        output = self.drop(pooled_output)\n",
    "        return self.out(output)"
   ]
  },
  {
   "cell_type": "markdown",
   "id": "8d07b191",
   "metadata": {},
   "source": [
    "Our classifier delegates most of the heavy lifting to the BertModel. We use a dropout layer for some regularization and a fully-connected layer for our output. Note that we're returning the raw output of the last layer since that is required for the cross-entropy loss function in PyTorch to work.\n",
    "\n",
    "This should work like any other PyTorch model. Let's create an instance and move it to the GPU:"
   ]
  },
  {
   "cell_type": "code",
   "execution_count": 57,
   "id": "cf9b8de3",
   "metadata": {},
   "outputs": [
    {
     "name": "stderr",
     "output_type": "stream",
     "text": [
      "Some weights of the model checkpoint at bert-base-cased were not used when initializing BertModel: ['cls.predictions.transform.dense.weight', 'cls.seq_relationship.bias', 'cls.predictions.transform.dense.bias', 'cls.seq_relationship.weight', 'cls.predictions.transform.LayerNorm.bias', 'cls.predictions.transform.LayerNorm.weight', 'cls.predictions.bias', 'cls.predictions.decoder.weight']\n",
      "- This IS expected if you are initializing BertModel from the checkpoint of a model trained on another task or with another architecture (e.g. initializing a BertForSequenceClassification model from a BertForPreTraining model).\n",
      "- This IS NOT expected if you are initializing BertModel from the checkpoint of a model that you expect to be exactly identical (initializing a BertForSequenceClassification model from a BertForSequenceClassification model).\n"
     ]
    },
    {
     "data": {
      "application/javascript": [
       "\n",
       "            setTimeout(function() {\n",
       "                var nbb_cell_id = 57;\n",
       "                var nbb_unformatted_code = \"model = SentimentPredictor(len(class_names))\\nmodel = model.to(device)\";\n",
       "                var nbb_formatted_code = \"model = SentimentPredictor(len(class_names))\\nmodel = model.to(device)\";\n",
       "                var nbb_cells = Jupyter.notebook.get_cells();\n",
       "                for (var i = 0; i < nbb_cells.length; ++i) {\n",
       "                    if (nbb_cells[i].input_prompt_number == nbb_cell_id) {\n",
       "                        if (nbb_cells[i].get_text() == nbb_unformatted_code) {\n",
       "                             nbb_cells[i].set_text(nbb_formatted_code);\n",
       "                        }\n",
       "                        break;\n",
       "                    }\n",
       "                }\n",
       "            }, 500);\n",
       "            "
      ],
      "text/plain": [
       "<IPython.core.display.Javascript object>"
      ]
     },
     "metadata": {},
     "output_type": "display_data"
    }
   ],
   "source": [
    "model = SentimentPredictor(len(class_names))\n",
    "model = model.to(device)"
   ]
  },
  {
   "cell_type": "markdown",
   "id": "cccd4bdb",
   "metadata": {},
   "source": [
    "We'll move the example batch of our training data to the GPU:"
   ]
  },
  {
   "cell_type": "code",
   "execution_count": 58,
   "id": "b8328472",
   "metadata": {},
   "outputs": [
    {
     "name": "stdout",
     "output_type": "stream",
     "text": [
      "torch.Size([16, 72])\n",
      "torch.Size([16, 72])\n"
     ]
    },
    {
     "data": {
      "application/javascript": [
       "\n",
       "            setTimeout(function() {\n",
       "                var nbb_cell_id = 58;\n",
       "                var nbb_unformatted_code = \"input_ids = data[\\\"input_ids\\\"].to(device)\\nattention_mask = data[\\\"attention_mask\\\"].to(device)\\n\\nprint(input_ids.shape)  # batch size x seq length\\nprint(attention_mask.shape)  # batch size x seq length\";\n",
       "                var nbb_formatted_code = \"input_ids = data[\\\"input_ids\\\"].to(device)\\nattention_mask = data[\\\"attention_mask\\\"].to(device)\\n\\nprint(input_ids.shape)  # batch size x seq length\\nprint(attention_mask.shape)  # batch size x seq length\";\n",
       "                var nbb_cells = Jupyter.notebook.get_cells();\n",
       "                for (var i = 0; i < nbb_cells.length; ++i) {\n",
       "                    if (nbb_cells[i].input_prompt_number == nbb_cell_id) {\n",
       "                        if (nbb_cells[i].get_text() == nbb_unformatted_code) {\n",
       "                             nbb_cells[i].set_text(nbb_formatted_code);\n",
       "                        }\n",
       "                        break;\n",
       "                    }\n",
       "                }\n",
       "            }, 500);\n",
       "            "
      ],
      "text/plain": [
       "<IPython.core.display.Javascript object>"
      ]
     },
     "metadata": {},
     "output_type": "display_data"
    }
   ],
   "source": [
    "input_ids = data[\"input_ids\"].to(device)\n",
    "attention_mask = data[\"attention_mask\"].to(device)\n",
    "\n",
    "print(input_ids.shape)  # batch size x seq length\n",
    "print(attention_mask.shape)  # batch size x seq length"
   ]
  },
  {
   "cell_type": "code",
   "execution_count": 59,
   "id": "32e2a205",
   "metadata": {},
   "outputs": [
    {
     "data": {
      "text/plain": [
       "torch.Tensor"
      ]
     },
     "execution_count": 59,
     "metadata": {},
     "output_type": "execute_result"
    },
    {
     "data": {
      "application/javascript": [
       "\n",
       "            setTimeout(function() {\n",
       "                var nbb_cell_id = 59;\n",
       "                var nbb_unformatted_code = \"type(attention_mask)\";\n",
       "                var nbb_formatted_code = \"type(attention_mask)\";\n",
       "                var nbb_cells = Jupyter.notebook.get_cells();\n",
       "                for (var i = 0; i < nbb_cells.length; ++i) {\n",
       "                    if (nbb_cells[i].input_prompt_number == nbb_cell_id) {\n",
       "                        if (nbb_cells[i].get_text() == nbb_unformatted_code) {\n",
       "                             nbb_cells[i].set_text(nbb_formatted_code);\n",
       "                        }\n",
       "                        break;\n",
       "                    }\n",
       "                }\n",
       "            }, 500);\n",
       "            "
      ],
      "text/plain": [
       "<IPython.core.display.Javascript object>"
      ]
     },
     "metadata": {},
     "output_type": "display_data"
    }
   ],
   "source": [
    "type(attention_mask)"
   ]
  },
  {
   "cell_type": "code",
   "execution_count": 60,
   "id": "83f1befb",
   "metadata": {},
   "outputs": [
    {
     "data": {
      "text/plain": [
       "tensor([[1, 1, 1,  ..., 0, 0, 0],\n",
       "        [1, 1, 1,  ..., 0, 0, 0],\n",
       "        [1, 1, 1,  ..., 0, 0, 0],\n",
       "        ...,\n",
       "        [1, 1, 1,  ..., 0, 0, 0],\n",
       "        [1, 1, 1,  ..., 0, 0, 0],\n",
       "        [1, 1, 1,  ..., 0, 0, 0]], device='cuda:0')"
      ]
     },
     "execution_count": 60,
     "metadata": {},
     "output_type": "execute_result"
    },
    {
     "data": {
      "application/javascript": [
       "\n",
       "            setTimeout(function() {\n",
       "                var nbb_cell_id = 60;\n",
       "                var nbb_unformatted_code = \"attention_mask\";\n",
       "                var nbb_formatted_code = \"attention_mask\";\n",
       "                var nbb_cells = Jupyter.notebook.get_cells();\n",
       "                for (var i = 0; i < nbb_cells.length; ++i) {\n",
       "                    if (nbb_cells[i].input_prompt_number == nbb_cell_id) {\n",
       "                        if (nbb_cells[i].get_text() == nbb_unformatted_code) {\n",
       "                             nbb_cells[i].set_text(nbb_formatted_code);\n",
       "                        }\n",
       "                        break;\n",
       "                    }\n",
       "                }\n",
       "            }, 500);\n",
       "            "
      ],
      "text/plain": [
       "<IPython.core.display.Javascript object>"
      ]
     },
     "metadata": {},
     "output_type": "display_data"
    }
   ],
   "source": [
    "attention_mask"
   ]
  },
  {
   "cell_type": "markdown",
   "id": "71b3f6d4",
   "metadata": {},
   "source": [
    "To get the predicted probabilities from our trained model, we'll apply the softmax function to the outputs:"
   ]
  },
  {
   "cell_type": "code",
   "execution_count": 61,
   "id": "f0f69764",
   "metadata": {},
   "outputs": [
    {
     "data": {
      "text/plain": [
       "tensor([[0.2138, 0.4660, 0.3202],\n",
       "        [0.2361, 0.2976, 0.4663],\n",
       "        [0.3298, 0.2536, 0.4166],\n",
       "        [0.2372, 0.3578, 0.4050],\n",
       "        [0.4810, 0.2873, 0.2318],\n",
       "        [0.2203, 0.4229, 0.3568],\n",
       "        [0.2648, 0.3274, 0.4078],\n",
       "        [0.3303, 0.3629, 0.3068],\n",
       "        [0.3725, 0.1857, 0.4418],\n",
       "        [0.3043, 0.2249, 0.4708],\n",
       "        [0.3168, 0.1775, 0.5057],\n",
       "        [0.3226, 0.1908, 0.4866],\n",
       "        [0.1854, 0.4040, 0.4106],\n",
       "        [0.3143, 0.2686, 0.4171],\n",
       "        [0.2870, 0.2404, 0.4726],\n",
       "        [0.1359, 0.4341, 0.4300]], device='cuda:0', grad_fn=<SoftmaxBackward0>)"
      ]
     },
     "execution_count": 61,
     "metadata": {},
     "output_type": "execute_result"
    },
    {
     "data": {
      "application/javascript": [
       "\n",
       "            setTimeout(function() {\n",
       "                var nbb_cell_id = 61;\n",
       "                var nbb_unformatted_code = \"F.softmax(model(input_ids, attention_mask), dim=1)\";\n",
       "                var nbb_formatted_code = \"F.softmax(model(input_ids, attention_mask), dim=1)\";\n",
       "                var nbb_cells = Jupyter.notebook.get_cells();\n",
       "                for (var i = 0; i < nbb_cells.length; ++i) {\n",
       "                    if (nbb_cells[i].input_prompt_number == nbb_cell_id) {\n",
       "                        if (nbb_cells[i].get_text() == nbb_unformatted_code) {\n",
       "                             nbb_cells[i].set_text(nbb_formatted_code);\n",
       "                        }\n",
       "                        break;\n",
       "                    }\n",
       "                }\n",
       "            }, 500);\n",
       "            "
      ],
      "text/plain": [
       "<IPython.core.display.Javascript object>"
      ]
     },
     "metadata": {},
     "output_type": "display_data"
    }
   ],
   "source": [
    "F.softmax(model(input_ids, attention_mask), dim=1)"
   ]
  },
  {
   "cell_type": "markdown",
   "id": "b26ea7df",
   "metadata": {},
   "source": [
    "## Training\n",
    "\n",
    "To reproduce the training procedure from the BERT paper, we'll use the [AdamW](https://huggingface.co/transformers/main_classes/optimizer_schedules.html#adamw) optimizer provided by Hugging Face. It corrects weight decay, so it's similar to the original paper. We'll also use a linear scheduler with no warmup steps:"
   ]
  },
  {
   "cell_type": "code",
   "execution_count": 62,
   "id": "9176307b",
   "metadata": {},
   "outputs": [
    {
     "name": "stderr",
     "output_type": "stream",
     "text": [
      "/home/experts-vision/anaconda3/envs/py38_3/lib/python3.8/site-packages/transformers/optimization.py:306: FutureWarning: This implementation of AdamW is deprecated and will be removed in a future version. Use the PyTorch implementation torch.optim.AdamW instead, or set `no_deprecation_warning=True` to disable this warning\n",
      "  warnings.warn(\n"
     ]
    },
    {
     "data": {
      "application/javascript": [
       "\n",
       "            setTimeout(function() {\n",
       "                var nbb_cell_id = 62;\n",
       "                var nbb_unformatted_code = \"EPOCHS = 10\\n\\noptimizer = AdamW(model.parameters(), lr=2e-5, correct_bias=False)\\ntotal_steps = len(train_data_loader) * EPOCHS\\n\\nscheduler = get_linear_schedule_with_warmup(\\n    optimizer, num_warmup_steps=0, num_training_steps=total_steps\\n)\\n\\nloss_fn = nn.CrossEntropyLoss().to(device)\";\n",
       "                var nbb_formatted_code = \"EPOCHS = 10\\n\\noptimizer = AdamW(model.parameters(), lr=2e-5, correct_bias=False)\\ntotal_steps = len(train_data_loader) * EPOCHS\\n\\nscheduler = get_linear_schedule_with_warmup(\\n    optimizer, num_warmup_steps=0, num_training_steps=total_steps\\n)\\n\\nloss_fn = nn.CrossEntropyLoss().to(device)\";\n",
       "                var nbb_cells = Jupyter.notebook.get_cells();\n",
       "                for (var i = 0; i < nbb_cells.length; ++i) {\n",
       "                    if (nbb_cells[i].input_prompt_number == nbb_cell_id) {\n",
       "                        if (nbb_cells[i].get_text() == nbb_unformatted_code) {\n",
       "                             nbb_cells[i].set_text(nbb_formatted_code);\n",
       "                        }\n",
       "                        break;\n",
       "                    }\n",
       "                }\n",
       "            }, 500);\n",
       "            "
      ],
      "text/plain": [
       "<IPython.core.display.Javascript object>"
      ]
     },
     "metadata": {},
     "output_type": "display_data"
    }
   ],
   "source": [
    "EPOCHS = 10\n",
    "\n",
    "optimizer = AdamW(model.parameters(), lr=2e-5, correct_bias=False)\n",
    "total_steps = len(train_data_loader) * EPOCHS\n",
    "\n",
    "scheduler = get_linear_schedule_with_warmup(\n",
    "    optimizer, num_warmup_steps=0, num_training_steps=total_steps\n",
    ")\n",
    "\n",
    "loss_fn = nn.CrossEntropyLoss().to(device)"
   ]
  },
  {
   "cell_type": "markdown",
   "id": "b236c36e",
   "metadata": {},
   "source": [
    "How do we come up with all hyperparameters? The BERT authors have some recommendations for fine-tuning:\n",
    "\n",
    "- Batch size: 16, 32\n",
    "- Learning rate (Adam): 5e-5, 3e-5, 2e-5\n",
    "-Number of epochs: 2, 3, 4\n",
    "\n",
    "We're going to ignore the number of epochs recommendation but stick with the rest. Note that increasing the batch size reduces the training time significantly, but gives you lower accuracy.\n",
    "\n",
    "Let's continue with writing a helper function for training our model for one epoch:"
   ]
  },
  {
   "cell_type": "code",
   "execution_count": 63,
   "id": "ea12d013",
   "metadata": {},
   "outputs": [
    {
     "data": {
      "application/javascript": [
       "\n",
       "            setTimeout(function() {\n",
       "                var nbb_cell_id = 63;\n",
       "                var nbb_unformatted_code = \"def train_epoch(model, data_loader, loss_fn, optimizer, device, scheduler, n_examples):\\n    model = model.train()\\n\\n    losses = []\\n    correct_predictions = 0\\n\\n    for d in data_loader:\\n        input_ids = d[\\\"input_ids\\\"].to(device)\\n        attention_mask = d[\\\"attention_mask\\\"].to(device)\\n        targets = d[\\\"targets\\\"].to(device)\\n\\n        outputs = model(input_ids=input_ids, attention_mask=attention_mask)\\n\\n        _, preds = torch.max(outputs, dim=1)\\n        loss = loss_fn(outputs, targets)\\n\\n        correct_predictions += torch.sum(preds == targets)\\n        losses.append(loss.item())\\n\\n        loss.backward()\\n        nn.utils.clip_grad_norm_(model.parameters(), max_norm=1.0)\\n        optimizer.step()\\n        scheduler.step()\\n        optimizer.zero_grad()\\n\\n    return correct_predictions.double() / n_examples, np.mean(losses)\";\n",
       "                var nbb_formatted_code = \"def train_epoch(model, data_loader, loss_fn, optimizer, device, scheduler, n_examples):\\n    model = model.train()\\n\\n    losses = []\\n    correct_predictions = 0\\n\\n    for d in data_loader:\\n        input_ids = d[\\\"input_ids\\\"].to(device)\\n        attention_mask = d[\\\"attention_mask\\\"].to(device)\\n        targets = d[\\\"targets\\\"].to(device)\\n\\n        outputs = model(input_ids=input_ids, attention_mask=attention_mask)\\n\\n        _, preds = torch.max(outputs, dim=1)\\n        loss = loss_fn(outputs, targets)\\n\\n        correct_predictions += torch.sum(preds == targets)\\n        losses.append(loss.item())\\n\\n        loss.backward()\\n        nn.utils.clip_grad_norm_(model.parameters(), max_norm=1.0)\\n        optimizer.step()\\n        scheduler.step()\\n        optimizer.zero_grad()\\n\\n    return correct_predictions.double() / n_examples, np.mean(losses)\";\n",
       "                var nbb_cells = Jupyter.notebook.get_cells();\n",
       "                for (var i = 0; i < nbb_cells.length; ++i) {\n",
       "                    if (nbb_cells[i].input_prompt_number == nbb_cell_id) {\n",
       "                        if (nbb_cells[i].get_text() == nbb_unformatted_code) {\n",
       "                             nbb_cells[i].set_text(nbb_formatted_code);\n",
       "                        }\n",
       "                        break;\n",
       "                    }\n",
       "                }\n",
       "            }, 500);\n",
       "            "
      ],
      "text/plain": [
       "<IPython.core.display.Javascript object>"
      ]
     },
     "metadata": {},
     "output_type": "display_data"
    }
   ],
   "source": [
    "def train_epoch(model, data_loader, loss_fn, optimizer, device, scheduler, n_examples):\n",
    "    model = model.train()\n",
    "\n",
    "    losses = []\n",
    "    correct_predictions = 0\n",
    "\n",
    "    for d in data_loader:\n",
    "        input_ids = d[\"input_ids\"].to(device)\n",
    "        attention_mask = d[\"attention_mask\"].to(device)\n",
    "        targets = d[\"targets\"].to(device)\n",
    "\n",
    "        outputs = model(input_ids=input_ids, attention_mask=attention_mask)\n",
    "\n",
    "        _, preds = torch.max(outputs, dim=1)\n",
    "        loss = loss_fn(outputs, targets)\n",
    "\n",
    "        correct_predictions += torch.sum(preds == targets)\n",
    "        losses.append(loss.item())\n",
    "\n",
    "        loss.backward()\n",
    "        nn.utils.clip_grad_norm_(model.parameters(), max_norm=1.0)\n",
    "        optimizer.step()\n",
    "        scheduler.step()\n",
    "        optimizer.zero_grad()\n",
    "\n",
    "    return correct_predictions.double() / n_examples, np.mean(losses)"
   ]
  },
  {
   "cell_type": "markdown",
   "id": "002a7a72",
   "metadata": {},
   "source": [
    "Training the model should look familiar, except for two things. The scheduler gets called every time a batch is fed to the model. We're avoiding exploding gradients by clipping the gradients of the model using [clip_gradnorm](https://pytorch.org/docs/stable/nn.html#clip-grad-norm).\n",
    "\n",
    "Let's write another one that helps us evaluate the model on a given data loader:"
   ]
  },
  {
   "cell_type": "code",
   "execution_count": 64,
   "id": "306768d9",
   "metadata": {},
   "outputs": [
    {
     "data": {
      "application/javascript": [
       "\n",
       "            setTimeout(function() {\n",
       "                var nbb_cell_id = 64;\n",
       "                var nbb_unformatted_code = \"def eval_model(model, data_loader, loss_fn, device, n_examples):\\n    model = model.eval()\\n\\n    losses = []\\n    correct_predictions = 0\\n\\n    with torch.no_grad():\\n        for d in data_loader:\\n            input_ids = d[\\\"input_ids\\\"].to(device)\\n            attention_mask = d[\\\"attention_mask\\\"].to(device)\\n            targets = d[\\\"targets\\\"].to(device)\\n\\n            outputs = model(input_ids=input_ids, attention_mask=attention_mask)\\n            _, preds = torch.max(outputs, dim=1)\\n\\n            loss = loss_fn(outputs, targets)\\n\\n            correct_predictions += torch.sum(preds == targets)\\n            losses.append(loss.item())\\n\\n    return correct_predictions.double() / n_examples, np.mean(losses)\";\n",
       "                var nbb_formatted_code = \"def eval_model(model, data_loader, loss_fn, device, n_examples):\\n    model = model.eval()\\n\\n    losses = []\\n    correct_predictions = 0\\n\\n    with torch.no_grad():\\n        for d in data_loader:\\n            input_ids = d[\\\"input_ids\\\"].to(device)\\n            attention_mask = d[\\\"attention_mask\\\"].to(device)\\n            targets = d[\\\"targets\\\"].to(device)\\n\\n            outputs = model(input_ids=input_ids, attention_mask=attention_mask)\\n            _, preds = torch.max(outputs, dim=1)\\n\\n            loss = loss_fn(outputs, targets)\\n\\n            correct_predictions += torch.sum(preds == targets)\\n            losses.append(loss.item())\\n\\n    return correct_predictions.double() / n_examples, np.mean(losses)\";\n",
       "                var nbb_cells = Jupyter.notebook.get_cells();\n",
       "                for (var i = 0; i < nbb_cells.length; ++i) {\n",
       "                    if (nbb_cells[i].input_prompt_number == nbb_cell_id) {\n",
       "                        if (nbb_cells[i].get_text() == nbb_unformatted_code) {\n",
       "                             nbb_cells[i].set_text(nbb_formatted_code);\n",
       "                        }\n",
       "                        break;\n",
       "                    }\n",
       "                }\n",
       "            }, 500);\n",
       "            "
      ],
      "text/plain": [
       "<IPython.core.display.Javascript object>"
      ]
     },
     "metadata": {},
     "output_type": "display_data"
    }
   ],
   "source": [
    "def eval_model(model, data_loader, loss_fn, device, n_examples):\n",
    "    model = model.eval()\n",
    "\n",
    "    losses = []\n",
    "    correct_predictions = 0\n",
    "\n",
    "    with torch.no_grad():\n",
    "        for d in data_loader:\n",
    "            input_ids = d[\"input_ids\"].to(device)\n",
    "            attention_mask = d[\"attention_mask\"].to(device)\n",
    "            targets = d[\"targets\"].to(device)\n",
    "\n",
    "            outputs = model(input_ids=input_ids, attention_mask=attention_mask)\n",
    "            _, preds = torch.max(outputs, dim=1)\n",
    "\n",
    "            loss = loss_fn(outputs, targets)\n",
    "\n",
    "            correct_predictions += torch.sum(preds == targets)\n",
    "            losses.append(loss.item())\n",
    "\n",
    "    return correct_predictions.double() / n_examples, np.mean(losses)"
   ]
  },
  {
   "cell_type": "code",
   "execution_count": 65,
   "id": "590a53ee",
   "metadata": {},
   "outputs": [
    {
     "data": {
      "application/javascript": [
       "\n",
       "            setTimeout(function() {\n",
       "                var nbb_cell_id = 65;\n",
       "                var nbb_unformatted_code = \"train_acc = []\\nvalid_acc = []\";\n",
       "                var nbb_formatted_code = \"train_acc = []\\nvalid_acc = []\";\n",
       "                var nbb_cells = Jupyter.notebook.get_cells();\n",
       "                for (var i = 0; i < nbb_cells.length; ++i) {\n",
       "                    if (nbb_cells[i].input_prompt_number == nbb_cell_id) {\n",
       "                        if (nbb_cells[i].get_text() == nbb_unformatted_code) {\n",
       "                             nbb_cells[i].set_text(nbb_formatted_code);\n",
       "                        }\n",
       "                        break;\n",
       "                    }\n",
       "                }\n",
       "            }, 500);\n",
       "            "
      ],
      "text/plain": [
       "<IPython.core.display.Javascript object>"
      ]
     },
     "metadata": {},
     "output_type": "display_data"
    }
   ],
   "source": [
    "train_acc = []\n",
    "valid_acc = []"
   ]
  },
  {
   "cell_type": "markdown",
   "id": "bfd31248",
   "metadata": {},
   "source": [
    "Using those two, we can write our training loop. We'll also store the training history:"
   ]
  },
  {
   "cell_type": "code",
   "execution_count": null,
   "id": "6bbc313e",
   "metadata": {},
   "outputs": [
    {
     "name": "stdout",
     "output_type": "stream",
     "text": [
      "Epoch 1/10\n",
      "----------\n",
      "Train loss 0.6242849419623504 accuracy 0.7403669724770642\n",
      "Val   loss 0.46558617195114493 accuracy 0.8181818181818182\n",
      "\n",
      "Epoch 2/10\n",
      "----------\n"
     ]
    }
   ],
   "source": [
    "%%time\n",
    "history = defaultdict(list)\n",
    "best_accuracy = 0\n",
    "\n",
    "for epoch in range(EPOCHS):\n",
    "\n",
    "  print(f'Epoch {epoch + 1}/{EPOCHS}')\n",
    "  print('-' * 10)\n",
    "\n",
    "  train_acc, train_loss = train_epoch(\n",
    "    model,\n",
    "    train_data_loader,    \n",
    "    loss_fn, \n",
    "    optimizer, \n",
    "    device, \n",
    "    scheduler, \n",
    "    len(df_train)\n",
    "  )\n",
    "\n",
    "  print(f'Train loss {train_loss} accuracy {train_acc}')\n",
    "\n",
    "  val_acc, val_loss = eval_model(\n",
    "    model,\n",
    "    val_data_loader,\n",
    "    loss_fn, \n",
    "    device, \n",
    "    len(df_val)\n",
    "  )\n",
    "  train_acc=train_acc.cpu()\n",
    "  val_acc=val_acc.cpu()  \n",
    "  print(f'Val   loss {val_loss} accuracy {val_acc}')\n",
    "  print()\n",
    "\n",
    "  history['train_acc'].append(train_acc)\n",
    "  history['train_loss'].append(train_loss)                             \n",
    "  history['val_acc'].append(val_acc)\n",
    "  history['val_loss'].append(val_loss)\n",
    "#   history=torch.tensor(history)\n",
    "#   history=history.detach()\n",
    "    \n",
    "  if val_acc > best_accuracy:\n",
    "    torch.save(model.state_dict(), 'data/saved_models_bert_multi_class/best_model_state.bin')\n",
    "    best_accuracy = val_acc"
   ]
  },
  {
   "cell_type": "markdown",
   "id": "d48b5978",
   "metadata": {},
   "source": [
    "Note that we're storing the state of the best model, indicated by the highest validation accuracy.\n",
    "\n",
    "Whoo, this took some time! We can look at the training vs validation accuracy:"
   ]
  },
  {
   "cell_type": "code",
   "execution_count": 56,
   "id": "27c03e6e",
   "metadata": {
    "scrolled": true
   },
   "outputs": [
    {
     "data": {
      "image/png": "[encoded data removed]",
      "text/plain": [
       "<Figure size 864x576 with 1 Axes>"
      ]
     },
     "metadata": {
      "image/png": {
       "height": 506,
       "width": 732
      }
     },
     "output_type": "display_data"
    }
   ],
   "source": [
    "plt.plot(history['train_acc'], label='train accuracy')\n",
    "plt.plot(history['val_acc'], label='validation accuracy')\n",
    "\n",
    "plt.title('Training history')\n",
    "plt.ylabel('Accuracy')\n",
    "plt.xlabel('Epoch')\n",
    "plt.legend()\n",
    "plt.ylim([0, 1]);"
   ]
  },
  {
   "cell_type": "code",
   "execution_count": null,
   "id": "d89468d4",
   "metadata": {},
   "outputs": [],
   "source": []
  },
  {
   "cell_type": "markdown",
   "id": "8fd4a38c",
   "metadata": {},
   "source": [
    "The training accuracy starts to approach 100% after 6 epochs or so."
   ]
  },
  {
   "cell_type": "markdown",
   "id": "6fe0b893",
   "metadata": {},
   "source": [
    "## Download the pre-trained model by uncommenting the below section if you don't want to do training"
   ]
  },
  {
   "cell_type": "code",
   "execution_count": 84,
   "id": "dd546bdf",
   "metadata": {},
   "outputs": [
    {
     "data": {
      "application/javascript": [
       "\n",
       "            setTimeout(function() {\n",
       "                var nbb_cell_id = 84;\n",
       "                var nbb_unformatted_code = \"path = \\\"data\\\"\\nfile_name = \\\"data/saved_models_bert_multi_class\\\"\\nif os.path.exists(file_name):\\n    pass\\nelse:\\n    isExist = os.path.exists(path)\\n    if not isExist:\\n\\n        # Create a new directory because it does not exist\\n        os.makedirs(path)\\n        print(\\\"The new directory is created!\\\")\\n    !gdown  -O 'data/lightning_logs_bert_multilabel\\u200b.zip' 167dU4IWigG6CwVJrBCSwdzWX0lzfLlrE\\n    with zipfile.ZipFile(\\\"data/lightning_logs_bert_multilabel.zip\\\",\\\"r\\\") as zip_ref:\\n        zip_ref.extractall(\\\"data/lightning_logs_bert_multilabel.zip\\\")\\n    \";\n",
       "                var nbb_formatted_code = \"path = \\\"data\\\"\\nfile_name = \\\"data/saved_models_bert_multi_class\\\"\\nif os.path.exists(file_name):\\n    pass\\nelse:\\n    isExist = os.path.exists(path)\\n    if not isExist:\\n\\n        # Create a new directory because it does not exist\\n        os.makedirs(path)\\n        print(\\\"The new directory is created!\\\")\\n    !gdown  -O 'data/lightning_logs_bert_multilabel\\u200b.zip' 167dU4IWigG6CwVJrBCSwdzWX0lzfLlrE\\n    with zipfile.ZipFile(\\\"data/lightning_logs_bert_multilabel.zip\\\", \\\"r\\\") as zip_ref:\\n        zip_ref.extractall(\\\"data/lightning_logs_bert_multilabel.zip\\\")\";\n",
       "                var nbb_cells = Jupyter.notebook.get_cells();\n",
       "                for (var i = 0; i < nbb_cells.length; ++i) {\n",
       "                    if (nbb_cells[i].input_prompt_number == nbb_cell_id) {\n",
       "                        if (nbb_cells[i].get_text() == nbb_unformatted_code) {\n",
       "                             nbb_cells[i].set_text(nbb_formatted_code);\n",
       "                        }\n",
       "                        break;\n",
       "                    }\n",
       "                }\n",
       "            }, 500);\n",
       "            "
      ],
      "text/plain": [
       "<IPython.core.display.Javascript object>"
      ]
     },
     "metadata": {},
     "output_type": "display_data"
    }
   ],
   "source": [
    "# path = \"data\"\n",
    "# file_name = \"data/saved_models_bert_multi_class\"\n",
    "# if os.path.exists(file_name):\n",
    "#     pass\n",
    "# else:\n",
    "#     isExist = os.path.exists(path)\n",
    "#     if not isExist:\n",
    "\n",
    "#         # Create a new directory because it does not exist\n",
    "#         os.makedirs(path)\n",
    "#         print(\"The new directory is created!\")\n",
    "#     !gdown  -O 'data/saved_models_bert_multi_class.zip' 167dU4IWigG6CwVJrBCSwdzWX0lzfLlrE\n",
    "#     with zipfile.ZipFile(\"data/saved_models_bert_multi_class.zip\", \"r\") as zip_ref:\n",
    "#         zip_ref.extractall(\"data\")"
   ]
  },
  {
   "cell_type": "code",
   "execution_count": 85,
   "id": "5649e79e",
   "metadata": {
    "scrolled": true
   },
   "outputs": [
    {
     "data": {
      "text/plain": [
       "<All keys matched successfully>"
      ]
     },
     "execution_count": 85,
     "metadata": {},
     "output_type": "execute_result"
    },
    {
     "data": {
      "application/javascript": [
       "\n",
       "            setTimeout(function() {\n",
       "                var nbb_cell_id = 85;\n",
       "                var nbb_unformatted_code = \"model.load_state_dict(\\n    torch.load(\\n        \\\"data/saved_models_bert_multi_class/best_model_state.bin\\\",\\n        map_location=torch.device(\\\"cpu\\\"),\\n    )\\n)\";\n",
       "                var nbb_formatted_code = \"model.load_state_dict(\\n    torch.load(\\n        \\\"data/saved_models_bert_multi_class/best_model_state.bin\\\",\\n        map_location=torch.device(\\\"cpu\\\"),\\n    )\\n)\";\n",
       "                var nbb_cells = Jupyter.notebook.get_cells();\n",
       "                for (var i = 0; i < nbb_cells.length; ++i) {\n",
       "                    if (nbb_cells[i].input_prompt_number == nbb_cell_id) {\n",
       "                        if (nbb_cells[i].get_text() == nbb_unformatted_code) {\n",
       "                             nbb_cells[i].set_text(nbb_formatted_code);\n",
       "                        }\n",
       "                        break;\n",
       "                    }\n",
       "                }\n",
       "            }, 500);\n",
       "            "
      ],
      "text/plain": [
       "<IPython.core.display.Javascript object>"
      ]
     },
     "metadata": {},
     "output_type": "display_data"
    }
   ],
   "source": [
    "model.load_state_dict(\n",
    "    torch.load(\n",
    "        \"data/saved_models_bert_multi_class/best_model_state.bin\",\n",
    "        map_location=torch.device(\"cpu\"),\n",
    "    )\n",
    ")"
   ]
  },
  {
   "cell_type": "markdown",
   "id": "1cd0c4ff",
   "metadata": {},
   "source": [
    "# Evaluation\n",
    "So how good is our model on predicting sentiment? Let's start by calculating the accuracy on the test data:"
   ]
  },
  {
   "cell_type": "code",
   "execution_count": 69,
   "id": "e3ad76a0",
   "metadata": {},
   "outputs": [
    {
     "data": {
      "text/plain": [
       "0.823045267489712"
      ]
     },
     "execution_count": 69,
     "metadata": {},
     "output_type": "execute_result"
    },
    {
     "data": {
      "application/javascript": [
       "\n",
       "            setTimeout(function() {\n",
       "                var nbb_cell_id = 69;\n",
       "                var nbb_unformatted_code = \"test_acc, _ = eval_model(\\n  model,\\n  test_data_loader,\\n  loss_fn,\\n  device,\\n  len(df_test)\\n)\\n\\ntest_acc.item()\";\n",
       "                var nbb_formatted_code = \"test_acc, _ = eval_model(model, test_data_loader, loss_fn, device, len(df_test))\\n\\ntest_acc.item()\";\n",
       "                var nbb_cells = Jupyter.notebook.get_cells();\n",
       "                for (var i = 0; i < nbb_cells.length; ++i) {\n",
       "                    if (nbb_cells[i].input_prompt_number == nbb_cell_id) {\n",
       "                        if (nbb_cells[i].get_text() == nbb_unformatted_code) {\n",
       "                             nbb_cells[i].set_text(nbb_formatted_code);\n",
       "                        }\n",
       "                        break;\n",
       "                    }\n",
       "                }\n",
       "            }, 500);\n",
       "            "
      ],
      "text/plain": [
       "<IPython.core.display.Javascript object>"
      ]
     },
     "metadata": {},
     "output_type": "display_data"
    }
   ],
   "source": [
    "test_acc, _ = eval_model(model, test_data_loader, loss_fn, device, len(df_test))\n",
    "\n",
    "test_acc.item()"
   ]
  },
  {
   "cell_type": "markdown",
   "id": "b44cea00",
   "metadata": {},
   "source": [
    "Our model seems to generalize well as test accuracy is almost equal to validation accuracy.\n",
    "\n",
    "We'll define a helper function to get the predictions from our model:"
   ]
  },
  {
   "cell_type": "code",
   "execution_count": 70,
   "id": "c6db45df",
   "metadata": {},
   "outputs": [
    {
     "data": {
      "application/javascript": [
       "\n",
       "            setTimeout(function() {\n",
       "                var nbb_cell_id = 70;\n",
       "                var nbb_unformatted_code = \"def get_predictions(model, data_loader):\\n  model = model.eval()\\n  \\n  review_texts = []\\n  predictions = []\\n  prediction_probs = []\\n  real_values = []\\n\\n  with torch.no_grad():\\n    for d in data_loader:\\n\\n      texts = d[\\\"review_text\\\"]\\n      input_ids = d[\\\"input_ids\\\"].to(device)\\n      attention_mask = d[\\\"attention_mask\\\"].to(device)\\n      targets = d[\\\"targets\\\"].to(device)\\n\\n      outputs = model(\\n        input_ids=input_ids,\\n        attention_mask=attention_mask\\n      )\\n      _, preds = torch.max(outputs, dim=1)\\n\\n      probs = F.softmax(outputs, dim=1)\\n\\n      review_texts.extend(texts)\\n      predictions.extend(preds)\\n      prediction_probs.extend(probs)\\n      real_values.extend(targets)\\n\\n  predictions = torch.stack(predictions).cpu()\\n  prediction_probs = torch.stack(prediction_probs).cpu()\\n  real_values = torch.stack(real_values).cpu()\\n  return review_texts, predictions, prediction_probs, real_values\";\n",
       "                var nbb_formatted_code = \"def get_predictions(model, data_loader):\\n    model = model.eval()\\n\\n    review_texts = []\\n    predictions = []\\n    prediction_probs = []\\n    real_values = []\\n\\n    with torch.no_grad():\\n        for d in data_loader:\\n\\n            texts = d[\\\"review_text\\\"]\\n            input_ids = d[\\\"input_ids\\\"].to(device)\\n            attention_mask = d[\\\"attention_mask\\\"].to(device)\\n            targets = d[\\\"targets\\\"].to(device)\\n\\n            outputs = model(input_ids=input_ids, attention_mask=attention_mask)\\n            _, preds = torch.max(outputs, dim=1)\\n\\n            probs = F.softmax(outputs, dim=1)\\n\\n            review_texts.extend(texts)\\n            predictions.extend(preds)\\n            prediction_probs.extend(probs)\\n            real_values.extend(targets)\\n\\n    predictions = torch.stack(predictions).cpu()\\n    prediction_probs = torch.stack(prediction_probs).cpu()\\n    real_values = torch.stack(real_values).cpu()\\n    return review_texts, predictions, prediction_probs, real_values\";\n",
       "                var nbb_cells = Jupyter.notebook.get_cells();\n",
       "                for (var i = 0; i < nbb_cells.length; ++i) {\n",
       "                    if (nbb_cells[i].input_prompt_number == nbb_cell_id) {\n",
       "                        if (nbb_cells[i].get_text() == nbb_unformatted_code) {\n",
       "                             nbb_cells[i].set_text(nbb_formatted_code);\n",
       "                        }\n",
       "                        break;\n",
       "                    }\n",
       "                }\n",
       "            }, 500);\n",
       "            "
      ],
      "text/plain": [
       "<IPython.core.display.Javascript object>"
      ]
     },
     "metadata": {},
     "output_type": "display_data"
    }
   ],
   "source": [
    "def get_predictions(model, data_loader):\n",
    "    model = model.eval()\n",
    "\n",
    "    review_texts = []\n",
    "    predictions = []\n",
    "    prediction_probs = []\n",
    "    real_values = []\n",
    "\n",
    "    with torch.no_grad():\n",
    "        for d in data_loader:\n",
    "\n",
    "            texts = d[\"review_text\"]\n",
    "            input_ids = d[\"input_ids\"].to(device)\n",
    "            attention_mask = d[\"attention_mask\"].to(device)\n",
    "            targets = d[\"targets\"].to(device)\n",
    "\n",
    "            outputs = model(input_ids=input_ids, attention_mask=attention_mask)\n",
    "            _, preds = torch.max(outputs, dim=1)\n",
    "\n",
    "            probs = F.softmax(outputs, dim=1)\n",
    "\n",
    "            review_texts.extend(texts)\n",
    "            predictions.extend(preds)\n",
    "            prediction_probs.extend(probs)\n",
    "            real_values.extend(targets)\n",
    "\n",
    "    predictions = torch.stack(predictions).cpu()\n",
    "    prediction_probs = torch.stack(prediction_probs).cpu()\n",
    "    real_values = torch.stack(real_values).cpu()\n",
    "    return review_texts, predictions, prediction_probs, real_values"
   ]
  },
  {
   "cell_type": "markdown",
   "id": "b646eebb",
   "metadata": {},
   "source": [
    "This is similar to the evaluation function, except that we're storing the text of the reviews and the predicted probabilities (by applying the softmax on the model outputs):"
   ]
  },
  {
   "cell_type": "code",
   "execution_count": 71,
   "id": "6dc74e45",
   "metadata": {},
   "outputs": [
    {
     "data": {
      "application/javascript": [
       "\n",
       "            setTimeout(function() {\n",
       "                var nbb_cell_id = 71;\n",
       "                var nbb_unformatted_code = \"y_review_texts, y_pred, y_pred_probs, y_test = get_predictions(\\n  model,\\n  test_data_loader\\n)\";\n",
       "                var nbb_formatted_code = \"y_review_texts, y_pred, y_pred_probs, y_test = get_predictions(model, test_data_loader)\";\n",
       "                var nbb_cells = Jupyter.notebook.get_cells();\n",
       "                for (var i = 0; i < nbb_cells.length; ++i) {\n",
       "                    if (nbb_cells[i].input_prompt_number == nbb_cell_id) {\n",
       "                        if (nbb_cells[i].get_text() == nbb_unformatted_code) {\n",
       "                             nbb_cells[i].set_text(nbb_formatted_code);\n",
       "                        }\n",
       "                        break;\n",
       "                    }\n",
       "                }\n",
       "            }, 500);\n",
       "            "
      ],
      "text/plain": [
       "<IPython.core.display.Javascript object>"
      ]
     },
     "metadata": {},
     "output_type": "display_data"
    }
   ],
   "source": [
    "y_review_texts, y_pred, y_pred_probs, y_test = get_predictions(model, test_data_loader)"
   ]
  },
  {
   "cell_type": "markdown",
   "id": "5c7a8c2c",
   "metadata": {},
   "source": [
    "Let's have a look at the classification report"
   ]
  },
  {
   "cell_type": "code",
   "execution_count": 72,
   "id": "cb5dbe73",
   "metadata": {},
   "outputs": [
    {
     "name": "stdout",
     "output_type": "stream",
     "text": [
      "              precision    recall  f1-score   support\n",
      "\n",
      "    negative       0.90      0.84      0.87        32\n",
      "     neutral       0.87      0.82      0.84       135\n",
      "    positive       0.73      0.82      0.77        76\n",
      "\n",
      "    accuracy                           0.82       243\n",
      "   macro avg       0.83      0.83      0.83       243\n",
      "weighted avg       0.83      0.82      0.82       243\n",
      "\n"
     ]
    },
    {
     "data": {
      "application/javascript": [
       "\n",
       "            setTimeout(function() {\n",
       "                var nbb_cell_id = 72;\n",
       "                var nbb_unformatted_code = \"print(classification_report(y_test, y_pred, target_names=class_names))\";\n",
       "                var nbb_formatted_code = \"print(classification_report(y_test, y_pred, target_names=class_names))\";\n",
       "                var nbb_cells = Jupyter.notebook.get_cells();\n",
       "                for (var i = 0; i < nbb_cells.length; ++i) {\n",
       "                    if (nbb_cells[i].input_prompt_number == nbb_cell_id) {\n",
       "                        if (nbb_cells[i].get_text() == nbb_unformatted_code) {\n",
       "                             nbb_cells[i].set_text(nbb_formatted_code);\n",
       "                        }\n",
       "                        break;\n",
       "                    }\n",
       "                }\n",
       "            }, 500);\n",
       "            "
      ],
      "text/plain": [
       "<IPython.core.display.Javascript object>"
      ]
     },
     "metadata": {},
     "output_type": "display_data"
    }
   ],
   "source": [
    "print(classification_report(y_test, y_pred, target_names=class_names))"
   ]
  },
  {
   "cell_type": "markdown",
   "id": "3ec234bd",
   "metadata": {},
   "source": [
    "Looks like it is really hard to classify neutral (3 stars) reviews. And I can tell you from experience, looking at many reviews, those are hard to classify.\n",
    "\n",
    "We'll continue with the confusion matrix:"
   ]
  },
  {
   "cell_type": "code",
   "execution_count": 73,
   "id": "22d5ca55",
   "metadata": {},
   "outputs": [
    {
     "data": {
      "image/png": "[encoded data removed]",
      "text/plain": [
       "<Figure size 864x576 with 2 Axes>"
      ]
     },
     "metadata": {
      "image/png": {
       "height": 516,
       "width": 725
      }
     },
     "output_type": "display_data"
    },
    {
     "data": {
      "application/javascript": [
       "\n",
       "            setTimeout(function() {\n",
       "                var nbb_cell_id = 73;\n",
       "                var nbb_unformatted_code = \"def show_confusion_matrix(confusion_matrix):\\n  hmap = sns.heatmap(confusion_matrix, annot=True, fmt=\\\"d\\\", cmap=\\\"Blues\\\")\\n  hmap.yaxis.set_ticklabels(hmap.yaxis.get_ticklabels(), rotation=0, ha='right')\\n  hmap.xaxis.set_ticklabels(hmap.xaxis.get_ticklabels(), rotation=30, ha='right')\\n  plt.ylabel('True sentiment')\\n  plt.xlabel('Predicted sentiment');\\n\\ncm = confusion_matrix(y_test, y_pred)\\ndf_cm = pd.DataFrame(cm, index=class_names, columns=class_names)\\nshow_confusion_matrix(df_cm)\";\n",
       "                var nbb_formatted_code = \"def show_confusion_matrix(confusion_matrix):\\n    hmap = sns.heatmap(confusion_matrix, annot=True, fmt=\\\"d\\\", cmap=\\\"Blues\\\")\\n    hmap.yaxis.set_ticklabels(hmap.yaxis.get_ticklabels(), rotation=0, ha=\\\"right\\\")\\n    hmap.xaxis.set_ticklabels(hmap.xaxis.get_ticklabels(), rotation=30, ha=\\\"right\\\")\\n    plt.ylabel(\\\"True sentiment\\\")\\n    plt.xlabel(\\\"Predicted sentiment\\\")\\n\\n\\ncm = confusion_matrix(y_test, y_pred)\\ndf_cm = pd.DataFrame(cm, index=class_names, columns=class_names)\\nshow_confusion_matrix(df_cm)\";\n",
       "                var nbb_cells = Jupyter.notebook.get_cells();\n",
       "                for (var i = 0; i < nbb_cells.length; ++i) {\n",
       "                    if (nbb_cells[i].input_prompt_number == nbb_cell_id) {\n",
       "                        if (nbb_cells[i].get_text() == nbb_unformatted_code) {\n",
       "                             nbb_cells[i].set_text(nbb_formatted_code);\n",
       "                        }\n",
       "                        break;\n",
       "                    }\n",
       "                }\n",
       "            }, 500);\n",
       "            "
      ],
      "text/plain": [
       "<IPython.core.display.Javascript object>"
      ]
     },
     "metadata": {},
     "output_type": "display_data"
    }
   ],
   "source": [
    "def show_confusion_matrix(confusion_matrix):\n",
    "    hmap = sns.heatmap(confusion_matrix, annot=True, fmt=\"d\", cmap=\"Blues\")\n",
    "    hmap.yaxis.set_ticklabels(hmap.yaxis.get_ticklabels(), rotation=0, ha=\"right\")\n",
    "    hmap.xaxis.set_ticklabels(hmap.xaxis.get_ticklabels(), rotation=30, ha=\"right\")\n",
    "    plt.ylabel(\"True sentiment\")\n",
    "    plt.xlabel(\"Predicted sentiment\")\n",
    "\n",
    "\n",
    "cm = confusion_matrix(y_test, y_pred)\n",
    "df_cm = pd.DataFrame(cm, index=class_names, columns=class_names)\n",
    "show_confusion_matrix(df_cm)"
   ]
  },
  {
   "cell_type": "markdown",
   "id": "4878ce2d",
   "metadata": {},
   "source": [
    "That's a good overview of the performance of our model. But let's have a look at an example from our test data:"
   ]
  },
  {
   "cell_type": "code",
   "execution_count": 74,
   "id": "a58ed8b7",
   "metadata": {},
   "outputs": [
    {
     "data": {
      "application/javascript": [
       "\n",
       "            setTimeout(function() {\n",
       "                var nbb_cell_id = 74;\n",
       "                var nbb_unformatted_code = \"idx = 2\\n\\nreview_text = y_review_texts[idx]\\ntrue_sentiment = y_test[idx]\\npred_df = pd.DataFrame({\\n  'class_names': class_names,\\n  'values': y_pred_probs[idx]\\n})\";\n",
       "                var nbb_formatted_code = \"idx = 2\\n\\nreview_text = y_review_texts[idx]\\ntrue_sentiment = y_test[idx]\\npred_df = pd.DataFrame({\\\"class_names\\\": class_names, \\\"values\\\": y_pred_probs[idx]})\";\n",
       "                var nbb_cells = Jupyter.notebook.get_cells();\n",
       "                for (var i = 0; i < nbb_cells.length; ++i) {\n",
       "                    if (nbb_cells[i].input_prompt_number == nbb_cell_id) {\n",
       "                        if (nbb_cells[i].get_text() == nbb_unformatted_code) {\n",
       "                             nbb_cells[i].set_text(nbb_formatted_code);\n",
       "                        }\n",
       "                        break;\n",
       "                    }\n",
       "                }\n",
       "            }, 500);\n",
       "            "
      ],
      "text/plain": [
       "<IPython.core.display.Javascript object>"
      ]
     },
     "metadata": {},
     "output_type": "display_data"
    }
   ],
   "source": [
    "idx = 2\n",
    "\n",
    "review_text = y_review_texts[idx]\n",
    "true_sentiment = y_test[idx]\n",
    "pred_df = pd.DataFrame({\"class_names\": class_names, \"values\": y_pred_probs[idx]})"
   ]
  },
  {
   "cell_type": "code",
   "execution_count": 75,
   "id": "24fd1cf6",
   "metadata": {},
   "outputs": [
    {
     "name": "stdout",
     "output_type": "stream",
     "text": [
      "( ADP News ) - Oct 29 , 2008 - Finnish lifting equipment maker\n",
      "Konecranes Oyj ( OMX : KCR1V ) said today that its net profit rose to\n",
      "EUR 116.6 million ( USD 149.1 m ) in the first nine months of 2008\n",
      "from EUR 73.6 million for the s\n",
      "\n",
      "True sentiment: positive\n"
     ]
    },
    {
     "data": {
      "application/javascript": [
       "\n",
       "            setTimeout(function() {\n",
       "                var nbb_cell_id = 75;\n",
       "                var nbb_unformatted_code = \"print(\\\"\\\\n\\\".join(wrap(review_text)))\\nprint()\\nprint(f'True sentiment: {class_names[true_sentiment]}')\";\n",
       "                var nbb_formatted_code = \"print(\\\"\\\\n\\\".join(wrap(review_text)))\\nprint()\\nprint(f\\\"True sentiment: {class_names[true_sentiment]}\\\")\";\n",
       "                var nbb_cells = Jupyter.notebook.get_cells();\n",
       "                for (var i = 0; i < nbb_cells.length; ++i) {\n",
       "                    if (nbb_cells[i].input_prompt_number == nbb_cell_id) {\n",
       "                        if (nbb_cells[i].get_text() == nbb_unformatted_code) {\n",
       "                             nbb_cells[i].set_text(nbb_formatted_code);\n",
       "                        }\n",
       "                        break;\n",
       "                    }\n",
       "                }\n",
       "            }, 500);\n",
       "            "
      ],
      "text/plain": [
       "<IPython.core.display.Javascript object>"
      ]
     },
     "metadata": {},
     "output_type": "display_data"
    }
   ],
   "source": [
    "print(\"\\n\".join(wrap(review_text)))\n",
    "print()\n",
    "print(f\"True sentiment: {class_names[true_sentiment]}\")"
   ]
  },
  {
   "cell_type": "markdown",
   "id": "5bc2221d",
   "metadata": {},
   "source": [
    "Now we can look at the confidence of each sentiment of our model:"
   ]
  },
  {
   "cell_type": "code",
   "execution_count": 76,
   "id": "e7fddded",
   "metadata": {},
   "outputs": [
    {
     "data": {
      "image/png": "[encoded data removed]",
      "text/plain": [
       "<Figure size 864x576 with 1 Axes>"
      ]
     },
     "metadata": {
      "image/png": {
       "height": 489,
       "width": 779
      }
     },
     "output_type": "display_data"
    },
    {
     "data": {
      "application/javascript": [
       "\n",
       "            setTimeout(function() {\n",
       "                var nbb_cell_id = 76;\n",
       "                var nbb_unformatted_code = \"sns.barplot(x='values', y='class_names', data=pred_df, orient='h')\\nplt.ylabel('sentiment')\\nplt.xlabel('probability')\\nplt.xlim([0, 1]);\";\n",
       "                var nbb_formatted_code = \"sns.barplot(x=\\\"values\\\", y=\\\"class_names\\\", data=pred_df, orient=\\\"h\\\")\\nplt.ylabel(\\\"sentiment\\\")\\nplt.xlabel(\\\"probability\\\")\\nplt.xlim([0, 1])\";\n",
       "                var nbb_cells = Jupyter.notebook.get_cells();\n",
       "                for (var i = 0; i < nbb_cells.length; ++i) {\n",
       "                    if (nbb_cells[i].input_prompt_number == nbb_cell_id) {\n",
       "                        if (nbb_cells[i].get_text() == nbb_unformatted_code) {\n",
       "                             nbb_cells[i].set_text(nbb_formatted_code);\n",
       "                        }\n",
       "                        break;\n",
       "                    }\n",
       "                }\n",
       "            }, 500);\n",
       "            "
      ],
      "text/plain": [
       "<IPython.core.display.Javascript object>"
      ]
     },
     "metadata": {},
     "output_type": "display_data"
    }
   ],
   "source": [
    "sns.barplot(x=\"values\", y=\"class_names\", data=pred_df, orient=\"h\")\n",
    "plt.ylabel(\"sentiment\")\n",
    "plt.xlabel(\"probability\")\n",
    "plt.xlim([0, 1])"
   ]
  },
  {
   "cell_type": "markdown",
   "id": "4d5380d8",
   "metadata": {},
   "source": [
    "# Predicting on Raw Text\n",
    "Let's use our model to predict the sentiment of some raw text:"
   ]
  },
  {
   "cell_type": "code",
   "execution_count": 77,
   "id": "88405708",
   "metadata": {},
   "outputs": [
    {
     "data": {
      "application/javascript": [
       "\n",
       "            setTimeout(function() {\n",
       "                var nbb_cell_id = 77;\n",
       "                var nbb_unformatted_code = \"review_text = \\\"However , the rapidly increasing costs and the strengthening of the euro were challenging for the whole industry , and they impacted on our results.\\\"\";\n",
       "                var nbb_formatted_code = \"review_text = \\\"However , the rapidly increasing costs and the strengthening of the euro were challenging for the whole industry , and they impacted on our results.\\\"\";\n",
       "                var nbb_cells = Jupyter.notebook.get_cells();\n",
       "                for (var i = 0; i < nbb_cells.length; ++i) {\n",
       "                    if (nbb_cells[i].input_prompt_number == nbb_cell_id) {\n",
       "                        if (nbb_cells[i].get_text() == nbb_unformatted_code) {\n",
       "                             nbb_cells[i].set_text(nbb_formatted_code);\n",
       "                        }\n",
       "                        break;\n",
       "                    }\n",
       "                }\n",
       "            }, 500);\n",
       "            "
      ],
      "text/plain": [
       "<IPython.core.display.Javascript object>"
      ]
     },
     "metadata": {},
     "output_type": "display_data"
    }
   ],
   "source": [
    "review_text = \"However , the rapidly increasing costs and the strengthening of the euro were challenging for the whole industry , and they impacted on our results.\""
   ]
  },
  {
   "cell_type": "markdown",
   "id": "27e6b762",
   "metadata": {},
   "source": [
    "We have to use the tokenizer to encode the text:"
   ]
  },
  {
   "cell_type": "code",
   "execution_count": 78,
   "id": "4fbaa38f",
   "metadata": {},
   "outputs": [
    {
     "name": "stderr",
     "output_type": "stream",
     "text": [
      "Truncation was not explicitly activated but `max_length` is provided a specific value, please use `truncation=True` to explicitly truncate examples to max length. Defaulting to 'longest_first' truncation strategy. If you encode pairs of sequences (GLUE-style) with the tokenizer you can select this strategy more precisely by providing a specific strategy to `truncation`.\n",
      "/home/experts-vision/anaconda3/envs/py38_3/lib/python3.8/site-packages/transformers/tokenization_utils_base.py:2323: FutureWarning: The `pad_to_max_length` argument is deprecated and will be removed in a future version, use `padding=True` or `padding='longest'` to pad to the longest sequence in the batch, or use `padding='max_length'` to pad to a max length. In this case, you can give a specific length with `max_length` (e.g. `max_length=45`) or leave max_length to None to pad to the maximal input size of the model (e.g. 512 for Bert).\n",
      "  warnings.warn(\n"
     ]
    },
    {
     "data": {
      "application/javascript": [
       "\n",
       "            setTimeout(function() {\n",
       "                var nbb_cell_id = 78;\n",
       "                var nbb_unformatted_code = \"encoded_review = tokenizer.encode_plus(\\n  review_text,\\n  max_length=MAX_LEN,\\n  add_special_tokens=True,\\n  return_token_type_ids=False,\\n  pad_to_max_length=True,\\n  return_attention_mask=True,\\n  return_tensors='pt',\\n)\";\n",
       "                var nbb_formatted_code = \"encoded_review = tokenizer.encode_plus(\\n    review_text,\\n    max_length=MAX_LEN,\\n    add_special_tokens=True,\\n    return_token_type_ids=False,\\n    pad_to_max_length=True,\\n    return_attention_mask=True,\\n    return_tensors=\\\"pt\\\",\\n)\";\n",
       "                var nbb_cells = Jupyter.notebook.get_cells();\n",
       "                for (var i = 0; i < nbb_cells.length; ++i) {\n",
       "                    if (nbb_cells[i].input_prompt_number == nbb_cell_id) {\n",
       "                        if (nbb_cells[i].get_text() == nbb_unformatted_code) {\n",
       "                             nbb_cells[i].set_text(nbb_formatted_code);\n",
       "                        }\n",
       "                        break;\n",
       "                    }\n",
       "                }\n",
       "            }, 500);\n",
       "            "
      ],
      "text/plain": [
       "<IPython.core.display.Javascript object>"
      ]
     },
     "metadata": {},
     "output_type": "display_data"
    }
   ],
   "source": [
    "encoded_review = tokenizer.encode_plus(\n",
    "    review_text,\n",
    "    max_length=MAX_LEN,\n",
    "    add_special_tokens=True,\n",
    "    return_token_type_ids=False,\n",
    "    pad_to_max_length=True,\n",
    "    return_attention_mask=True,\n",
    "    return_tensors=\"pt\",\n",
    ")"
   ]
  },
  {
   "cell_type": "markdown",
   "id": "813b7175",
   "metadata": {},
   "source": [
    "Let's get the predictions from our model:"
   ]
  },
  {
   "cell_type": "code",
   "execution_count": 79,
   "id": "1678fc69",
   "metadata": {},
   "outputs": [
    {
     "name": "stdout",
     "output_type": "stream",
     "text": [
      "Review text: However , the rapidly increasing costs and the strengthening of the euro were challenging for the whole industry , and they impacted on our results.\n",
      "Sentiment  : negative\n"
     ]
    },
    {
     "data": {
      "application/javascript": [
       "\n",
       "            setTimeout(function() {\n",
       "                var nbb_cell_id = 79;\n",
       "                var nbb_unformatted_code = \"input_ids = encoded_review['input_ids'].to(device)\\nattention_mask = encoded_review['attention_mask'].to(device)\\n\\noutput = model(input_ids, attention_mask)\\n_, prediction = torch.max(output, dim=1)\\n\\nprint(f'Review text: {review_text}')\\nprint(f'Sentiment  : {class_names[prediction]}')\";\n",
       "                var nbb_formatted_code = \"input_ids = encoded_review[\\\"input_ids\\\"].to(device)\\nattention_mask = encoded_review[\\\"attention_mask\\\"].to(device)\\n\\noutput = model(input_ids, attention_mask)\\n_, prediction = torch.max(output, dim=1)\\n\\nprint(f\\\"Review text: {review_text}\\\")\\nprint(f\\\"Sentiment  : {class_names[prediction]}\\\")\";\n",
       "                var nbb_cells = Jupyter.notebook.get_cells();\n",
       "                for (var i = 0; i < nbb_cells.length; ++i) {\n",
       "                    if (nbb_cells[i].input_prompt_number == nbb_cell_id) {\n",
       "                        if (nbb_cells[i].get_text() == nbb_unformatted_code) {\n",
       "                             nbb_cells[i].set_text(nbb_formatted_code);\n",
       "                        }\n",
       "                        break;\n",
       "                    }\n",
       "                }\n",
       "            }, 500);\n",
       "            "
      ],
      "text/plain": [
       "<IPython.core.display.Javascript object>"
      ]
     },
     "metadata": {},
     "output_type": "display_data"
    }
   ],
   "source": [
    "input_ids = encoded_review[\"input_ids\"].to(device)\n",
    "attention_mask = encoded_review[\"attention_mask\"].to(device)\n",
    "\n",
    "output = model(input_ids, attention_mask)\n",
    "_, prediction = torch.max(output, dim=1)\n",
    "\n",
    "print(f\"Review text: {review_text}\")\n",
    "print(f\"Sentiment  : {class_names[prediction]}\")"
   ]
  },
  {
   "cell_type": "markdown",
   "id": "99ece06e",
   "metadata": {},
   "source": [
    "# Summary\n",
    "Nice job! You learned how to use BERT for sentiment analysis. You built a custom classifier using the Hugging Face library and trained it on our app reviews dataset!\n",
    "\n",
    "- [Read the tutorial](https://www.curiousily.com/posts/sentiment-analysis-with-bert-and-hugging-face-using-pytorch-and-python/)\n",
    "- [Run the notebook in your browser (Google Colab)](https://colab.research.google.com/drive/1PHv-IRLPCtv7oTcIGbsgZHqrB5LPvB7S)\n",
    "- [Read the Getting Things Done with Pytorch book](https://github.com/curiousily/Getting-Things-Done-with-Pytorch)\n",
    "\n",
    "You learned how to:\n",
    "\n",
    "- Intuitively understand what BERT is\n",
    "- Preprocess text data for BERT and build PyTorch Dataset (tokenization, attention masks, and padding)\n",
    "- Use Transfer Learning to build Sentiment Classifier using the Transformers library by Hugging Face\n",
    "- Evaluate the model on test data\n",
    "- Predict sentiment on raw text\n",
    "\n",
    "Next, we'll learn how to deploy our trained model behind a REST API and build a simple web app to access it."
   ]
  },
  {
   "cell_type": "markdown",
   "id": "626dc53f",
   "metadata": {},
   "source": [
    "# References\n",
    "\n",
    "- [BERT: Pre-training of Deep Bidirectional Transformers for Language Understanding](https://arxiv.org/abs/1810.04805)\n",
    "- [L11 Language Models - Alec Radford (OpenAI)](https://www.youtube.com/watch?v=BnpB3GrpsfM)\n",
    "- [The Illustrated BERT, ELMo, and co.](https://jalammar.github.io/illustrated-bert/)\n",
    "- [BERT Fine-Tuning Tutorial with PyTorch](https://mccormickml.com/2019/07/22/BERT-fine-tuning/)\n",
    "- [How to Fine-Tune BERT for Text Classification?](https://arxiv.org/pdf/1905.05583.pdf)\n",
    "- [Huggingface Transformers](https://huggingface.co/transformers/)\n",
    "- [BERT Explained: State of the art language model for NLP](https://towardsdatascience.com/bert-explained-state-of-the-art-language-model-for-nlp-f8b21a9b6270)"
   ]
  },
  {
   "cell_type": "code",
   "execution_count": null,
   "id": "cf77b46e",
   "metadata": {},
   "outputs": [],
   "source": []
  }
 ],
 "metadata": {
  "kernelspec": {
   "display_name": "Python 3 (ipykernel)",
   "language": "python",
   "name": "python3"
  },
  "language_info": {
   "codemirror_mode": {
    "name": "ipython",
    "version": 3
   },
   "file_extension": ".py",
   "mimetype": "text/x-python",
   "name": "python",
   "nbconvert_exporter": "python",
   "pygments_lexer": "ipython3",
   "version": "3.8.0"
  }
 },
 "nbformat": 4,
 "nbformat_minor": 5
}
