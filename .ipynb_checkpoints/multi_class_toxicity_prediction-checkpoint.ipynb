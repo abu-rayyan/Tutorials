{
 "cells": [
  {
   "cell_type": "code",
   "execution_count": 1,
   "id": "764ba37d",
   "metadata": {},
   "outputs": [
    {
     "name": "stdout",
     "output_type": "stream",
     "text": [
      "Requirement already satisfied: gdown in /home/hafsa/anaconda3/envs/py37/lib/python3.7/site-packages (4.5.1)\n",
      "Requirement already satisfied: tqdm in /home/hafsa/anaconda3/envs/py37/lib/python3.7/site-packages (from gdown) (4.59.0)\n",
      "Requirement already satisfied: filelock in /home/hafsa/anaconda3/envs/py37/lib/python3.7/site-packages (from gdown) (3.0.12)\n",
      "Requirement already satisfied: requests[socks] in /home/hafsa/anaconda3/envs/py37/lib/python3.7/site-packages (from gdown) (2.25.1)\n",
      "Requirement already satisfied: beautifulsoup4 in /home/hafsa/anaconda3/envs/py37/lib/python3.7/site-packages (from gdown) (4.9.3)\n",
      "Requirement already satisfied: six in /home/hafsa/anaconda3/envs/py37/lib/python3.7/site-packages (from gdown) (1.15.0)\n",
      "Requirement already satisfied: soupsieve>1.2 in /home/hafsa/anaconda3/envs/py37/lib/python3.7/site-packages (from beautifulsoup4->gdown) (2.2.1)\n",
      "Requirement already satisfied: certifi>=2017.4.17 in /home/hafsa/anaconda3/envs/py37/lib/python3.7/site-packages (from requests[socks]->gdown) (2021.10.8)\n",
      "Requirement already satisfied: idna<3,>=2.5 in /home/hafsa/anaconda3/envs/py37/lib/python3.7/site-packages (from requests[socks]->gdown) (2.10)\n",
      "Requirement already satisfied: chardet<5,>=3.0.2 in /home/hafsa/anaconda3/envs/py37/lib/python3.7/site-packages (from requests[socks]->gdown) (4.0.0)\n",
      "Requirement already satisfied: urllib3<1.27,>=1.21.1 in /home/hafsa/anaconda3/envs/py37/lib/python3.7/site-packages (from requests[socks]->gdown) (1.26.4)\n",
      "Requirement already satisfied: PySocks!=1.5.7,>=1.5.6 in /home/hafsa/anaconda3/envs/py37/lib/python3.7/site-packages (from requests[socks]->gdown) (1.7.1)\n"
     ]
    }
   ],
   "source": [
    "try:\n",
    "    import pytorch_lightning\n",
    "except ImportError as e:\n",
    "    print ('Installing PyTorch')\n",
    "    !pip install pytorch-lightning==1.2.8 --quiet # module doesn't exist, deal with it.\n",
    "\n",
    "    \n",
    "try:\n",
    "    import transformers\n",
    "except ImportError as e:\n",
    "    print ('Installing Transformers')\n",
    "    !pip install transformers==4.5.1 --quiet --quiet # module doesn't exist, deal with it.\n",
    "\n",
    "\n",
    "!pip install gdown"
   ]
  },
  {
   "cell_type": "markdown",
   "id": "253a7cf8",
   "metadata": {},
   "source": [
    "# Multi-class classification of text for toxity types detection using BERT and PyTorch"
   ]
  },
  {
   "cell_type": "markdown",
   "id": "19e758ac",
   "metadata": {},
   "source": [
    "Multi-label text classification (or tagging text) is one of the most common tasks you'll encounter when doing NLP. Modern Transformer-based models (like BERT) make use of pre-training on vast amounts of text data that makes fine-tuning faster, use fewer resources and more accurate on small(er) datasets.\n",
    "\n",
    "In this tutorial, you'll learn how to:\n",
    "\n",
    "- Load, balance and split text data into sets\n",
    "- Tokenize text (with BERT tokenizer) and create PyTorch dataset\n",
    "- Fine-tune BERT model with PyTorch Lightning\n",
    "- Find out about warmup steps and use a learning rate scheduler\n",
    "- Use area under the ROC and binary cross-entropy to evaluate the model during training\n",
    "- How to make predictions using the fine-tuned BERT model\n",
    "- Evaluate the performance of the model for each class (possible comment tag)\n",
    "\n",
    "Will our model be any good for toxic text detection?\n",
    "\n",
    "- Read the tutorial\n",
    "- [Run the notebook in your browser (Google Colab)](https://colab.research.google.com/drive/14Ea4lIzsn5EFvPpYKtWStXEByT9qmbkj?usp=sharing)\n",
    "- [Read the *Getting Things Done with Pytorch* book](https://github.com/curiousily/Getting-Things-Done-with-Pytorch)"
   ]
  },
  {
   "cell_type": "code",
   "execution_count": 2,
   "id": "608d49bf",
   "metadata": {},
   "outputs": [
    {
     "name": "stderr",
     "output_type": "stream",
     "text": [
      "Global seed set to 42\n"
     ]
    },
    {
     "data": {
      "text/plain": [
       "42"
      ]
     },
     "execution_count": 2,
     "metadata": {},
     "output_type": "execute_result"
    }
   ],
   "source": [
    "import pandas as pd\n",
    "import numpy as np\n",
    "import os\n",
    "\n",
    "from tqdm.auto import tqdm\n",
    "\n",
    "\n",
    "import torch.nn as nn\n",
    "from torch.utils.data import Dataset, DataLoader\n",
    "\n",
    "from transformers import BertTokenizerFast as BertTokenizer, BertModel, AdamW, get_linear_schedule_with_warmup\n",
    "\n",
    "import pytorch_lightning as pl\n",
    "from pytorch_lightning.metrics.functional import accuracy, f1, auroc\n",
    "from pytorch_lightning.callbacks import ModelCheckpoint, EarlyStopping\n",
    "from pytorch_lightning.loggers import TensorBoardLogger\n",
    "\n",
    "from sklearn.model_selection import train_test_split\n",
    "from sklearn.metrics import classification_report, multilabel_confusion_matrix\n",
    "\n",
    "import seaborn as sns\n",
    "from pylab import rcParams\n",
    "import matplotlib.pyplot as plt\n",
    "from matplotlib import rc\n",
    "\n",
    "%matplotlib inline\n",
    "%config InlineBackend.figure_format='retina'\n",
    "\n",
    "RANDOM_SEED = 42\n",
    "\n",
    "sns.set(style='whitegrid', palette='muted', font_scale=1.2)\n",
    "HAPPY_COLORS_PALETTE = [\"#01BEFE\", \"#FFDD00\", \"#FF7D00\", \"#FF006D\", \"#ADFF02\", \"#8F00FF\"]\n",
    "sns.set_palette(sns.color_palette(HAPPY_COLORS_PALETTE))\n",
    "rcParams['figure.figsize'] = 12, 8\n",
    "\n",
    "pl.seed_everything(RANDOM_SEED)"
   ]
  },
  {
   "cell_type": "code",
   "execution_count": 3,
   "id": "e2634950",
   "metadata": {},
   "outputs": [],
   "source": [
    "data_folder=\"data\"\n",
    "check_existance = os.path.exists(data_folder)\n",
    "\n",
    "if not check_existance:\n",
    "  \n",
    "  # Create a new directory because it does not exist \n",
    "  os.makedirs(data_folder)\n",
    "  print(\"The new directory is created!\")\n",
    "    \n",
    "file_name='data/toxicity_data.csv'"
   ]
  },
  {
   "cell_type": "code",
   "execution_count": 4,
   "id": "8996aec8",
   "metadata": {},
   "outputs": [],
   "source": [
    "if os.path.exists(file_name):\n",
    "    pass\n",
    "else:\n",
    "    !gdown  -O 'data/toxicity_data.csv' 1jAYm3s71YxEcoO8vNPdwAw7T1uxgX5ss"
   ]
  },
  {
   "cell_type": "code",
   "execution_count": 5,
   "id": "d5c31417",
   "metadata": {},
   "outputs": [
    {
     "data": {
      "text/html": [
       "<div>\n",
       "<style scoped>\n",
       "    .dataframe tbody tr th:only-of-type {\n",
       "        vertical-align: middle;\n",
       "    }\n",
       "\n",
       "    .dataframe tbody tr th {\n",
       "        vertical-align: top;\n",
       "    }\n",
       "\n",
       "    .dataframe thead th {\n",
       "        text-align: right;\n",
       "    }\n",
       "</style>\n",
       "<table border=\"1\" class=\"dataframe\">\n",
       "  <thead>\n",
       "    <tr style=\"text-align: right;\">\n",
       "      <th></th>\n",
       "      <th>id</th>\n",
       "      <th>comment_text</th>\n",
       "      <th>toxic</th>\n",
       "      <th>severe_toxic</th>\n",
       "      <th>obscene</th>\n",
       "      <th>threat</th>\n",
       "      <th>insult</th>\n",
       "      <th>identity_hate</th>\n",
       "    </tr>\n",
       "  </thead>\n",
       "  <tbody>\n",
       "    <tr>\n",
       "      <th>0</th>\n",
       "      <td>0000997932d777bf</td>\n",
       "      <td>Explanation\\nWhy the edits made under my usern...</td>\n",
       "      <td>0</td>\n",
       "      <td>0</td>\n",
       "      <td>0</td>\n",
       "      <td>0</td>\n",
       "      <td>0</td>\n",
       "      <td>0</td>\n",
       "    </tr>\n",
       "    <tr>\n",
       "      <th>1</th>\n",
       "      <td>000103f0d9cfb60f</td>\n",
       "      <td>D'aww! He matches this background colour I'm s...</td>\n",
       "      <td>0</td>\n",
       "      <td>0</td>\n",
       "      <td>0</td>\n",
       "      <td>0</td>\n",
       "      <td>0</td>\n",
       "      <td>0</td>\n",
       "    </tr>\n",
       "    <tr>\n",
       "      <th>2</th>\n",
       "      <td>000113f07ec002fd</td>\n",
       "      <td>Hey man, I'm really not trying to edit war. It...</td>\n",
       "      <td>0</td>\n",
       "      <td>0</td>\n",
       "      <td>0</td>\n",
       "      <td>0</td>\n",
       "      <td>0</td>\n",
       "      <td>0</td>\n",
       "    </tr>\n",
       "    <tr>\n",
       "      <th>3</th>\n",
       "      <td>0001b41b1c6bb37e</td>\n",
       "      <td>\"\\nMore\\nI can't make any real suggestions on ...</td>\n",
       "      <td>0</td>\n",
       "      <td>0</td>\n",
       "      <td>0</td>\n",
       "      <td>0</td>\n",
       "      <td>0</td>\n",
       "      <td>0</td>\n",
       "    </tr>\n",
       "    <tr>\n",
       "      <th>4</th>\n",
       "      <td>0001d958c54c6e35</td>\n",
       "      <td>You, sir, are my hero. Any chance you remember...</td>\n",
       "      <td>0</td>\n",
       "      <td>0</td>\n",
       "      <td>0</td>\n",
       "      <td>0</td>\n",
       "      <td>0</td>\n",
       "      <td>0</td>\n",
       "    </tr>\n",
       "    <tr>\n",
       "      <th>5</th>\n",
       "      <td>00025465d4725e87</td>\n",
       "      <td>\"\\n\\nCongratulations from me as well, use the ...</td>\n",
       "      <td>0</td>\n",
       "      <td>0</td>\n",
       "      <td>0</td>\n",
       "      <td>0</td>\n",
       "      <td>0</td>\n",
       "      <td>0</td>\n",
       "    </tr>\n",
       "    <tr>\n",
       "      <th>6</th>\n",
       "      <td>0002bcb3da6cb337</td>\n",
       "      <td>COCKSUCKER BEFORE YOU PISS AROUND ON MY WORK</td>\n",
       "      <td>1</td>\n",
       "      <td>1</td>\n",
       "      <td>1</td>\n",
       "      <td>0</td>\n",
       "      <td>1</td>\n",
       "      <td>0</td>\n",
       "    </tr>\n",
       "    <tr>\n",
       "      <th>7</th>\n",
       "      <td>00031b1e95af7921</td>\n",
       "      <td>Your vandalism to the Matt Shirvington article...</td>\n",
       "      <td>0</td>\n",
       "      <td>0</td>\n",
       "      <td>0</td>\n",
       "      <td>0</td>\n",
       "      <td>0</td>\n",
       "      <td>0</td>\n",
       "    </tr>\n",
       "    <tr>\n",
       "      <th>8</th>\n",
       "      <td>00037261f536c51d</td>\n",
       "      <td>Sorry if the word 'nonsense' was offensive to ...</td>\n",
       "      <td>0</td>\n",
       "      <td>0</td>\n",
       "      <td>0</td>\n",
       "      <td>0</td>\n",
       "      <td>0</td>\n",
       "      <td>0</td>\n",
       "    </tr>\n",
       "    <tr>\n",
       "      <th>9</th>\n",
       "      <td>00040093b2687caa</td>\n",
       "      <td>alignment on this subject and which are contra...</td>\n",
       "      <td>0</td>\n",
       "      <td>0</td>\n",
       "      <td>0</td>\n",
       "      <td>0</td>\n",
       "      <td>0</td>\n",
       "      <td>0</td>\n",
       "    </tr>\n",
       "  </tbody>\n",
       "</table>\n",
       "</div>"
      ],
      "text/plain": [
       "                 id                                       comment_text  toxic  \\\n",
       "0  0000997932d777bf  Explanation\\nWhy the edits made under my usern...      0   \n",
       "1  000103f0d9cfb60f  D'aww! He matches this background colour I'm s...      0   \n",
       "2  000113f07ec002fd  Hey man, I'm really not trying to edit war. It...      0   \n",
       "3  0001b41b1c6bb37e  \"\\nMore\\nI can't make any real suggestions on ...      0   \n",
       "4  0001d958c54c6e35  You, sir, are my hero. Any chance you remember...      0   \n",
       "5  00025465d4725e87  \"\\n\\nCongratulations from me as well, use the ...      0   \n",
       "6  0002bcb3da6cb337       COCKSUCKER BEFORE YOU PISS AROUND ON MY WORK      1   \n",
       "7  00031b1e95af7921  Your vandalism to the Matt Shirvington article...      0   \n",
       "8  00037261f536c51d  Sorry if the word 'nonsense' was offensive to ...      0   \n",
       "9  00040093b2687caa  alignment on this subject and which are contra...      0   \n",
       "\n",
       "   severe_toxic  obscene  threat  insult  identity_hate  \n",
       "0             0        0       0       0              0  \n",
       "1             0        0       0       0              0  \n",
       "2             0        0       0       0              0  \n",
       "3             0        0       0       0              0  \n",
       "4             0        0       0       0              0  \n",
       "5             0        0       0       0              0  \n",
       "6             1        1       0       1              0  \n",
       "7             0        0       0       0              0  \n",
       "8             0        0       0       0              0  \n",
       "9             0        0       0       0              0  "
      ]
     },
     "execution_count": 5,
     "metadata": {},
     "output_type": "execute_result"
    }
   ],
   "source": [
    "df = pd.read_csv(file_name)\n",
    "df.head(10)"
   ]
  },
  {
   "cell_type": "markdown",
   "id": "d6697ac1",
   "metadata": {},
   "source": [
    "### Split into training and validation"
   ]
  },
  {
   "cell_type": "markdown",
   "id": "586345f6",
   "metadata": {},
   "source": [
    "Let's divide data into training and validation:"
   ]
  },
  {
   "cell_type": "code",
   "execution_count": 6,
   "id": "5bfbbc2b",
   "metadata": {},
   "outputs": [
    {
     "data": {
      "text/plain": [
       "((127656, 8), (31915, 8))"
      ]
     },
     "execution_count": 6,
     "metadata": {},
     "output_type": "execute_result"
    }
   ],
   "source": [
    "train_df, val_df = train_test_split(df, test_size=0.2)\n",
    "train_df.shape, val_df.shape"
   ]
  },
  {
   "cell_type": "markdown",
   "id": "a0336cd9",
   "metadata": {},
   "source": [
    "# Data Analysis"
   ]
  },
  {
   "cell_type": "markdown",
   "id": "b3ef065f",
   "metadata": {},
   "source": [
    "Let's look at the distribution of the labels:"
   ]
  },
  {
   "cell_type": "code",
   "execution_count": 7,
   "id": "7153460c",
   "metadata": {},
   "outputs": [
    {
     "data": {
      "image/png": "[encoded data removed]",
      "text/plain": [
       "<Figure size 864x576 with 1 Axes>"
      ]
     },
     "metadata": {
      "image/png": {
       "height": 471,
       "width": 798
      }
     },
     "output_type": "display_data"
    }
   ],
   "source": [
    "cols = df.columns.tolist()[2:]\n",
    "df[cols].sum().sort_values().plot(kind=\"barh\");"
   ]
  },
  {
   "cell_type": "markdown",
   "id": "4871aee1",
   "metadata": {},
   "source": [
    "It is evident from the above plot that this data is highly imbalanced. \n",
    "Let's see the ratio of toxic vs non-toxic data:"
   ]
  },
  {
   "cell_type": "code",
   "execution_count": 8,
   "id": "d3a7cc64",
   "metadata": {},
   "outputs": [
    {
     "data": {
      "image/png": "[encoded data removed]",
      "text/plain": [
       "<Figure size 864x576 with 1 Axes>"
      ]
     },
     "metadata": {
      "image/png": {
       "height": 471,
       "width": 724
      }
     },
     "output_type": "display_data"
    }
   ],
   "source": [
    "train_toxic = train_df[train_df[cols].sum(axis=1) > 0]\n",
    "train_clean = train_df[train_df[cols].sum(axis=1) == 0]\n",
    "\n",
    "pd.DataFrame(dict(\n",
    "  toxic=[len(train_toxic)], \n",
    "  clean=[len(train_clean)]\n",
    ")).plot(kind='barh');"
   ]
  },
  {
   "cell_type": "markdown",
   "id": "76f8001f",
   "metadata": {},
   "source": [
    "Again, we have a severe imbalance in favor of the clean comments. Now there are differnet techniques to deal with imbalance data but since purpose of this tutorial is not to go into details of such methods so we will simply downsample the non-toxic data samples. We will sample 15,000 examples from the clean comments and create a new training set:"
   ]
  },
  {
   "cell_type": "code",
   "execution_count": 9,
   "id": "37e4741d",
   "metadata": {},
   "outputs": [
    {
     "data": {
      "text/plain": [
       "((27981, 8), (31915, 8))"
      ]
     },
     "execution_count": 9,
     "metadata": {},
     "output_type": "execute_result"
    }
   ],
   "source": [
    "train_df = pd.concat([\n",
    "  train_toxic,\n",
    "  train_clean.sample(15_000)\n",
    "])\n",
    "\n",
    "train_df.shape, val_df.shape"
   ]
  },
  {
   "cell_type": "markdown",
   "id": "e29e1f62",
   "metadata": {},
   "source": [
    "## Tokenization\n",
    "\n",
    "We need to convert the raw text into a list of tokens. For that, we'll use the built-in BertTokenizer:"
   ]
  },
  {
   "cell_type": "code",
   "execution_count": 10,
   "id": "61cdd4a4",
   "metadata": {},
   "outputs": [],
   "source": [
    "BERT_MODEL_NAME = 'bert-base-cased'\n",
    "tokenizer = BertTokenizer.from_pretrained(BERT_MODEL_NAME)"
   ]
  },
  {
   "cell_type": "code",
   "execution_count": 11,
   "id": "f06ff088",
   "metadata": {},
   "outputs": [
    {
     "name": "stdout",
     "output_type": "stream",
     "text": [
      "Explanation\n",
      "Why the edits made under my username Hardcore Metallica Fan were reverted? They weren't vandalisms, just closure on some GAs after I voted at New York Dolls FAC. And please don't remove the template from the talk page since I'm retired now.89.205.38.27\n",
      "\n",
      "{'toxic': 0, 'severe_toxic': 0, 'obscene': 0, 'threat': 0, 'insult': 0, 'identity_hate': 0}\n"
     ]
    }
   ],
   "source": [
    "sample_row = df.iloc[0]\n",
    "sample_comment = sample_row.comment_text\n",
    "sample_labels = sample_row[cols]\n",
    "\n",
    "print(sample_comment)\n",
    "print()\n",
    "print(sample_labels.to_dict())"
   ]
  },
  {
   "cell_type": "code",
   "execution_count": 12,
   "id": "547a487e",
   "metadata": {},
   "outputs": [
    {
     "data": {
      "text/plain": [
       "dict_keys(['input_ids', 'attention_mask'])"
      ]
     },
     "execution_count": 12,
     "metadata": {},
     "output_type": "execute_result"
    }
   ],
   "source": [
    "encoding = tokenizer.encode_plus(\n",
    "  sample_comment,\n",
    "  add_special_tokens=True,\n",
    "  max_length=512,\n",
    "  return_token_type_ids=False,\n",
    "  padding=\"max_length\",\n",
    "  return_attention_mask=True,\n",
    "  return_tensors='pt',\n",
    ")\n",
    "\n",
    "encoding.keys()"
   ]
  },
  {
   "cell_type": "code",
   "execution_count": 13,
   "id": "5277cd13",
   "metadata": {},
   "outputs": [
    {
     "data": {
      "text/plain": [
       "(torch.Size([1, 512]), torch.Size([1, 512]))"
      ]
     },
     "execution_count": 13,
     "metadata": {},
     "output_type": "execute_result"
    }
   ],
   "source": [
    "encoding[\"input_ids\"].shape, encoding[\"attention_mask\"].shape"
   ]
  },
  {
   "cell_type": "markdown",
   "id": "8c348ecc",
   "metadata": {},
   "source": [
    "The result of the encoding is a dictionary with token ids `input_ids` and an attention mask `attention_mask` (which tokens should be used by the model 1 - use or 0 - don't use).\n",
    "\n",
    "Let's look at their contents:"
   ]
  },
  {
   "cell_type": "code",
   "execution_count": 17,
   "id": "460ab43c",
   "metadata": {},
   "outputs": [
    {
     "data": {
      "text/plain": [
       "tensor([  101, 16409,  1643, 20592,  2116,  2009,  1103, 14609,  1116,  1189,\n",
       "         1223,  1139,  4795, 16124,  9322,  9475,  9953,  9538, 16061,  1127,\n",
       "        17464,   136,  1220,  3920,   112,   189,  3498,  6919, 16762,   117,\n",
       "         1198,  8354,  1113,  1199, 20173,  1116,  1170,   146,  4751,  1120,\n",
       "         1203,  1365, 25137,  1116,  6820,  1658,   119,  1262,  4268,  1274])"
      ]
     },
     "execution_count": 17,
     "metadata": {},
     "output_type": "execute_result"
    }
   ],
   "source": [
    "encoding[\"input_ids\"].squeeze()[:50]"
   ]
  },
  {
   "cell_type": "code",
   "execution_count": 18,
   "id": "a819d817",
   "metadata": {},
   "outputs": [
    {
     "data": {
      "text/plain": [
       "tensor([1, 1, 1, 1, 1, 1, 1, 1, 1, 1, 1, 1, 1, 1, 1, 1, 1, 1, 1, 1, 1, 1, 1, 1,\n",
       "        1, 1, 1, 1, 1, 1, 1, 1, 1, 1, 1, 1, 1, 1, 1, 1, 1, 1, 1, 1, 1, 1, 1, 1,\n",
       "        1, 1])"
      ]
     },
     "execution_count": 18,
     "metadata": {},
     "output_type": "execute_result"
    }
   ],
   "source": [
    "encoding[\"attention_mask\"].squeeze()[:50]"
   ]
  },
  {
   "cell_type": "markdown",
   "id": "09cc7cca",
   "metadata": {},
   "source": [
    "We can also inverse the tokenization and get back the words from the token ids:"
   ]
  },
  {
   "cell_type": "code",
   "execution_count": 22,
   "id": "5948fb99",
   "metadata": {},
   "outputs": [
    {
     "name": "stdout",
     "output_type": "stream",
     "text": [
      "['[CLS]', 'Ex', '##p', '##lana', '##tion', 'Why', 'the', 'edit', '##s', 'made', 'under', 'my', 'user', '##name', 'Hard', '##core', 'Metal', '##lica', 'Fan', 'were', 'reverted', '?', 'They', 'weren', \"'\", 't', 'van', '##dal', '##isms', ',', 'just', 'closure', 'on', 'some', 'GA', '##s', 'after', 'I', 'voted', 'at', 'New', 'York', 'Doll', '##s', 'FA', '##C', '.', 'And', 'please', 'don']\n"
     ]
    }
   ],
   "source": [
    "print(tokenizer.convert_ids_to_tokens(encoding[\"input_ids\"].squeeze())[:50])"
   ]
  },
  {
   "cell_type": "markdown",
   "id": "a47420af",
   "metadata": {},
   "source": [
    "BERT use three embeddings to compute the input representations. They are token embeddings, segment embeddings and position embeddings. “CLS” is the reserved token to represent the start of sequence while “SEP” separate segment (or sentence)"
   ]
  },
  {
   "cell_type": "code",
   "execution_count": 23,
   "id": "a35b6870",
   "metadata": {},
   "outputs": [
    {
     "name": "stdout",
     "output_type": "stream",
     "text": [
      "['[CLS]', 'Ex', '##p', '##lana', '##tion', 'Why', 'the', 'edit', '##s', 'made', 'under', 'my', 'user', '##name', 'Hard', '##core', 'Metal', '##lica', 'Fan', 'were', 'reverted', '?', 'They', 'weren', \"'\", 't', 'van', '##dal', '##isms', ',', 'just', 'closure', 'on', 'some', 'GA', '##s', 'after', 'I', 'voted', 'at', 'New', 'York', 'Doll', '##s', 'FA', '##C', '.', 'And', 'please', 'don', \"'\", 't', 'remove', 'the', 'template', 'from', 'the', 'talk', 'page', 'since', 'I', \"'\", 'm', 'retired', 'now', '.', '89', '.', '205', '.', '38', '.', '27', '[SEP]', '[PAD]', '[PAD]', '[PAD]', '[PAD]', '[PAD]', '[PAD]', '[PAD]', '[PAD]', '[PAD]', '[PAD]', '[PAD]', '[PAD]', '[PAD]', '[PAD]', '[PAD]', '[PAD]', '[PAD]', '[PAD]', '[PAD]', '[PAD]', '[PAD]', '[PAD]', '[PAD]', '[PAD]', '[PAD]', '[PAD]']\n"
     ]
    }
   ],
   "source": [
    "print(tokenizer.convert_ids_to_tokens(encoding[\"input_ids\"].squeeze())[:100])"
   ]
  },
  {
   "cell_type": "markdown",
   "id": "177e48fb",
   "metadata": {},
   "source": [
    "We can see that when we tried to see 100 tokens, it appended 'PAD' as total number of tokens were less than 100. "
   ]
  },
  {
   "cell_type": "code",
   "execution_count": null,
   "id": "82615810",
   "metadata": {},
   "outputs": [],
   "source": []
  }
 ],
 "metadata": {
  "kernelspec": {
   "display_name": "Python 3",
   "language": "python",
   "name": "python3"
  },
  "language_info": {
   "codemirror_mode": {
    "name": "ipython",
    "version": 3
   },
   "file_extension": ".py",
   "mimetype": "text/x-python",
   "name": "python",
   "nbconvert_exporter": "python",
   "pygments_lexer": "ipython3",
   "version": "3.7.10"
  }
 },
 "nbformat": 4,
 "nbformat_minor": 5
}
