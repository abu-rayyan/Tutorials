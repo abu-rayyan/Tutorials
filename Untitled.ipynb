{
 "cells": [
  {
   "cell_type": "code",
   "execution_count": 1,
   "id": "3c6e92d4",
   "metadata": {},
   "outputs": [],
   "source": [
    "!pip install -q -U torch watermark"
   ]
  },
  {
   "cell_type": "markdown",
   "id": "31161a4e",
   "metadata": {},
   "source": [
    "Pytorch is an open source machine learning framework that accelerates the path from research prototyping to production deployment."
   ]
  },
  {
   "cell_type": "markdown",
   "id": "2986c94b",
   "metadata": {},
   "source": [
    "## PyTorch ❤ NumPy\n",
    "\n",
    "Pytorch is similar to Numpy. If you have good skills in Numpy then Pytorch will be a piece of cake for you. If not, don't worry, you will learn along the way!!\n",
    "\n",
    "Let's start with something simple:"
   ]
  },
  {
   "cell_type": "code",
   "execution_count": 2,
   "id": "f7b7d47b",
   "metadata": {},
   "outputs": [],
   "source": [
    "import torch\n",
    "import numpy as np"
   ]
  },
  {
   "cell_type": "code",
   "execution_count": 3,
   "id": "9e36e564",
   "metadata": {},
   "outputs": [],
   "source": [
    "x = np.array([1, 2])\n",
    "y = np.array([3, 4])"
   ]
  },
  {
   "cell_type": "code",
   "execution_count": 6,
   "id": "86433c19",
   "metadata": {},
   "outputs": [
    {
     "data": {
      "text/plain": [
       "(array([1, 2]), array([3, 4]))"
      ]
     },
     "execution_count": 6,
     "metadata": {},
     "output_type": "execute_result"
    }
   ],
   "source": [
    "x, y"
   ]
  },
  {
   "cell_type": "code",
   "execution_count": 7,
   "id": "46268451",
   "metadata": {},
   "outputs": [
    {
     "data": {
      "text/plain": [
       "array([4, 6])"
      ]
     },
     "execution_count": 7,
     "metadata": {},
     "output_type": "execute_result"
    }
   ],
   "source": [
    "z=x+y\n",
    "z"
   ]
  },
  {
   "cell_type": "markdown",
   "id": "b923e53a",
   "metadata": {},
   "source": [
    "Now let's do the same thing using Pytorch!!"
   ]
  },
  {
   "cell_type": "code",
   "execution_count": 8,
   "id": "23b79e14",
   "metadata": {},
   "outputs": [
    {
     "data": {
      "text/plain": [
       "(tensor([1, 2]), tensor([3, 4]))"
      ]
     },
     "execution_count": 8,
     "metadata": {},
     "output_type": "execute_result"
    }
   ],
   "source": [
    "x = torch.tensor([1, 2])\n",
    "y = torch.tensor([3, 4])\n",
    "x, y"
   ]
  },
  {
   "cell_type": "markdown",
   "id": "5733c20a",
   "metadata": {},
   "source": [
    "Now we can simply add these 2 just like we did in the case of Numpy arrays."
   ]
  },
  {
   "cell_type": "code",
   "execution_count": 14,
   "id": "3c79afb6",
   "metadata": {},
   "outputs": [
    {
     "data": {
      "text/plain": [
       "tensor([4, 6])"
      ]
     },
     "execution_count": 14,
     "metadata": {},
     "output_type": "execute_result"
    }
   ],
   "source": [
    "z=x+y\n",
    "z"
   ]
  },
  {
   "cell_type": "markdown",
   "id": "7957f6ec",
   "metadata": {},
   "source": [
    "### Convert from PyTorch to Numpy and vice versa."
   ]
  },
  {
   "cell_type": "code",
   "execution_count": 15,
   "id": "0a2d0426",
   "metadata": {},
   "outputs": [
    {
     "data": {
      "text/plain": [
       "array([4, 6])"
      ]
     },
     "execution_count": 15,
     "metadata": {},
     "output_type": "execute_result"
    }
   ],
   "source": [
    "z=z.numpy()\n",
    "z"
   ]
  },
  {
   "cell_type": "code",
   "execution_count": 16,
   "id": "fbc86d4a",
   "metadata": {},
   "outputs": [
    {
     "data": {
      "text/plain": [
       "tensor([4, 6])"
      ]
     },
     "execution_count": 16,
     "metadata": {},
     "output_type": "execute_result"
    }
   ],
   "source": [
    "z=torch.from_numpy(z)\n",
    "z"
   ]
  },
  {
   "cell_type": "markdown",
   "id": "db347446",
   "metadata": {},
   "source": [
    "The good news is that the conversions incur almost no cost on the performance of your app. The NumPy and PyTorch store data in memory in the same way. That is, PyTorch is reusing the work done by NumPy.\n",
    "\n",
    "## Tensors\n",
    "\n",
    "Tensors are just n-dimensional number (including booleans) containers. YOu can get more details about Tensor at at [PyTorch's Tensor Docs](https://pytorch.org/docs/stable/tensors.html).\n",
    "\n",
    "So, how can you create a Tensor (try to ignore that I've already shown you how to do it)?"
   ]
  },
  {
   "cell_type": "code",
   "execution_count": null,
   "id": "3fc8882f",
   "metadata": {},
   "outputs": [],
   "source": []
  }
 ],
 "metadata": {
  "kernelspec": {
   "display_name": "Python 3",
   "language": "python",
   "name": "python3"
  },
  "language_info": {
   "codemirror_mode": {
    "name": "ipython",
    "version": 3
   },
   "file_extension": ".py",
   "mimetype": "text/x-python",
   "name": "python",
   "nbconvert_exporter": "python",
   "pygments_lexer": "ipython3",
   "version": "3.7.10"
  }
 },
 "nbformat": 4,
 "nbformat_minor": 5
}
