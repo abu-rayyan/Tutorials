{
  "cells": [
    {
      "cell_type": "markdown",
      "metadata": {
        "id": "qHPugAkoYxlu"
      },
      "source": [
        "# **PPE Detection Using Yolov7**"
      ]
    },
    {
      "cell_type": "markdown",
      "metadata": {
        "id": "IJmqqfg0dvj8"
      },
      "source": [
        "Since its inception, the YOLO family of object detection models has come a long way. YOLOv7 is the most recent addition to this famous anchor-based single-shot family of object detectors. It comes with a bunch of improvements which include state-of-the-art accuracy and speed.  In this notebook, we will be fine tuning the YOLOv7 object detection model on a real-world Construction Safety.\n",
        "\n",
        "Benchmarked on the COCO dataset, the YOLOv7 tiny model achieves more than 35% mAP and the YOLOv7 (normal) model achieves more than 51% mAP. It is also equally important that we get good results when fine tuning such a state-of-the-art model. For that reason, we will be fine tuning YOLOv7 on a real-world Construction Safety dataset in this project."
      ]
    },
    {
      "cell_type": "markdown",
      "metadata": {
        "id": "h_xf-Ik8gGi2"
      },
      "source": [
        "# Step 1: Prepare the Dataset\n",
        "To get your object detector up and running, you must first collect training photographs. You should think carefully about the activity you are attempting to complete and plan ahead of time for the components of the task that your model may find difficult. To improve the accuracy of your final model, I recommend reducing the domain that your model must handle as much as feasible.\n",
        "\n",
        "For YOLOv7 custom training, we need to develop a dataset. If you don’t have any data, you can use the [openimages](https://storage.googleapis.com/openimages/web/index.html) database."
      ]
    },
    {
      "cell_type": "markdown",
      "metadata": {
        "id": "wipUWvqdiCMN"
      },
      "source": [
        "# Step 2: Annotating the Dataset\n",
        "Use LabelImg or any annotation tool like [Roboflow](https://roboflow.com/)  to annotate the dataset. Create a file with the same name as the image and the annotation text.\n",
        "\n",
        "Prepare a set, for example, corresponding to\n",
        "\n",
        "images_0.jpg\n",
        "images_0.txt"
      ]
    },
    {
      "cell_type": "markdown",
      "metadata": {
        "id": "CUH2SGtsiNJv"
      },
      "source": [
        "# Step 3: Split Dataset\n",
        "After you’ve tagged your data, we’ll divide it into train and test folders. The split ratio will be determined by the user, however the most common split is (80-20) percent, which implies that 80 percent of the data is utilized for training and 20 percent for testing. *The images and labels are stored in the stated folder architecture."
      ]
    },
    {
      "cell_type": "markdown",
      "metadata": {
        "id": "xr99LUEAi5lV"
      },
      "source": [
        "Separate the files into a training and a validation set (and optionally a test set). Final dataset folder looks like below before get into YOLOv7 training,\n",
        "\n",
        "# ├── dataset\n",
        "## └── train\n",
        "#### └── images (folder including all training images) <br>\n",
        "#### └── labels (folder including all training labels)<br>\n",
        "## └── test\n",
        "#### └── images (folder including all testing images)<br>\n",
        "#### └── labels (folder including all testing labels)<br>\n",
        "## └── valid\n",
        "#### └── images (folder including all valid images)<br>\n",
        "#### └── labels (folder including all valid labels)<br>"
      ]
    },
    {
      "cell_type": "code",
      "execution_count": null,
      "metadata": {
        "id": "XZikzpG_UBc8",
        "scrolled": false
      },
      "outputs": [],
      "source": [
        "# Check if NVIDIA GPU is enabled\n",
        "!nvidia-smi"
      ]
    },
    {
      "cell_type": "code",
      "source": [
        "from google.colab import drive\n",
        "drive.mount('/content/drive')"
      ],
      "metadata": {
        "id": "tiIGLjzni2Rx"
      },
      "execution_count": null,
      "outputs": []
    },
    {
      "cell_type": "code",
      "source": [
        "!pwd"
      ],
      "metadata": {
        "id": "Ecb2pyfziwqE"
      },
      "execution_count": null,
      "outputs": []
    },
    {
      "cell_type": "code",
      "source": [
        "import os\n",
        "os.chdir('/content/drive/MyDrive/PPE')"
      ],
      "metadata": {
        "id": "wkQlLY2GjBFT"
      },
      "execution_count": null,
      "outputs": []
    },
    {
      "cell_type": "code",
      "execution_count": null,
      "metadata": {
        "id": "daxTA9TkidHv"
      },
      "outputs": [],
      "source": [
        "import os\n",
        "if not os.path.exists(\"dataset\"):\n",
        "    os.mkdir(\"dataset\")\n",
        "else:\n",
        "    print(\"The 'dataset' directory already exists.\")"
      ]
    },
    {
      "cell_type": "markdown",
      "metadata": {
        "id": "3Jx_7FN2ounD"
      },
      "source": [
        "## Unzip Files\n",
        "Place your data zip file into the project directory"
      ]
    },
    {
      "cell_type": "code",
      "execution_count": null,
      "metadata": {
        "id": "zKGsEPGEaPeA",
        "scrolled": true
      },
      "outputs": [],
      "source": [
        "!unzip \"dataset.zip\" -d \"dataset\""
      ]
    },
    {
      "cell_type": "markdown",
      "source": [
        "Remove zip folder\n"
      ],
      "metadata": {
        "id": "_VeJ3hCqyydG"
      }
    },
    {
      "cell_type": "code",
      "execution_count": null,
      "metadata": {
        "id": "TUFdEb_gidHw"
      },
      "outputs": [],
      "source": [
        "!rm dataset.zip"
      ]
    },
    {
      "cell_type": "markdown",
      "metadata": {
        "id": "lM6soe3dp9nj"
      },
      "source": [
        "# Step 4: Clone the YOLOv7 Repository\n",
        "The next step is to clone the YOLOv7 repository so that we can access the codebase for training the models."
      ]
    },
    {
      "cell_type": "code",
      "execution_count": null,
      "metadata": {
        "id": "H6L5FZf_ZU1_"
      },
      "outputs": [],
      "source": [
        "!git clone https://github.com/WongKinYiu/yolov7.git       # clone"
      ]
    },
    {
      "cell_type": "code",
      "execution_count": null,
      "metadata": {
        "id": "gbMIS0RSuFg1"
      },
      "outputs": [],
      "source": [
        "# change current path to the yolov7 directory\n",
        "import os\n",
        "os.chdir('yolov7')"
      ]
    },
    {
      "cell_type": "code",
      "execution_count": null,
      "metadata": {
        "id": "7A3jqAi8ZacU"
      },
      "outputs": [],
      "source": [
        "!pip install -r requirements.txt      # install modules"
      ]
    },
    {
      "cell_type": "markdown",
      "metadata": {
        "id": "RE4VkZAgkrP8"
      },
      "source": [
        "# Step 5: Creating the Dataset YAML File\n",
        "We must now develop a customized configuration file. (Be sure to specify the proper directory), as the training process will be entirely dependent on that file.\n",
        "Create a file with the name “custom.yaml” in the (yolov7/data) folder. Set the correct path to the dataset folder, alter the number of classes and their names, and then save it.\n",
        "\n",
        "Make a file that specifies the training configuration. In custom.yaml file, write the following:\n",
        "\n",
        "* Complete path to dataset train folder\n",
        "* Complete path to dataset test folder\n",
        "\n",
        "* Number_of_classes\n",
        "* Classes_names_array"
      ]
    },
    {
      "cell_type": "code",
      "execution_count": null,
      "metadata": {
        "id": "B4aQOxKqkLJH"
      },
      "outputs": [],
      "source": [
        "# custom.yaml filename\n",
        "#it should be in yolov7/data\n",
        "'''\n",
        "/content/drive/MyDrive/PPE/yolov7/data\n",
        "train: ../dataset/train/images\n",
        "val: ../dataset/valid/images\n",
        "test: ../dataset/test/images\n",
        "\n",
        "# number of classes\n",
        "nc: 5\n",
        "\n",
        "names: ['helmet', 'no-helmet', 'no-vest', 'person', 'vest']\n",
        "'''"
      ]
    },
    {
      "cell_type": "markdown",
      "metadata": {
        "id": "AQ4-iFQpscrv"
      },
      "source": [
        "# Step 6: Download pretrained weights\n",
        "\n",
        "![Screenshot from 2022-12-16 21-23-46.png](data:image/png;base64,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)"
      ]
    },
    {
      "cell_type": "code",
      "execution_count": null,
      "metadata": {
        "id": "mDRn6aUkYtpP"
      },
      "outputs": [],
      "source": [
        "# Download pretrained weight\n",
        "\n",
        "! wget https://github.com/WongKinYiu/yolov7/releases/download/v0.1/yolov7.pt\n",
        "# ! wget https://github.com/WongKinYiu/yolov7/releases/download/v0.1/yolov7-w6.pt\n",
        "# ! wget https://github.com/WongKinYiu/yolov7/releases/download/v0.1/yolov7-e6.pt\n",
        "# ! wget https://github.com/WongKinYiu/yolov7/releases/download/v0.1/yolov7-d6.pt\n",
        "# ! wget https://github.com/WongKinYiu/yolov7/releases/download/v0.1/yolov7-e6e.pt"
      ]
    },
    {
      "cell_type": "markdown",
      "metadata": {
        "id": "ddUNZAeQratF"
      },
      "source": [
        "# Step 7: Configure YOLOv7.yaml\n",
        "Next, we need to configure the YOLOv7 model for the detecor training. There are several default configuration files inside yolov7/cfg/training/ directory. All these contain the model configuration. We need to configure the **yolov7.yaml** file. For that, we will create a copy of that file, rename it, and configure it accordingly.\n",
        "\n",
        "![image-3.png](attachment:image-3.png)\n",
        "\n",
        "Just change the `nc` parameter of the file as in my case 5 classes"
      ]
    },
    {
      "cell_type": "markdown",
      "metadata": {
        "id": "HmNLeDmNk23l"
      },
      "source": [
        "# Step 8: Executing the Training Command\n",
        "Next, we will execute the command to train the model.\n",
        "Let’s go over the important flags in the below command:\n",
        "\n",
        "* **device**: The GPU number (ID) to use for training. As we have only one GPU, so, it is 0.\n",
        "\n",
        "* **data**: This accepts the path to the dataset YAML file.\n",
        "\n",
        "* **img**: By default, the images will be resized to 640×640 resolution before being fed to the network. Still, we are providing the image size here.\n",
        "\n",
        "* **cfg**: This is the path to the model configuration file which is needed for loading the model architecture which we created just before.\n",
        "\n",
        "* **weights**: This flag accepts the path to the pretrained model.\n",
        "\n",
        "* **name**: All the training, validation, and test results are saved in subdirectories inside the runs directory by default. We can provide the name of these subdirectories by specifying a string name from this flag.\n",
        "\n",
        "* **hyp**: All the models in the YOLOv7 family have a different set of parameters and hyperparameters. These include the learning rate, the augmentation techniques, and also the intensity of the augmentations among many other hyperparameters. All these are defined in their hyperparameter files (YAML files) in the yolov7/data directory. Here, we specify the path to the appropriate YOLOv7-tiny model hyperparameter file.\n",
        "\n",
        "The other flags define the number of epochs to train for, the batch size, and the number of workers. You can set these according to the hardware that you are using. Here, we are training the model for 100 epochs.\n",
        "\n"
      ]
    },
    {
      "cell_type": "code",
      "execution_count": null,
      "metadata": {
        "id": "CwxevQRdo7jP",
        "scrolled": true
      },
      "outputs": [],
      "source": [
        "# train p5 models\n",
        "!python train.py --epochs 50 --workers 8 --device 0 --batch-size 8 --data 'data/custom.yaml' --img 640 640 --cfg 'cfg/training/yolov7_custom.yaml' --weights 'yolov7.pt' --name 'yolov7_trained' --hyp 'data/hyp.scratch.p5.yaml'\n"
      ]
    },
    {
      "cell_type": "markdown",
      "metadata": {
        "id": "SSUcWYTdidH2"
      },
      "source": [
        "## *Continue training from where you left*\n",
        "Continue training from where you left off, your Model training can be stopped due to multiple reasons, like the notebook time out, notebook craches, due to network issues,  and many more,  so you can start your training from where you left off, by passing the previous trained weights."
      ]
    },
    {
      "cell_type": "code",
      "execution_count": null,
      "metadata": {
        "id": "5OLnDZ8YidH2"
      },
      "outputs": [],
      "source": [
        "# train p5 models\n",
        "# uncomment and run the below line if ypur model training is stopped\n",
        "#!python train.py --epochs 50 --workers 8 --device 0 --batch-size 16 --data 'data/custom.yaml' --img 640 640 --cfg 'cfg/training/yolov7_custom.yaml' --weights 'runs/train/yolov7_trained/weights/best.pt' --name yolov7 --hyp data/hyp.scratch.p5.yaml\n"
      ]
    },
    {
      "cell_type": "markdown",
      "metadata": {
        "id": "bxezEaCWjbYA"
      },
      "source": [
        "Once the training is completed, the best weight is saved at **yolov7/runs/train/yolov7_trained/weights/best.pt**, usually inside the ‘runs’ folder. Once we get the weight file, we can be ready for evaluation and inferencing.\n",
        "\n"
      ]
    },
    {
      "cell_type": "markdown",
      "metadata": {
        "id": "_frkJvFAidH3"
      },
      "source": [
        "# Step 9: Model Evaluation\n",
        "\n",
        "The best weight is saved at **yolov7/runs/train/yolov7_trained/weights/best.pt** after the training is finished, generally in the **`runs`** folder. Once we have the weight file, we can begin evaluating and drawing conclusions.\n"
      ]
    },
    {
      "cell_type": "markdown",
      "metadata": {
        "id": "sYC8JXTfidH3"
      },
      "source": [
        "## *F1, Precision, and Recall Curve*"
      ]
    },
    {
      "cell_type": "code",
      "execution_count": null,
      "metadata": {
        "id": "rjIj-uo2idH3"
      },
      "outputs": [],
      "source": [
        "from IPython.display import Image\n",
        "display(Image(\"runs/train/yolov7_trained2/results.png\",  width=1200, height=600))"
      ]
    },
    {
      "cell_type": "markdown",
      "metadata": {
        "id": "Q8ErRLuuidH3"
      },
      "source": [
        "On the validation set, we have a mAP of 0.95 at 0.5 IoU and 0.67 at 0.5:0.95 IoU.\n",
        "\n",
        "We can also check the precision, recall, mAP using the trained model using the following command.\n"
      ]
    },
    {
      "cell_type": "code",
      "execution_count": null,
      "metadata": {
        "scrolled": false,
        "id": "M7VJTyeDidH3"
      },
      "outputs": [],
      "source": [
        "!python test.py --data data/custom.yaml --img 640 --batch 16 --conf 0.001 --iou 0.65 --device 0 --weights runs/train/yolov7_trained2/weights/best.pt --name yolov7_test"
      ]
    },
    {
      "cell_type": "markdown",
      "metadata": {
        "id": "WckCvfjO0Z6n"
      },
      "source": [
        "As we can see, the data reflects a healthy model that achieves at least ~ .91 mAP@.5 efficacy at predicting each of the real labels in the test set.\n"
      ]
    },
    {
      "cell_type": "code",
      "execution_count": null,
      "metadata": {
        "id": "m_uqt6JWidH4"
      },
      "outputs": [],
      "source": [
        "# results will be save at this path\n",
        "\"runs/test/yolov7_test\""
      ]
    },
    {
      "cell_type": "markdown",
      "metadata": {
        "id": "aGEddPDWidH4"
      },
      "source": [
        "## *Run the cell below to evaluate on test images.*"
      ]
    },
    {
      "cell_type": "code",
      "execution_count": null,
      "metadata": {
        "id": "SAc-tfbtjwoT"
      },
      "outputs": [],
      "source": [
        "# Run evaluation\n",
        "!python detect.py --weights runs/train/yolov7_trained2/weights/best.pt --conf 0.5 --source '../dataset/test/images'"
      ]
    },
    {
      "cell_type": "markdown",
      "metadata": {
        "id": "DUi7NFBOj1oj"
      },
      "source": [
        "To view the inference images, run the below code. This will display the output images one by one."
      ]
    },
    {
      "cell_type": "code",
      "execution_count": null,
      "metadata": {
        "id": "_Ja_cRSDj24O",
        "scrolled": true
      },
      "outputs": [],
      "source": [
        "# display inference on ALL test images\n",
        "import glob\n",
        "from IPython.display import Image, display\n",
        "i = 0\n",
        "limit = 10000 # max images to print\n",
        "for imageName in glob.glob('runs/detect/exp2/*.jpg'): #assuming JPG\n",
        "    if i < limit:\n",
        "      display(Image(filename=imageName))\n",
        "    i = i + 1"
      ]
    },
    {
      "cell_type": "markdown",
      "metadata": {
        "id": "LVFMU40LidH5"
      },
      "source": [
        "## *Model testing on video*\n",
        "Once we have entered our parameters for testing, we can call on the detect.py script to detect any of the desired objects in our new test video."
      ]
    },
    {
      "cell_type": "code",
      "execution_count": null,
      "metadata": {
        "id": "ug_3xJgFidH5"
      },
      "outputs": [],
      "source": [
        "!python detect.py --weights \"runs/train/yolov7_trained/weights/best.pt\" --conf 0.25 --img-size 640 --source \"test_video.mp4\" --name testing_on_video"
      ]
    },
    {
      "cell_type": "code",
      "execution_count": null,
      "metadata": {
        "scrolled": false,
        "id": "2W8LbioeidH5"
      },
      "outputs": [],
      "source": [
        "from IPython.display import HTML\n",
        "from base64 import b64encode\n",
        "import subprocess\n",
        "\n",
        "# Input video path\n",
        "save_path = 'runs/detect/testing_on_video/test_video.mp4'\n",
        "\n",
        "# Compressed video path\n",
        "compressed_path = \"result_compressed.mp4\"\n",
        "\n",
        "# FFmpeg command\n",
        "ffmpeg_command = ['ffmpeg', '-i', save_path, '-vcodec', 'libx264', compressed_path]\n",
        "\n",
        "# Execute FFmpeg command\n",
        "subprocess.run(ffmpeg_command, check=True)\n",
        "\n",
        "# Read compressed video file\n",
        "with open(compressed_path, 'rb') as file:\n",
        "    video_data = file.read()\n",
        "\n",
        "# Encode video data as base64\n",
        "video_base64 = b64encode(video_data).decode('utf-8')\n",
        "\n",
        "# Generate data URL for video\n",
        "data_url = f\"data:video/mp4;base64,{video_base64}\"\n",
        "\n",
        "# Create HTML video tag\n",
        "video_html = f'<video width=400 controls><source src=\"{data_url}\" type=\"video/mp4\"></video>'\n",
        "\n",
        "# Display the video in Jupyter Notebook\n",
        "HTML(video_html)\n"
      ]
    }
  ],
  "metadata": {
    "colab": {
      "provenance": [],
      "gpuType": "T4"
    },
    "kernelspec": {
      "display_name": "Python 3",
      "name": "python3"
    },
    "language_info": {
      "codemirror_mode": {
        "name": "ipython",
        "version": 3
      },
      "file_extension": ".py",
      "mimetype": "text/x-python",
      "name": "python",
      "nbconvert_exporter": "python",
      "pygments_lexer": "ipython3",
      "version": "3.8.16"
    },
    "accelerator": "GPU"
  },
  "nbformat": 4,
  "nbformat_minor": 0
}