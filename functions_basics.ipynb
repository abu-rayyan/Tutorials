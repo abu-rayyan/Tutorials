{
 "cells": [
  {
   "cell_type": "markdown",
   "id": "822e1ad2",
   "metadata": {},
   "source": [
    "# Functions in Python"
   ]
  },
  {
   "cell_type": "markdown",
   "id": "d416d2ae",
   "metadata": {},
   "source": [
    "https://www.w3schools.com/python/python_functions.asp"
   ]
  },
  {
   "cell_type": "markdown",
   "id": "84b4b907",
   "metadata": {},
   "source": [
    "A function is a block of code which only runs when it is called.\n",
    "\n",
    "You can pass data, known as parameters, into a function.\n",
    "\n",
    "A function can return data as a result."
   ]
  },
  {
   "cell_type": "markdown",
   "id": "88f3309f",
   "metadata": {},
   "source": [
    "# Creating a Function"
   ]
  },
  {
   "cell_type": "code",
   "execution_count": 18,
   "id": "e6437037",
   "metadata": {},
   "outputs": [],
   "source": [
    "def any_name():\n",
    "    print(\"my name is Sajid\")"
   ]
  },
  {
   "cell_type": "markdown",
   "id": "bc26d787",
   "metadata": {},
   "source": [
    "# Calling a Function"
   ]
  },
  {
   "cell_type": "code",
   "execution_count": 19,
   "id": "4fe6904d",
   "metadata": {},
   "outputs": [
    {
     "name": "stdout",
     "output_type": "stream",
     "text": [
      "my name is Sajid\n"
     ]
    }
   ],
   "source": [
    "any_name()"
   ]
  },
  {
   "cell_type": "markdown",
   "id": "83614389",
   "metadata": {},
   "source": [
    "# Arguments"
   ]
  },
  {
   "cell_type": "markdown",
   "id": "b650b878",
   "metadata": {},
   "source": [
    "Information can be passed into functions as arguments.\n",
    "\n",
    "Arguments are specified after the function name, inside the parentheses. You can add as many arguments as you want, just separate them with a comma."
   ]
  },
  {
   "cell_type": "markdown",
   "id": "d1d91bdb",
   "metadata": {},
   "source": [
    "### Function with input arguments and return value"
   ]
  },
  {
   "cell_type": "code",
   "execution_count": 21,
   "id": "45fd2a59",
   "metadata": {},
   "outputs": [],
   "source": [
    "def my_sum(x1, y2):\n",
    "    x3=x1+y2\n",
    "    return x3"
   ]
  },
  {
   "cell_type": "code",
   "execution_count": 23,
   "id": "a7fcc390",
   "metadata": {},
   "outputs": [],
   "source": [
    "s1=34\n",
    "s2=10\n",
    "my_result=my_sum(s1, s2)"
   ]
  },
  {
   "cell_type": "code",
   "execution_count": 24,
   "id": "5e1fdefa",
   "metadata": {},
   "outputs": [
    {
     "data": {
      "text/plain": [
       "44"
      ]
     },
     "execution_count": 24,
     "metadata": {},
     "output_type": "execute_result"
    }
   ],
   "source": [
    "my_result"
   ]
  },
  {
   "cell_type": "markdown",
   "id": "c02d162c",
   "metadata": {},
   "source": [
    "### Function with input arguments and without return value"
   ]
  },
  {
   "cell_type": "code",
   "execution_count": 25,
   "id": "3db6aa96",
   "metadata": {},
   "outputs": [],
   "source": [
    "def get_len(my_str):\n",
    "    print (\"string passed to me is:\", my_str)\n",
    "    print (\"Length of the string is:\", len(my_str))"
   ]
  },
  {
   "cell_type": "code",
   "execution_count": 26,
   "id": "34f455fb",
   "metadata": {},
   "outputs": [
    {
     "name": "stdout",
     "output_type": "stream",
     "text": [
      "string passed to me is: I am Good\n",
      "Length of the string is: 9\n"
     ]
    }
   ],
   "source": [
    "get_len(\"I am Good\")"
   ]
  },
  {
   "cell_type": "code",
   "execution_count": 31,
   "id": "b1fc3fa3",
   "metadata": {},
   "outputs": [],
   "source": [
    "def my_sum_1(x1, y2):\n",
    "    x3=x1+y2\n",
    "    \n",
    "    print (\"I am done with sum\")\n",
    "    return x3\n"
   ]
  },
  {
   "cell_type": "code",
   "execution_count": 32,
   "id": "1169fff9",
   "metadata": {},
   "outputs": [
    {
     "name": "stdout",
     "output_type": "stream",
     "text": [
      "I am done with sum\n"
     ]
    },
    {
     "data": {
      "text/plain": [
       "44"
      ]
     },
     "execution_count": 32,
     "metadata": {},
     "output_type": "execute_result"
    }
   ],
   "source": [
    "my_sum_1(s1, s2)"
   ]
  },
  {
   "cell_type": "code",
   "execution_count": null,
   "id": "87fac287",
   "metadata": {},
   "outputs": [],
   "source": []
  }
 ],
 "metadata": {
  "kernelspec": {
   "display_name": "Python 3 (ipykernel)",
   "language": "python",
   "name": "python3"
  },
  "language_info": {
   "codemirror_mode": {
    "name": "ipython",
    "version": 3
   },
   "file_extension": ".py",
   "mimetype": "text/x-python",
   "name": "python",
   "nbconvert_exporter": "python",
   "pygments_lexer": "ipython3",
   "version": "3.9.12"
  }
 },
 "nbformat": 4,
 "nbformat_minor": 5
}
