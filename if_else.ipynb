{
 "cells": [
  {
   "cell_type": "markdown",
   "id": "869e1f7b",
   "metadata": {},
   "source": [
    "### Selection(If, elif, else)\n",
    "\n",
    "An else statement can be combined with an if statement. An else statement contains the block of code that executes if the conditional expression in the if statement resolves to 0 or a FALSE value.\n",
    "\n",
    "The else statement is an optional statement and there could be at most only one else statement following if.\n",
    "\n",
    "\n",
    "\n",
    "\n",
    "\n",
    "\n"
   ]
  },
  {
   "cell_type": "code",
   "execution_count": 1,
   "id": "10146dd2",
   "metadata": {},
   "outputs": [],
   "source": [
    "\n",
    "name=\"siraj\"\n"
   ]
  },
  {
   "cell_type": "code",
   "execution_count": 2,
   "id": "f614b13b",
   "metadata": {},
   "outputs": [
    {
     "data": {
      "text/plain": [
       "'siraj'"
      ]
     },
     "execution_count": 2,
     "metadata": {},
     "output_type": "execute_result"
    }
   ],
   "source": [
    "name"
   ]
  },
  {
   "cell_type": "code",
   "execution_count": 3,
   "id": "bd86231f",
   "metadata": {},
   "outputs": [
    {
     "name": "stdout",
     "output_type": "stream",
     "text": [
      "Sorry your salary is not in my account yet :(\n"
     ]
    }
   ],
   "source": [
    "if name == \"sajid\":\n",
    "    print (\"Congrats, you can get your salary today!!\")\n",
    "elif name== \"talal\":\n",
    "    print (\"Please come tomorrow for the salary!\")    \n",
    "    \n",
    "else:\n",
    "    print(\"Sorry your salary is not in my account yet :(\")"
   ]
  },
  {
   "cell_type": "markdown",
   "id": "799b86bf",
   "metadata": {},
   "source": [
    "The elif statement allows you to check multiple expressions for TRUE and execute a block of code as soon as one of the conditions evaluates to TRUE.\n",
    "\n",
    "Similar to the else, the elif statement is optional. However, unlike else, for which there can be at most one statement, there can be an arbitrary number of elif statements following an if."
   ]
  },
  {
   "cell_type": "code",
   "execution_count": 4,
   "id": "b48e9140",
   "metadata": {},
   "outputs": [],
   "source": [
    "if name == \"sajid\":\n",
    "    print (\"Congrats, you can get your salary today!!\")"
   ]
  }
 ],
 "metadata": {
  "kernelspec": {
   "display_name": "Python 3 (ipykernel)",
   "language": "python",
   "name": "python3"
  },
  "language_info": {
   "codemirror_mode": {
    "name": "ipython",
    "version": 3
   },
   "file_extension": ".py",
   "mimetype": "text/x-python",
   "name": "python",
   "nbconvert_exporter": "python",
   "pygments_lexer": "ipython3",
   "version": "3.8.15"
  }
 },
 "nbformat": 4,
 "nbformat_minor": 5
}
