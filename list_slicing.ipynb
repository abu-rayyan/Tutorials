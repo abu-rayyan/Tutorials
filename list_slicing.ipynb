{
 "cells": [
  {
   "cell_type": "markdown",
   "id": "51f770e4",
   "metadata": {},
   "source": [
    "# List Slicing"
   ]
  },
  {
   "cell_type": "markdown",
   "id": "1b2b377a",
   "metadata": {},
   "source": [
    "List Slicing is the process of accessing a part/subset of a given list. "
   ]
  },
  {
   "cell_type": "markdown",
   "id": "0162680b",
   "metadata": {},
   "source": [
    "### list_name[start:stop:steps]"
   ]
  },
  {
   "cell_type": "code",
   "execution_count": 10,
   "id": "b3d4660c",
   "metadata": {},
   "outputs": [
    {
     "name": "stdout",
     "output_type": "stream",
     "text": [
      "[1, 2, 'mouse', 'pc', 5, 6, '9', 0, 1, 9.8]\n"
     ]
    }
   ],
   "source": [
    "my_list=[1,2, \"mouse\", \"pc\", 5, 6, \"9\", 0, 1, 9.8 ]\n",
    "print (my_list)"
   ]
  },
  {
   "cell_type": "code",
   "execution_count": 8,
   "id": "d0b80da3",
   "metadata": {},
   "outputs": [
    {
     "data": {
      "text/plain": [
       "1"
      ]
     },
     "execution_count": 8,
     "metadata": {},
     "output_type": "execute_result"
    }
   ],
   "source": [
    "my_list[0]"
   ]
  },
  {
   "cell_type": "code",
   "execution_count": 9,
   "id": "66628c37",
   "metadata": {},
   "outputs": [
    {
     "data": {
      "text/plain": [
       "'mouse'"
      ]
     },
     "execution_count": 9,
     "metadata": {},
     "output_type": "execute_result"
    }
   ],
   "source": [
    "my_list[2]"
   ]
  },
  {
   "cell_type": "code",
   "execution_count": 11,
   "id": "25f9ef5e",
   "metadata": {},
   "outputs": [
    {
     "data": {
      "text/plain": [
       "9.8"
      ]
     },
     "execution_count": 11,
     "metadata": {},
     "output_type": "execute_result"
    }
   ],
   "source": [
    "my_list[-1]"
   ]
  },
  {
   "cell_type": "code",
   "execution_count": 12,
   "id": "b81de5de",
   "metadata": {},
   "outputs": [
    {
     "data": {
      "text/plain": [
       "9.8"
      ]
     },
     "execution_count": 12,
     "metadata": {},
     "output_type": "execute_result"
    }
   ],
   "source": [
    "my_list[9]"
   ]
  },
  {
   "cell_type": "code",
   "execution_count": 13,
   "id": "ad08f50f",
   "metadata": {},
   "outputs": [
    {
     "data": {
      "text/plain": [
       "9.8"
      ]
     },
     "execution_count": 13,
     "metadata": {},
     "output_type": "execute_result"
    }
   ],
   "source": [
    "my_list[len(my_list)-1]"
   ]
  },
  {
   "cell_type": "code",
   "execution_count": 14,
   "id": "e8e795dc",
   "metadata": {},
   "outputs": [
    {
     "data": {
      "text/plain": [
       "10"
      ]
     },
     "execution_count": 14,
     "metadata": {},
     "output_type": "execute_result"
    }
   ],
   "source": [
    "len(my_list)"
   ]
  },
  {
   "cell_type": "markdown",
   "id": "493568b8",
   "metadata": {},
   "source": [
    "# Passing the start or stop index only"
   ]
  },
  {
   "cell_type": "code",
   "execution_count": 19,
   "id": "8892f105",
   "metadata": {},
   "outputs": [
    {
     "data": {
      "text/plain": [
       "[1, 2, 'mouse', 'pc', 5, 6]"
      ]
     },
     "execution_count": 19,
     "metadata": {},
     "output_type": "execute_result"
    }
   ],
   "source": [
    "my_list[:6]"
   ]
  },
  {
   "cell_type": "code",
   "execution_count": 20,
   "id": "e6f4e47c",
   "metadata": {},
   "outputs": [
    {
     "data": {
      "text/plain": [
       "['mouse', 'pc', 5, 6, '9', 0, 1, 9.8]"
      ]
     },
     "execution_count": 20,
     "metadata": {},
     "output_type": "execute_result"
    }
   ],
   "source": [
    "my_list[2:]"
   ]
  },
  {
   "cell_type": "code",
   "execution_count": 21,
   "id": "1ca1f9bc",
   "metadata": {},
   "outputs": [
    {
     "data": {
      "text/plain": [
       "[9.8]"
      ]
     },
     "execution_count": 21,
     "metadata": {},
     "output_type": "execute_result"
    }
   ],
   "source": [
    "my_list[-1:]"
   ]
  },
  {
   "cell_type": "code",
   "execution_count": 22,
   "id": "52e792b4",
   "metadata": {},
   "outputs": [
    {
     "data": {
      "text/plain": [
       "[0, 1, 9.8]"
      ]
     },
     "execution_count": 22,
     "metadata": {},
     "output_type": "execute_result"
    }
   ],
   "source": [
    "my_list[-3:]"
   ]
  },
  {
   "cell_type": "markdown",
   "id": "a08b3e62",
   "metadata": {},
   "source": [
    "#  Passing the start and stop index"
   ]
  },
  {
   "cell_type": "code",
   "execution_count": 23,
   "id": "52960e9b",
   "metadata": {},
   "outputs": [
    {
     "data": {
      "text/plain": [
       "['mouse', 'pc', 5, 6, '9']"
      ]
     },
     "execution_count": 23,
     "metadata": {},
     "output_type": "execute_result"
    }
   ],
   "source": [
    "my_list[2:7]"
   ]
  },
  {
   "cell_type": "code",
   "execution_count": 24,
   "id": "37729d8c",
   "metadata": {},
   "outputs": [
    {
     "data": {
      "text/plain": [
       "['9', 0]"
      ]
     },
     "execution_count": 24,
     "metadata": {},
     "output_type": "execute_result"
    }
   ],
   "source": [
    "my_list[-4:-2]"
   ]
  },
  {
   "cell_type": "code",
   "execution_count": 25,
   "id": "e608d076",
   "metadata": {},
   "outputs": [
    {
     "data": {
      "text/plain": [
       "[1, 2, 'mouse', 'pc', 5]"
      ]
     },
     "execution_count": 25,
     "metadata": {},
     "output_type": "execute_result"
    }
   ],
   "source": [
    "my_list[0:5]"
   ]
  },
  {
   "cell_type": "code",
   "execution_count": 26,
   "id": "357eaeab",
   "metadata": {},
   "outputs": [
    {
     "data": {
      "text/plain": [
       "[1, 2, 'mouse', 'pc', 5]"
      ]
     },
     "execution_count": 26,
     "metadata": {},
     "output_type": "execute_result"
    }
   ],
   "source": [
    "my_list[:5]"
   ]
  },
  {
   "cell_type": "markdown",
   "id": "64e68f70",
   "metadata": {},
   "source": [
    "# Passing the step parameter with colons"
   ]
  },
  {
   "cell_type": "code",
   "execution_count": 27,
   "id": "8facae65",
   "metadata": {},
   "outputs": [
    {
     "data": {
      "text/plain": [
       "[9.8, 1, 0, '9', 6, 5, 'pc', 'mouse', 2, 1]"
      ]
     },
     "execution_count": 27,
     "metadata": {},
     "output_type": "execute_result"
    }
   ],
   "source": [
    "my_list[::-1]"
   ]
  },
  {
   "cell_type": "code",
   "execution_count": 29,
   "id": "74f971ea",
   "metadata": {},
   "outputs": [
    {
     "data": {
      "text/plain": [
       "[1, 2, 'mouse', 'pc', 5, 6, '9', 0, 1, 9.8]"
      ]
     },
     "execution_count": 29,
     "metadata": {},
     "output_type": "execute_result"
    }
   ],
   "source": [
    "my_list"
   ]
  },
  {
   "cell_type": "code",
   "execution_count": 28,
   "id": "d93bf290",
   "metadata": {},
   "outputs": [
    {
     "data": {
      "text/plain": [
       "[9.8, 0, 6, 'pc', 2]"
      ]
     },
     "execution_count": 28,
     "metadata": {},
     "output_type": "execute_result"
    }
   ],
   "source": [
    "my_list[::-2]"
   ]
  },
  {
   "cell_type": "code",
   "execution_count": 31,
   "id": "a4e4fd27",
   "metadata": {},
   "outputs": [
    {
     "data": {
      "text/plain": [
       "[9.8, 6, 2]"
      ]
     },
     "execution_count": 31,
     "metadata": {},
     "output_type": "execute_result"
    }
   ],
   "source": [
    "my_list[::-4]"
   ]
  },
  {
   "cell_type": "code",
   "execution_count": 32,
   "id": "38ab2231",
   "metadata": {},
   "outputs": [
    {
     "data": {
      "text/plain": [
       "[1, 'mouse', 5, '9', 1]"
      ]
     },
     "execution_count": 32,
     "metadata": {},
     "output_type": "execute_result"
    }
   ],
   "source": [
    "my_list[::2]"
   ]
  },
  {
   "cell_type": "code",
   "execution_count": 33,
   "id": "16776e3d",
   "metadata": {},
   "outputs": [
    {
     "data": {
      "text/plain": [
       "[1, 'pc', '9', 9.8]"
      ]
     },
     "execution_count": 33,
     "metadata": {},
     "output_type": "execute_result"
    }
   ],
   "source": [
    "my_list[::3]"
   ]
  },
  {
   "cell_type": "code",
   "execution_count": 34,
   "id": "485dc79f",
   "metadata": {},
   "outputs": [
    {
     "data": {
      "text/plain": [
       "[1, 2, 'mouse', 'pc', 5, 6, '9', 0, 1, 9.8]"
      ]
     },
     "execution_count": 34,
     "metadata": {},
     "output_type": "execute_result"
    }
   ],
   "source": [
    "my_list[::]"
   ]
  },
  {
   "cell_type": "code",
   "execution_count": 35,
   "id": "994f254f",
   "metadata": {},
   "outputs": [
    {
     "data": {
      "text/plain": [
       "[1, 2, 'mouse', 'pc', 5, 6, '9', 0, 1, 9.8]"
      ]
     },
     "execution_count": 35,
     "metadata": {},
     "output_type": "execute_result"
    }
   ],
   "source": [
    "my_list[:]"
   ]
  },
  {
   "cell_type": "markdown",
   "id": "b368aa0c",
   "metadata": {},
   "source": [
    "# start, stop, and step parameters"
   ]
  },
  {
   "cell_type": "code",
   "execution_count": 36,
   "id": "05599bba",
   "metadata": {},
   "outputs": [
    {
     "data": {
      "text/plain": [
       "[2, 'pc', 6]"
      ]
     },
     "execution_count": 36,
     "metadata": {},
     "output_type": "execute_result"
    }
   ],
   "source": [
    "my_list[1:6:2]"
   ]
  },
  {
   "cell_type": "code",
   "execution_count": 37,
   "id": "c6f4ed6f",
   "metadata": {},
   "outputs": [],
   "source": [
    "my_new_list=my_list[1:6:2]"
   ]
  },
  {
   "cell_type": "code",
   "execution_count": 38,
   "id": "66d9730b",
   "metadata": {},
   "outputs": [
    {
     "data": {
      "text/plain": [
       "[2, 'pc', 6]"
      ]
     },
     "execution_count": 38,
     "metadata": {},
     "output_type": "execute_result"
    }
   ],
   "source": [
    "my_new_list"
   ]
  },
  {
   "cell_type": "code",
   "execution_count": 39,
   "id": "8affef22",
   "metadata": {},
   "outputs": [
    {
     "data": {
      "text/plain": [
       "[1, 2, 'mouse', 'pc', 5, 6, '9', 0, 1, 9.8]"
      ]
     },
     "execution_count": 39,
     "metadata": {},
     "output_type": "execute_result"
    }
   ],
   "source": [
    "my_list"
   ]
  }
 ],
 "metadata": {
  "kernelspec": {
   "display_name": "Python 3 (ipykernel)",
   "language": "python",
   "name": "python3"
  },
  "language_info": {
   "codemirror_mode": {
    "name": "ipython",
    "version": 3
   },
   "file_extension": ".py",
   "mimetype": "text/x-python",
   "name": "python",
   "nbconvert_exporter": "python",
   "pygments_lexer": "ipython3",
   "version": "3.9.12"
  }
 },
 "nbformat": 4,
 "nbformat_minor": 5
}
