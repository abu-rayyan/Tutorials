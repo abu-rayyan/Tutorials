{
 "cells": [
  {
   "cell_type": "code",
   "execution_count": 1,
   "id": "764ba37d",
   "metadata": {},
   "outputs": [
    {
     "name": "stdout",
     "output_type": "stream",
     "text": [
      "Requirement already satisfied: gdown in /home/experts-vision/anaconda3/envs/py38_3/lib/python3.8/site-packages (4.5.1)\n",
      "Requirement already satisfied: beautifulsoup4 in /home/experts-vision/.local/lib/python3.8/site-packages (from gdown) (4.11.1)\n",
      "Requirement already satisfied: six in /home/experts-vision/anaconda3/envs/py38_3/lib/python3.8/site-packages (from gdown) (1.16.0)\n",
      "Requirement already satisfied: requests[socks] in /home/experts-vision/anaconda3/envs/py38_3/lib/python3.8/site-packages (from gdown) (2.28.1)\n",
      "Requirement already satisfied: filelock in /home/experts-vision/anaconda3/envs/py38_3/lib/python3.8/site-packages (from gdown) (3.8.0)\n",
      "Requirement already satisfied: tqdm in /home/experts-vision/anaconda3/envs/py38_3/lib/python3.8/site-packages (from gdown) (4.64.0)\n",
      "Requirement already satisfied: soupsieve>1.2 in /home/experts-vision/.local/lib/python3.8/site-packages (from beautifulsoup4->gdown) (2.3.2.post1)\n",
      "Requirement already satisfied: idna<4,>=2.5 in /home/experts-vision/anaconda3/envs/py38_3/lib/python3.8/site-packages (from requests[socks]->gdown) (3.3)\n",
      "Requirement already satisfied: certifi>=2017.4.17 in /home/experts-vision/anaconda3/envs/py38_3/lib/python3.8/site-packages (from requests[socks]->gdown) (2022.6.15)\n",
      "Requirement already satisfied: charset-normalizer<3,>=2 in /home/experts-vision/anaconda3/envs/py38_3/lib/python3.8/site-packages (from requests[socks]->gdown) (2.1.1)\n",
      "Requirement already satisfied: urllib3<1.27,>=1.21.1 in /home/experts-vision/anaconda3/envs/py38_3/lib/python3.8/site-packages (from requests[socks]->gdown) (1.26.12)\n",
      "Requirement already satisfied: PySocks!=1.5.7,>=1.5.6 in /home/experts-vision/anaconda3/envs/py38_3/lib/python3.8/site-packages (from requests[socks]->gdown) (1.7.1)\n"
     ]
    }
   ],
   "source": [
    "try:\n",
    "    import pytorch_lightning\n",
    "except ImportError as e:\n",
    "    print ('Installing PyTorch')\n",
    "    !pip install pytorch-lightning==1.2.8  --quiet # module doesn't exist, deal with it.\n",
    "    !pip install torchmetrics\n",
    "    \n",
    "try:\n",
    "    import transformers\n",
    "except ImportError as e:\n",
    "    print ('Installing Transformers')\n",
    "    !pip install transformers==4.10 --quiet --quiet # module doesn't exist, deal with it.\n",
    "\n",
    "\n",
    "!pip install gdown"
   ]
  },
  {
   "cell_type": "code",
   "execution_count": 2,
   "id": "1ae2ec90",
   "metadata": {},
   "outputs": [
    {
     "name": "stdout",
     "output_type": "stream",
     "text": [
      "Requirement already satisfied: nb_black in /home/experts-vision/anaconda3/envs/py38_3/lib/python3.8/site-packages (1.0.7)\n",
      "Requirement already satisfied: ipython in /home/experts-vision/anaconda3/envs/py38_3/lib/python3.8/site-packages (from nb_black) (8.3.0)\n",
      "Requirement already satisfied: black>='19.3' in /home/experts-vision/anaconda3/envs/py38_3/lib/python3.8/site-packages (from nb_black) (22.10.0)\n",
      "Requirement already satisfied: click>=8.0.0 in /home/experts-vision/anaconda3/envs/py38_3/lib/python3.8/site-packages (from black>='19.3'->nb_black) (8.1.3)\n",
      "Requirement already satisfied: tomli>=1.1.0 in /home/experts-vision/anaconda3/envs/py38_3/lib/python3.8/site-packages (from black>='19.3'->nb_black) (2.0.1)\n",
      "Requirement already satisfied: pathspec>=0.9.0 in /home/experts-vision/anaconda3/envs/py38_3/lib/python3.8/site-packages (from black>='19.3'->nb_black) (0.10.1)\n",
      "Requirement already satisfied: mypy-extensions>=0.4.3 in /home/experts-vision/anaconda3/envs/py38_3/lib/python3.8/site-packages (from black>='19.3'->nb_black) (0.4.3)\n",
      "Requirement already satisfied: typing-extensions>=3.10.0.0 in /home/experts-vision/anaconda3/envs/py38_3/lib/python3.8/site-packages (from black>='19.3'->nb_black) (4.3.0)\n",
      "Requirement already satisfied: platformdirs>=2 in /home/experts-vision/anaconda3/envs/py38_3/lib/python3.8/site-packages (from black>='19.3'->nb_black) (2.5.2)\n",
      "Requirement already satisfied: pygments>=2.4.0 in /home/experts-vision/.local/lib/python3.8/site-packages (from ipython->nb_black) (2.12.0)\n",
      "Requirement already satisfied: stack-data in /home/experts-vision/.local/lib/python3.8/site-packages (from ipython->nb_black) (0.3.0)\n",
      "Requirement already satisfied: decorator in /home/experts-vision/.local/lib/python3.8/site-packages (from ipython->nb_black) (5.1.1)\n",
      "Requirement already satisfied: traitlets>=5 in /home/experts-vision/anaconda3/envs/py38_3/lib/python3.8/site-packages (from ipython->nb_black) (5.5.0)\n",
      "Requirement already satisfied: pickleshare in /home/experts-vision/.local/lib/python3.8/site-packages (from ipython->nb_black) (0.7.5)\n",
      "Requirement already satisfied: setuptools>=18.5 in /home/experts-vision/anaconda3/envs/py38_3/lib/python3.8/site-packages (from ipython->nb_black) (61.2.0)\n",
      "Requirement already satisfied: pexpect>4.3 in /home/experts-vision/anaconda3/envs/py38_3/lib/python3.8/site-packages (from ipython->nb_black) (4.8.0)\n",
      "Requirement already satisfied: backcall in /home/experts-vision/.local/lib/python3.8/site-packages (from ipython->nb_black) (0.2.0)\n",
      "Requirement already satisfied: jedi>=0.16 in /home/experts-vision/.local/lib/python3.8/site-packages (from ipython->nb_black) (0.18.1)\n",
      "Requirement already satisfied: prompt-toolkit!=3.0.0,!=3.0.1,<3.1.0,>=2.0.0 in /home/experts-vision/anaconda3/envs/py38_3/lib/python3.8/site-packages (from ipython->nb_black) (3.0.20)\n",
      "Requirement already satisfied: matplotlib-inline in /home/experts-vision/.local/lib/python3.8/site-packages (from ipython->nb_black) (0.1.3)\n",
      "Requirement already satisfied: parso<0.9.0,>=0.8.0 in /home/experts-vision/.local/lib/python3.8/site-packages (from jedi>=0.16->ipython->nb_black) (0.8.3)\n",
      "Requirement already satisfied: ptyprocess>=0.5 in /home/experts-vision/.local/lib/python3.8/site-packages (from pexpect>4.3->ipython->nb_black) (0.7.0)\n",
      "Requirement already satisfied: wcwidth in /home/experts-vision/.local/lib/python3.8/site-packages (from prompt-toolkit!=3.0.0,!=3.0.1,<3.1.0,>=2.0.0->ipython->nb_black) (0.2.5)\n",
      "Requirement already satisfied: pure-eval in /home/experts-vision/.local/lib/python3.8/site-packages (from stack-data->ipython->nb_black) (0.2.2)\n",
      "Requirement already satisfied: executing in /home/experts-vision/.local/lib/python3.8/site-packages (from stack-data->ipython->nb_black) (0.8.3)\n",
      "Requirement already satisfied: asttokens in /home/experts-vision/.local/lib/python3.8/site-packages (from stack-data->ipython->nb_black) (2.0.5)\n",
      "Requirement already satisfied: six in /home/experts-vision/anaconda3/envs/py38_3/lib/python3.8/site-packages (from asttokens->stack-data->ipython->nb_black) (1.16.0)\n",
      "Requirement already satisfied: pycodestyle_magic in /home/experts-vision/anaconda3/envs/py38_3/lib/python3.8/site-packages (0.5)\n",
      "Requirement already satisfied: pycodestyle in /home/experts-vision/anaconda3/envs/py38_3/lib/python3.8/site-packages (2.9.1)\n",
      "Requirement already satisfied: flake8 in /home/experts-vision/anaconda3/envs/py38_3/lib/python3.8/site-packages (5.0.4)\n",
      "Requirement already satisfied: mccabe<0.8.0,>=0.7.0 in /home/experts-vision/anaconda3/envs/py38_3/lib/python3.8/site-packages (from flake8) (0.7.0)\n",
      "Requirement already satisfied: pyflakes<2.6.0,>=2.5.0 in /home/experts-vision/anaconda3/envs/py38_3/lib/python3.8/site-packages (from flake8) (2.5.0)\n",
      "Requirement already satisfied: pycodestyle<2.10.0,>=2.9.0 in /home/experts-vision/anaconda3/envs/py38_3/lib/python3.8/site-packages (from flake8) (2.9.1)\n"
     ]
    }
   ],
   "source": [
    "# for pep-8\n",
    "!pip install nb_black\n",
    "!pip install pycodestyle_magic\n",
    "!pip install pycodestyle\n",
    "!pip install flake8"
   ]
  },
  {
   "cell_type": "code",
   "execution_count": 1,
   "id": "2e0a16a5",
   "metadata": {},
   "outputs": [
    {
     "data": {
      "application/javascript": [
       "\n",
       "            setTimeout(function() {\n",
       "                var nbb_cell_id = 1;\n",
       "                var nbb_unformatted_code = \"%load_ext nb_black\\n%load_ext pycodestyle_magic\";\n",
       "                var nbb_formatted_code = \"%load_ext nb_black\\n%load_ext pycodestyle_magic\";\n",
       "                var nbb_cells = Jupyter.notebook.get_cells();\n",
       "                for (var i = 0; i < nbb_cells.length; ++i) {\n",
       "                    if (nbb_cells[i].input_prompt_number == nbb_cell_id) {\n",
       "                        if (nbb_cells[i].get_text() == nbb_unformatted_code) {\n",
       "                             nbb_cells[i].set_text(nbb_formatted_code);\n",
       "                        }\n",
       "                        break;\n",
       "                    }\n",
       "                }\n",
       "            }, 500);\n",
       "            "
      ],
      "text/plain": [
       "<IPython.core.display.Javascript object>"
      ]
     },
     "metadata": {},
     "output_type": "display_data"
    }
   ],
   "source": [
    "%load_ext nb_black\n",
    "%load_ext pycodestyle_magic"
   ]
  },
  {
   "cell_type": "markdown",
   "id": "253a7cf8",
   "metadata": {},
   "source": [
    "# Multi-class classification of text for emotion types detection using BERT and PyTorch"
   ]
  },
  {
   "cell_type": "markdown",
   "id": "19e758ac",
   "metadata": {},
   "source": [
    "Multi-label text classification (or tagging text) is one of the most common tasks you'll encounter when doing NLP. Modern Transformer-based models (like BERT) make use of pre-training on vast amounts of text data that makes fine-tuning faster, use fewer resources and more accurate on small(er) datasets.\n",
    "\n",
    "In this tutorial, you'll learn how to:\n",
    "\n",
    "- Load, balance and split text data into sets\n",
    "- Tokenize text (with BERT tokenizer) and create PyTorch dataset\n",
    "- Fine-tune BERT model with PyTorch Lightning\n",
    "- Find out about warmup steps and use a learning rate scheduler\n",
    "- Use area under the ROC and binary cross-entropy to evaluate the model during training\n",
    "- How to make predictions using the fine-tuned BERT model\n",
    "- Evaluate the performance of the model for each class (possible comment tag)\n",
    "\n",
    "Will our model be any good for emotion types detection?\n",
    "\n",
    "- Read the tutorial\n",
    "- [Run the notebook in your browser (Google Colab)](https://colab.research.google.com/drive/14Ea4lIzsn5EFvPpYKtWStXEByT9qmbkj?usp=sharing)\n",
    "- [Read the *Getting Things Done with Pytorch* book](https://github.com/curiousily/Getting-Things-Done-with-Pytorch)"
   ]
  },
  {
   "cell_type": "code",
   "execution_count": 2,
   "id": "608d49bf",
   "metadata": {},
   "outputs": [
    {
     "name": "stderr",
     "output_type": "stream",
     "text": [
      "2022-11-11 17:34:43.196829: I tensorflow/core/platform/cpu_feature_guard.cc:193] This TensorFlow binary is optimized with oneAPI Deep Neural Network Library (oneDNN) to use the following CPU instructions in performance-critical operations:  AVX2 FMA\n",
      "To enable them in other operations, rebuild TensorFlow with the appropriate compiler flags.\n",
      "2022-11-11 17:34:43.294554: E tensorflow/stream_executor/cuda/cuda_blas.cc:2981] Unable to register cuBLAS factory: Attempting to register factory for plugin cuBLAS when one has already been registered\n",
      "2022-11-11 17:34:43.689026: W tensorflow/stream_executor/platform/default/dso_loader.cc:64] Could not load dynamic library 'libnvinfer.so.7'; dlerror: libnvinfer.so.7: cannot open shared object file: No such file or directory; LD_LIBRARY_PATH: /usr/local/cuda-11.7/lib64:\n",
      "2022-11-11 17:34:43.689313: W tensorflow/stream_executor/platform/default/dso_loader.cc:64] Could not load dynamic library 'libnvinfer_plugin.so.7'; dlerror: libnvinfer_plugin.so.7: cannot open shared object file: No such file or directory; LD_LIBRARY_PATH: /usr/local/cuda-11.7/lib64:\n",
      "2022-11-11 17:34:43.689320: W tensorflow/compiler/tf2tensorrt/utils/py_utils.cc:38] TF-TRT Warning: Cannot dlopen some TensorRT libraries. If you would like to use Nvidia GPU with TensorRT, please make sure the missing libraries mentioned above are installed properly.\n",
      "Global seed set to 42\n"
     ]
    },
    {
     "data": {
      "text/plain": [
       "42"
      ]
     },
     "execution_count": 2,
     "metadata": {},
     "output_type": "execute_result"
    },
    {
     "data": {
      "application/javascript": [
       "\n",
       "            setTimeout(function() {\n",
       "                var nbb_cell_id = 2;\n",
       "                var nbb_unformatted_code = \"import pandas as pd\\nimport numpy as np\\nimport os\\nos.environ[\\\"TOKENIZERS_PARALLELISM\\\"] = \\\"false\\\"\\nfrom tqdm.auto import tqdm\\n\\nimport torch\\nimport torch.nn as nn\\nfrom torch.utils.data import Dataset, DataLoader\\n\\nfrom transformers import BertTokenizerFast as BertTokenizer, BertModel, AdamW, get_linear_schedule_with_warmup\\nimport torchmetrics\\nimport pytorch_lightning as pl\\nfrom torchmetrics.functional import accuracy,auroc\\nfrom pytorch_lightning.callbacks import ModelCheckpoint, EarlyStopping\\nfrom pytorch_lightning.loggers import TensorBoardLogger\\n\\nfrom sklearn.model_selection import train_test_split\\nfrom sklearn.metrics import classification_report, multilabel_confusion_matrix\\n\\nimport seaborn as sns\\nfrom pylab import rcParams\\nimport matplotlib.pyplot as plt\\nfrom matplotlib import rc\\nimport json\\nimport zipfile\\n%matplotlib inline\\n%config InlineBackend.figure_format='retina'\\n\\nRANDOM_SEED = 42\\n\\nsns.set(style='whitegrid', palette='muted', font_scale=1.2)\\nHAPPY_COLORS_PALETTE = [\\\"#01BEFE\\\", \\\"#FFDD00\\\", \\\"#FF7D00\\\", \\\"#FF006D\\\", \\\"#ADFF02\\\", \\\"#8F00FF\\\"]\\nsns.set_palette(sns.color_palette(HAPPY_COLORS_PALETTE))\\nrcParams['figure.figsize'] = 12, 8\\n\\npl.seed_everything(RANDOM_SEED)\";\n",
       "                var nbb_formatted_code = \"import pandas as pd\\nimport numpy as np\\nimport os\\n\\nos.environ[\\\"TOKENIZERS_PARALLELISM\\\"] = \\\"false\\\"\\nfrom tqdm.auto import tqdm\\n\\nimport torch\\nimport torch.nn as nn\\nfrom torch.utils.data import Dataset, DataLoader\\n\\nfrom transformers import (\\n    BertTokenizerFast as BertTokenizer,\\n    BertModel,\\n    AdamW,\\n    get_linear_schedule_with_warmup,\\n)\\nimport torchmetrics\\nimport pytorch_lightning as pl\\nfrom torchmetrics.functional import accuracy, auroc\\nfrom pytorch_lightning.callbacks import ModelCheckpoint, EarlyStopping\\nfrom pytorch_lightning.loggers import TensorBoardLogger\\n\\nfrom sklearn.model_selection import train_test_split\\nfrom sklearn.metrics import classification_report, multilabel_confusion_matrix\\n\\nimport seaborn as sns\\nfrom pylab import rcParams\\nimport matplotlib.pyplot as plt\\nfrom matplotlib import rc\\nimport json\\nimport zipfile\\n\\n%matplotlib inline\\n%config InlineBackend.figure_format='retina'\\n\\nRANDOM_SEED = 42\\n\\nsns.set(style=\\\"whitegrid\\\", palette=\\\"muted\\\", font_scale=1.2)\\nHAPPY_COLORS_PALETTE = [\\n    \\\"#01BEFE\\\",\\n    \\\"#FFDD00\\\",\\n    \\\"#FF7D00\\\",\\n    \\\"#FF006D\\\",\\n    \\\"#ADFF02\\\",\\n    \\\"#8F00FF\\\",\\n]\\nsns.set_palette(sns.color_palette(HAPPY_COLORS_PALETTE))\\nrcParams[\\\"figure.figsize\\\"] = 12, 8\\n\\npl.seed_everything(RANDOM_SEED)\";\n",
       "                var nbb_cells = Jupyter.notebook.get_cells();\n",
       "                for (var i = 0; i < nbb_cells.length; ++i) {\n",
       "                    if (nbb_cells[i].input_prompt_number == nbb_cell_id) {\n",
       "                        if (nbb_cells[i].get_text() == nbb_unformatted_code) {\n",
       "                             nbb_cells[i].set_text(nbb_formatted_code);\n",
       "                        }\n",
       "                        break;\n",
       "                    }\n",
       "                }\n",
       "            }, 500);\n",
       "            "
      ],
      "text/plain": [
       "<IPython.core.display.Javascript object>"
      ]
     },
     "metadata": {},
     "output_type": "display_data"
    }
   ],
   "source": [
    "import pandas as pd\n",
    "import numpy as np\n",
    "import os\n",
    "os.environ[\"TOKENIZERS_PARALLELISM\"] = \"false\"\n",
    "from tqdm.auto import tqdm\n",
    "\n",
    "import torch\n",
    "import torch.nn as nn\n",
    "from torch.utils.data import Dataset, DataLoader\n",
    "\n",
    "from transformers import BertTokenizerFast as BertTokenizer, BertModel, AdamW, get_linear_schedule_with_warmup\n",
    "import torchmetrics\n",
    "import pytorch_lightning as pl\n",
    "from torchmetrics.functional import accuracy,auroc\n",
    "from pytorch_lightning.callbacks import ModelCheckpoint, EarlyStopping\n",
    "from pytorch_lightning.loggers import TensorBoardLogger\n",
    "\n",
    "from sklearn.model_selection import train_test_split\n",
    "from sklearn.metrics import classification_report, multilabel_confusion_matrix\n",
    "\n",
    "import seaborn as sns\n",
    "from pylab import rcParams\n",
    "import matplotlib.pyplot as plt\n",
    "from matplotlib import rc\n",
    "import json\n",
    "import zipfile\n",
    "%matplotlib inline\n",
    "%config InlineBackend.figure_format='retina'\n",
    "\n",
    "RANDOM_SEED = 42\n",
    "\n",
    "sns.set(style='whitegrid', palette='muted', font_scale=1.2)\n",
    "HAPPY_COLORS_PALETTE = [\"#01BEFE\", \"#FFDD00\", \"#FF7D00\", \"#FF006D\", \"#ADFF02\", \"#8F00FF\"]\n",
    "sns.set_palette(sns.color_palette(HAPPY_COLORS_PALETTE))\n",
    "rcParams['figure.figsize'] = 12, 8\n",
    "\n",
    "pl.seed_everything(RANDOM_SEED)\n"
   ]
  },
  {
   "cell_type": "code",
   "execution_count": 3,
   "id": "ae9ca9ed",
   "metadata": {},
   "outputs": [
    {
     "name": "stdout",
     "output_type": "stream",
     "text": [
      "Python implementation: CPython\n",
      "Python version       : 3.8.0\n",
      "IPython version      : 8.3.0\n",
      "\n",
      "numpy       : 1.22.3\n",
      "pandas      : 1.4.3\n",
      "torch       : 1.11.0+cu113\n",
      "transformers: 4.21.0\n",
      "\n"
     ]
    },
    {
     "data": {
      "application/javascript": [
       "\n",
       "            setTimeout(function() {\n",
       "                var nbb_cell_id = 3;\n",
       "                var nbb_unformatted_code = \"%reload_ext watermark\\n%watermark -v -p numpy,pandas,torch,transformers\";\n",
       "                var nbb_formatted_code = \"%reload_ext watermark\\n%watermark -v -p numpy,pandas,torch,transformers\";\n",
       "                var nbb_cells = Jupyter.notebook.get_cells();\n",
       "                for (var i = 0; i < nbb_cells.length; ++i) {\n",
       "                    if (nbb_cells[i].input_prompt_number == nbb_cell_id) {\n",
       "                        if (nbb_cells[i].get_text() == nbb_unformatted_code) {\n",
       "                             nbb_cells[i].set_text(nbb_formatted_code);\n",
       "                        }\n",
       "                        break;\n",
       "                    }\n",
       "                }\n",
       "            }, 500);\n",
       "            "
      ],
      "text/plain": [
       "<IPython.core.display.Javascript object>"
      ]
     },
     "metadata": {},
     "output_type": "display_data"
    }
   ],
   "source": [
    "%reload_ext watermark\n",
    "%watermark -v -p numpy,pandas,torch,transformers"
   ]
  },
  {
   "cell_type": "markdown",
   "id": "20f7a876",
   "metadata": {},
   "source": [
    "# Data Preprocessing\n",
    "Pre-processs the GoEmotions dataset which is a corpus of carefully curated comments extracted from Reddit, with human annotations to 27 emotion categories or Neutral. Let's map datset according to 7 emotions. You can also try running the model on all emotions:"
   ]
  },
  {
   "cell_type": "code",
   "execution_count": 4,
   "id": "b0c50ac5",
   "metadata": {},
   "outputs": [
    {
     "data": {
      "application/javascript": [
       "\n",
       "            setTimeout(function() {\n",
       "                var nbb_cell_id = 4;\n",
       "                var nbb_unformatted_code = \"file_name = \\\"data_light/go_emotions/train.tsv\\\"\";\n",
       "                var nbb_formatted_code = \"file_name = \\\"data_light/go_emotions/train.tsv\\\"\";\n",
       "                var nbb_cells = Jupyter.notebook.get_cells();\n",
       "                for (var i = 0; i < nbb_cells.length; ++i) {\n",
       "                    if (nbb_cells[i].input_prompt_number == nbb_cell_id) {\n",
       "                        if (nbb_cells[i].get_text() == nbb_unformatted_code) {\n",
       "                             nbb_cells[i].set_text(nbb_formatted_code);\n",
       "                        }\n",
       "                        break;\n",
       "                    }\n",
       "                }\n",
       "            }, 500);\n",
       "            "
      ],
      "text/plain": [
       "<IPython.core.display.Javascript object>"
      ]
     },
     "metadata": {},
     "output_type": "display_data"
    }
   ],
   "source": [
    "file_name = \"data_light/go_emotions/train.tsv\""
   ]
  },
  {
   "cell_type": "code",
   "execution_count": 5,
   "id": "ba0bbf24",
   "metadata": {},
   "outputs": [
    {
     "data": {
      "application/javascript": [
       "\n",
       "            setTimeout(function() {\n",
       "                var nbb_cell_id = 5;\n",
       "                var nbb_unformatted_code = \"df = pd.read_csv(file_name, sep=\\\"\\\\t\\\", header=None, names=[\\\"Text\\\", \\\"Class\\\", \\\"ID\\\"])\";\n",
       "                var nbb_formatted_code = \"df = pd.read_csv(file_name, sep=\\\"\\\\t\\\", header=None, names=[\\\"Text\\\", \\\"Class\\\", \\\"ID\\\"])\";\n",
       "                var nbb_cells = Jupyter.notebook.get_cells();\n",
       "                for (var i = 0; i < nbb_cells.length; ++i) {\n",
       "                    if (nbb_cells[i].input_prompt_number == nbb_cell_id) {\n",
       "                        if (nbb_cells[i].get_text() == nbb_unformatted_code) {\n",
       "                             nbb_cells[i].set_text(nbb_formatted_code);\n",
       "                        }\n",
       "                        break;\n",
       "                    }\n",
       "                }\n",
       "            }, 500);\n",
       "            "
      ],
      "text/plain": [
       "<IPython.core.display.Javascript object>"
      ]
     },
     "metadata": {},
     "output_type": "display_data"
    }
   ],
   "source": [
    "df = pd.read_csv(file_name, sep=\"\\t\", header=None, names=[\"Text\", \"Class\", \"ID\"])"
   ]
  },
  {
   "cell_type": "code",
   "execution_count": 6,
   "id": "b97707bf",
   "metadata": {},
   "outputs": [
    {
     "data": {
      "application/javascript": [
       "\n",
       "            setTimeout(function() {\n",
       "                var nbb_cell_id = 6;\n",
       "                var nbb_unformatted_code = \"df[\\\"List of classes\\\"] = df[\\\"Class\\\"].apply(lambda x: x.split(\\\",\\\"))\\ndf[\\\"Len of classes\\\"] = df[\\\"List of classes\\\"].apply(lambda x: len(x))\";\n",
       "                var nbb_formatted_code = \"df[\\\"List of classes\\\"] = df[\\\"Class\\\"].apply(lambda x: x.split(\\\",\\\"))\\ndf[\\\"Len of classes\\\"] = df[\\\"List of classes\\\"].apply(lambda x: len(x))\";\n",
       "                var nbb_cells = Jupyter.notebook.get_cells();\n",
       "                for (var i = 0; i < nbb_cells.length; ++i) {\n",
       "                    if (nbb_cells[i].input_prompt_number == nbb_cell_id) {\n",
       "                        if (nbb_cells[i].get_text() == nbb_unformatted_code) {\n",
       "                             nbb_cells[i].set_text(nbb_formatted_code);\n",
       "                        }\n",
       "                        break;\n",
       "                    }\n",
       "                }\n",
       "            }, 500);\n",
       "            "
      ],
      "text/plain": [
       "<IPython.core.display.Javascript object>"
      ]
     },
     "metadata": {},
     "output_type": "display_data"
    }
   ],
   "source": [
    "df[\"List of classes\"] = df[\"Class\"].apply(lambda x: x.split(\",\"))\n",
    "df[\"Len of classes\"] = df[\"List of classes\"].apply(lambda x: len(x))"
   ]
  },
  {
   "cell_type": "code",
   "execution_count": 7,
   "id": "fd7b5618",
   "metadata": {},
   "outputs": [
    {
     "data": {
      "application/javascript": [
       "\n",
       "            setTimeout(function() {\n",
       "                var nbb_cell_id = 7;\n",
       "                var nbb_unformatted_code = \"with open(\\\"data_light/go_emotions/ekman_mapping.json\\\") as file:\\n    ekman_mapping = json.load(file)\";\n",
       "                var nbb_formatted_code = \"with open(\\\"data_light/go_emotions/ekman_mapping.json\\\") as file:\\n    ekman_mapping = json.load(file)\";\n",
       "                var nbb_cells = Jupyter.notebook.get_cells();\n",
       "                for (var i = 0; i < nbb_cells.length; ++i) {\n",
       "                    if (nbb_cells[i].input_prompt_number == nbb_cell_id) {\n",
       "                        if (nbb_cells[i].get_text() == nbb_unformatted_code) {\n",
       "                             nbb_cells[i].set_text(nbb_formatted_code);\n",
       "                        }\n",
       "                        break;\n",
       "                    }\n",
       "                }\n",
       "            }, 500);\n",
       "            "
      ],
      "text/plain": [
       "<IPython.core.display.Javascript object>"
      ]
     },
     "metadata": {},
     "output_type": "display_data"
    }
   ],
   "source": [
    "with open(\"data_light/go_emotions/ekman_mapping.json\") as file:\n",
    "    ekman_mapping = json.load(file)"
   ]
  },
  {
   "cell_type": "code",
   "execution_count": 8,
   "id": "77b87945",
   "metadata": {},
   "outputs": [
    {
     "name": "stdout",
     "output_type": "stream",
     "text": [
      "['admiration', 'amusement', 'anger', 'annoyance', 'approval', 'caring', 'confusion', 'curiosity', 'desire', 'disappointment', 'disapproval', 'disgust', 'embarrassment', 'excitement', 'fear', 'gratitude', 'grief', 'joy', 'love', 'nervousness', 'optimism', 'pride', 'realization', 'relief', 'remorse', 'sadness', 'surprise', 'neutral']\n"
     ]
    },
    {
     "data": {
      "application/javascript": [
       "\n",
       "            setTimeout(function() {\n",
       "                var nbb_cell_id = 8;\n",
       "                var nbb_unformatted_code = \"emotion_file = open(\\\"data_light/go_emotions/emotions.txt\\\", \\\"r\\\")\\nemotion_list = emotion_file.read()\\nemotion_list = emotion_list.split(\\\"\\\\n\\\")\\nprint(emotion_list)\";\n",
       "                var nbb_formatted_code = \"emotion_file = open(\\\"data_light/go_emotions/emotions.txt\\\", \\\"r\\\")\\nemotion_list = emotion_file.read()\\nemotion_list = emotion_list.split(\\\"\\\\n\\\")\\nprint(emotion_list)\";\n",
       "                var nbb_cells = Jupyter.notebook.get_cells();\n",
       "                for (var i = 0; i < nbb_cells.length; ++i) {\n",
       "                    if (nbb_cells[i].input_prompt_number == nbb_cell_id) {\n",
       "                        if (nbb_cells[i].get_text() == nbb_unformatted_code) {\n",
       "                             nbb_cells[i].set_text(nbb_formatted_code);\n",
       "                        }\n",
       "                        break;\n",
       "                    }\n",
       "                }\n",
       "            }, 500);\n",
       "            "
      ],
      "text/plain": [
       "<IPython.core.display.Javascript object>"
      ]
     },
     "metadata": {},
     "output_type": "display_data"
    }
   ],
   "source": [
    "emotion_file = open(\"data_light/go_emotions/emotions.txt\", \"r\")\n",
    "emotion_list = emotion_file.read()\n",
    "emotion_list = emotion_list.split(\"\\n\")\n",
    "print(emotion_list)"
   ]
  },
  {
   "cell_type": "code",
   "execution_count": 9,
   "id": "0c478b0d",
   "metadata": {},
   "outputs": [
    {
     "data": {
      "application/javascript": [
       "\n",
       "            setTimeout(function() {\n",
       "                var nbb_cell_id = 9;\n",
       "                var nbb_unformatted_code = \"def idx2class(idx_list):\\n    arr = []\\n    for i in idx_list:\\n        arr.append(emotion_list[int(i)])\\n    return arr\";\n",
       "                var nbb_formatted_code = \"def idx2class(idx_list):\\n    arr = []\\n    for i in idx_list:\\n        arr.append(emotion_list[int(i)])\\n    return arr\";\n",
       "                var nbb_cells = Jupyter.notebook.get_cells();\n",
       "                for (var i = 0; i < nbb_cells.length; ++i) {\n",
       "                    if (nbb_cells[i].input_prompt_number == nbb_cell_id) {\n",
       "                        if (nbb_cells[i].get_text() == nbb_unformatted_code) {\n",
       "                             nbb_cells[i].set_text(nbb_formatted_code);\n",
       "                        }\n",
       "                        break;\n",
       "                    }\n",
       "                }\n",
       "            }, 500);\n",
       "            "
      ],
      "text/plain": [
       "<IPython.core.display.Javascript object>"
      ]
     },
     "metadata": {},
     "output_type": "display_data"
    }
   ],
   "source": [
    "def idx2class(idx_list):\n",
    "    arr = []\n",
    "    for i in idx_list:\n",
    "        arr.append(emotion_list[int(i)])\n",
    "    return arr"
   ]
  },
  {
   "cell_type": "code",
   "execution_count": 10,
   "id": "9b7c259c",
   "metadata": {},
   "outputs": [
    {
     "data": {
      "application/javascript": [
       "\n",
       "            setTimeout(function() {\n",
       "                var nbb_cell_id = 10;\n",
       "                var nbb_unformatted_code = \"df['Emotions'] = df['List of classes'].apply(idx2class)\";\n",
       "                var nbb_formatted_code = \"df[\\\"Emotions\\\"] = df[\\\"List of classes\\\"].apply(idx2class)\";\n",
       "                var nbb_cells = Jupyter.notebook.get_cells();\n",
       "                for (var i = 0; i < nbb_cells.length; ++i) {\n",
       "                    if (nbb_cells[i].input_prompt_number == nbb_cell_id) {\n",
       "                        if (nbb_cells[i].get_text() == nbb_unformatted_code) {\n",
       "                             nbb_cells[i].set_text(nbb_formatted_code);\n",
       "                        }\n",
       "                        break;\n",
       "                    }\n",
       "                }\n",
       "            }, 500);\n",
       "            "
      ],
      "text/plain": [
       "<IPython.core.display.Javascript object>"
      ]
     },
     "metadata": {},
     "output_type": "display_data"
    }
   ],
   "source": [
    "df['Emotions'] = df['List of classes'].apply(idx2class)\n"
   ]
  },
  {
   "cell_type": "code",
   "execution_count": 11,
   "id": "b5f5898e",
   "metadata": {},
   "outputs": [
    {
     "data": {
      "application/javascript": [
       "\n",
       "            setTimeout(function() {\n",
       "                var nbb_cell_id = 11;\n",
       "                var nbb_unformatted_code = \"def EmotionMapping(emotion_list):\\n    map_list = []\\n\\n    for i in emotion_list:\\n        if i in ekman_mapping[\\\"anger\\\"]:\\n            map_list.append(\\\"anger\\\")\\n        if i in ekman_mapping[\\\"disgust\\\"]:\\n            map_list.append(\\\"disgust\\\")\\n        if i in ekman_mapping[\\\"fear\\\"]:\\n            map_list.append(\\\"fear\\\")\\n        if i in ekman_mapping[\\\"joy\\\"]:\\n            map_list.append(\\\"joy\\\")\\n        if i in ekman_mapping[\\\"sadness\\\"]:\\n            map_list.append(\\\"sadness\\\")\\n        if i in ekman_mapping[\\\"surprise\\\"]:\\n            map_list.append(\\\"surprise\\\")\\n        if i == \\\"neutral\\\":\\n            map_list.append(\\\"neutral\\\")\\n\\n    return map_list\";\n",
       "                var nbb_formatted_code = \"def EmotionMapping(emotion_list):\\n    map_list = []\\n\\n    for i in emotion_list:\\n        if i in ekman_mapping[\\\"anger\\\"]:\\n            map_list.append(\\\"anger\\\")\\n        if i in ekman_mapping[\\\"disgust\\\"]:\\n            map_list.append(\\\"disgust\\\")\\n        if i in ekman_mapping[\\\"fear\\\"]:\\n            map_list.append(\\\"fear\\\")\\n        if i in ekman_mapping[\\\"joy\\\"]:\\n            map_list.append(\\\"joy\\\")\\n        if i in ekman_mapping[\\\"sadness\\\"]:\\n            map_list.append(\\\"sadness\\\")\\n        if i in ekman_mapping[\\\"surprise\\\"]:\\n            map_list.append(\\\"surprise\\\")\\n        if i == \\\"neutral\\\":\\n            map_list.append(\\\"neutral\\\")\\n\\n    return map_list\";\n",
       "                var nbb_cells = Jupyter.notebook.get_cells();\n",
       "                for (var i = 0; i < nbb_cells.length; ++i) {\n",
       "                    if (nbb_cells[i].input_prompt_number == nbb_cell_id) {\n",
       "                        if (nbb_cells[i].get_text() == nbb_unformatted_code) {\n",
       "                             nbb_cells[i].set_text(nbb_formatted_code);\n",
       "                        }\n",
       "                        break;\n",
       "                    }\n",
       "                }\n",
       "            }, 500);\n",
       "            "
      ],
      "text/plain": [
       "<IPython.core.display.Javascript object>"
      ]
     },
     "metadata": {},
     "output_type": "display_data"
    }
   ],
   "source": [
    "def EmotionMapping(emotion_list):\n",
    "    map_list = []\n",
    "\n",
    "    for i in emotion_list:\n",
    "        if i in ekman_mapping[\"anger\"]:\n",
    "            map_list.append(\"anger\")\n",
    "        if i in ekman_mapping[\"disgust\"]:\n",
    "            map_list.append(\"disgust\")\n",
    "        if i in ekman_mapping[\"fear\"]:\n",
    "            map_list.append(\"fear\")\n",
    "        if i in ekman_mapping[\"joy\"]:\n",
    "            map_list.append(\"joy\")\n",
    "        if i in ekman_mapping[\"sadness\"]:\n",
    "            map_list.append(\"sadness\")\n",
    "        if i in ekman_mapping[\"surprise\"]:\n",
    "            map_list.append(\"surprise\")\n",
    "        if i == \"neutral\":\n",
    "            map_list.append(\"neutral\")\n",
    "\n",
    "    return map_list"
   ]
  },
  {
   "cell_type": "code",
   "execution_count": 12,
   "id": "ef0f04b1",
   "metadata": {},
   "outputs": [
    {
     "data": {
      "application/javascript": [
       "\n",
       "            setTimeout(function() {\n",
       "                var nbb_cell_id = 12;\n",
       "                var nbb_unformatted_code = \"df[\\\"Mapped Emotions\\\"] = df[\\\"Emotions\\\"].apply(EmotionMapping)\";\n",
       "                var nbb_formatted_code = \"df[\\\"Mapped Emotions\\\"] = df[\\\"Emotions\\\"].apply(EmotionMapping)\";\n",
       "                var nbb_cells = Jupyter.notebook.get_cells();\n",
       "                for (var i = 0; i < nbb_cells.length; ++i) {\n",
       "                    if (nbb_cells[i].input_prompt_number == nbb_cell_id) {\n",
       "                        if (nbb_cells[i].get_text() == nbb_unformatted_code) {\n",
       "                             nbb_cells[i].set_text(nbb_formatted_code);\n",
       "                        }\n",
       "                        break;\n",
       "                    }\n",
       "                }\n",
       "            }, 500);\n",
       "            "
      ],
      "text/plain": [
       "<IPython.core.display.Javascript object>"
      ]
     },
     "metadata": {},
     "output_type": "display_data"
    }
   ],
   "source": [
    "df[\"Mapped Emotions\"] = df[\"Emotions\"].apply(EmotionMapping)"
   ]
  },
  {
   "cell_type": "code",
   "execution_count": 13,
   "id": "e3a3153c",
   "metadata": {},
   "outputs": [
    {
     "data": {
      "application/javascript": [
       "\n",
       "            setTimeout(function() {\n",
       "                var nbb_cell_id = 13;\n",
       "                var nbb_unformatted_code = \"for i in ['anger', 'disgust', 'fear', 'joy', 'sadness', 'surprise','neutral']:\\n    df[i] = df['Mapped Emotions'].apply(lambda x: 1 if i in x else 0)\";\n",
       "                var nbb_formatted_code = \"for i in [\\\"anger\\\", \\\"disgust\\\", \\\"fear\\\", \\\"joy\\\", \\\"sadness\\\", \\\"surprise\\\", \\\"neutral\\\"]:\\n    df[i] = df[\\\"Mapped Emotions\\\"].apply(lambda x: 1 if i in x else 0)\";\n",
       "                var nbb_cells = Jupyter.notebook.get_cells();\n",
       "                for (var i = 0; i < nbb_cells.length; ++i) {\n",
       "                    if (nbb_cells[i].input_prompt_number == nbb_cell_id) {\n",
       "                        if (nbb_cells[i].get_text() == nbb_unformatted_code) {\n",
       "                             nbb_cells[i].set_text(nbb_formatted_code);\n",
       "                        }\n",
       "                        break;\n",
       "                    }\n",
       "                }\n",
       "            }, 500);\n",
       "            "
      ],
      "text/plain": [
       "<IPython.core.display.Javascript object>"
      ]
     },
     "metadata": {},
     "output_type": "display_data"
    }
   ],
   "source": [
    "for i in ['anger', 'disgust', 'fear', 'joy', 'sadness', 'surprise','neutral']:\n",
    "    df[i] = df['Mapped Emotions'].apply(lambda x: 1 if i in x else 0)\n"
   ]
  },
  {
   "cell_type": "code",
   "execution_count": 14,
   "id": "e91e87b2",
   "metadata": {},
   "outputs": [
    {
     "data": {
      "text/html": [
       "<div>\n",
       "<style scoped>\n",
       "    .dataframe tbody tr th:only-of-type {\n",
       "        vertical-align: middle;\n",
       "    }\n",
       "\n",
       "    .dataframe tbody tr th {\n",
       "        vertical-align: top;\n",
       "    }\n",
       "\n",
       "    .dataframe thead th {\n",
       "        text-align: right;\n",
       "    }\n",
       "</style>\n",
       "<table border=\"1\" class=\"dataframe\">\n",
       "  <thead>\n",
       "    <tr style=\"text-align: right;\">\n",
       "      <th></th>\n",
       "      <th>Text</th>\n",
       "      <th>Class</th>\n",
       "      <th>ID</th>\n",
       "      <th>List of classes</th>\n",
       "      <th>Len of classes</th>\n",
       "      <th>Emotions</th>\n",
       "      <th>Mapped Emotions</th>\n",
       "      <th>anger</th>\n",
       "      <th>disgust</th>\n",
       "      <th>fear</th>\n",
       "      <th>joy</th>\n",
       "      <th>sadness</th>\n",
       "      <th>surprise</th>\n",
       "      <th>neutral</th>\n",
       "    </tr>\n",
       "  </thead>\n",
       "  <tbody>\n",
       "    <tr>\n",
       "      <th>0</th>\n",
       "      <td>My favourite food is anything I didn't have to...</td>\n",
       "      <td>27</td>\n",
       "      <td>eebbqej</td>\n",
       "      <td>[27]</td>\n",
       "      <td>1</td>\n",
       "      <td>[neutral]</td>\n",
       "      <td>[neutral]</td>\n",
       "      <td>0</td>\n",
       "      <td>0</td>\n",
       "      <td>0</td>\n",
       "      <td>0</td>\n",
       "      <td>0</td>\n",
       "      <td>0</td>\n",
       "      <td>1</td>\n",
       "    </tr>\n",
       "    <tr>\n",
       "      <th>1</th>\n",
       "      <td>Now if he does off himself, everyone will thin...</td>\n",
       "      <td>27</td>\n",
       "      <td>ed00q6i</td>\n",
       "      <td>[27]</td>\n",
       "      <td>1</td>\n",
       "      <td>[neutral]</td>\n",
       "      <td>[neutral]</td>\n",
       "      <td>0</td>\n",
       "      <td>0</td>\n",
       "      <td>0</td>\n",
       "      <td>0</td>\n",
       "      <td>0</td>\n",
       "      <td>0</td>\n",
       "      <td>1</td>\n",
       "    </tr>\n",
       "    <tr>\n",
       "      <th>2</th>\n",
       "      <td>WHY THE FUCK IS BAYLESS ISOING</td>\n",
       "      <td>2</td>\n",
       "      <td>eezlygj</td>\n",
       "      <td>[2]</td>\n",
       "      <td>1</td>\n",
       "      <td>[anger]</td>\n",
       "      <td>[anger]</td>\n",
       "      <td>1</td>\n",
       "      <td>0</td>\n",
       "      <td>0</td>\n",
       "      <td>0</td>\n",
       "      <td>0</td>\n",
       "      <td>0</td>\n",
       "      <td>0</td>\n",
       "    </tr>\n",
       "    <tr>\n",
       "      <th>3</th>\n",
       "      <td>To make her feel threatened</td>\n",
       "      <td>14</td>\n",
       "      <td>ed7ypvh</td>\n",
       "      <td>[14]</td>\n",
       "      <td>1</td>\n",
       "      <td>[fear]</td>\n",
       "      <td>[fear]</td>\n",
       "      <td>0</td>\n",
       "      <td>0</td>\n",
       "      <td>1</td>\n",
       "      <td>0</td>\n",
       "      <td>0</td>\n",
       "      <td>0</td>\n",
       "      <td>0</td>\n",
       "    </tr>\n",
       "    <tr>\n",
       "      <th>4</th>\n",
       "      <td>Dirty Southern Wankers</td>\n",
       "      <td>3</td>\n",
       "      <td>ed0bdzj</td>\n",
       "      <td>[3]</td>\n",
       "      <td>1</td>\n",
       "      <td>[annoyance]</td>\n",
       "      <td>[anger]</td>\n",
       "      <td>1</td>\n",
       "      <td>0</td>\n",
       "      <td>0</td>\n",
       "      <td>0</td>\n",
       "      <td>0</td>\n",
       "      <td>0</td>\n",
       "      <td>0</td>\n",
       "    </tr>\n",
       "  </tbody>\n",
       "</table>\n",
       "</div>"
      ],
      "text/plain": [
       "                                                Text Class       ID  \\\n",
       "0  My favourite food is anything I didn't have to...    27  eebbqej   \n",
       "1  Now if he does off himself, everyone will thin...    27  ed00q6i   \n",
       "2                     WHY THE FUCK IS BAYLESS ISOING     2  eezlygj   \n",
       "3                        To make her feel threatened    14  ed7ypvh   \n",
       "4                             Dirty Southern Wankers     3  ed0bdzj   \n",
       "\n",
       "  List of classes  Len of classes     Emotions Mapped Emotions  anger  \\\n",
       "0            [27]               1    [neutral]       [neutral]      0   \n",
       "1            [27]               1    [neutral]       [neutral]      0   \n",
       "2             [2]               1      [anger]         [anger]      1   \n",
       "3            [14]               1       [fear]          [fear]      0   \n",
       "4             [3]               1  [annoyance]         [anger]      1   \n",
       "\n",
       "   disgust  fear  joy  sadness  surprise  neutral  \n",
       "0        0     0    0        0         0        1  \n",
       "1        0     0    0        0         0        1  \n",
       "2        0     0    0        0         0        0  \n",
       "3        0     1    0        0         0        0  \n",
       "4        0     0    0        0         0        0  "
      ]
     },
     "execution_count": 14,
     "metadata": {},
     "output_type": "execute_result"
    },
    {
     "data": {
      "application/javascript": [
       "\n",
       "            setTimeout(function() {\n",
       "                var nbb_cell_id = 14;\n",
       "                var nbb_unformatted_code = \"df.head()\";\n",
       "                var nbb_formatted_code = \"df.head()\";\n",
       "                var nbb_cells = Jupyter.notebook.get_cells();\n",
       "                for (var i = 0; i < nbb_cells.length; ++i) {\n",
       "                    if (nbb_cells[i].input_prompt_number == nbb_cell_id) {\n",
       "                        if (nbb_cells[i].get_text() == nbb_unformatted_code) {\n",
       "                             nbb_cells[i].set_text(nbb_formatted_code);\n",
       "                        }\n",
       "                        break;\n",
       "                    }\n",
       "                }\n",
       "            }, 500);\n",
       "            "
      ],
      "text/plain": [
       "<IPython.core.display.Javascript object>"
      ]
     },
     "metadata": {},
     "output_type": "display_data"
    }
   ],
   "source": [
    "df.head()"
   ]
  },
  {
   "cell_type": "code",
   "execution_count": 15,
   "id": "21e09ec2",
   "metadata": {},
   "outputs": [
    {
     "data": {
      "application/javascript": [
       "\n",
       "            setTimeout(function() {\n",
       "                var nbb_cell_id = 15;\n",
       "                var nbb_unformatted_code = \"df.drop(df[df['neutral'] == 1].index, inplace=True)\\n\\ndf.drop(df[df['disgust'] == 1].index, inplace=True)\";\n",
       "                var nbb_formatted_code = \"df.drop(df[df[\\\"neutral\\\"] == 1].index, inplace=True)\\n\\ndf.drop(df[df[\\\"disgust\\\"] == 1].index, inplace=True)\";\n",
       "                var nbb_cells = Jupyter.notebook.get_cells();\n",
       "                for (var i = 0; i < nbb_cells.length; ++i) {\n",
       "                    if (nbb_cells[i].input_prompt_number == nbb_cell_id) {\n",
       "                        if (nbb_cells[i].get_text() == nbb_unformatted_code) {\n",
       "                             nbb_cells[i].set_text(nbb_formatted_code);\n",
       "                        }\n",
       "                        break;\n",
       "                    }\n",
       "                }\n",
       "            }, 500);\n",
       "            "
      ],
      "text/plain": [
       "<IPython.core.display.Javascript object>"
      ]
     },
     "metadata": {},
     "output_type": "display_data"
    }
   ],
   "source": [
    "df.drop(df[df['neutral'] == 1].index, inplace=True)\n",
    "\n",
    "df.drop(df[df['disgust'] == 1].index, inplace=True)\n"
   ]
  },
  {
   "cell_type": "code",
   "execution_count": 16,
   "id": "c53a45b8",
   "metadata": {},
   "outputs": [
    {
     "data": {
      "application/javascript": [
       "\n",
       "            setTimeout(function() {\n",
       "                var nbb_cell_id = 16;\n",
       "                var nbb_unformatted_code = \"df.drop(\\n    [\\n        \\\"Class\\\",\\n        \\\"List of classes\\\",\\n        \\\"Len of classes\\\",\\n        \\\"Emotions\\\",\\n        \\\"Mapped Emotions\\\",\\n        \\\"neutral\\\",\\n        \\\"disgust\\\",\\n    ],\\n    axis=1,\\n    inplace=True,\\n)\";\n",
       "                var nbb_formatted_code = \"df.drop(\\n    [\\n        \\\"Class\\\",\\n        \\\"List of classes\\\",\\n        \\\"Len of classes\\\",\\n        \\\"Emotions\\\",\\n        \\\"Mapped Emotions\\\",\\n        \\\"neutral\\\",\\n        \\\"disgust\\\",\\n    ],\\n    axis=1,\\n    inplace=True,\\n)\";\n",
       "                var nbb_cells = Jupyter.notebook.get_cells();\n",
       "                for (var i = 0; i < nbb_cells.length; ++i) {\n",
       "                    if (nbb_cells[i].input_prompt_number == nbb_cell_id) {\n",
       "                        if (nbb_cells[i].get_text() == nbb_unformatted_code) {\n",
       "                             nbb_cells[i].set_text(nbb_formatted_code);\n",
       "                        }\n",
       "                        break;\n",
       "                    }\n",
       "                }\n",
       "            }, 500);\n",
       "            "
      ],
      "text/plain": [
       "<IPython.core.display.Javascript object>"
      ]
     },
     "metadata": {},
     "output_type": "display_data"
    }
   ],
   "source": [
    "df.drop(\n",
    "    [\n",
    "        \"Class\",\n",
    "        \"List of classes\",\n",
    "        \"Len of classes\",\n",
    "        \"Emotions\",\n",
    "        \"Mapped Emotions\",\n",
    "        \"neutral\",\n",
    "        \"disgust\",\n",
    "    ],\n",
    "    axis=1,\n",
    "    inplace=True,\n",
    ")"
   ]
  },
  {
   "cell_type": "code",
   "execution_count": 17,
   "id": "f9c40daf",
   "metadata": {},
   "outputs": [
    {
     "data": {
      "application/javascript": [
       "\n",
       "            setTimeout(function() {\n",
       "                var nbb_cell_id = 17;\n",
       "                var nbb_unformatted_code = \"contraction_mapping = {\\n    \\\"ain't\\\": \\\"is not\\\",\\n    \\\"aren't\\\": \\\"are not\\\",\\n    \\\"can't\\\": \\\"cannot\\\",\\n    \\\"'cause\\\": \\\"because\\\",\\n    \\\"could've\\\": \\\"could have\\\",\\n    \\\"couldn't\\\": \\\"could not\\\",\\n    \\\"didn't\\\": \\\"did not\\\",\\n    \\\"doesn't\\\": \\\"does not\\\",\\n    \\\"don't\\\": \\\"do not\\\",\\n    \\\"hadn't\\\": \\\"had not\\\",\\n    \\\"hasn't\\\": \\\"has not\\\",\\n    \\\"haven't\\\": \\\"have not\\\",\\n    \\\"he'd\\\": \\\"he would\\\",\\n    \\\"he'll\\\": \\\"he will\\\",\\n    \\\"he's\\\": \\\"he is\\\",\\n    \\\"how'd\\\": \\\"how did\\\",\\n    \\\"how'd'y\\\": \\\"how do you\\\",\\n    \\\"how'll\\\": \\\"how will\\\",\\n    \\\"how's\\\": \\\"how is\\\",\\n    \\\"I'd\\\": \\\"I would\\\",\\n    \\\"I'd've\\\": \\\"I would have\\\",\\n    \\\"I'll\\\": \\\"I will\\\",\\n    \\\"I'll've\\\": \\\"I will have\\\",\\n    \\\"I'm\\\": \\\"I am\\\",\\n    \\\"I've\\\": \\\"I have\\\",\\n    \\\"i'd\\\": \\\"i would\\\",\\n    \\\"i'd've\\\": \\\"i would have\\\",\\n    \\\"i'll\\\": \\\"i will\\\",\\n    \\\"i'll've\\\": \\\"i will have\\\",\\n    \\\"i'm\\\": \\\"i am\\\",\\n    \\\"i've\\\": \\\"i have\\\",\\n    \\\"isn't\\\": \\\"is not\\\",\\n    \\\"it'd\\\": \\\"it would\\\",\\n    \\\"it'd've\\\": \\\"it would have\\\",\\n    \\\"it'll\\\": \\\"it will\\\",\\n    \\\"it'll've\\\": \\\"it will have\\\",\\n    \\\"it's\\\": \\\"it is\\\",\\n    \\\"let's\\\": \\\"let us\\\",\\n    \\\"ma'am\\\": \\\"madam\\\",\\n    \\\"mayn't\\\": \\\"may not\\\",\\n    \\\"might've\\\": \\\"might have\\\",\\n    \\\"mightn't\\\": \\\"might not\\\",\\n    \\\"mightn't've\\\": \\\"might not have\\\",\\n    \\\"must've\\\": \\\"must have\\\",\\n    \\\"mustn't\\\": \\\"must not\\\",\\n    \\\"mustn't've\\\": \\\"must not have\\\",\\n    \\\"needn't\\\": \\\"need not\\\",\\n    \\\"needn't've\\\": \\\"need not have\\\",\\n    \\\"o'clock\\\": \\\"of the clock\\\",\\n    \\\"oughtn't\\\": \\\"ought not\\\",\\n    \\\"oughtn't've\\\": \\\"ought not have\\\",\\n    \\\"shan't\\\": \\\"shall not\\\",\\n    \\\"sha'n't\\\": \\\"shall not\\\",\\n    \\\"shan't've\\\": \\\"shall not have\\\",\\n    \\\"she'd\\\": \\\"she would\\\",\\n    \\\"she'd've\\\": \\\"she would have\\\",\\n    \\\"she'll\\\": \\\"she will\\\",\\n    \\\"she'll've\\\": \\\"she will have\\\",\\n    \\\"she's\\\": \\\"she is\\\",\\n    \\\"should've\\\": \\\"should have\\\",\\n    \\\"shouldn't\\\": \\\"should not\\\",\\n    \\\"shouldn't've\\\": \\\"should not have\\\",\\n    \\\"so've\\\": \\\"so have\\\",\\n    \\\"so's\\\": \\\"so as\\\",\\n    \\\"this's\\\": \\\"this is\\\",\\n    \\\"that'd\\\": \\\"that would\\\",\\n    \\\"that'd've\\\": \\\"that would have\\\",\\n    \\\"that's\\\": \\\"that is\\\",\\n    \\\"there'd\\\": \\\"there would\\\",\\n    \\\"there'd've\\\": \\\"there would have\\\",\\n    \\\"there's\\\": \\\"there is\\\",\\n    \\\"here's\\\": \\\"here is\\\",\\n    \\\"they'd\\\": \\\"they would\\\",\\n    \\\"they'd've\\\": \\\"they would have\\\",\\n    \\\"they'll\\\": \\\"they will\\\",\\n    \\\"they'll've\\\": \\\"they will have\\\",\\n    \\\"they're\\\": \\\"they are\\\",\\n    \\\"they've\\\": \\\"they have\\\",\\n    \\\"to've\\\": \\\"to have\\\",\\n    \\\"wasn't\\\": \\\"was not\\\",\\n    \\\"we'd\\\": \\\"we would\\\",\\n    \\\"we'd've\\\": \\\"we would have\\\",\\n    \\\"we'll\\\": \\\"we will\\\",\\n    \\\"we'll've\\\": \\\"we will have\\\",\\n    \\\"we're\\\": \\\"we are\\\",\\n    \\\"we've\\\": \\\"we have\\\",\\n    \\\"weren't\\\": \\\"were not\\\",\\n    \\\"what'll\\\": \\\"what will\\\",\\n    \\\"what'll've\\\": \\\"what will have\\\",\\n    \\\"what're\\\": \\\"what are\\\",\\n    \\\"what's\\\": \\\"what is\\\",\\n    \\\"what've\\\": \\\"what have\\\",\\n    \\\"when's\\\": \\\"when is\\\",\\n    \\\"when've\\\": \\\"when have\\\",\\n    \\\"where'd\\\": \\\"where did\\\",\\n    \\\"where's\\\": \\\"where is\\\",\\n    \\\"where've\\\": \\\"where have\\\",\\n    \\\"who'll\\\": \\\"who will\\\",\\n    \\\"who'll've\\\": \\\"who will have\\\",\\n    \\\"who's\\\": \\\"who is\\\",\\n    \\\"who've\\\": \\\"who have\\\",\\n    \\\"why's\\\": \\\"why is\\\",\\n    \\\"why've\\\": \\\"why have\\\",\\n    \\\"will've\\\": \\\"will have\\\",\\n    \\\"won't\\\": \\\"will not\\\",\\n    \\\"won't've\\\": \\\"will not have\\\",\\n    \\\"would've\\\": \\\"would have\\\",\\n    \\\"wouldn't\\\": \\\"would not\\\",\\n    \\\"wouldn't've\\\": \\\"would not have\\\",\\n    \\\"y'all\\\": \\\"you all\\\",\\n    \\\"y'all'd\\\": \\\"you all would\\\",\\n    \\\"y'all'd've\\\": \\\"you all would have\\\",\\n    \\\"y'all're\\\": \\\"you all are\\\",\\n    \\\"y'all've\\\": \\\"you all have\\\",\\n    \\\"you'd\\\": \\\"you would\\\",\\n    \\\"you'd've\\\": \\\"you would have\\\",\\n    \\\"you'll\\\": \\\"you will\\\",\\n    \\\"you'll've\\\": \\\"you will have\\\",\\n    \\\"you're\\\": \\\"you are\\\",\\n    \\\"you've\\\": \\\"you have\\\",\\n    \\\"u.s\\\": \\\"america\\\",\\n    \\\"e.g\\\": \\\"for example\\\",\\n}\\n\\npunct = [\\n    \\\",\\\",\\n    \\\".\\\",\\n    '\\\"',\\n    \\\":\\\",\\n    \\\")\\\",\\n    \\\"(\\\",\\n    \\\"-\\\",\\n    \\\"!\\\",\\n    \\\"?\\\",\\n    \\\"|\\\",\\n    \\\";\\\",\\n    \\\"'\\\",\\n    \\\"$\\\",\\n    \\\"&\\\",\\n    \\\"/\\\",\\n    \\\"[\\\",\\n    \\\"]\\\",\\n    \\\">\\\",\\n    \\\"%\\\",\\n    \\\"=\\\",\\n    \\\"#\\\",\\n    \\\"*\\\",\\n    \\\"+\\\",\\n    \\\"\\\\\\\\\\\",\\n    \\\"\\u2022\\\",\\n    \\\"~\\\",\\n    \\\"@\\\",\\n    \\\"\\u00a3\\\",\\n    \\\"\\u00b7\\\",\\n    \\\"_\\\",\\n    \\\"{\\\",\\n    \\\"}\\\",\\n    \\\"\\u00a9\\\",\\n    \\\"^\\\",\\n    \\\"\\u00ae\\\",\\n    \\\"`\\\",\\n    \\\"<\\\",\\n    \\\"\\u2192\\\",\\n    \\\"\\u00b0\\\",\\n    \\\"\\u20ac\\\",\\n    \\\"\\u2122\\\",\\n    \\\"\\u203a\\\",\\n    \\\"\\u2665\\\",\\n    \\\"\\u2190\\\",\\n    \\\"\\u00d7\\\",\\n    \\\"\\u00a7\\\",\\n    \\\"\\u2033\\\",\\n    \\\"\\u2032\\\",\\n    \\\"\\u00c2\\\",\\n    \\\"\\u2588\\\",\\n    \\\"\\u00bd\\\",\\n    \\\"\\u00e0\\\",\\n    \\\"\\u2026\\\",\\n    \\\"\\u201c\\\",\\n    \\\"\\u2605\\\",\\n    \\\"\\u201d\\\",\\n    \\\"\\u2013\\\",\\n    \\\"\\u25cf\\\",\\n    \\\"\\u00e2\\\",\\n    \\\"\\u25ba\\\",\\n    \\\"\\u2212\\\",\\n    \\\"\\u00a2\\\",\\n    \\\"\\u00b2\\\",\\n    \\\"\\u00ac\\\",\\n    \\\"\\u2591\\\",\\n    \\\"\\u00b6\\\",\\n    \\\"\\u2191\\\",\\n    \\\"\\u00b1\\\",\\n    \\\"\\u00bf\\\",\\n    \\\"\\u25be\\\",\\n    \\\"\\u2550\\\",\\n    \\\"\\u00a6\\\",\\n    \\\"\\u2551\\\",\\n    \\\"\\u2015\\\",\\n    \\\"\\u00a5\\\",\\n    \\\"\\u2593\\\",\\n    \\\"\\u2014\\\",\\n    \\\"\\u2039\\\",\\n    \\\"\\u2500\\\",\\n    \\\"\\u2592\\\",\\n    \\\"\\uff1a\\\",\\n    \\\"\\u00bc\\\",\\n    \\\"\\u2295\\\",\\n    \\\"\\u25bc\\\",\\n    \\\"\\u25aa\\\",\\n    \\\"\\u2020\\\",\\n    \\\"\\u25a0\\\",\\n    \\\"\\u2019\\\",\\n    \\\"\\u2580\\\",\\n    \\\"\\u00a8\\\",\\n    \\\"\\u2584\\\",\\n    \\\"\\u266b\\\",\\n    \\\"\\u2606\\\",\\n    \\\"\\u00e9\\\",\\n    \\\"\\u00af\\\",\\n    \\\"\\u2666\\\",\\n    \\\"\\u00a4\\\",\\n    \\\"\\u25b2\\\",\\n    \\\"\\u00e8\\\",\\n    \\\"\\u00b8\\\",\\n    \\\"\\u00be\\\",\\n    \\\"\\u00c3\\\",\\n    \\\"\\u22c5\\\",\\n    \\\"\\u2018\\\",\\n    \\\"\\u221e\\\",\\n    \\\"\\u2219\\\",\\n    \\\"\\uff09\\\",\\n    \\\"\\u2193\\\",\\n    \\\"\\u3001\\\",\\n    \\\"\\u2502\\\",\\n    \\\"\\uff08\\\",\\n    \\\"\\u00bb\\\",\\n    \\\"\\uff0c\\\",\\n    \\\"\\u266a\\\",\\n    \\\"\\u2569\\\",\\n    \\\"\\u255a\\\",\\n    \\\"\\u00b3\\\",\\n    \\\"\\u30fb\\\",\\n    \\\"\\u2566\\\",\\n    \\\"\\u2563\\\",\\n    \\\"\\u2554\\\",\\n    \\\"\\u2557\\\",\\n    \\\"\\u25ac\\\",\\n    \\\"\\u2764\\\",\\n    \\\"\\u00ef\\\",\\n    \\\"\\u00d8\\\",\\n    \\\"\\u00b9\\\",\\n    \\\"\\u2264\\\",\\n    \\\"\\u2021\\\",\\n    \\\"\\u221a\\\",\\n]\\n\\npunct_mapping = {\\n    \\\"\\u2018\\\": \\\"'\\\",\\n    \\\"\\u20b9\\\": \\\"e\\\",\\n    \\\"\\u00b4\\\": \\\"'\\\",\\n    \\\"\\u00b0\\\": \\\"\\\",\\n    \\\"\\u20ac\\\": \\\"e\\\",\\n    \\\"\\u2122\\\": \\\"tm\\\",\\n    \\\"\\u221a\\\": \\\" sqrt \\\",\\n    \\\"\\u00d7\\\": \\\"x\\\",\\n    \\\"\\u00b2\\\": \\\"2\\\",\\n    \\\"\\u2014\\\": \\\"-\\\",\\n    \\\"\\u2013\\\": \\\"-\\\",\\n    \\\"\\u2019\\\": \\\"'\\\",\\n    \\\"_\\\": \\\"-\\\",\\n    \\\"`\\\": \\\"'\\\",\\n    \\\"\\u201c\\\": '\\\"',\\n    \\\"\\u201d\\\": '\\\"',\\n    \\\"\\u201c\\\": '\\\"',\\n    \\\"\\u00a3\\\": \\\"e\\\",\\n    \\\"\\u221e\\\": \\\"infinity\\\",\\n    \\\"\\u03b8\\\": \\\"theta\\\",\\n    \\\"\\u00f7\\\": \\\"/\\\",\\n    \\\"\\u03b1\\\": \\\"alpha\\\",\\n    \\\"\\u2022\\\": \\\".\\\",\\n    \\\"\\u00e0\\\": \\\"a\\\",\\n    \\\"\\u2212\\\": \\\"-\\\",\\n    \\\"\\u03b2\\\": \\\"beta\\\",\\n    \\\"\\u2205\\\": \\\"\\\",\\n    \\\"\\u00b3\\\": \\\"3\\\",\\n    \\\"\\u03c0\\\": \\\"pi\\\",\\n    \\\"!\\\": \\\" \\\",\\n}\\n\\nmispell_dict = {\\n    \\\"colour\\\": \\\"color\\\",\\n    \\\"centre\\\": \\\"center\\\",\\n    \\\"favourite\\\": \\\"favorite\\\",\\n    \\\"travelling\\\": \\\"traveling\\\",\\n    \\\"counselling\\\": \\\"counseling\\\",\\n    \\\"theatre\\\": \\\"theater\\\",\\n    \\\"cancelled\\\": \\\"canceled\\\",\\n    \\\"labour\\\": \\\"labor\\\",\\n    \\\"organisation\\\": \\\"organization\\\",\\n    \\\"wwii\\\": \\\"world war 2\\\",\\n    \\\"citicise\\\": \\\"criticize\\\",\\n    \\\"youtu \\\": \\\"youtube \\\",\\n    \\\"Qoura\\\": \\\"Quora\\\",\\n    \\\"sallary\\\": \\\"salary\\\",\\n    \\\"Whta\\\": \\\"What\\\",\\n    \\\"narcisist\\\": \\\"narcissist\\\",\\n    \\\"howdo\\\": \\\"how do\\\",\\n    \\\"whatare\\\": \\\"what are\\\",\\n    \\\"howcan\\\": \\\"how can\\\",\\n    \\\"howmuch\\\": \\\"how much\\\",\\n    \\\"howmany\\\": \\\"how many\\\",\\n    \\\"whydo\\\": \\\"why do\\\",\\n    \\\"doI\\\": \\\"do I\\\",\\n    \\\"theBest\\\": \\\"the best\\\",\\n    \\\"howdoes\\\": \\\"how does\\\",\\n    \\\"mastrubation\\\": \\\"masturbation\\\",\\n    \\\"mastrubate\\\": \\\"masturbate\\\",\\n    \\\"mastrubating\\\": \\\"masturbating\\\",\\n    \\\"pennis\\\": \\\"penis\\\",\\n    \\\"Etherium\\\": \\\"Ethereum\\\",\\n    \\\"narcissit\\\": \\\"narcissist\\\",\\n    \\\"bigdata\\\": \\\"big data\\\",\\n    \\\"2k17\\\": \\\"2017\\\",\\n    \\\"2k18\\\": \\\"2018\\\",\\n    \\\"qouta\\\": \\\"quota\\\",\\n    \\\"exboyfriend\\\": \\\"ex boyfriend\\\",\\n    \\\"airhostess\\\": \\\"air hostess\\\",\\n    \\\"whst\\\": \\\"what\\\",\\n    \\\"watsapp\\\": \\\"whatsapp\\\",\\n    \\\"demonitisation\\\": \\\"demonetization\\\",\\n    \\\"demonitization\\\": \\\"demonetization\\\",\\n    \\\"demonetisation\\\": \\\"demonetization\\\",\\n}\";\n",
       "                var nbb_formatted_code = \"contraction_mapping = {\\n    \\\"ain't\\\": \\\"is not\\\",\\n    \\\"aren't\\\": \\\"are not\\\",\\n    \\\"can't\\\": \\\"cannot\\\",\\n    \\\"'cause\\\": \\\"because\\\",\\n    \\\"could've\\\": \\\"could have\\\",\\n    \\\"couldn't\\\": \\\"could not\\\",\\n    \\\"didn't\\\": \\\"did not\\\",\\n    \\\"doesn't\\\": \\\"does not\\\",\\n    \\\"don't\\\": \\\"do not\\\",\\n    \\\"hadn't\\\": \\\"had not\\\",\\n    \\\"hasn't\\\": \\\"has not\\\",\\n    \\\"haven't\\\": \\\"have not\\\",\\n    \\\"he'd\\\": \\\"he would\\\",\\n    \\\"he'll\\\": \\\"he will\\\",\\n    \\\"he's\\\": \\\"he is\\\",\\n    \\\"how'd\\\": \\\"how did\\\",\\n    \\\"how'd'y\\\": \\\"how do you\\\",\\n    \\\"how'll\\\": \\\"how will\\\",\\n    \\\"how's\\\": \\\"how is\\\",\\n    \\\"I'd\\\": \\\"I would\\\",\\n    \\\"I'd've\\\": \\\"I would have\\\",\\n    \\\"I'll\\\": \\\"I will\\\",\\n    \\\"I'll've\\\": \\\"I will have\\\",\\n    \\\"I'm\\\": \\\"I am\\\",\\n    \\\"I've\\\": \\\"I have\\\",\\n    \\\"i'd\\\": \\\"i would\\\",\\n    \\\"i'd've\\\": \\\"i would have\\\",\\n    \\\"i'll\\\": \\\"i will\\\",\\n    \\\"i'll've\\\": \\\"i will have\\\",\\n    \\\"i'm\\\": \\\"i am\\\",\\n    \\\"i've\\\": \\\"i have\\\",\\n    \\\"isn't\\\": \\\"is not\\\",\\n    \\\"it'd\\\": \\\"it would\\\",\\n    \\\"it'd've\\\": \\\"it would have\\\",\\n    \\\"it'll\\\": \\\"it will\\\",\\n    \\\"it'll've\\\": \\\"it will have\\\",\\n    \\\"it's\\\": \\\"it is\\\",\\n    \\\"let's\\\": \\\"let us\\\",\\n    \\\"ma'am\\\": \\\"madam\\\",\\n    \\\"mayn't\\\": \\\"may not\\\",\\n    \\\"might've\\\": \\\"might have\\\",\\n    \\\"mightn't\\\": \\\"might not\\\",\\n    \\\"mightn't've\\\": \\\"might not have\\\",\\n    \\\"must've\\\": \\\"must have\\\",\\n    \\\"mustn't\\\": \\\"must not\\\",\\n    \\\"mustn't've\\\": \\\"must not have\\\",\\n    \\\"needn't\\\": \\\"need not\\\",\\n    \\\"needn't've\\\": \\\"need not have\\\",\\n    \\\"o'clock\\\": \\\"of the clock\\\",\\n    \\\"oughtn't\\\": \\\"ought not\\\",\\n    \\\"oughtn't've\\\": \\\"ought not have\\\",\\n    \\\"shan't\\\": \\\"shall not\\\",\\n    \\\"sha'n't\\\": \\\"shall not\\\",\\n    \\\"shan't've\\\": \\\"shall not have\\\",\\n    \\\"she'd\\\": \\\"she would\\\",\\n    \\\"she'd've\\\": \\\"she would have\\\",\\n    \\\"she'll\\\": \\\"she will\\\",\\n    \\\"she'll've\\\": \\\"she will have\\\",\\n    \\\"she's\\\": \\\"she is\\\",\\n    \\\"should've\\\": \\\"should have\\\",\\n    \\\"shouldn't\\\": \\\"should not\\\",\\n    \\\"shouldn't've\\\": \\\"should not have\\\",\\n    \\\"so've\\\": \\\"so have\\\",\\n    \\\"so's\\\": \\\"so as\\\",\\n    \\\"this's\\\": \\\"this is\\\",\\n    \\\"that'd\\\": \\\"that would\\\",\\n    \\\"that'd've\\\": \\\"that would have\\\",\\n    \\\"that's\\\": \\\"that is\\\",\\n    \\\"there'd\\\": \\\"there would\\\",\\n    \\\"there'd've\\\": \\\"there would have\\\",\\n    \\\"there's\\\": \\\"there is\\\",\\n    \\\"here's\\\": \\\"here is\\\",\\n    \\\"they'd\\\": \\\"they would\\\",\\n    \\\"they'd've\\\": \\\"they would have\\\",\\n    \\\"they'll\\\": \\\"they will\\\",\\n    \\\"they'll've\\\": \\\"they will have\\\",\\n    \\\"they're\\\": \\\"they are\\\",\\n    \\\"they've\\\": \\\"they have\\\",\\n    \\\"to've\\\": \\\"to have\\\",\\n    \\\"wasn't\\\": \\\"was not\\\",\\n    \\\"we'd\\\": \\\"we would\\\",\\n    \\\"we'd've\\\": \\\"we would have\\\",\\n    \\\"we'll\\\": \\\"we will\\\",\\n    \\\"we'll've\\\": \\\"we will have\\\",\\n    \\\"we're\\\": \\\"we are\\\",\\n    \\\"we've\\\": \\\"we have\\\",\\n    \\\"weren't\\\": \\\"were not\\\",\\n    \\\"what'll\\\": \\\"what will\\\",\\n    \\\"what'll've\\\": \\\"what will have\\\",\\n    \\\"what're\\\": \\\"what are\\\",\\n    \\\"what's\\\": \\\"what is\\\",\\n    \\\"what've\\\": \\\"what have\\\",\\n    \\\"when's\\\": \\\"when is\\\",\\n    \\\"when've\\\": \\\"when have\\\",\\n    \\\"where'd\\\": \\\"where did\\\",\\n    \\\"where's\\\": \\\"where is\\\",\\n    \\\"where've\\\": \\\"where have\\\",\\n    \\\"who'll\\\": \\\"who will\\\",\\n    \\\"who'll've\\\": \\\"who will have\\\",\\n    \\\"who's\\\": \\\"who is\\\",\\n    \\\"who've\\\": \\\"who have\\\",\\n    \\\"why's\\\": \\\"why is\\\",\\n    \\\"why've\\\": \\\"why have\\\",\\n    \\\"will've\\\": \\\"will have\\\",\\n    \\\"won't\\\": \\\"will not\\\",\\n    \\\"won't've\\\": \\\"will not have\\\",\\n    \\\"would've\\\": \\\"would have\\\",\\n    \\\"wouldn't\\\": \\\"would not\\\",\\n    \\\"wouldn't've\\\": \\\"would not have\\\",\\n    \\\"y'all\\\": \\\"you all\\\",\\n    \\\"y'all'd\\\": \\\"you all would\\\",\\n    \\\"y'all'd've\\\": \\\"you all would have\\\",\\n    \\\"y'all're\\\": \\\"you all are\\\",\\n    \\\"y'all've\\\": \\\"you all have\\\",\\n    \\\"you'd\\\": \\\"you would\\\",\\n    \\\"you'd've\\\": \\\"you would have\\\",\\n    \\\"you'll\\\": \\\"you will\\\",\\n    \\\"you'll've\\\": \\\"you will have\\\",\\n    \\\"you're\\\": \\\"you are\\\",\\n    \\\"you've\\\": \\\"you have\\\",\\n    \\\"u.s\\\": \\\"america\\\",\\n    \\\"e.g\\\": \\\"for example\\\",\\n}\\n\\npunct = [\\n    \\\",\\\",\\n    \\\".\\\",\\n    '\\\"',\\n    \\\":\\\",\\n    \\\")\\\",\\n    \\\"(\\\",\\n    \\\"-\\\",\\n    \\\"!\\\",\\n    \\\"?\\\",\\n    \\\"|\\\",\\n    \\\";\\\",\\n    \\\"'\\\",\\n    \\\"$\\\",\\n    \\\"&\\\",\\n    \\\"/\\\",\\n    \\\"[\\\",\\n    \\\"]\\\",\\n    \\\">\\\",\\n    \\\"%\\\",\\n    \\\"=\\\",\\n    \\\"#\\\",\\n    \\\"*\\\",\\n    \\\"+\\\",\\n    \\\"\\\\\\\\\\\",\\n    \\\"\\u2022\\\",\\n    \\\"~\\\",\\n    \\\"@\\\",\\n    \\\"\\u00a3\\\",\\n    \\\"\\u00b7\\\",\\n    \\\"_\\\",\\n    \\\"{\\\",\\n    \\\"}\\\",\\n    \\\"\\u00a9\\\",\\n    \\\"^\\\",\\n    \\\"\\u00ae\\\",\\n    \\\"`\\\",\\n    \\\"<\\\",\\n    \\\"\\u2192\\\",\\n    \\\"\\u00b0\\\",\\n    \\\"\\u20ac\\\",\\n    \\\"\\u2122\\\",\\n    \\\"\\u203a\\\",\\n    \\\"\\u2665\\\",\\n    \\\"\\u2190\\\",\\n    \\\"\\u00d7\\\",\\n    \\\"\\u00a7\\\",\\n    \\\"\\u2033\\\",\\n    \\\"\\u2032\\\",\\n    \\\"\\u00c2\\\",\\n    \\\"\\u2588\\\",\\n    \\\"\\u00bd\\\",\\n    \\\"\\u00e0\\\",\\n    \\\"\\u2026\\\",\\n    \\\"\\u201c\\\",\\n    \\\"\\u2605\\\",\\n    \\\"\\u201d\\\",\\n    \\\"\\u2013\\\",\\n    \\\"\\u25cf\\\",\\n    \\\"\\u00e2\\\",\\n    \\\"\\u25ba\\\",\\n    \\\"\\u2212\\\",\\n    \\\"\\u00a2\\\",\\n    \\\"\\u00b2\\\",\\n    \\\"\\u00ac\\\",\\n    \\\"\\u2591\\\",\\n    \\\"\\u00b6\\\",\\n    \\\"\\u2191\\\",\\n    \\\"\\u00b1\\\",\\n    \\\"\\u00bf\\\",\\n    \\\"\\u25be\\\",\\n    \\\"\\u2550\\\",\\n    \\\"\\u00a6\\\",\\n    \\\"\\u2551\\\",\\n    \\\"\\u2015\\\",\\n    \\\"\\u00a5\\\",\\n    \\\"\\u2593\\\",\\n    \\\"\\u2014\\\",\\n    \\\"\\u2039\\\",\\n    \\\"\\u2500\\\",\\n    \\\"\\u2592\\\",\\n    \\\"\\uff1a\\\",\\n    \\\"\\u00bc\\\",\\n    \\\"\\u2295\\\",\\n    \\\"\\u25bc\\\",\\n    \\\"\\u25aa\\\",\\n    \\\"\\u2020\\\",\\n    \\\"\\u25a0\\\",\\n    \\\"\\u2019\\\",\\n    \\\"\\u2580\\\",\\n    \\\"\\u00a8\\\",\\n    \\\"\\u2584\\\",\\n    \\\"\\u266b\\\",\\n    \\\"\\u2606\\\",\\n    \\\"\\u00e9\\\",\\n    \\\"\\u00af\\\",\\n    \\\"\\u2666\\\",\\n    \\\"\\u00a4\\\",\\n    \\\"\\u25b2\\\",\\n    \\\"\\u00e8\\\",\\n    \\\"\\u00b8\\\",\\n    \\\"\\u00be\\\",\\n    \\\"\\u00c3\\\",\\n    \\\"\\u22c5\\\",\\n    \\\"\\u2018\\\",\\n    \\\"\\u221e\\\",\\n    \\\"\\u2219\\\",\\n    \\\"\\uff09\\\",\\n    \\\"\\u2193\\\",\\n    \\\"\\u3001\\\",\\n    \\\"\\u2502\\\",\\n    \\\"\\uff08\\\",\\n    \\\"\\u00bb\\\",\\n    \\\"\\uff0c\\\",\\n    \\\"\\u266a\\\",\\n    \\\"\\u2569\\\",\\n    \\\"\\u255a\\\",\\n    \\\"\\u00b3\\\",\\n    \\\"\\u30fb\\\",\\n    \\\"\\u2566\\\",\\n    \\\"\\u2563\\\",\\n    \\\"\\u2554\\\",\\n    \\\"\\u2557\\\",\\n    \\\"\\u25ac\\\",\\n    \\\"\\u2764\\\",\\n    \\\"\\u00ef\\\",\\n    \\\"\\u00d8\\\",\\n    \\\"\\u00b9\\\",\\n    \\\"\\u2264\\\",\\n    \\\"\\u2021\\\",\\n    \\\"\\u221a\\\",\\n]\\n\\npunct_mapping = {\\n    \\\"\\u2018\\\": \\\"'\\\",\\n    \\\"\\u20b9\\\": \\\"e\\\",\\n    \\\"\\u00b4\\\": \\\"'\\\",\\n    \\\"\\u00b0\\\": \\\"\\\",\\n    \\\"\\u20ac\\\": \\\"e\\\",\\n    \\\"\\u2122\\\": \\\"tm\\\",\\n    \\\"\\u221a\\\": \\\" sqrt \\\",\\n    \\\"\\u00d7\\\": \\\"x\\\",\\n    \\\"\\u00b2\\\": \\\"2\\\",\\n    \\\"\\u2014\\\": \\\"-\\\",\\n    \\\"\\u2013\\\": \\\"-\\\",\\n    \\\"\\u2019\\\": \\\"'\\\",\\n    \\\"_\\\": \\\"-\\\",\\n    \\\"`\\\": \\\"'\\\",\\n    \\\"\\u201c\\\": '\\\"',\\n    \\\"\\u201d\\\": '\\\"',\\n    \\\"\\u201c\\\": '\\\"',\\n    \\\"\\u00a3\\\": \\\"e\\\",\\n    \\\"\\u221e\\\": \\\"infinity\\\",\\n    \\\"\\u03b8\\\": \\\"theta\\\",\\n    \\\"\\u00f7\\\": \\\"/\\\",\\n    \\\"\\u03b1\\\": \\\"alpha\\\",\\n    \\\"\\u2022\\\": \\\".\\\",\\n    \\\"\\u00e0\\\": \\\"a\\\",\\n    \\\"\\u2212\\\": \\\"-\\\",\\n    \\\"\\u03b2\\\": \\\"beta\\\",\\n    \\\"\\u2205\\\": \\\"\\\",\\n    \\\"\\u00b3\\\": \\\"3\\\",\\n    \\\"\\u03c0\\\": \\\"pi\\\",\\n    \\\"!\\\": \\\" \\\",\\n}\\n\\nmispell_dict = {\\n    \\\"colour\\\": \\\"color\\\",\\n    \\\"centre\\\": \\\"center\\\",\\n    \\\"favourite\\\": \\\"favorite\\\",\\n    \\\"travelling\\\": \\\"traveling\\\",\\n    \\\"counselling\\\": \\\"counseling\\\",\\n    \\\"theatre\\\": \\\"theater\\\",\\n    \\\"cancelled\\\": \\\"canceled\\\",\\n    \\\"labour\\\": \\\"labor\\\",\\n    \\\"organisation\\\": \\\"organization\\\",\\n    \\\"wwii\\\": \\\"world war 2\\\",\\n    \\\"citicise\\\": \\\"criticize\\\",\\n    \\\"youtu \\\": \\\"youtube \\\",\\n    \\\"Qoura\\\": \\\"Quora\\\",\\n    \\\"sallary\\\": \\\"salary\\\",\\n    \\\"Whta\\\": \\\"What\\\",\\n    \\\"narcisist\\\": \\\"narcissist\\\",\\n    \\\"howdo\\\": \\\"how do\\\",\\n    \\\"whatare\\\": \\\"what are\\\",\\n    \\\"howcan\\\": \\\"how can\\\",\\n    \\\"howmuch\\\": \\\"how much\\\",\\n    \\\"howmany\\\": \\\"how many\\\",\\n    \\\"whydo\\\": \\\"why do\\\",\\n    \\\"doI\\\": \\\"do I\\\",\\n    \\\"theBest\\\": \\\"the best\\\",\\n    \\\"howdoes\\\": \\\"how does\\\",\\n    \\\"mastrubation\\\": \\\"masturbation\\\",\\n    \\\"mastrubate\\\": \\\"masturbate\\\",\\n    \\\"mastrubating\\\": \\\"masturbating\\\",\\n    \\\"pennis\\\": \\\"penis\\\",\\n    \\\"Etherium\\\": \\\"Ethereum\\\",\\n    \\\"narcissit\\\": \\\"narcissist\\\",\\n    \\\"bigdata\\\": \\\"big data\\\",\\n    \\\"2k17\\\": \\\"2017\\\",\\n    \\\"2k18\\\": \\\"2018\\\",\\n    \\\"qouta\\\": \\\"quota\\\",\\n    \\\"exboyfriend\\\": \\\"ex boyfriend\\\",\\n    \\\"airhostess\\\": \\\"air hostess\\\",\\n    \\\"whst\\\": \\\"what\\\",\\n    \\\"watsapp\\\": \\\"whatsapp\\\",\\n    \\\"demonitisation\\\": \\\"demonetization\\\",\\n    \\\"demonitization\\\": \\\"demonetization\\\",\\n    \\\"demonetisation\\\": \\\"demonetization\\\",\\n}\";\n",
       "                var nbb_cells = Jupyter.notebook.get_cells();\n",
       "                for (var i = 0; i < nbb_cells.length; ++i) {\n",
       "                    if (nbb_cells[i].input_prompt_number == nbb_cell_id) {\n",
       "                        if (nbb_cells[i].get_text() == nbb_unformatted_code) {\n",
       "                             nbb_cells[i].set_text(nbb_formatted_code);\n",
       "                        }\n",
       "                        break;\n",
       "                    }\n",
       "                }\n",
       "            }, 500);\n",
       "            "
      ],
      "text/plain": [
       "<IPython.core.display.Javascript object>"
      ]
     },
     "metadata": {},
     "output_type": "display_data"
    }
   ],
   "source": [
    "contraction_mapping = {\n",
    "    \"ain't\": \"is not\",\n",
    "    \"aren't\": \"are not\",\n",
    "    \"can't\": \"cannot\",\n",
    "    \"'cause\": \"because\",\n",
    "    \"could've\": \"could have\",\n",
    "    \"couldn't\": \"could not\",\n",
    "    \"didn't\": \"did not\",\n",
    "    \"doesn't\": \"does not\",\n",
    "    \"don't\": \"do not\",\n",
    "    \"hadn't\": \"had not\",\n",
    "    \"hasn't\": \"has not\",\n",
    "    \"haven't\": \"have not\",\n",
    "    \"he'd\": \"he would\",\n",
    "    \"he'll\": \"he will\",\n",
    "    \"he's\": \"he is\",\n",
    "    \"how'd\": \"how did\",\n",
    "    \"how'd'y\": \"how do you\",\n",
    "    \"how'll\": \"how will\",\n",
    "    \"how's\": \"how is\",\n",
    "    \"I'd\": \"I would\",\n",
    "    \"I'd've\": \"I would have\",\n",
    "    \"I'll\": \"I will\",\n",
    "    \"I'll've\": \"I will have\",\n",
    "    \"I'm\": \"I am\",\n",
    "    \"I've\": \"I have\",\n",
    "    \"i'd\": \"i would\",\n",
    "    \"i'd've\": \"i would have\",\n",
    "    \"i'll\": \"i will\",\n",
    "    \"i'll've\": \"i will have\",\n",
    "    \"i'm\": \"i am\",\n",
    "    \"i've\": \"i have\",\n",
    "    \"isn't\": \"is not\",\n",
    "    \"it'd\": \"it would\",\n",
    "    \"it'd've\": \"it would have\",\n",
    "    \"it'll\": \"it will\",\n",
    "    \"it'll've\": \"it will have\",\n",
    "    \"it's\": \"it is\",\n",
    "    \"let's\": \"let us\",\n",
    "    \"ma'am\": \"madam\",\n",
    "    \"mayn't\": \"may not\",\n",
    "    \"might've\": \"might have\",\n",
    "    \"mightn't\": \"might not\",\n",
    "    \"mightn't've\": \"might not have\",\n",
    "    \"must've\": \"must have\",\n",
    "    \"mustn't\": \"must not\",\n",
    "    \"mustn't've\": \"must not have\",\n",
    "    \"needn't\": \"need not\",\n",
    "    \"needn't've\": \"need not have\",\n",
    "    \"o'clock\": \"of the clock\",\n",
    "    \"oughtn't\": \"ought not\",\n",
    "    \"oughtn't've\": \"ought not have\",\n",
    "    \"shan't\": \"shall not\",\n",
    "    \"sha'n't\": \"shall not\",\n",
    "    \"shan't've\": \"shall not have\",\n",
    "    \"she'd\": \"she would\",\n",
    "    \"she'd've\": \"she would have\",\n",
    "    \"she'll\": \"she will\",\n",
    "    \"she'll've\": \"she will have\",\n",
    "    \"she's\": \"she is\",\n",
    "    \"should've\": \"should have\",\n",
    "    \"shouldn't\": \"should not\",\n",
    "    \"shouldn't've\": \"should not have\",\n",
    "    \"so've\": \"so have\",\n",
    "    \"so's\": \"so as\",\n",
    "    \"this's\": \"this is\",\n",
    "    \"that'd\": \"that would\",\n",
    "    \"that'd've\": \"that would have\",\n",
    "    \"that's\": \"that is\",\n",
    "    \"there'd\": \"there would\",\n",
    "    \"there'd've\": \"there would have\",\n",
    "    \"there's\": \"there is\",\n",
    "    \"here's\": \"here is\",\n",
    "    \"they'd\": \"they would\",\n",
    "    \"they'd've\": \"they would have\",\n",
    "    \"they'll\": \"they will\",\n",
    "    \"they'll've\": \"they will have\",\n",
    "    \"they're\": \"they are\",\n",
    "    \"they've\": \"they have\",\n",
    "    \"to've\": \"to have\",\n",
    "    \"wasn't\": \"was not\",\n",
    "    \"we'd\": \"we would\",\n",
    "    \"we'd've\": \"we would have\",\n",
    "    \"we'll\": \"we will\",\n",
    "    \"we'll've\": \"we will have\",\n",
    "    \"we're\": \"we are\",\n",
    "    \"we've\": \"we have\",\n",
    "    \"weren't\": \"were not\",\n",
    "    \"what'll\": \"what will\",\n",
    "    \"what'll've\": \"what will have\",\n",
    "    \"what're\": \"what are\",\n",
    "    \"what's\": \"what is\",\n",
    "    \"what've\": \"what have\",\n",
    "    \"when's\": \"when is\",\n",
    "    \"when've\": \"when have\",\n",
    "    \"where'd\": \"where did\",\n",
    "    \"where's\": \"where is\",\n",
    "    \"where've\": \"where have\",\n",
    "    \"who'll\": \"who will\",\n",
    "    \"who'll've\": \"who will have\",\n",
    "    \"who's\": \"who is\",\n",
    "    \"who've\": \"who have\",\n",
    "    \"why's\": \"why is\",\n",
    "    \"why've\": \"why have\",\n",
    "    \"will've\": \"will have\",\n",
    "    \"won't\": \"will not\",\n",
    "    \"won't've\": \"will not have\",\n",
    "    \"would've\": \"would have\",\n",
    "    \"wouldn't\": \"would not\",\n",
    "    \"wouldn't've\": \"would not have\",\n",
    "    \"y'all\": \"you all\",\n",
    "    \"y'all'd\": \"you all would\",\n",
    "    \"y'all'd've\": \"you all would have\",\n",
    "    \"y'all're\": \"you all are\",\n",
    "    \"y'all've\": \"you all have\",\n",
    "    \"you'd\": \"you would\",\n",
    "    \"you'd've\": \"you would have\",\n",
    "    \"you'll\": \"you will\",\n",
    "    \"you'll've\": \"you will have\",\n",
    "    \"you're\": \"you are\",\n",
    "    \"you've\": \"you have\",\n",
    "    \"u.s\": \"america\",\n",
    "    \"e.g\": \"for example\",\n",
    "}\n",
    "\n",
    "punct = [\n",
    "    \",\",\n",
    "    \".\",\n",
    "    '\"',\n",
    "    \":\",\n",
    "    \")\",\n",
    "    \"(\",\n",
    "    \"-\",\n",
    "    \"!\",\n",
    "    \"?\",\n",
    "    \"|\",\n",
    "    \";\",\n",
    "    \"'\",\n",
    "    \"$\",\n",
    "    \"&\",\n",
    "    \"/\",\n",
    "    \"[\",\n",
    "    \"]\",\n",
    "    \">\",\n",
    "    \"%\",\n",
    "    \"=\",\n",
    "    \"#\",\n",
    "    \"*\",\n",
    "    \"+\",\n",
    "    \"\\\\\",\n",
    "    \"•\",\n",
    "    \"~\",\n",
    "    \"@\",\n",
    "    \"£\",\n",
    "    \"·\",\n",
    "    \"_\",\n",
    "    \"{\",\n",
    "    \"}\",\n",
    "    \"©\",\n",
    "    \"^\",\n",
    "    \"®\",\n",
    "    \"`\",\n",
    "    \"<\",\n",
    "    \"→\",\n",
    "    \"°\",\n",
    "    \"€\",\n",
    "    \"™\",\n",
    "    \"›\",\n",
    "    \"♥\",\n",
    "    \"←\",\n",
    "    \"×\",\n",
    "    \"§\",\n",
    "    \"″\",\n",
    "    \"′\",\n",
    "    \"Â\",\n",
    "    \"█\",\n",
    "    \"½\",\n",
    "    \"à\",\n",
    "    \"…\",\n",
    "    \"“\",\n",
    "    \"★\",\n",
    "    \"”\",\n",
    "    \"–\",\n",
    "    \"●\",\n",
    "    \"â\",\n",
    "    \"►\",\n",
    "    \"−\",\n",
    "    \"¢\",\n",
    "    \"²\",\n",
    "    \"¬\",\n",
    "    \"░\",\n",
    "    \"¶\",\n",
    "    \"↑\",\n",
    "    \"±\",\n",
    "    \"¿\",\n",
    "    \"▾\",\n",
    "    \"═\",\n",
    "    \"¦\",\n",
    "    \"║\",\n",
    "    \"―\",\n",
    "    \"¥\",\n",
    "    \"▓\",\n",
    "    \"—\",\n",
    "    \"‹\",\n",
    "    \"─\",\n",
    "    \"▒\",\n",
    "    \"：\",\n",
    "    \"¼\",\n",
    "    \"⊕\",\n",
    "    \"▼\",\n",
    "    \"▪\",\n",
    "    \"†\",\n",
    "    \"■\",\n",
    "    \"’\",\n",
    "    \"▀\",\n",
    "    \"¨\",\n",
    "    \"▄\",\n",
    "    \"♫\",\n",
    "    \"☆\",\n",
    "    \"é\",\n",
    "    \"¯\",\n",
    "    \"♦\",\n",
    "    \"¤\",\n",
    "    \"▲\",\n",
    "    \"è\",\n",
    "    \"¸\",\n",
    "    \"¾\",\n",
    "    \"Ã\",\n",
    "    \"⋅\",\n",
    "    \"‘\",\n",
    "    \"∞\",\n",
    "    \"∙\",\n",
    "    \"）\",\n",
    "    \"↓\",\n",
    "    \"、\",\n",
    "    \"│\",\n",
    "    \"（\",\n",
    "    \"»\",\n",
    "    \"，\",\n",
    "    \"♪\",\n",
    "    \"╩\",\n",
    "    \"╚\",\n",
    "    \"³\",\n",
    "    \"・\",\n",
    "    \"╦\",\n",
    "    \"╣\",\n",
    "    \"╔\",\n",
    "    \"╗\",\n",
    "    \"▬\",\n",
    "    \"❤\",\n",
    "    \"ï\",\n",
    "    \"Ø\",\n",
    "    \"¹\",\n",
    "    \"≤\",\n",
    "    \"‡\",\n",
    "    \"√\",\n",
    "]\n",
    "\n",
    "punct_mapping = {\n",
    "    \"‘\": \"'\",\n",
    "    \"₹\": \"e\",\n",
    "    \"´\": \"'\",\n",
    "    \"°\": \"\",\n",
    "    \"€\": \"e\",\n",
    "    \"™\": \"tm\",\n",
    "    \"√\": \" sqrt \",\n",
    "    \"×\": \"x\",\n",
    "    \"²\": \"2\",\n",
    "    \"—\": \"-\",\n",
    "    \"–\": \"-\",\n",
    "    \"’\": \"'\",\n",
    "    \"_\": \"-\",\n",
    "    \"`\": \"'\",\n",
    "    \"“\": '\"',\n",
    "    \"”\": '\"',\n",
    "    \"“\": '\"',\n",
    "    \"£\": \"e\",\n",
    "    \"∞\": \"infinity\",\n",
    "    \"θ\": \"theta\",\n",
    "    \"÷\": \"/\",\n",
    "    \"α\": \"alpha\",\n",
    "    \"•\": \".\",\n",
    "    \"à\": \"a\",\n",
    "    \"−\": \"-\",\n",
    "    \"β\": \"beta\",\n",
    "    \"∅\": \"\",\n",
    "    \"³\": \"3\",\n",
    "    \"π\": \"pi\",\n",
    "    \"!\": \" \",\n",
    "}\n",
    "\n",
    "mispell_dict = {\n",
    "    \"colour\": \"color\",\n",
    "    \"centre\": \"center\",\n",
    "    \"favourite\": \"favorite\",\n",
    "    \"travelling\": \"traveling\",\n",
    "    \"counselling\": \"counseling\",\n",
    "    \"theatre\": \"theater\",\n",
    "    \"cancelled\": \"canceled\",\n",
    "    \"labour\": \"labor\",\n",
    "    \"organisation\": \"organization\",\n",
    "    \"wwii\": \"world war 2\",\n",
    "    \"citicise\": \"criticize\",\n",
    "    \"youtu \": \"youtube \",\n",
    "    \"Qoura\": \"Quora\",\n",
    "    \"sallary\": \"salary\",\n",
    "    \"Whta\": \"What\",\n",
    "    \"narcisist\": \"narcissist\",\n",
    "    \"howdo\": \"how do\",\n",
    "    \"whatare\": \"what are\",\n",
    "    \"howcan\": \"how can\",\n",
    "    \"howmuch\": \"how much\",\n",
    "    \"howmany\": \"how many\",\n",
    "    \"whydo\": \"why do\",\n",
    "    \"doI\": \"do I\",\n",
    "    \"theBest\": \"the best\",\n",
    "    \"howdoes\": \"how does\",\n",
    "    \"mastrubation\": \"masturbation\",\n",
    "    \"mastrubate\": \"masturbate\",\n",
    "    \"mastrubating\": \"masturbating\",\n",
    "    \"pennis\": \"penis\",\n",
    "    \"Etherium\": \"Ethereum\",\n",
    "    \"narcissit\": \"narcissist\",\n",
    "    \"bigdata\": \"big data\",\n",
    "    \"2k17\": \"2017\",\n",
    "    \"2k18\": \"2018\",\n",
    "    \"qouta\": \"quota\",\n",
    "    \"exboyfriend\": \"ex boyfriend\",\n",
    "    \"airhostess\": \"air hostess\",\n",
    "    \"whst\": \"what\",\n",
    "    \"watsapp\": \"whatsapp\",\n",
    "    \"demonitisation\": \"demonetization\",\n",
    "    \"demonitization\": \"demonetization\",\n",
    "    \"demonetisation\": \"demonetization\",\n",
    "}"
   ]
  },
  {
   "cell_type": "code",
   "execution_count": 18,
   "id": "d74ca71f",
   "metadata": {},
   "outputs": [
    {
     "data": {
      "application/javascript": [
       "\n",
       "            setTimeout(function() {\n",
       "                var nbb_cell_id = 18;\n",
       "                var nbb_unformatted_code = \"def clean_text(text):\\n    \\\"\\\"\\\"Clean emoji, Make text lowercase, remove text in square brackets,remove links,remove punctuation\\n    and remove words containing numbers.\\\"\\\"\\\"\\n    text = emoji.demojize(text)\\n    text = re.sub(r\\\"\\\\:(.*?)\\\\:\\\", \\\"\\\", text)\\n    text = str(text).lower()  # Making Text Lowercase\\n    text = re.sub(\\\"\\\\[.*?\\\\]\\\", \\\"\\\", text)\\n    # The next 2 lines remove html text\\n    text = BeautifulSoup(text, \\\"lxml\\\").get_text()\\n    text = re.sub(\\\"https?://\\\\S+|www\\\\.\\\\S+\\\", \\\"\\\", text)\\n    text = re.sub(\\\"<.*?>+\\\", \\\"\\\", text)\\n    text = re.sub(\\\"\\\\n\\\", \\\"\\\", text)\\n    text = re.sub(\\\"\\\\w*\\\\d\\\\w*\\\", \\\"\\\", text)\\n    # replacing everything with space except (a-z, A-Z, \\\".\\\", \\\"?\\\", \\\"!\\\", \\\",\\\", \\\"'\\\")\\n    text = re.sub(r\\\"[^a-zA-Z?.!,\\u00bf']+\\\", \\\" \\\", text)\\n    return text\\n\\n\\ndef clean_contractions(text, mapping):\\n    \\\"\\\"\\\"Clean contraction using contraction mapping\\\"\\\"\\\"\\n    specials = [\\\"\\u2019\\\", \\\"\\u2018\\\", \\\"\\u00b4\\\", \\\"`\\\"]\\n    for s in specials:\\n        text = text.replace(s, \\\"'\\\")\\n    for word in mapping.keys():\\n        if \\\"\\\" + word + \\\"\\\" in text:\\n            text = text.replace(\\\"\\\" + word + \\\"\\\", \\\"\\\" + mapping[word] + \\\"\\\")\\n    # Remove Punctuations\\n    text = re.sub(\\\"[%s]\\\" % re.escape(string.punctuation), \\\"\\\", text)\\n    # creating a space between a word and the punctuation following it\\n    # eg: \\\"he is a boy.\\\" => \\\"he is a boy .\\\"\\n    text = re.sub(r\\\"([?.!,\\u00bf])\\\", r\\\" \\\\1 \\\", text)\\n    text = re.sub(r'[\\\" \\\"]+', \\\" \\\", text)\\n    return text\\n\\n\\ndef clean_special_chars(text, punct, mapping):\\n    \\\"\\\"\\\"Cleans special characters present(if any)\\\"\\\"\\\"\\n    for p in mapping:\\n        text = text.replace(p, mapping[p])\\n\\n    for p in punct:\\n        text = text.replace(p, f\\\" {p} \\\")\\n\\n    specials = {\\\"\\\\u200b\\\": \\\" \\\", \\\"\\u2026\\\": \\\" ... \\\", \\\"\\\\ufeff\\\": \\\"\\\", \\\"\\u0915\\u0930\\u0928\\u093e\\\": \\\"\\\", \\\"\\u0939\\u0948\\\": \\\"\\\"}\\n    for s in specials:\\n        text = text.replace(s, specials[s])\\n\\n    return text\\n\\n\\ndef correct_spelling(x, dic):\\n    \\\"\\\"\\\"Corrects common spelling errors\\\"\\\"\\\"\\n    for word in dic.keys():\\n        x = x.replace(word, dic[word])\\n    return x\\n\\n\\ndef remove_space(text):\\n    \\\"\\\"\\\"Removes awkward spaces\\\"\\\"\\\"\\n    # Removes awkward spaces\\n    text = text.strip()\\n    text = text.split()\\n    return \\\" \\\".join(text)\\n\\n\\ndef text_preprocessing_pipeline(text):\\n    \\\"\\\"\\\"Cleaning and parsing the text.\\\"\\\"\\\"\\n    text = clean_text(text)\\n    text = clean_contractions(text, contraction_mapping)\\n    text = clean_special_chars(text, punct, punct_mapping)\\n    text = correct_spelling(text, mispell_dict)\\n    text = remove_space(text)\\n    return text\";\n",
       "                var nbb_formatted_code = \"def clean_text(text):\\n    \\\"\\\"\\\"Clean emoji, Make text lowercase, remove text in square brackets,remove links,remove punctuation\\n    and remove words containing numbers.\\\"\\\"\\\"\\n    text = emoji.demojize(text)\\n    text = re.sub(r\\\"\\\\:(.*?)\\\\:\\\", \\\"\\\", text)\\n    text = str(text).lower()  # Making Text Lowercase\\n    text = re.sub(\\\"\\\\[.*?\\\\]\\\", \\\"\\\", text)\\n    # The next 2 lines remove html text\\n    text = BeautifulSoup(text, \\\"lxml\\\").get_text()\\n    text = re.sub(\\\"https?://\\\\S+|www\\\\.\\\\S+\\\", \\\"\\\", text)\\n    text = re.sub(\\\"<.*?>+\\\", \\\"\\\", text)\\n    text = re.sub(\\\"\\\\n\\\", \\\"\\\", text)\\n    text = re.sub(\\\"\\\\w*\\\\d\\\\w*\\\", \\\"\\\", text)\\n    # replacing everything with space except (a-z, A-Z, \\\".\\\", \\\"?\\\", \\\"!\\\", \\\",\\\", \\\"'\\\")\\n    text = re.sub(r\\\"[^a-zA-Z?.!,\\u00bf']+\\\", \\\" \\\", text)\\n    return text\\n\\n\\ndef clean_contractions(text, mapping):\\n    \\\"\\\"\\\"Clean contraction using contraction mapping\\\"\\\"\\\"\\n    specials = [\\\"\\u2019\\\", \\\"\\u2018\\\", \\\"\\u00b4\\\", \\\"`\\\"]\\n    for s in specials:\\n        text = text.replace(s, \\\"'\\\")\\n    for word in mapping.keys():\\n        if \\\"\\\" + word + \\\"\\\" in text:\\n            text = text.replace(\\\"\\\" + word + \\\"\\\", \\\"\\\" + mapping[word] + \\\"\\\")\\n    # Remove Punctuations\\n    text = re.sub(\\\"[%s]\\\" % re.escape(string.punctuation), \\\"\\\", text)\\n    # creating a space between a word and the punctuation following it\\n    # eg: \\\"he is a boy.\\\" => \\\"he is a boy .\\\"\\n    text = re.sub(r\\\"([?.!,\\u00bf])\\\", r\\\" \\\\1 \\\", text)\\n    text = re.sub(r'[\\\" \\\"]+', \\\" \\\", text)\\n    return text\\n\\n\\ndef clean_special_chars(text, punct, mapping):\\n    \\\"\\\"\\\"Cleans special characters present(if any)\\\"\\\"\\\"\\n    for p in mapping:\\n        text = text.replace(p, mapping[p])\\n\\n    for p in punct:\\n        text = text.replace(p, f\\\" {p} \\\")\\n\\n    specials = {\\\"\\\\u200b\\\": \\\" \\\", \\\"\\u2026\\\": \\\" ... \\\", \\\"\\\\ufeff\\\": \\\"\\\", \\\"\\u0915\\u0930\\u0928\\u093e\\\": \\\"\\\", \\\"\\u0939\\u0948\\\": \\\"\\\"}\\n    for s in specials:\\n        text = text.replace(s, specials[s])\\n\\n    return text\\n\\n\\ndef correct_spelling(x, dic):\\n    \\\"\\\"\\\"Corrects common spelling errors\\\"\\\"\\\"\\n    for word in dic.keys():\\n        x = x.replace(word, dic[word])\\n    return x\\n\\n\\ndef remove_space(text):\\n    \\\"\\\"\\\"Removes awkward spaces\\\"\\\"\\\"\\n    # Removes awkward spaces\\n    text = text.strip()\\n    text = text.split()\\n    return \\\" \\\".join(text)\\n\\n\\ndef text_preprocessing_pipeline(text):\\n    \\\"\\\"\\\"Cleaning and parsing the text.\\\"\\\"\\\"\\n    text = clean_text(text)\\n    text = clean_contractions(text, contraction_mapping)\\n    text = clean_special_chars(text, punct, punct_mapping)\\n    text = correct_spelling(text, mispell_dict)\\n    text = remove_space(text)\\n    return text\";\n",
       "                var nbb_cells = Jupyter.notebook.get_cells();\n",
       "                for (var i = 0; i < nbb_cells.length; ++i) {\n",
       "                    if (nbb_cells[i].input_prompt_number == nbb_cell_id) {\n",
       "                        if (nbb_cells[i].get_text() == nbb_unformatted_code) {\n",
       "                             nbb_cells[i].set_text(nbb_formatted_code);\n",
       "                        }\n",
       "                        break;\n",
       "                    }\n",
       "                }\n",
       "            }, 500);\n",
       "            "
      ],
      "text/plain": [
       "<IPython.core.display.Javascript object>"
      ]
     },
     "metadata": {},
     "output_type": "display_data"
    }
   ],
   "source": [
    "def clean_text(text):\n",
    "    \"\"\"Clean emoji, Make text lowercase, remove text in square brackets,remove links,remove punctuation\n",
    "    and remove words containing numbers.\"\"\"\n",
    "    text = emoji.demojize(text)\n",
    "    text = re.sub(r\"\\:(.*?)\\:\", \"\", text)\n",
    "    text = str(text).lower()  # Making Text Lowercase\n",
    "    text = re.sub(\"\\[.*?\\]\", \"\", text)\n",
    "    # The next 2 lines remove html text\n",
    "    text = BeautifulSoup(text, \"lxml\").get_text()\n",
    "    text = re.sub(\"https?://\\S+|www\\.\\S+\", \"\", text)\n",
    "    text = re.sub(\"<.*?>+\", \"\", text)\n",
    "    text = re.sub(\"\\n\", \"\", text)\n",
    "    text = re.sub(\"\\w*\\d\\w*\", \"\", text)\n",
    "    # replacing everything with space except (a-z, A-Z, \".\", \"?\", \"!\", \",\", \"'\")\n",
    "    text = re.sub(r\"[^a-zA-Z?.!,¿']+\", \" \", text)\n",
    "    return text\n",
    "\n",
    "\n",
    "def clean_contractions(text, mapping):\n",
    "    \"\"\"Clean contraction using contraction mapping\"\"\"\n",
    "    specials = [\"’\", \"‘\", \"´\", \"`\"]\n",
    "    for s in specials:\n",
    "        text = text.replace(s, \"'\")\n",
    "    for word in mapping.keys():\n",
    "        if \"\" + word + \"\" in text:\n",
    "            text = text.replace(\"\" + word + \"\", \"\" + mapping[word] + \"\")\n",
    "    # Remove Punctuations\n",
    "    text = re.sub(\"[%s]\" % re.escape(string.punctuation), \"\", text)\n",
    "    # creating a space between a word and the punctuation following it\n",
    "    # eg: \"he is a boy.\" => \"he is a boy .\"\n",
    "    text = re.sub(r\"([?.!,¿])\", r\" \\1 \", text)\n",
    "    text = re.sub(r'[\" \"]+', \" \", text)\n",
    "    return text\n",
    "\n",
    "\n",
    "def clean_special_chars(text, punct, mapping):\n",
    "    \"\"\"Cleans special characters present(if any)\"\"\"\n",
    "    for p in mapping:\n",
    "        text = text.replace(p, mapping[p])\n",
    "\n",
    "    for p in punct:\n",
    "        text = text.replace(p, f\" {p} \")\n",
    "\n",
    "    specials = {\"\\u200b\": \" \", \"…\": \" ... \", \"\\ufeff\": \"\", \"करना\": \"\", \"है\": \"\"}\n",
    "    for s in specials:\n",
    "        text = text.replace(s, specials[s])\n",
    "\n",
    "    return text\n",
    "\n",
    "\n",
    "def correct_spelling(x, dic):\n",
    "    \"\"\"Corrects common spelling errors\"\"\"\n",
    "    for word in dic.keys():\n",
    "        x = x.replace(word, dic[word])\n",
    "    return x\n",
    "\n",
    "\n",
    "def remove_space(text):\n",
    "    \"\"\"Removes awkward spaces\"\"\"\n",
    "    # Removes awkward spaces\n",
    "    text = text.strip()\n",
    "    text = text.split()\n",
    "    return \" \".join(text)\n",
    "\n",
    "\n",
    "def text_preprocessing_pipeline(text):\n",
    "    \"\"\"Cleaning and parsing the text.\"\"\"\n",
    "    text = clean_text(text)\n",
    "    text = clean_contractions(text, contraction_mapping)\n",
    "    text = clean_special_chars(text, punct, punct_mapping)\n",
    "    text = correct_spelling(text, mispell_dict)\n",
    "    text = remove_space(text)\n",
    "    return text"
   ]
  },
  {
   "cell_type": "code",
   "execution_count": 19,
   "id": "ce5640e2",
   "metadata": {},
   "outputs": [
    {
     "data": {
      "application/javascript": [
       "\n",
       "            setTimeout(function() {\n",
       "                var nbb_cell_id = 19;\n",
       "                var nbb_unformatted_code = \"df.reset_index(drop=True).to_csv(\\\"data_light/go_emotions/train.csv\\\", index=False)\";\n",
       "                var nbb_formatted_code = \"df.reset_index(drop=True).to_csv(\\\"data_light/go_emotions/train.csv\\\", index=False)\";\n",
       "                var nbb_cells = Jupyter.notebook.get_cells();\n",
       "                for (var i = 0; i < nbb_cells.length; ++i) {\n",
       "                    if (nbb_cells[i].input_prompt_number == nbb_cell_id) {\n",
       "                        if (nbb_cells[i].get_text() == nbb_unformatted_code) {\n",
       "                             nbb_cells[i].set_text(nbb_formatted_code);\n",
       "                        }\n",
       "                        break;\n",
       "                    }\n",
       "                }\n",
       "            }, 500);\n",
       "            "
      ],
      "text/plain": [
       "<IPython.core.display.Javascript object>"
      ]
     },
     "metadata": {},
     "output_type": "display_data"
    }
   ],
   "source": [
    "df.reset_index(drop=True).to_csv(\"data_light/go_emotions/train.csv\", index=False)"
   ]
  },
  {
   "cell_type": "code",
   "execution_count": 20,
   "id": "b30a1291",
   "metadata": {},
   "outputs": [
    {
     "data": {
      "application/javascript": [
       "\n",
       "            setTimeout(function() {\n",
       "                var nbb_cell_id = 20;\n",
       "                var nbb_unformatted_code = \"df = df.drop(columns=[\\\"ID\\\"], axis=1)\";\n",
       "                var nbb_formatted_code = \"df = df.drop(columns=[\\\"ID\\\"], axis=1)\";\n",
       "                var nbb_cells = Jupyter.notebook.get_cells();\n",
       "                for (var i = 0; i < nbb_cells.length; ++i) {\n",
       "                    if (nbb_cells[i].input_prompt_number == nbb_cell_id) {\n",
       "                        if (nbb_cells[i].get_text() == nbb_unformatted_code) {\n",
       "                             nbb_cells[i].set_text(nbb_formatted_code);\n",
       "                        }\n",
       "                        break;\n",
       "                    }\n",
       "                }\n",
       "            }, 500);\n",
       "            "
      ],
      "text/plain": [
       "<IPython.core.display.Javascript object>"
      ]
     },
     "metadata": {},
     "output_type": "display_data"
    }
   ],
   "source": [
    "df = df.drop(columns=[\"ID\"], axis=1)"
   ]
  },
  {
   "cell_type": "code",
   "execution_count": 21,
   "id": "2ef8932a",
   "metadata": {},
   "outputs": [
    {
     "data": {
      "application/javascript": [
       "\n",
       "            setTimeout(function() {\n",
       "                var nbb_cell_id = 21;\n",
       "                var nbb_unformatted_code = \"df = df.reset_index(drop=True)\";\n",
       "                var nbb_formatted_code = \"df = df.reset_index(drop=True)\";\n",
       "                var nbb_cells = Jupyter.notebook.get_cells();\n",
       "                for (var i = 0; i < nbb_cells.length; ++i) {\n",
       "                    if (nbb_cells[i].input_prompt_number == nbb_cell_id) {\n",
       "                        if (nbb_cells[i].get_text() == nbb_unformatted_code) {\n",
       "                             nbb_cells[i].set_text(nbb_formatted_code);\n",
       "                        }\n",
       "                        break;\n",
       "                    }\n",
       "                }\n",
       "            }, 500);\n",
       "            "
      ],
      "text/plain": [
       "<IPython.core.display.Javascript object>"
      ]
     },
     "metadata": {},
     "output_type": "display_data"
    }
   ],
   "source": [
    "df = df.reset_index(drop=True)"
   ]
  },
  {
   "cell_type": "code",
   "execution_count": 22,
   "id": "d6e86904",
   "metadata": {},
   "outputs": [
    {
     "name": "stdout",
     "output_type": "stream",
     "text": [
      "(28427, 6)\n"
     ]
    },
    {
     "data": {
      "application/javascript": [
       "\n",
       "            setTimeout(function() {\n",
       "                var nbb_cell_id = 22;\n",
       "                var nbb_unformatted_code = \"print(df.shape)\";\n",
       "                var nbb_formatted_code = \"print(df.shape)\";\n",
       "                var nbb_cells = Jupyter.notebook.get_cells();\n",
       "                for (var i = 0; i < nbb_cells.length; ++i) {\n",
       "                    if (nbb_cells[i].input_prompt_number == nbb_cell_id) {\n",
       "                        if (nbb_cells[i].get_text() == nbb_unformatted_code) {\n",
       "                             nbb_cells[i].set_text(nbb_formatted_code);\n",
       "                        }\n",
       "                        break;\n",
       "                    }\n",
       "                }\n",
       "            }, 500);\n",
       "            "
      ],
      "text/plain": [
       "<IPython.core.display.Javascript object>"
      ]
     },
     "metadata": {},
     "output_type": "display_data"
    }
   ],
   "source": [
    "print(df.shape)"
   ]
  },
  {
   "cell_type": "code",
   "execution_count": 23,
   "id": "302cb1b7",
   "metadata": {},
   "outputs": [
    {
     "data": {
      "text/html": [
       "<div>\n",
       "<style scoped>\n",
       "    .dataframe tbody tr th:only-of-type {\n",
       "        vertical-align: middle;\n",
       "    }\n",
       "\n",
       "    .dataframe tbody tr th {\n",
       "        vertical-align: top;\n",
       "    }\n",
       "\n",
       "    .dataframe thead th {\n",
       "        text-align: right;\n",
       "    }\n",
       "</style>\n",
       "<table border=\"1\" class=\"dataframe\">\n",
       "  <thead>\n",
       "    <tr style=\"text-align: right;\">\n",
       "      <th></th>\n",
       "      <th>Text</th>\n",
       "      <th>anger</th>\n",
       "      <th>fear</th>\n",
       "      <th>joy</th>\n",
       "      <th>sadness</th>\n",
       "      <th>surprise</th>\n",
       "    </tr>\n",
       "  </thead>\n",
       "  <tbody>\n",
       "    <tr>\n",
       "      <th>0</th>\n",
       "      <td>WHY THE FUCK IS BAYLESS ISOING</td>\n",
       "      <td>1</td>\n",
       "      <td>0</td>\n",
       "      <td>0</td>\n",
       "      <td>0</td>\n",
       "      <td>0</td>\n",
       "    </tr>\n",
       "    <tr>\n",
       "      <th>1</th>\n",
       "      <td>To make her feel threatened</td>\n",
       "      <td>0</td>\n",
       "      <td>1</td>\n",
       "      <td>0</td>\n",
       "      <td>0</td>\n",
       "      <td>0</td>\n",
       "    </tr>\n",
       "    <tr>\n",
       "      <th>2</th>\n",
       "      <td>Dirty Southern Wankers</td>\n",
       "      <td>1</td>\n",
       "      <td>0</td>\n",
       "      <td>0</td>\n",
       "      <td>0</td>\n",
       "      <td>0</td>\n",
       "    </tr>\n",
       "    <tr>\n",
       "      <th>3</th>\n",
       "      <td>OmG pEyToN iSn'T gOoD eNoUgH tO hElP uS iN tHe...</td>\n",
       "      <td>0</td>\n",
       "      <td>0</td>\n",
       "      <td>0</td>\n",
       "      <td>0</td>\n",
       "      <td>1</td>\n",
       "    </tr>\n",
       "    <tr>\n",
       "      <th>4</th>\n",
       "      <td>Yes I heard abt the f bombs! That has to be wh...</td>\n",
       "      <td>0</td>\n",
       "      <td>0</td>\n",
       "      <td>1</td>\n",
       "      <td>0</td>\n",
       "      <td>0</td>\n",
       "    </tr>\n",
       "  </tbody>\n",
       "</table>\n",
       "</div>"
      ],
      "text/plain": [
       "                                                Text  anger  fear  joy  \\\n",
       "0                     WHY THE FUCK IS BAYLESS ISOING      1     0    0   \n",
       "1                        To make her feel threatened      0     1    0   \n",
       "2                             Dirty Southern Wankers      1     0    0   \n",
       "3  OmG pEyToN iSn'T gOoD eNoUgH tO hElP uS iN tHe...      0     0    0   \n",
       "4  Yes I heard abt the f bombs! That has to be wh...      0     0    1   \n",
       "\n",
       "   sadness  surprise  \n",
       "0        0         0  \n",
       "1        0         0  \n",
       "2        0         0  \n",
       "3        0         1  \n",
       "4        0         0  "
      ]
     },
     "execution_count": 23,
     "metadata": {},
     "output_type": "execute_result"
    },
    {
     "data": {
      "application/javascript": [
       "\n",
       "            setTimeout(function() {\n",
       "                var nbb_cell_id = 23;\n",
       "                var nbb_unformatted_code = \"df.head()\";\n",
       "                var nbb_formatted_code = \"df.head()\";\n",
       "                var nbb_cells = Jupyter.notebook.get_cells();\n",
       "                for (var i = 0; i < nbb_cells.length; ++i) {\n",
       "                    if (nbb_cells[i].input_prompt_number == nbb_cell_id) {\n",
       "                        if (nbb_cells[i].get_text() == nbb_unformatted_code) {\n",
       "                             nbb_cells[i].set_text(nbb_formatted_code);\n",
       "                        }\n",
       "                        break;\n",
       "                    }\n",
       "                }\n",
       "            }, 500);\n",
       "            "
      ],
      "text/plain": [
       "<IPython.core.display.Javascript object>"
      ]
     },
     "metadata": {},
     "output_type": "display_data"
    }
   ],
   "source": [
    "df.head()"
   ]
  },
  {
   "cell_type": "code",
   "execution_count": 24,
   "id": "a14eba06",
   "metadata": {},
   "outputs": [
    {
     "data": {
      "application/javascript": [
       "\n",
       "            setTimeout(function() {\n",
       "                var nbb_cell_id = 24;\n",
       "                var nbb_unformatted_code = \"device = \\\"cuda\\\" if torch.cuda.is_available() else \\\"cpu\\\"\";\n",
       "                var nbb_formatted_code = \"device = \\\"cuda\\\" if torch.cuda.is_available() else \\\"cpu\\\"\";\n",
       "                var nbb_cells = Jupyter.notebook.get_cells();\n",
       "                for (var i = 0; i < nbb_cells.length; ++i) {\n",
       "                    if (nbb_cells[i].input_prompt_number == nbb_cell_id) {\n",
       "                        if (nbb_cells[i].get_text() == nbb_unformatted_code) {\n",
       "                             nbb_cells[i].set_text(nbb_formatted_code);\n",
       "                        }\n",
       "                        break;\n",
       "                    }\n",
       "                }\n",
       "            }, 500);\n",
       "            "
      ],
      "text/plain": [
       "<IPython.core.display.Javascript object>"
      ]
     },
     "metadata": {},
     "output_type": "display_data"
    }
   ],
   "source": [
    "device = \"cuda\" if torch.cuda.is_available() else \"cpu\""
   ]
  },
  {
   "cell_type": "markdown",
   "id": "d6697ac1",
   "metadata": {},
   "source": [
    "### Split into training and validation"
   ]
  },
  {
   "cell_type": "markdown",
   "id": "586345f6",
   "metadata": {},
   "source": [
    "Let's divide data into training,validation :"
   ]
  },
  {
   "cell_type": "code",
   "execution_count": 25,
   "id": "5bfbbc2b",
   "metadata": {},
   "outputs": [
    {
     "data": {
      "text/plain": [
       "((22741, 6), (5686, 6))"
      ]
     },
     "execution_count": 25,
     "metadata": {},
     "output_type": "execute_result"
    },
    {
     "data": {
      "application/javascript": [
       "\n",
       "            setTimeout(function() {\n",
       "                var nbb_cell_id = 25;\n",
       "                var nbb_unformatted_code = \"train_df, val_df = train_test_split(df, test_size=0.2)\\ntrain_df.shape, val_df.shape\";\n",
       "                var nbb_formatted_code = \"train_df, val_df = train_test_split(df, test_size=0.2)\\ntrain_df.shape, val_df.shape\";\n",
       "                var nbb_cells = Jupyter.notebook.get_cells();\n",
       "                for (var i = 0; i < nbb_cells.length; ++i) {\n",
       "                    if (nbb_cells[i].input_prompt_number == nbb_cell_id) {\n",
       "                        if (nbb_cells[i].get_text() == nbb_unformatted_code) {\n",
       "                             nbb_cells[i].set_text(nbb_formatted_code);\n",
       "                        }\n",
       "                        break;\n",
       "                    }\n",
       "                }\n",
       "            }, 500);\n",
       "            "
      ],
      "text/plain": [
       "<IPython.core.display.Javascript object>"
      ]
     },
     "metadata": {},
     "output_type": "display_data"
    }
   ],
   "source": [
    "train_df, val_df = train_test_split(df, test_size=0.2)\n",
    "train_df.shape, val_df.shape"
   ]
  },
  {
   "cell_type": "markdown",
   "id": "a0336cd9",
   "metadata": {},
   "source": [
    "# Data Analysis"
   ]
  },
  {
   "cell_type": "markdown",
   "id": "b3ef065f",
   "metadata": {},
   "source": [
    "Let's look at the distribution of the labels:"
   ]
  },
  {
   "cell_type": "code",
   "execution_count": 26,
   "id": "7153460c",
   "metadata": {},
   "outputs": [
    {
     "data": {
      "application/javascript": [
       "\n",
       "            setTimeout(function() {\n",
       "                var nbb_cell_id = 26;\n",
       "                var nbb_unformatted_code = \"cols = df.columns.tolist()[1:]\";\n",
       "                var nbb_formatted_code = \"cols = df.columns.tolist()[1:]\";\n",
       "                var nbb_cells = Jupyter.notebook.get_cells();\n",
       "                for (var i = 0; i < nbb_cells.length; ++i) {\n",
       "                    if (nbb_cells[i].input_prompt_number == nbb_cell_id) {\n",
       "                        if (nbb_cells[i].get_text() == nbb_unformatted_code) {\n",
       "                             nbb_cells[i].set_text(nbb_formatted_code);\n",
       "                        }\n",
       "                        break;\n",
       "                    }\n",
       "                }\n",
       "            }, 500);\n",
       "            "
      ],
      "text/plain": [
       "<IPython.core.display.Javascript object>"
      ]
     },
     "metadata": {},
     "output_type": "display_data"
    }
   ],
   "source": [
    "cols = df.columns.tolist()[1:]\n"
   ]
  },
  {
   "cell_type": "code",
   "execution_count": 27,
   "id": "4b730233",
   "metadata": {},
   "outputs": [
    {
     "data": {
      "text/plain": [
       "['anger', 'fear', 'joy', 'sadness', 'surprise']"
      ]
     },
     "execution_count": 27,
     "metadata": {},
     "output_type": "execute_result"
    },
    {
     "data": {
      "application/javascript": [
       "\n",
       "            setTimeout(function() {\n",
       "                var nbb_cell_id = 27;\n",
       "                var nbb_unformatted_code = \"cols\";\n",
       "                var nbb_formatted_code = \"cols\";\n",
       "                var nbb_cells = Jupyter.notebook.get_cells();\n",
       "                for (var i = 0; i < nbb_cells.length; ++i) {\n",
       "                    if (nbb_cells[i].input_prompt_number == nbb_cell_id) {\n",
       "                        if (nbb_cells[i].get_text() == nbb_unformatted_code) {\n",
       "                             nbb_cells[i].set_text(nbb_formatted_code);\n",
       "                        }\n",
       "                        break;\n",
       "                    }\n",
       "                }\n",
       "            }, 500);\n",
       "            "
      ],
      "text/plain": [
       "<IPython.core.display.Javascript object>"
      ]
     },
     "metadata": {},
     "output_type": "display_data"
    }
   ],
   "source": [
    "cols"
   ]
  },
  {
   "cell_type": "code",
   "execution_count": 28,
   "id": "3d51f302",
   "metadata": {},
   "outputs": [
    {
     "data": {
      "text/plain": [
       "<AxesSubplot:>"
      ]
     },
     "execution_count": 28,
     "metadata": {},
     "output_type": "execute_result"
    },
    {
     "data": {
      "image/png": "[encoded data removed]",
      "text/plain": [
       "<Figure size 864x576 with 1 Axes>"
      ]
     },
     "metadata": {
      "image/png": {
       "height": 471,
       "width": 747
      }
     },
     "output_type": "display_data"
    },
    {
     "data": {
      "application/javascript": [
       "\n",
       "            setTimeout(function() {\n",
       "                var nbb_cell_id = 28;\n",
       "                var nbb_unformatted_code = \"df[cols].sum().sort_values().plot(kind=\\\"barh\\\")\";\n",
       "                var nbb_formatted_code = \"df[cols].sum().sort_values().plot(kind=\\\"barh\\\")\";\n",
       "                var nbb_cells = Jupyter.notebook.get_cells();\n",
       "                for (var i = 0; i < nbb_cells.length; ++i) {\n",
       "                    if (nbb_cells[i].input_prompt_number == nbb_cell_id) {\n",
       "                        if (nbb_cells[i].get_text() == nbb_unformatted_code) {\n",
       "                             nbb_cells[i].set_text(nbb_formatted_code);\n",
       "                        }\n",
       "                        break;\n",
       "                    }\n",
       "                }\n",
       "            }, 500);\n",
       "            "
      ],
      "text/plain": [
       "<IPython.core.display.Javascript object>"
      ]
     },
     "metadata": {},
     "output_type": "display_data"
    }
   ],
   "source": [
    "df[cols].sum().sort_values().plot(kind=\"barh\")"
   ]
  },
  {
   "cell_type": "markdown",
   "id": "e29e1f62",
   "metadata": {},
   "source": [
    "## Tokenization\n",
    "\n",
    "We need to convert the raw text into a list of tokens. For that, we'll use the built-in BertTokenizer:"
   ]
  },
  {
   "cell_type": "code",
   "execution_count": 29,
   "id": "61cdd4a4",
   "metadata": {},
   "outputs": [
    {
     "data": {
      "application/javascript": [
       "\n",
       "            setTimeout(function() {\n",
       "                var nbb_cell_id = 29;\n",
       "                var nbb_unformatted_code = \"BERT_MODEL_NAME = \\\"bert-base-cased\\\"\\ntokenizer = BertTokenizer.from_pretrained(BERT_MODEL_NAME)\";\n",
       "                var nbb_formatted_code = \"BERT_MODEL_NAME = \\\"bert-base-cased\\\"\\ntokenizer = BertTokenizer.from_pretrained(BERT_MODEL_NAME)\";\n",
       "                var nbb_cells = Jupyter.notebook.get_cells();\n",
       "                for (var i = 0; i < nbb_cells.length; ++i) {\n",
       "                    if (nbb_cells[i].input_prompt_number == nbb_cell_id) {\n",
       "                        if (nbb_cells[i].get_text() == nbb_unformatted_code) {\n",
       "                             nbb_cells[i].set_text(nbb_formatted_code);\n",
       "                        }\n",
       "                        break;\n",
       "                    }\n",
       "                }\n",
       "            }, 500);\n",
       "            "
      ],
      "text/plain": [
       "<IPython.core.display.Javascript object>"
      ]
     },
     "metadata": {},
     "output_type": "display_data"
    }
   ],
   "source": [
    "BERT_MODEL_NAME = \"bert-base-cased\"\n",
    "tokenizer = BertTokenizer.from_pretrained(BERT_MODEL_NAME)"
   ]
  },
  {
   "cell_type": "code",
   "execution_count": 30,
   "id": "ae685362",
   "metadata": {},
   "outputs": [
    {
     "data": {
      "text/plain": [
       "Index(['Text', 'anger', 'fear', 'joy', 'sadness', 'surprise'], dtype='object')"
      ]
     },
     "execution_count": 30,
     "metadata": {},
     "output_type": "execute_result"
    },
    {
     "data": {
      "application/javascript": [
       "\n",
       "            setTimeout(function() {\n",
       "                var nbb_cell_id = 30;\n",
       "                var nbb_unformatted_code = \"df.columns\";\n",
       "                var nbb_formatted_code = \"df.columns\";\n",
       "                var nbb_cells = Jupyter.notebook.get_cells();\n",
       "                for (var i = 0; i < nbb_cells.length; ++i) {\n",
       "                    if (nbb_cells[i].input_prompt_number == nbb_cell_id) {\n",
       "                        if (nbb_cells[i].get_text() == nbb_unformatted_code) {\n",
       "                             nbb_cells[i].set_text(nbb_formatted_code);\n",
       "                        }\n",
       "                        break;\n",
       "                    }\n",
       "                }\n",
       "            }, 500);\n",
       "            "
      ],
      "text/plain": [
       "<IPython.core.display.Javascript object>"
      ]
     },
     "metadata": {},
     "output_type": "display_data"
    }
   ],
   "source": [
    "df.columns"
   ]
  },
  {
   "cell_type": "code",
   "execution_count": 31,
   "id": "f06ff088",
   "metadata": {},
   "outputs": [
    {
     "name": "stdout",
     "output_type": "stream",
     "text": [
      "All sounds possible except the key, I can't see how it was missed in the first search. \n",
      "\n",
      "{'anger': 0, 'fear': 0, 'joy': 0, 'sadness': 0, 'surprise': 1}\n"
     ]
    },
    {
     "data": {
      "application/javascript": [
       "\n",
       "            setTimeout(function() {\n",
       "                var nbb_cell_id = 31;\n",
       "                var nbb_unformatted_code = \"sample_row = df.iloc[20]\\nsample_comment = sample_row.Text\\nsample_labels = sample_row[cols]\\n\\nprint(sample_comment)\\nprint()\\nprint(sample_labels.to_dict())\";\n",
       "                var nbb_formatted_code = \"sample_row = df.iloc[20]\\nsample_comment = sample_row.Text\\nsample_labels = sample_row[cols]\\n\\nprint(sample_comment)\\nprint()\\nprint(sample_labels.to_dict())\";\n",
       "                var nbb_cells = Jupyter.notebook.get_cells();\n",
       "                for (var i = 0; i < nbb_cells.length; ++i) {\n",
       "                    if (nbb_cells[i].input_prompt_number == nbb_cell_id) {\n",
       "                        if (nbb_cells[i].get_text() == nbb_unformatted_code) {\n",
       "                             nbb_cells[i].set_text(nbb_formatted_code);\n",
       "                        }\n",
       "                        break;\n",
       "                    }\n",
       "                }\n",
       "            }, 500);\n",
       "            "
      ],
      "text/plain": [
       "<IPython.core.display.Javascript object>"
      ]
     },
     "metadata": {},
     "output_type": "display_data"
    }
   ],
   "source": [
    "sample_row = df.iloc[20]\n",
    "sample_comment = sample_row.Text\n",
    "sample_labels = sample_row[cols]\n",
    "\n",
    "print(sample_comment)\n",
    "print()\n",
    "print(sample_labels.to_dict())"
   ]
  },
  {
   "cell_type": "code",
   "execution_count": 32,
   "id": "547a487e",
   "metadata": {},
   "outputs": [
    {
     "data": {
      "text/plain": [
       "dict_keys(['input_ids', 'attention_mask'])"
      ]
     },
     "execution_count": 32,
     "metadata": {},
     "output_type": "execute_result"
    },
    {
     "data": {
      "application/javascript": [
       "\n",
       "            setTimeout(function() {\n",
       "                var nbb_cell_id = 32;\n",
       "                var nbb_unformatted_code = \"encoding = tokenizer.encode_plus(\\n    sample_comment,\\n    add_special_tokens=True,\\n    max_length=512,\\n    return_token_type_ids=False,\\n    padding=\\\"max_length\\\",\\n    return_attention_mask=True,\\n    return_tensors=\\\"pt\\\",\\n)\\n\\nencoding.keys()\";\n",
       "                var nbb_formatted_code = \"encoding = tokenizer.encode_plus(\\n    sample_comment,\\n    add_special_tokens=True,\\n    max_length=512,\\n    return_token_type_ids=False,\\n    padding=\\\"max_length\\\",\\n    return_attention_mask=True,\\n    return_tensors=\\\"pt\\\",\\n)\\n\\nencoding.keys()\";\n",
       "                var nbb_cells = Jupyter.notebook.get_cells();\n",
       "                for (var i = 0; i < nbb_cells.length; ++i) {\n",
       "                    if (nbb_cells[i].input_prompt_number == nbb_cell_id) {\n",
       "                        if (nbb_cells[i].get_text() == nbb_unformatted_code) {\n",
       "                             nbb_cells[i].set_text(nbb_formatted_code);\n",
       "                        }\n",
       "                        break;\n",
       "                    }\n",
       "                }\n",
       "            }, 500);\n",
       "            "
      ],
      "text/plain": [
       "<IPython.core.display.Javascript object>"
      ]
     },
     "metadata": {},
     "output_type": "display_data"
    }
   ],
   "source": [
    "encoding = tokenizer.encode_plus(\n",
    "    sample_comment,\n",
    "    add_special_tokens=True,\n",
    "    max_length=512,\n",
    "    return_token_type_ids=False,\n",
    "    padding=\"max_length\",\n",
    "    return_attention_mask=True,\n",
    "    return_tensors=\"pt\",\n",
    ")\n",
    "\n",
    "encoding.keys()"
   ]
  },
  {
   "cell_type": "code",
   "execution_count": 33,
   "id": "5277cd13",
   "metadata": {},
   "outputs": [
    {
     "data": {
      "text/plain": [
       "(torch.Size([1, 512]), torch.Size([1, 512]))"
      ]
     },
     "execution_count": 33,
     "metadata": {},
     "output_type": "execute_result"
    },
    {
     "data": {
      "application/javascript": [
       "\n",
       "            setTimeout(function() {\n",
       "                var nbb_cell_id = 33;\n",
       "                var nbb_unformatted_code = \"encoding[\\\"input_ids\\\"].shape, encoding[\\\"attention_mask\\\"].shape\";\n",
       "                var nbb_formatted_code = \"encoding[\\\"input_ids\\\"].shape, encoding[\\\"attention_mask\\\"].shape\";\n",
       "                var nbb_cells = Jupyter.notebook.get_cells();\n",
       "                for (var i = 0; i < nbb_cells.length; ++i) {\n",
       "                    if (nbb_cells[i].input_prompt_number == nbb_cell_id) {\n",
       "                        if (nbb_cells[i].get_text() == nbb_unformatted_code) {\n",
       "                             nbb_cells[i].set_text(nbb_formatted_code);\n",
       "                        }\n",
       "                        break;\n",
       "                    }\n",
       "                }\n",
       "            }, 500);\n",
       "            "
      ],
      "text/plain": [
       "<IPython.core.display.Javascript object>"
      ]
     },
     "metadata": {},
     "output_type": "display_data"
    }
   ],
   "source": [
    "encoding[\"input_ids\"].shape, encoding[\"attention_mask\"].shape"
   ]
  },
  {
   "cell_type": "markdown",
   "id": "8c348ecc",
   "metadata": {},
   "source": [
    "The result of the encoding is a dictionary with token ids `input_ids` and an attention mask `attention_mask` (which tokens should be used by the model 1 - use or 0 - don't use).\n",
    "\n",
    "Let's look at their contents:"
   ]
  },
  {
   "cell_type": "code",
   "execution_count": 34,
   "id": "460ab43c",
   "metadata": {},
   "outputs": [
    {
     "data": {
      "text/plain": [
       "tensor([ 101, 1398, 3807, 1936, 2589, 1103, 2501,  117,  146, 1169,  112,  189,\n",
       "        1267, 1293, 1122, 1108, 4007, 1107, 1103, 1148, 3403,  119,  102,    0,\n",
       "           0,    0,    0,    0,    0,    0,    0,    0,    0,    0,    0,    0,\n",
       "           0,    0,    0,    0,    0,    0,    0,    0,    0,    0,    0,    0,\n",
       "           0,    0])"
      ]
     },
     "execution_count": 34,
     "metadata": {},
     "output_type": "execute_result"
    },
    {
     "data": {
      "application/javascript": [
       "\n",
       "            setTimeout(function() {\n",
       "                var nbb_cell_id = 34;\n",
       "                var nbb_unformatted_code = \"encoding[\\\"input_ids\\\"].squeeze()[:50]\";\n",
       "                var nbb_formatted_code = \"encoding[\\\"input_ids\\\"].squeeze()[:50]\";\n",
       "                var nbb_cells = Jupyter.notebook.get_cells();\n",
       "                for (var i = 0; i < nbb_cells.length; ++i) {\n",
       "                    if (nbb_cells[i].input_prompt_number == nbb_cell_id) {\n",
       "                        if (nbb_cells[i].get_text() == nbb_unformatted_code) {\n",
       "                             nbb_cells[i].set_text(nbb_formatted_code);\n",
       "                        }\n",
       "                        break;\n",
       "                    }\n",
       "                }\n",
       "            }, 500);\n",
       "            "
      ],
      "text/plain": [
       "<IPython.core.display.Javascript object>"
      ]
     },
     "metadata": {},
     "output_type": "display_data"
    }
   ],
   "source": [
    "encoding[\"input_ids\"].squeeze()[:50]"
   ]
  },
  {
   "cell_type": "code",
   "execution_count": 35,
   "id": "a819d817",
   "metadata": {},
   "outputs": [
    {
     "data": {
      "text/plain": [
       "tensor([1, 1, 1, 1, 1, 1, 1, 1, 1, 1, 1, 1, 1, 1, 1, 1, 1, 1, 1, 1, 1, 1, 1, 0,\n",
       "        0, 0, 0, 0, 0, 0, 0, 0, 0, 0, 0, 0, 0, 0, 0, 0, 0, 0, 0, 0, 0, 0, 0, 0,\n",
       "        0, 0])"
      ]
     },
     "execution_count": 35,
     "metadata": {},
     "output_type": "execute_result"
    },
    {
     "data": {
      "application/javascript": [
       "\n",
       "            setTimeout(function() {\n",
       "                var nbb_cell_id = 35;\n",
       "                var nbb_unformatted_code = \"encoding[\\\"attention_mask\\\"].squeeze()[:50]\";\n",
       "                var nbb_formatted_code = \"encoding[\\\"attention_mask\\\"].squeeze()[:50]\";\n",
       "                var nbb_cells = Jupyter.notebook.get_cells();\n",
       "                for (var i = 0; i < nbb_cells.length; ++i) {\n",
       "                    if (nbb_cells[i].input_prompt_number == nbb_cell_id) {\n",
       "                        if (nbb_cells[i].get_text() == nbb_unformatted_code) {\n",
       "                             nbb_cells[i].set_text(nbb_formatted_code);\n",
       "                        }\n",
       "                        break;\n",
       "                    }\n",
       "                }\n",
       "            }, 500);\n",
       "            "
      ],
      "text/plain": [
       "<IPython.core.display.Javascript object>"
      ]
     },
     "metadata": {},
     "output_type": "display_data"
    }
   ],
   "source": [
    "encoding[\"attention_mask\"].squeeze()[:50]"
   ]
  },
  {
   "cell_type": "markdown",
   "id": "09cc7cca",
   "metadata": {},
   "source": [
    "We can also inverse the tokenization and get back the words from the token ids:"
   ]
  },
  {
   "cell_type": "code",
   "execution_count": 36,
   "id": "5948fb99",
   "metadata": {},
   "outputs": [
    {
     "name": "stdout",
     "output_type": "stream",
     "text": [
      "['[CLS]', 'All', 'sounds', 'possible', 'except', 'the', 'key', ',', 'I', 'can', \"'\", 't', 'see', 'how', 'it', 'was', 'missed', 'in', 'the', 'first', 'search', '.', '[SEP]', '[PAD]', '[PAD]', '[PAD]', '[PAD]', '[PAD]', '[PAD]', '[PAD]', '[PAD]', '[PAD]', '[PAD]', '[PAD]', '[PAD]', '[PAD]', '[PAD]', '[PAD]', '[PAD]', '[PAD]', '[PAD]', '[PAD]', '[PAD]', '[PAD]', '[PAD]', '[PAD]', '[PAD]', '[PAD]', '[PAD]', '[PAD]']\n"
     ]
    },
    {
     "data": {
      "application/javascript": [
       "\n",
       "            setTimeout(function() {\n",
       "                var nbb_cell_id = 36;\n",
       "                var nbb_unformatted_code = \"print(tokenizer.convert_ids_to_tokens(encoding[\\\"input_ids\\\"].squeeze())[:50])\";\n",
       "                var nbb_formatted_code = \"print(tokenizer.convert_ids_to_tokens(encoding[\\\"input_ids\\\"].squeeze())[:50])\";\n",
       "                var nbb_cells = Jupyter.notebook.get_cells();\n",
       "                for (var i = 0; i < nbb_cells.length; ++i) {\n",
       "                    if (nbb_cells[i].input_prompt_number == nbb_cell_id) {\n",
       "                        if (nbb_cells[i].get_text() == nbb_unformatted_code) {\n",
       "                             nbb_cells[i].set_text(nbb_formatted_code);\n",
       "                        }\n",
       "                        break;\n",
       "                    }\n",
       "                }\n",
       "            }, 500);\n",
       "            "
      ],
      "text/plain": [
       "<IPython.core.display.Javascript object>"
      ]
     },
     "metadata": {},
     "output_type": "display_data"
    }
   ],
   "source": [
    "print(tokenizer.convert_ids_to_tokens(encoding[\"input_ids\"].squeeze())[:50])"
   ]
  },
  {
   "cell_type": "markdown",
   "id": "a47420af",
   "metadata": {},
   "source": [
    "BERT use three embeddings to compute the input representations. They are token embeddings, segment embeddings and position embeddings. “CLS” is the reserved token to represent the start of sequence while “SEP” separate segment (or sentence)"
   ]
  },
  {
   "cell_type": "code",
   "execution_count": 37,
   "id": "a35b6870",
   "metadata": {},
   "outputs": [
    {
     "name": "stdout",
     "output_type": "stream",
     "text": [
      "['[CLS]', 'All', 'sounds', 'possible', 'except', 'the', 'key', ',', 'I', 'can', \"'\", 't', 'see', 'how', 'it', 'was', 'missed', 'in', 'the', 'first', 'search', '.', '[SEP]', '[PAD]', '[PAD]', '[PAD]', '[PAD]', '[PAD]', '[PAD]', '[PAD]', '[PAD]', '[PAD]', '[PAD]', '[PAD]', '[PAD]', '[PAD]', '[PAD]', '[PAD]', '[PAD]', '[PAD]', '[PAD]', '[PAD]', '[PAD]', '[PAD]', '[PAD]', '[PAD]', '[PAD]', '[PAD]', '[PAD]', '[PAD]', '[PAD]', '[PAD]', '[PAD]', '[PAD]', '[PAD]', '[PAD]', '[PAD]', '[PAD]', '[PAD]', '[PAD]', '[PAD]', '[PAD]', '[PAD]', '[PAD]', '[PAD]', '[PAD]', '[PAD]', '[PAD]', '[PAD]', '[PAD]', '[PAD]', '[PAD]', '[PAD]', '[PAD]', '[PAD]', '[PAD]', '[PAD]', '[PAD]', '[PAD]', '[PAD]', '[PAD]', '[PAD]', '[PAD]', '[PAD]', '[PAD]', '[PAD]', '[PAD]', '[PAD]', '[PAD]', '[PAD]', '[PAD]', '[PAD]', '[PAD]', '[PAD]', '[PAD]', '[PAD]', '[PAD]', '[PAD]', '[PAD]', '[PAD]']\n"
     ]
    },
    {
     "data": {
      "application/javascript": [
       "\n",
       "            setTimeout(function() {\n",
       "                var nbb_cell_id = 37;\n",
       "                var nbb_unformatted_code = \"print(tokenizer.convert_ids_to_tokens(encoding[\\\"input_ids\\\"].squeeze())[:100])\";\n",
       "                var nbb_formatted_code = \"print(tokenizer.convert_ids_to_tokens(encoding[\\\"input_ids\\\"].squeeze())[:100])\";\n",
       "                var nbb_cells = Jupyter.notebook.get_cells();\n",
       "                for (var i = 0; i < nbb_cells.length; ++i) {\n",
       "                    if (nbb_cells[i].input_prompt_number == nbb_cell_id) {\n",
       "                        if (nbb_cells[i].get_text() == nbb_unformatted_code) {\n",
       "                             nbb_cells[i].set_text(nbb_formatted_code);\n",
       "                        }\n",
       "                        break;\n",
       "                    }\n",
       "                }\n",
       "            }, 500);\n",
       "            "
      ],
      "text/plain": [
       "<IPython.core.display.Javascript object>"
      ]
     },
     "metadata": {},
     "output_type": "display_data"
    }
   ],
   "source": [
    "print(tokenizer.convert_ids_to_tokens(encoding[\"input_ids\"].squeeze())[:100])"
   ]
  },
  {
   "cell_type": "markdown",
   "id": "177e48fb",
   "metadata": {},
   "source": [
    "We can see that when we tried to see 100 tokens, it appended 'PAD' as total number of tokens were less than 100. "
   ]
  },
  {
   "cell_type": "markdown",
   "id": "7615d254",
   "metadata": {},
   "source": [
    "We need to specify the maximum number of tokens when encoding (512 is the maximum we can do). Let's check the number of tokens per comment:"
   ]
  },
  {
   "cell_type": "code",
   "execution_count": 38,
   "id": "59845e73",
   "metadata": {},
   "outputs": [
    {
     "data": {
      "application/javascript": [
       "\n",
       "            setTimeout(function() {\n",
       "                var nbb_cell_id = 38;\n",
       "                var nbb_unformatted_code = \"token_counts = []\\n\\nfor _, row in train_df.iterrows():\\n    token_count = len(tokenizer.encode(row[\\\"Text\\\"], max_length=512, truncation=True))\\n    token_counts.append(token_count)\";\n",
       "                var nbb_formatted_code = \"token_counts = []\\n\\nfor _, row in train_df.iterrows():\\n    token_count = len(tokenizer.encode(row[\\\"Text\\\"], max_length=512, truncation=True))\\n    token_counts.append(token_count)\";\n",
       "                var nbb_cells = Jupyter.notebook.get_cells();\n",
       "                for (var i = 0; i < nbb_cells.length; ++i) {\n",
       "                    if (nbb_cells[i].input_prompt_number == nbb_cell_id) {\n",
       "                        if (nbb_cells[i].get_text() == nbb_unformatted_code) {\n",
       "                             nbb_cells[i].set_text(nbb_formatted_code);\n",
       "                        }\n",
       "                        break;\n",
       "                    }\n",
       "                }\n",
       "            }, 500);\n",
       "            "
      ],
      "text/plain": [
       "<IPython.core.display.Javascript object>"
      ]
     },
     "metadata": {},
     "output_type": "display_data"
    }
   ],
   "source": [
    "token_counts = []\n",
    "\n",
    "for _, row in train_df.iterrows():\n",
    "    token_count = len(tokenizer.encode(row[\"Text\"], max_length=512, truncation=True))\n",
    "    token_counts.append(token_count)"
   ]
  },
  {
   "cell_type": "code",
   "execution_count": 39,
   "id": "5a44e072",
   "metadata": {},
   "outputs": [
    {
     "data": {
      "text/plain": [
       "Index(['Text', 'anger', 'fear', 'joy', 'sadness', 'surprise'], dtype='object')"
      ]
     },
     "execution_count": 39,
     "metadata": {},
     "output_type": "execute_result"
    },
    {
     "data": {
      "application/javascript": [
       "\n",
       "            setTimeout(function() {\n",
       "                var nbb_cell_id = 39;\n",
       "                var nbb_unformatted_code = \"train_df.columns\";\n",
       "                var nbb_formatted_code = \"train_df.columns\";\n",
       "                var nbb_cells = Jupyter.notebook.get_cells();\n",
       "                for (var i = 0; i < nbb_cells.length; ++i) {\n",
       "                    if (nbb_cells[i].input_prompt_number == nbb_cell_id) {\n",
       "                        if (nbb_cells[i].get_text() == nbb_unformatted_code) {\n",
       "                             nbb_cells[i].set_text(nbb_formatted_code);\n",
       "                        }\n",
       "                        break;\n",
       "                    }\n",
       "                }\n",
       "            }, 500);\n",
       "            "
      ],
      "text/plain": [
       "<IPython.core.display.Javascript object>"
      ]
     },
     "metadata": {},
     "output_type": "display_data"
    }
   ],
   "source": [
    "train_df.columns"
   ]
  },
  {
   "cell_type": "code",
   "execution_count": 40,
   "id": "78192731",
   "metadata": {},
   "outputs": [
    {
     "data": {
      "text/plain": [
       "(0.0, 250.0)"
      ]
     },
     "execution_count": 40,
     "metadata": {},
     "output_type": "execute_result"
    },
    {
     "data": {
      "image/png": "[encoded data removed]",
      "text/plain": [
       "<Figure size 864x576 with 1 Axes>"
      ]
     },
     "metadata": {
      "image/png": {
       "height": 471,
       "width": 749
      }
     },
     "output_type": "display_data"
    },
    {
     "data": {
      "application/javascript": [
       "\n",
       "            setTimeout(function() {\n",
       "                var nbb_cell_id = 40;\n",
       "                var nbb_unformatted_code = \"sns.histplot(token_counts)\\nplt.xlim([0, 250])\";\n",
       "                var nbb_formatted_code = \"sns.histplot(token_counts)\\nplt.xlim([0, 250])\";\n",
       "                var nbb_cells = Jupyter.notebook.get_cells();\n",
       "                for (var i = 0; i < nbb_cells.length; ++i) {\n",
       "                    if (nbb_cells[i].input_prompt_number == nbb_cell_id) {\n",
       "                        if (nbb_cells[i].get_text() == nbb_unformatted_code) {\n",
       "                             nbb_cells[i].set_text(nbb_formatted_code);\n",
       "                        }\n",
       "                        break;\n",
       "                    }\n",
       "                }\n",
       "            }, 500);\n",
       "            "
      ],
      "text/plain": [
       "<IPython.core.display.Javascript object>"
      ]
     },
     "metadata": {},
     "output_type": "display_data"
    }
   ],
   "source": [
    "sns.histplot(token_counts)\n",
    "plt.xlim([0, 250])"
   ]
  },
  {
   "cell_type": "markdown",
   "id": "f6f0e51d",
   "metadata": {},
   "source": [
    "Most of the comments contain less than 50 tokens or more than 70. So, we'll stick with the limit of 70."
   ]
  },
  {
   "cell_type": "code",
   "execution_count": 41,
   "id": "e08d417d",
   "metadata": {},
   "outputs": [
    {
     "data": {
      "application/javascript": [
       "\n",
       "            setTimeout(function() {\n",
       "                var nbb_cell_id = 41;\n",
       "                var nbb_unformatted_code = \"MAX_TOKEN_COUNT = 70\";\n",
       "                var nbb_formatted_code = \"MAX_TOKEN_COUNT = 70\";\n",
       "                var nbb_cells = Jupyter.notebook.get_cells();\n",
       "                for (var i = 0; i < nbb_cells.length; ++i) {\n",
       "                    if (nbb_cells[i].input_prompt_number == nbb_cell_id) {\n",
       "                        if (nbb_cells[i].get_text() == nbb_unformatted_code) {\n",
       "                             nbb_cells[i].set_text(nbb_formatted_code);\n",
       "                        }\n",
       "                        break;\n",
       "                    }\n",
       "                }\n",
       "            }, 500);\n",
       "            "
      ],
      "text/plain": [
       "<IPython.core.display.Javascript object>"
      ]
     },
     "metadata": {},
     "output_type": "display_data"
    }
   ],
   "source": [
    "MAX_TOKEN_COUNT = 70"
   ]
  },
  {
   "cell_type": "markdown",
   "id": "5c7b3221",
   "metadata": {},
   "source": [
    "Let's apply the tokenization process to whole dataset:"
   ]
  },
  {
   "cell_type": "code",
   "execution_count": 42,
   "id": "ee97135e",
   "metadata": {},
   "outputs": [
    {
     "data": {
      "application/javascript": [
       "\n",
       "            setTimeout(function() {\n",
       "                var nbb_cell_id = 42;\n",
       "                var nbb_unformatted_code = \"class EmotionsCommentsDataset(Dataset):\\n    def __init__(\\n        self, data: pd.DataFrame, tokenizer: BertTokenizer, max_token_len: int = 128\\n    ):\\n        self.tokenizer = tokenizer\\n        self.data = data\\n        self.max_token_len = max_token_len\\n\\n    def __len__(self):\\n        return len(self.data)\\n\\n    def __getitem__(self, index: int):\\n        data_row = self.data.iloc[index]\\n\\n        comment_text = data_row.Text\\n        labels = data_row[cols]\\n\\n        encoding = self.tokenizer.encode_plus(\\n            comment_text,\\n            add_special_tokens=True,\\n            max_length=self.max_token_len,\\n            return_token_type_ids=False,\\n            padding=\\\"max_length\\\",\\n            truncation=True,\\n            return_attention_mask=True,\\n            return_tensors=\\\"pt\\\",\\n        )\\n\\n        return dict(\\n            comment_text=comment_text,\\n            input_ids=encoding[\\\"input_ids\\\"].flatten(),\\n            attention_mask=encoding[\\\"attention_mask\\\"].flatten(),\\n            labels=torch.FloatTensor(labels),\\n        )\";\n",
       "                var nbb_formatted_code = \"class EmotionsCommentsDataset(Dataset):\\n    def __init__(\\n        self, data: pd.DataFrame, tokenizer: BertTokenizer, max_token_len: int = 128\\n    ):\\n        self.tokenizer = tokenizer\\n        self.data = data\\n        self.max_token_len = max_token_len\\n\\n    def __len__(self):\\n        return len(self.data)\\n\\n    def __getitem__(self, index: int):\\n        data_row = self.data.iloc[index]\\n\\n        comment_text = data_row.Text\\n        labels = data_row[cols]\\n\\n        encoding = self.tokenizer.encode_plus(\\n            comment_text,\\n            add_special_tokens=True,\\n            max_length=self.max_token_len,\\n            return_token_type_ids=False,\\n            padding=\\\"max_length\\\",\\n            truncation=True,\\n            return_attention_mask=True,\\n            return_tensors=\\\"pt\\\",\\n        )\\n\\n        return dict(\\n            comment_text=comment_text,\\n            input_ids=encoding[\\\"input_ids\\\"].flatten(),\\n            attention_mask=encoding[\\\"attention_mask\\\"].flatten(),\\n            labels=torch.FloatTensor(labels),\\n        )\";\n",
       "                var nbb_cells = Jupyter.notebook.get_cells();\n",
       "                for (var i = 0; i < nbb_cells.length; ++i) {\n",
       "                    if (nbb_cells[i].input_prompt_number == nbb_cell_id) {\n",
       "                        if (nbb_cells[i].get_text() == nbb_unformatted_code) {\n",
       "                             nbb_cells[i].set_text(nbb_formatted_code);\n",
       "                        }\n",
       "                        break;\n",
       "                    }\n",
       "                }\n",
       "            }, 500);\n",
       "            "
      ],
      "text/plain": [
       "<IPython.core.display.Javascript object>"
      ]
     },
     "metadata": {},
     "output_type": "display_data"
    }
   ],
   "source": [
    "class EmotionsCommentsDataset(Dataset):\n",
    "    def __init__(\n",
    "        self, data: pd.DataFrame, tokenizer: BertTokenizer, max_token_len: int = 128\n",
    "    ):\n",
    "        self.tokenizer = tokenizer\n",
    "        self.data = data\n",
    "        self.max_token_len = max_token_len\n",
    "\n",
    "    def __len__(self):\n",
    "        return len(self.data)\n",
    "\n",
    "    def __getitem__(self, index: int):\n",
    "        data_row = self.data.iloc[index]\n",
    "\n",
    "        comment_text = data_row.Text\n",
    "        labels = data_row[cols]\n",
    "\n",
    "        encoding = self.tokenizer.encode_plus(\n",
    "            comment_text,\n",
    "            add_special_tokens=True,\n",
    "            max_length=self.max_token_len,\n",
    "            return_token_type_ids=False,\n",
    "            padding=\"max_length\",\n",
    "            truncation=True,\n",
    "            return_attention_mask=True,\n",
    "            return_tensors=\"pt\",\n",
    "        )\n",
    "\n",
    "        return dict(\n",
    "            comment_text=comment_text,\n",
    "            input_ids=encoding[\"input_ids\"].flatten(),\n",
    "            attention_mask=encoding[\"attention_mask\"].flatten(),\n",
    "            labels=torch.FloatTensor(labels),\n",
    "        )"
   ]
  },
  {
   "cell_type": "markdown",
   "id": "d0b7da50",
   "metadata": {},
   "source": [
    "Let's have a look at a sample item from the dataset:"
   ]
  },
  {
   "cell_type": "code",
   "execution_count": 43,
   "id": "f97dbcef",
   "metadata": {},
   "outputs": [
    {
     "data": {
      "text/plain": [
       "dict_keys(['comment_text', 'input_ids', 'attention_mask', 'labels'])"
      ]
     },
     "execution_count": 43,
     "metadata": {},
     "output_type": "execute_result"
    },
    {
     "data": {
      "application/javascript": [
       "\n",
       "            setTimeout(function() {\n",
       "                var nbb_cell_id = 43;\n",
       "                var nbb_unformatted_code = \"train_dataset = EmotionsCommentsDataset(\\n    train_df, tokenizer, max_token_len=MAX_TOKEN_COUNT\\n)\\n\\nsample_item = train_dataset[2]\\nsample_item.keys()\";\n",
       "                var nbb_formatted_code = \"train_dataset = EmotionsCommentsDataset(\\n    train_df, tokenizer, max_token_len=MAX_TOKEN_COUNT\\n)\\n\\nsample_item = train_dataset[2]\\nsample_item.keys()\";\n",
       "                var nbb_cells = Jupyter.notebook.get_cells();\n",
       "                for (var i = 0; i < nbb_cells.length; ++i) {\n",
       "                    if (nbb_cells[i].input_prompt_number == nbb_cell_id) {\n",
       "                        if (nbb_cells[i].get_text() == nbb_unformatted_code) {\n",
       "                             nbb_cells[i].set_text(nbb_formatted_code);\n",
       "                        }\n",
       "                        break;\n",
       "                    }\n",
       "                }\n",
       "            }, 500);\n",
       "            "
      ],
      "text/plain": [
       "<IPython.core.display.Javascript object>"
      ]
     },
     "metadata": {},
     "output_type": "display_data"
    }
   ],
   "source": [
    "train_dataset = EmotionsCommentsDataset(\n",
    "    train_df, tokenizer, max_token_len=MAX_TOKEN_COUNT\n",
    ")\n",
    "\n",
    "sample_item = train_dataset[2]\n",
    "sample_item.keys()"
   ]
  },
  {
   "cell_type": "code",
   "execution_count": 44,
   "id": "4f9df114",
   "metadata": {},
   "outputs": [
    {
     "data": {
      "text/plain": [
       "\"Wow! Never thought of it this way but that's a REALLY good point.\""
      ]
     },
     "execution_count": 44,
     "metadata": {},
     "output_type": "execute_result"
    },
    {
     "data": {
      "application/javascript": [
       "\n",
       "            setTimeout(function() {\n",
       "                var nbb_cell_id = 44;\n",
       "                var nbb_unformatted_code = \"sample_item[\\\"comment_text\\\"]\";\n",
       "                var nbb_formatted_code = \"sample_item[\\\"comment_text\\\"]\";\n",
       "                var nbb_cells = Jupyter.notebook.get_cells();\n",
       "                for (var i = 0; i < nbb_cells.length; ++i) {\n",
       "                    if (nbb_cells[i].input_prompt_number == nbb_cell_id) {\n",
       "                        if (nbb_cells[i].get_text() == nbb_unformatted_code) {\n",
       "                             nbb_cells[i].set_text(nbb_formatted_code);\n",
       "                        }\n",
       "                        break;\n",
       "                    }\n",
       "                }\n",
       "            }, 500);\n",
       "            "
      ],
      "text/plain": [
       "<IPython.core.display.Javascript object>"
      ]
     },
     "metadata": {},
     "output_type": "display_data"
    }
   ],
   "source": [
    "sample_item[\"comment_text\"]"
   ]
  },
  {
   "cell_type": "code",
   "execution_count": 45,
   "id": "dbfdbf07",
   "metadata": {},
   "outputs": [
    {
     "data": {
      "text/plain": [
       "tensor([0., 0., 1., 0., 1.])"
      ]
     },
     "execution_count": 45,
     "metadata": {},
     "output_type": "execute_result"
    },
    {
     "data": {
      "application/javascript": [
       "\n",
       "            setTimeout(function() {\n",
       "                var nbb_cell_id = 45;\n",
       "                var nbb_unformatted_code = \"sample_item[\\\"labels\\\"]\";\n",
       "                var nbb_formatted_code = \"sample_item[\\\"labels\\\"]\";\n",
       "                var nbb_cells = Jupyter.notebook.get_cells();\n",
       "                for (var i = 0; i < nbb_cells.length; ++i) {\n",
       "                    if (nbb_cells[i].input_prompt_number == nbb_cell_id) {\n",
       "                        if (nbb_cells[i].get_text() == nbb_unformatted_code) {\n",
       "                             nbb_cells[i].set_text(nbb_formatted_code);\n",
       "                        }\n",
       "                        break;\n",
       "                    }\n",
       "                }\n",
       "            }, 500);\n",
       "            "
      ],
      "text/plain": [
       "<IPython.core.display.Javascript object>"
      ]
     },
     "metadata": {},
     "output_type": "display_data"
    }
   ],
   "source": [
    "sample_item[\"labels\"]"
   ]
  },
  {
   "cell_type": "code",
   "execution_count": 46,
   "id": "b6eb6092",
   "metadata": {},
   "outputs": [
    {
     "data": {
      "text/plain": [
       "torch.Size([70])"
      ]
     },
     "execution_count": 46,
     "metadata": {},
     "output_type": "execute_result"
    },
    {
     "data": {
      "application/javascript": [
       "\n",
       "            setTimeout(function() {\n",
       "                var nbb_cell_id = 46;\n",
       "                var nbb_unformatted_code = \"sample_item[\\\"input_ids\\\"].shape\";\n",
       "                var nbb_formatted_code = \"sample_item[\\\"input_ids\\\"].shape\";\n",
       "                var nbb_cells = Jupyter.notebook.get_cells();\n",
       "                for (var i = 0; i < nbb_cells.length; ++i) {\n",
       "                    if (nbb_cells[i].input_prompt_number == nbb_cell_id) {\n",
       "                        if (nbb_cells[i].get_text() == nbb_unformatted_code) {\n",
       "                             nbb_cells[i].set_text(nbb_formatted_code);\n",
       "                        }\n",
       "                        break;\n",
       "                    }\n",
       "                }\n",
       "            }, 500);\n",
       "            "
      ],
      "text/plain": [
       "<IPython.core.display.Javascript object>"
      ]
     },
     "metadata": {},
     "output_type": "display_data"
    }
   ],
   "source": [
    "sample_item[\"input_ids\"].shape"
   ]
  },
  {
   "cell_type": "markdown",
   "id": "d6547590",
   "metadata": {},
   "source": [
    "Let's load the BERT model and pass a sample of batch data through:"
   ]
  },
  {
   "cell_type": "code",
   "execution_count": 47,
   "id": "2a5bc7b4",
   "metadata": {},
   "outputs": [
    {
     "name": "stderr",
     "output_type": "stream",
     "text": [
      "Some weights of the model checkpoint at bert-base-cased were not used when initializing BertModel: ['cls.predictions.transform.dense.bias', 'cls.predictions.transform.dense.weight', 'cls.predictions.decoder.weight', 'cls.predictions.transform.LayerNorm.bias', 'cls.seq_relationship.bias', 'cls.predictions.transform.LayerNorm.weight', 'cls.predictions.bias', 'cls.seq_relationship.weight']\n",
      "- This IS expected if you are initializing BertModel from the checkpoint of a model trained on another task or with another architecture (e.g. initializing a BertForSequenceClassification model from a BertForPreTraining model).\n",
      "- This IS NOT expected if you are initializing BertModel from the checkpoint of a model that you expect to be exactly identical (initializing a BertForSequenceClassification model from a BertForSequenceClassification model).\n"
     ]
    },
    {
     "data": {
      "application/javascript": [
       "\n",
       "            setTimeout(function() {\n",
       "                var nbb_cell_id = 47;\n",
       "                var nbb_unformatted_code = \"bert_model = BertModel.from_pretrained(BERT_MODEL_NAME, return_dict=True)\";\n",
       "                var nbb_formatted_code = \"bert_model = BertModel.from_pretrained(BERT_MODEL_NAME, return_dict=True)\";\n",
       "                var nbb_cells = Jupyter.notebook.get_cells();\n",
       "                for (var i = 0; i < nbb_cells.length; ++i) {\n",
       "                    if (nbb_cells[i].input_prompt_number == nbb_cell_id) {\n",
       "                        if (nbb_cells[i].get_text() == nbb_unformatted_code) {\n",
       "                             nbb_cells[i].set_text(nbb_formatted_code);\n",
       "                        }\n",
       "                        break;\n",
       "                    }\n",
       "                }\n",
       "            }, 500);\n",
       "            "
      ],
      "text/plain": [
       "<IPython.core.display.Javascript object>"
      ]
     },
     "metadata": {},
     "output_type": "display_data"
    }
   ],
   "source": [
    "bert_model = BertModel.from_pretrained(BERT_MODEL_NAME, return_dict=True)"
   ]
  },
  {
   "cell_type": "code",
   "execution_count": 48,
   "id": "f5d75c3d",
   "metadata": {},
   "outputs": [
    {
     "data": {
      "text/plain": [
       "(torch.Size([4, 70]), torch.Size([4, 70]))"
      ]
     },
     "execution_count": 48,
     "metadata": {},
     "output_type": "execute_result"
    },
    {
     "data": {
      "application/javascript": [
       "\n",
       "            setTimeout(function() {\n",
       "                var nbb_cell_id = 48;\n",
       "                var nbb_unformatted_code = \"sample_batch = next(iter(DataLoader(train_dataset, batch_size=4, num_workers=16)))\\nsample_batch[\\\"input_ids\\\"].shape, sample_batch[\\\"attention_mask\\\"].shape\";\n",
       "                var nbb_formatted_code = \"sample_batch = next(iter(DataLoader(train_dataset, batch_size=4, num_workers=16)))\\nsample_batch[\\\"input_ids\\\"].shape, sample_batch[\\\"attention_mask\\\"].shape\";\n",
       "                var nbb_cells = Jupyter.notebook.get_cells();\n",
       "                for (var i = 0; i < nbb_cells.length; ++i) {\n",
       "                    if (nbb_cells[i].input_prompt_number == nbb_cell_id) {\n",
       "                        if (nbb_cells[i].get_text() == nbb_unformatted_code) {\n",
       "                             nbb_cells[i].set_text(nbb_formatted_code);\n",
       "                        }\n",
       "                        break;\n",
       "                    }\n",
       "                }\n",
       "            }, 500);\n",
       "            "
      ],
      "text/plain": [
       "<IPython.core.display.Javascript object>"
      ]
     },
     "metadata": {},
     "output_type": "display_data"
    }
   ],
   "source": [
    "sample_batch = next(iter(DataLoader(train_dataset, batch_size=4, num_workers=16)))\n",
    "sample_batch[\"input_ids\"].shape, sample_batch[\"attention_mask\"].shape"
   ]
  },
  {
   "cell_type": "code",
   "execution_count": 49,
   "id": "3b520c34",
   "metadata": {},
   "outputs": [
    {
     "data": {
      "application/javascript": [
       "\n",
       "            setTimeout(function() {\n",
       "                var nbb_cell_id = 49;\n",
       "                var nbb_unformatted_code = \"output = bert_model(sample_batch[\\\"input_ids\\\"], sample_batch[\\\"attention_mask\\\"])\";\n",
       "                var nbb_formatted_code = \"output = bert_model(sample_batch[\\\"input_ids\\\"], sample_batch[\\\"attention_mask\\\"])\";\n",
       "                var nbb_cells = Jupyter.notebook.get_cells();\n",
       "                for (var i = 0; i < nbb_cells.length; ++i) {\n",
       "                    if (nbb_cells[i].input_prompt_number == nbb_cell_id) {\n",
       "                        if (nbb_cells[i].get_text() == nbb_unformatted_code) {\n",
       "                             nbb_cells[i].set_text(nbb_formatted_code);\n",
       "                        }\n",
       "                        break;\n",
       "                    }\n",
       "                }\n",
       "            }, 500);\n",
       "            "
      ],
      "text/plain": [
       "<IPython.core.display.Javascript object>"
      ]
     },
     "metadata": {},
     "output_type": "display_data"
    }
   ],
   "source": [
    "output = bert_model(sample_batch[\"input_ids\"], sample_batch[\"attention_mask\"])"
   ]
  },
  {
   "cell_type": "code",
   "execution_count": 50,
   "id": "2d06fe26",
   "metadata": {},
   "outputs": [
    {
     "data": {
      "text/plain": [
       "(torch.Size([4, 70, 768]), torch.Size([4, 768]))"
      ]
     },
     "execution_count": 50,
     "metadata": {},
     "output_type": "execute_result"
    },
    {
     "data": {
      "application/javascript": [
       "\n",
       "            setTimeout(function() {\n",
       "                var nbb_cell_id = 50;\n",
       "                var nbb_unformatted_code = \"output.last_hidden_state.shape, output.pooler_output.shape\";\n",
       "                var nbb_formatted_code = \"output.last_hidden_state.shape, output.pooler_output.shape\";\n",
       "                var nbb_cells = Jupyter.notebook.get_cells();\n",
       "                for (var i = 0; i < nbb_cells.length; ++i) {\n",
       "                    if (nbb_cells[i].input_prompt_number == nbb_cell_id) {\n",
       "                        if (nbb_cells[i].get_text() == nbb_unformatted_code) {\n",
       "                             nbb_cells[i].set_text(nbb_formatted_code);\n",
       "                        }\n",
       "                        break;\n",
       "                    }\n",
       "                }\n",
       "            }, 500);\n",
       "            "
      ],
      "text/plain": [
       "<IPython.core.display.Javascript object>"
      ]
     },
     "metadata": {},
     "output_type": "display_data"
    }
   ],
   "source": [
    "output.last_hidden_state.shape, output.pooler_output.shape"
   ]
  },
  {
   "cell_type": "markdown",
   "id": "9223e7bb",
   "metadata": {},
   "source": [
    "The `768` dimension comes from the BERT hidden size:"
   ]
  },
  {
   "cell_type": "code",
   "execution_count": 51,
   "id": "9543e558",
   "metadata": {},
   "outputs": [
    {
     "data": {
      "text/plain": [
       "768"
      ]
     },
     "execution_count": 51,
     "metadata": {},
     "output_type": "execute_result"
    },
    {
     "data": {
      "application/javascript": [
       "\n",
       "            setTimeout(function() {\n",
       "                var nbb_cell_id = 51;\n",
       "                var nbb_unformatted_code = \"bert_model.config.hidden_size\";\n",
       "                var nbb_formatted_code = \"bert_model.config.hidden_size\";\n",
       "                var nbb_cells = Jupyter.notebook.get_cells();\n",
       "                for (var i = 0; i < nbb_cells.length; ++i) {\n",
       "                    if (nbb_cells[i].input_prompt_number == nbb_cell_id) {\n",
       "                        if (nbb_cells[i].get_text() == nbb_unformatted_code) {\n",
       "                             nbb_cells[i].set_text(nbb_formatted_code);\n",
       "                        }\n",
       "                        break;\n",
       "                    }\n",
       "                }\n",
       "            }, 500);\n",
       "            "
      ],
      "text/plain": [
       "<IPython.core.display.Javascript object>"
      ]
     },
     "metadata": {},
     "output_type": "display_data"
    }
   ],
   "source": [
    "bert_model.config.hidden_size"
   ]
  },
  {
   "cell_type": "markdown",
   "id": "37e3b816",
   "metadata": {},
   "source": [
    "The larger version of BERT has more attention heads and a larger hidden size.\n",
    "\n",
    "We'll wrap our custom dataset into a [LightningDataModule](https://pytorch-lightning.readthedocs.io/en/stable/extensions/datamodules.html):"
   ]
  },
  {
   "cell_type": "code",
   "execution_count": 52,
   "id": "fdeee8b2",
   "metadata": {},
   "outputs": [
    {
     "data": {
      "application/javascript": [
       "\n",
       "            setTimeout(function() {\n",
       "                var nbb_cell_id = 52;\n",
       "                var nbb_unformatted_code = \"class EmotionCommentDataModule(pl.LightningDataModule):\\n    def __init__(self, train_df, test_df, tokenizer, batch_size=8, max_token_len=128):\\n        super().__init__()\\n        self.batch_size = batch_size\\n        self.train_df = train_df\\n        self.test_df = test_df\\n        self.tokenizer = tokenizer\\n        self.max_token_len = max_token_len\\n\\n    def setup(self, stage=None):\\n        self.train_dataset = EmotionsCommentsDataset(\\n            self.train_df, self.tokenizer, self.max_token_len\\n        )\\n\\n        self.test_dataset = EmotionsCommentsDataset(\\n            self.test_df, self.tokenizer, self.max_token_len\\n        )\\n\\n    def train_dataloader(self):\\n        return DataLoader(\\n            self.train_dataset, batch_size=self.batch_size, shuffle=True, num_workers=16\\n        )\\n\\n    def val_dataloader(self):\\n        return DataLoader(self.test_dataset, batch_size=self.batch_size, num_workers=16)\\n\\n    def test_dataloader(self):\\n        return DataLoader(self.test_dataset, batch_size=self.batch_size, num_workers=16)\";\n",
       "                var nbb_formatted_code = \"class EmotionCommentDataModule(pl.LightningDataModule):\\n    def __init__(self, train_df, test_df, tokenizer, batch_size=8, max_token_len=128):\\n        super().__init__()\\n        self.batch_size = batch_size\\n        self.train_df = train_df\\n        self.test_df = test_df\\n        self.tokenizer = tokenizer\\n        self.max_token_len = max_token_len\\n\\n    def setup(self, stage=None):\\n        self.train_dataset = EmotionsCommentsDataset(\\n            self.train_df, self.tokenizer, self.max_token_len\\n        )\\n\\n        self.test_dataset = EmotionsCommentsDataset(\\n            self.test_df, self.tokenizer, self.max_token_len\\n        )\\n\\n    def train_dataloader(self):\\n        return DataLoader(\\n            self.train_dataset, batch_size=self.batch_size, shuffle=True, num_workers=16\\n        )\\n\\n    def val_dataloader(self):\\n        return DataLoader(self.test_dataset, batch_size=self.batch_size, num_workers=16)\\n\\n    def test_dataloader(self):\\n        return DataLoader(self.test_dataset, batch_size=self.batch_size, num_workers=16)\";\n",
       "                var nbb_cells = Jupyter.notebook.get_cells();\n",
       "                for (var i = 0; i < nbb_cells.length; ++i) {\n",
       "                    if (nbb_cells[i].input_prompt_number == nbb_cell_id) {\n",
       "                        if (nbb_cells[i].get_text() == nbb_unformatted_code) {\n",
       "                             nbb_cells[i].set_text(nbb_formatted_code);\n",
       "                        }\n",
       "                        break;\n",
       "                    }\n",
       "                }\n",
       "            }, 500);\n",
       "            "
      ],
      "text/plain": [
       "<IPython.core.display.Javascript object>"
      ]
     },
     "metadata": {},
     "output_type": "display_data"
    }
   ],
   "source": [
    "class EmotionCommentDataModule(pl.LightningDataModule):\n",
    "    def __init__(self, train_df, test_df, tokenizer, batch_size=8, max_token_len=128):\n",
    "        super().__init__()\n",
    "        self.batch_size = batch_size\n",
    "        self.train_df = train_df\n",
    "        self.test_df = test_df\n",
    "        self.tokenizer = tokenizer\n",
    "        self.max_token_len = max_token_len\n",
    "\n",
    "    def setup(self, stage=None):\n",
    "        self.train_dataset = EmotionsCommentsDataset(\n",
    "            self.train_df, self.tokenizer, self.max_token_len\n",
    "        )\n",
    "\n",
    "        self.test_dataset = EmotionsCommentsDataset(\n",
    "            self.test_df, self.tokenizer, self.max_token_len\n",
    "        )\n",
    "\n",
    "    def train_dataloader(self):\n",
    "        return DataLoader(\n",
    "            self.train_dataset, batch_size=self.batch_size, shuffle=True, num_workers=16\n",
    "        )\n",
    "\n",
    "    def val_dataloader(self):\n",
    "        return DataLoader(self.test_dataset, batch_size=self.batch_size, num_workers=16)\n",
    "\n",
    "    def test_dataloader(self):\n",
    "        return DataLoader(self.test_dataset, batch_size=self.batch_size, num_workers=16)"
   ]
  },
  {
   "cell_type": "code",
   "execution_count": 53,
   "id": "9ed77a56",
   "metadata": {},
   "outputs": [
    {
     "data": {
      "application/javascript": [
       "\n",
       "            setTimeout(function() {\n",
       "                var nbb_cell_id = 53;\n",
       "                var nbb_unformatted_code = \"N_EPOCHS = 10\\nBATCH_SIZE = 12\\n\\ndata_module = EmotionCommentDataModule(\\n  train_df,\\n  val_df,\\n  tokenizer,\\n  batch_size=BATCH_SIZE,\\n  max_token_len=MAX_TOKEN_COUNT\\n)\";\n",
       "                var nbb_formatted_code = \"N_EPOCHS = 10\\nBATCH_SIZE = 12\\n\\ndata_module = EmotionCommentDataModule(\\n    train_df, val_df, tokenizer, batch_size=BATCH_SIZE, max_token_len=MAX_TOKEN_COUNT\\n)\";\n",
       "                var nbb_cells = Jupyter.notebook.get_cells();\n",
       "                for (var i = 0; i < nbb_cells.length; ++i) {\n",
       "                    if (nbb_cells[i].input_prompt_number == nbb_cell_id) {\n",
       "                        if (nbb_cells[i].get_text() == nbb_unformatted_code) {\n",
       "                             nbb_cells[i].set_text(nbb_formatted_code);\n",
       "                        }\n",
       "                        break;\n",
       "                    }\n",
       "                }\n",
       "            }, 500);\n",
       "            "
      ],
      "text/plain": [
       "<IPython.core.display.Javascript object>"
      ]
     },
     "metadata": {},
     "output_type": "display_data"
    }
   ],
   "source": [
    "N_EPOCHS = 10\n",
    "BATCH_SIZE = 12\n",
    "\n",
    "data_module = EmotionCommentDataModule(\n",
    "  train_df,\n",
    "  val_df,\n",
    "  tokenizer,\n",
    "  batch_size=BATCH_SIZE,\n",
    "  max_token_len=MAX_TOKEN_COUNT\n",
    ")\n"
   ]
  },
  {
   "cell_type": "markdown",
   "id": "16f59695",
   "metadata": {},
   "source": [
    "## Model Architecure"
   ]
  },
  {
   "cell_type": "markdown",
   "id": "3c6db306",
   "metadata": {},
   "source": [
    "Our model will use a pre-trained [BertModel](https://huggingface.co/transformers/model_doc/bert.html#bertmodel) and a linear layer to convert the BERT representation to a classification task. We'll pack everything in a [LightningModule](https://pytorch-lightning.readthedocs.io/en/stable/common/lightning_module.html):"
   ]
  },
  {
   "cell_type": "code",
   "execution_count": 54,
   "id": "59ab6bae",
   "metadata": {},
   "outputs": [
    {
     "data": {
      "application/javascript": [
       "\n",
       "            setTimeout(function() {\n",
       "                var nbb_cell_id = 54;\n",
       "                var nbb_unformatted_code = \"class EmotionCommentTagger(pl.LightningModule):\\n    def __init__(self, n_classes: int, n_training_steps=None, n_warmup_steps=None):\\n        super().__init__()\\n        self.bert = BertModel.from_pretrained(BERT_MODEL_NAME, return_dict=True)\\n        self.classifier = nn.Linear(self.bert.config.hidden_size, n_classes)\\n        self.n_training_steps = n_training_steps\\n        self.n_warmup_steps = n_warmup_steps\\n        self.criterion = nn.BCELoss()\\n\\n    def forward(self, input_ids, attention_mask, labels=None):\\n        output = self.bert(input_ids, attention_mask=attention_mask)\\n        output = self.classifier(output.pooler_output)\\n        output = torch.sigmoid(output)\\n        loss = 0\\n        if labels is not None:\\n            loss = self.criterion(output, labels)\\n        return loss, output\\n\\n    def training_step(self, batch, batch_idx):\\n        input_ids = batch[\\\"input_ids\\\"]\\n        attention_mask = batch[\\\"attention_mask\\\"]\\n        labels = batch[\\\"labels\\\"]\\n        loss, outputs = self(input_ids, attention_mask, labels)\\n        self.log(\\n            \\\"train_loss\\\", loss, prog_bar=True, logger=True, on_epoch=True, on_step=False\\n        )\\n        return {\\\"loss\\\": loss, \\\"predictions\\\": outputs, \\\"labels\\\": labels}\\n\\n    def validation_step(self, batch, batch_idx):\\n        input_ids = batch[\\\"input_ids\\\"]\\n        attention_mask = batch[\\\"attention_mask\\\"]\\n        labels = batch[\\\"labels\\\"]\\n        loss, outputs = self(input_ids, attention_mask, labels)\\n        self.log(\\n            \\\"val_loss\\\", loss, prog_bar=True, logger=True, on_epoch=True, on_step=False\\n        )\\n        return loss\\n\\n    def test_step(self, batch, batch_idx):\\n        input_ids = batch[\\\"input_ids\\\"]\\n        attention_mask = batch[\\\"attention_mask\\\"]\\n        labels = batch[\\\"labels\\\"]\\n        loss, outputs = self(input_ids, attention_mask, labels)\\n        self.log(\\n            \\\"test_loss\\\", loss, prog_bar=True, logger=True, on_epoch=True, on_step=False\\n        )\\n        return loss\\n\\n    def training_epoch_end(self, outputs):\\n\\n        labels = []\\n        predictions = []\\n        for output in outputs:\\n            for out_labels in output[\\\"labels\\\"].detach().cpu():\\n                labels.append(out_labels)\\n            for out_predictions in output[\\\"predictions\\\"].detach().cpu():\\n                predictions.append(out_predictions)\\n\\n        labels = torch.stack(labels).int()\\n        predictions = torch.stack(predictions)\\n\\n        for i, name in enumerate(cols):\\n            class_roc_auc = auroc(predictions[:, i], labels[:, i])\\n            self.logger.experiment.add_scalar(\\n                f\\\"{name}_roc_auc/Train\\\", class_roc_auc, self.current_epoch\\n            )\\n\\n    def configure_optimizers(self):\\n\\n        optimizer = AdamW(self.parameters(), lr=2e-5)\\n\\n        scheduler = get_linear_schedule_with_warmup(\\n            optimizer,\\n            num_warmup_steps=self.n_warmup_steps,\\n            num_training_steps=self.n_training_steps,\\n        )\\n\\n        return dict(\\n            optimizer=optimizer, lr_scheduler=dict(scheduler=scheduler, interval=\\\"step\\\")\\n        )\";\n",
       "                var nbb_formatted_code = \"class EmotionCommentTagger(pl.LightningModule):\\n    def __init__(self, n_classes: int, n_training_steps=None, n_warmup_steps=None):\\n        super().__init__()\\n        self.bert = BertModel.from_pretrained(BERT_MODEL_NAME, return_dict=True)\\n        self.classifier = nn.Linear(self.bert.config.hidden_size, n_classes)\\n        self.n_training_steps = n_training_steps\\n        self.n_warmup_steps = n_warmup_steps\\n        self.criterion = nn.BCELoss()\\n\\n    def forward(self, input_ids, attention_mask, labels=None):\\n        output = self.bert(input_ids, attention_mask=attention_mask)\\n        output = self.classifier(output.pooler_output)\\n        output = torch.sigmoid(output)\\n        loss = 0\\n        if labels is not None:\\n            loss = self.criterion(output, labels)\\n        return loss, output\\n\\n    def training_step(self, batch, batch_idx):\\n        input_ids = batch[\\\"input_ids\\\"]\\n        attention_mask = batch[\\\"attention_mask\\\"]\\n        labels = batch[\\\"labels\\\"]\\n        loss, outputs = self(input_ids, attention_mask, labels)\\n        self.log(\\n            \\\"train_loss\\\", loss, prog_bar=True, logger=True, on_epoch=True, on_step=False\\n        )\\n        return {\\\"loss\\\": loss, \\\"predictions\\\": outputs, \\\"labels\\\": labels}\\n\\n    def validation_step(self, batch, batch_idx):\\n        input_ids = batch[\\\"input_ids\\\"]\\n        attention_mask = batch[\\\"attention_mask\\\"]\\n        labels = batch[\\\"labels\\\"]\\n        loss, outputs = self(input_ids, attention_mask, labels)\\n        self.log(\\n            \\\"val_loss\\\", loss, prog_bar=True, logger=True, on_epoch=True, on_step=False\\n        )\\n        return loss\\n\\n    def test_step(self, batch, batch_idx):\\n        input_ids = batch[\\\"input_ids\\\"]\\n        attention_mask = batch[\\\"attention_mask\\\"]\\n        labels = batch[\\\"labels\\\"]\\n        loss, outputs = self(input_ids, attention_mask, labels)\\n        self.log(\\n            \\\"test_loss\\\", loss, prog_bar=True, logger=True, on_epoch=True, on_step=False\\n        )\\n        return loss\\n\\n    def training_epoch_end(self, outputs):\\n\\n        labels = []\\n        predictions = []\\n        for output in outputs:\\n            for out_labels in output[\\\"labels\\\"].detach().cpu():\\n                labels.append(out_labels)\\n            for out_predictions in output[\\\"predictions\\\"].detach().cpu():\\n                predictions.append(out_predictions)\\n\\n        labels = torch.stack(labels).int()\\n        predictions = torch.stack(predictions)\\n\\n        for i, name in enumerate(cols):\\n            class_roc_auc = auroc(predictions[:, i], labels[:, i])\\n            self.logger.experiment.add_scalar(\\n                f\\\"{name}_roc_auc/Train\\\", class_roc_auc, self.current_epoch\\n            )\\n\\n    def configure_optimizers(self):\\n\\n        optimizer = AdamW(self.parameters(), lr=2e-5)\\n\\n        scheduler = get_linear_schedule_with_warmup(\\n            optimizer,\\n            num_warmup_steps=self.n_warmup_steps,\\n            num_training_steps=self.n_training_steps,\\n        )\\n\\n        return dict(\\n            optimizer=optimizer, lr_scheduler=dict(scheduler=scheduler, interval=\\\"step\\\")\\n        )\";\n",
       "                var nbb_cells = Jupyter.notebook.get_cells();\n",
       "                for (var i = 0; i < nbb_cells.length; ++i) {\n",
       "                    if (nbb_cells[i].input_prompt_number == nbb_cell_id) {\n",
       "                        if (nbb_cells[i].get_text() == nbb_unformatted_code) {\n",
       "                             nbb_cells[i].set_text(nbb_formatted_code);\n",
       "                        }\n",
       "                        break;\n",
       "                    }\n",
       "                }\n",
       "            }, 500);\n",
       "            "
      ],
      "text/plain": [
       "<IPython.core.display.Javascript object>"
      ]
     },
     "metadata": {},
     "output_type": "display_data"
    }
   ],
   "source": [
    "class EmotionCommentTagger(pl.LightningModule):\n",
    "    def __init__(self, n_classes: int, n_training_steps=None, n_warmup_steps=None):\n",
    "        super().__init__()\n",
    "        self.bert = BertModel.from_pretrained(BERT_MODEL_NAME, return_dict=True)\n",
    "        self.classifier = nn.Linear(self.bert.config.hidden_size, n_classes)\n",
    "        self.n_training_steps = n_training_steps\n",
    "        self.n_warmup_steps = n_warmup_steps\n",
    "        self.criterion = nn.BCELoss()\n",
    "\n",
    "    def forward(self, input_ids, attention_mask, labels=None):\n",
    "        output = self.bert(input_ids, attention_mask=attention_mask)\n",
    "        output = self.classifier(output.pooler_output)\n",
    "        output = torch.sigmoid(output)\n",
    "        loss = 0\n",
    "        if labels is not None:\n",
    "            loss = self.criterion(output, labels)\n",
    "        return loss, output\n",
    "\n",
    "    def training_step(self, batch, batch_idx):\n",
    "        input_ids = batch[\"input_ids\"]\n",
    "        attention_mask = batch[\"attention_mask\"]\n",
    "        labels = batch[\"labels\"]\n",
    "        loss, outputs = self(input_ids, attention_mask, labels)\n",
    "        self.log(\n",
    "            \"train_loss\", loss, prog_bar=True, logger=True, on_epoch=True, on_step=False\n",
    "        )\n",
    "        return {\"loss\": loss, \"predictions\": outputs, \"labels\": labels}\n",
    "\n",
    "    def validation_step(self, batch, batch_idx):\n",
    "        input_ids = batch[\"input_ids\"]\n",
    "        attention_mask = batch[\"attention_mask\"]\n",
    "        labels = batch[\"labels\"]\n",
    "        loss, outputs = self(input_ids, attention_mask, labels)\n",
    "        self.log(\n",
    "            \"val_loss\", loss, prog_bar=True, logger=True, on_epoch=True, on_step=False\n",
    "        )\n",
    "        return loss\n",
    "\n",
    "    def test_step(self, batch, batch_idx):\n",
    "        input_ids = batch[\"input_ids\"]\n",
    "        attention_mask = batch[\"attention_mask\"]\n",
    "        labels = batch[\"labels\"]\n",
    "        loss, outputs = self(input_ids, attention_mask, labels)\n",
    "        self.log(\n",
    "            \"test_loss\", loss, prog_bar=True, logger=True, on_epoch=True, on_step=False\n",
    "        )\n",
    "        return loss\n",
    "\n",
    "    def training_epoch_end(self, outputs):\n",
    "\n",
    "        labels = []\n",
    "        predictions = []\n",
    "        for output in outputs:\n",
    "            for out_labels in output[\"labels\"].detach().cpu():\n",
    "                labels.append(out_labels)\n",
    "            for out_predictions in output[\"predictions\"].detach().cpu():\n",
    "                predictions.append(out_predictions)\n",
    "\n",
    "        labels = torch.stack(labels).int()\n",
    "        predictions = torch.stack(predictions)\n",
    "\n",
    "        for i, name in enumerate(cols):\n",
    "            class_roc_auc = auroc(predictions[:, i], labels[:, i])\n",
    "            self.logger.experiment.add_scalar(\n",
    "                f\"{name}_roc_auc/Train\", class_roc_auc, self.current_epoch\n",
    "            )\n",
    "\n",
    "    def configure_optimizers(self):\n",
    "\n",
    "        optimizer = AdamW(self.parameters(), lr=2e-5)\n",
    "\n",
    "        scheduler = get_linear_schedule_with_warmup(\n",
    "            optimizer,\n",
    "            num_warmup_steps=self.n_warmup_steps,\n",
    "            num_training_steps=self.n_training_steps,\n",
    "        )\n",
    "\n",
    "        return dict(\n",
    "            optimizer=optimizer, lr_scheduler=dict(scheduler=scheduler, interval=\"step\")\n",
    "        )"
   ]
  },
  {
   "cell_type": "markdown",
   "id": "cfb4a165",
   "metadata": {},
   "source": [
    "Most of the implementation is just a boilerplate. Two points of interest are the way we configure the optimizers and calculating the area under ROC. We'll dive a bit deeper into those next."
   ]
  },
  {
   "cell_type": "markdown",
   "id": "b9cc9b1f",
   "metadata": {},
   "source": [
    "### Optimizer scheduler\n",
    "\n",
    "The job of a scheduler is to change the learning rate of the optimizer during training. This might lead to better performance of our model. We'll use the [get_linear_schedule_with_warmup](https://huggingface.co/transformers/main_classes/optimizer_schedules.html#transformers.get_linear_schedule_with_warmup).\n",
    "\n",
    "Let's have a look at a simple example to make things clearer:"
   ]
  },
  {
   "cell_type": "code",
   "execution_count": 55,
   "id": "64551618",
   "metadata": {},
   "outputs": [
    {
     "name": "stderr",
     "output_type": "stream",
     "text": [
      "/home/experts-vision/anaconda3/envs/py38_3/lib/python3.8/site-packages/transformers/optimization.py:306: FutureWarning: This implementation of AdamW is deprecated and will be removed in a future version. Use the PyTorch implementation torch.optim.AdamW instead, or set `no_deprecation_warning=True` to disable this warning\n",
      "  warnings.warn(\n"
     ]
    },
    {
     "data": {
      "application/javascript": [
       "\n",
       "            setTimeout(function() {\n",
       "                var nbb_cell_id = 55;\n",
       "                var nbb_unformatted_code = \"dummy_model = nn.Linear(2, 1)\\n\\noptimizer = AdamW(params=dummy_model.parameters(), lr=0.001)\\n\\nwarmup_steps = 20\\ntotal_training_steps = 100\\n\\nscheduler = get_linear_schedule_with_warmup(\\n    optimizer, num_warmup_steps=warmup_steps, num_training_steps=total_training_steps\\n)\\n\\nlearning_rate_history = []\\n\\nfor step in range(total_training_steps):\\n    optimizer.step()\\n    scheduler.step()\\n    learning_rate_history.append(optimizer.param_groups[0][\\\"lr\\\"])\";\n",
       "                var nbb_formatted_code = \"dummy_model = nn.Linear(2, 1)\\n\\noptimizer = AdamW(params=dummy_model.parameters(), lr=0.001)\\n\\nwarmup_steps = 20\\ntotal_training_steps = 100\\n\\nscheduler = get_linear_schedule_with_warmup(\\n    optimizer, num_warmup_steps=warmup_steps, num_training_steps=total_training_steps\\n)\\n\\nlearning_rate_history = []\\n\\nfor step in range(total_training_steps):\\n    optimizer.step()\\n    scheduler.step()\\n    learning_rate_history.append(optimizer.param_groups[0][\\\"lr\\\"])\";\n",
       "                var nbb_cells = Jupyter.notebook.get_cells();\n",
       "                for (var i = 0; i < nbb_cells.length; ++i) {\n",
       "                    if (nbb_cells[i].input_prompt_number == nbb_cell_id) {\n",
       "                        if (nbb_cells[i].get_text() == nbb_unformatted_code) {\n",
       "                             nbb_cells[i].set_text(nbb_formatted_code);\n",
       "                        }\n",
       "                        break;\n",
       "                    }\n",
       "                }\n",
       "            }, 500);\n",
       "            "
      ],
      "text/plain": [
       "<IPython.core.display.Javascript object>"
      ]
     },
     "metadata": {},
     "output_type": "display_data"
    }
   ],
   "source": [
    "dummy_model = nn.Linear(2, 1)\n",
    "\n",
    "optimizer = AdamW(params=dummy_model.parameters(), lr=0.001)\n",
    "\n",
    "warmup_steps = 20\n",
    "total_training_steps = 100\n",
    "\n",
    "scheduler = get_linear_schedule_with_warmup(\n",
    "    optimizer, num_warmup_steps=warmup_steps, num_training_steps=total_training_steps\n",
    ")\n",
    "\n",
    "learning_rate_history = []\n",
    "\n",
    "for step in range(total_training_steps):\n",
    "    optimizer.step()\n",
    "    scheduler.step()\n",
    "    learning_rate_history.append(optimizer.param_groups[0][\"lr\"])"
   ]
  },
  {
   "cell_type": "code",
   "execution_count": 56,
   "id": "d3d3560e",
   "metadata": {},
   "outputs": [
    {
     "data": {
      "image/png": "[encoded data removed]",
      "text/plain": [
       "<Figure size 864x576 with 1 Axes>"
      ]
     },
     "metadata": {
      "image/png": {
       "height": 558,
       "width": 847
      }
     },
     "output_type": "display_data"
    },
    {
     "data": {
      "application/javascript": [
       "\n",
       "            setTimeout(function() {\n",
       "                var nbb_cell_id = 56;\n",
       "                var nbb_unformatted_code = \"plt.plot(learning_rate_history, label=\\\"learning rate\\\")\\nplt.axvline(x=warmup_steps, color=\\\"red\\\", linestyle=(0, (5, 10)), label=\\\"warmup end\\\")\\nplt.legend()\\nplt.xlabel(\\\"Step\\\")\\nplt.ylabel(\\\"Learning rate\\\")\\nplt.tight_layout()\";\n",
       "                var nbb_formatted_code = \"plt.plot(learning_rate_history, label=\\\"learning rate\\\")\\nplt.axvline(x=warmup_steps, color=\\\"red\\\", linestyle=(0, (5, 10)), label=\\\"warmup end\\\")\\nplt.legend()\\nplt.xlabel(\\\"Step\\\")\\nplt.ylabel(\\\"Learning rate\\\")\\nplt.tight_layout()\";\n",
       "                var nbb_cells = Jupyter.notebook.get_cells();\n",
       "                for (var i = 0; i < nbb_cells.length; ++i) {\n",
       "                    if (nbb_cells[i].input_prompt_number == nbb_cell_id) {\n",
       "                        if (nbb_cells[i].get_text() == nbb_unformatted_code) {\n",
       "                             nbb_cells[i].set_text(nbb_formatted_code);\n",
       "                        }\n",
       "                        break;\n",
       "                    }\n",
       "                }\n",
       "            }, 500);\n",
       "            "
      ],
      "text/plain": [
       "<IPython.core.display.Javascript object>"
      ]
     },
     "metadata": {},
     "output_type": "display_data"
    }
   ],
   "source": [
    "plt.plot(learning_rate_history, label=\"learning rate\")\n",
    "plt.axvline(x=warmup_steps, color=\"red\", linestyle=(0, (5, 10)), label=\"warmup end\")\n",
    "plt.legend()\n",
    "plt.xlabel(\"Step\")\n",
    "plt.ylabel(\"Learning rate\")\n",
    "plt.tight_layout()"
   ]
  },
  {
   "cell_type": "markdown",
   "id": "dd50659c",
   "metadata": {},
   "source": [
    "We simulate 100 training steps and tell the scheduler to warm up for the first 20. The learning rate grows to the initial fixed value of 0.001 during the warm-up and then goes down (linearly) to 0.\n",
    "\n",
    "To use the scheduler, we need to calculate the number of training and warm-up steps. The number of training steps per epoch is equal to `number of training examples / batch size`. The number of total training steps is `training steps per epoch * number of epochs`:"
   ]
  },
  {
   "cell_type": "code",
   "execution_count": 57,
   "id": "3c31533f",
   "metadata": {},
   "outputs": [
    {
     "data": {
      "application/javascript": [
       "\n",
       "            setTimeout(function() {\n",
       "                var nbb_cell_id = 57;\n",
       "                var nbb_unformatted_code = \"steps_per_epoch = len(train_df) // BATCH_SIZE\\ntotal_training_steps = steps_per_epoch * N_EPOCHS\";\n",
       "                var nbb_formatted_code = \"steps_per_epoch = len(train_df) // BATCH_SIZE\\ntotal_training_steps = steps_per_epoch * N_EPOCHS\";\n",
       "                var nbb_cells = Jupyter.notebook.get_cells();\n",
       "                for (var i = 0; i < nbb_cells.length; ++i) {\n",
       "                    if (nbb_cells[i].input_prompt_number == nbb_cell_id) {\n",
       "                        if (nbb_cells[i].get_text() == nbb_unformatted_code) {\n",
       "                             nbb_cells[i].set_text(nbb_formatted_code);\n",
       "                        }\n",
       "                        break;\n",
       "                    }\n",
       "                }\n",
       "            }, 500);\n",
       "            "
      ],
      "text/plain": [
       "<IPython.core.display.Javascript object>"
      ]
     },
     "metadata": {},
     "output_type": "display_data"
    }
   ],
   "source": [
    "steps_per_epoch = len(train_df) // BATCH_SIZE\n",
    "total_training_steps = steps_per_epoch * N_EPOCHS"
   ]
  },
  {
   "cell_type": "markdown",
   "id": "ddb7aec1",
   "metadata": {},
   "source": [
    "We'll use a fifth of the training steps for a warm-up:"
   ]
  },
  {
   "cell_type": "code",
   "execution_count": 58,
   "id": "07d26e8c",
   "metadata": {},
   "outputs": [
    {
     "data": {
      "text/plain": [
       "(3790, 18950)"
      ]
     },
     "execution_count": 58,
     "metadata": {},
     "output_type": "execute_result"
    },
    {
     "data": {
      "application/javascript": [
       "\n",
       "            setTimeout(function() {\n",
       "                var nbb_cell_id = 58;\n",
       "                var nbb_unformatted_code = \"warmup_steps = total_training_steps // 5\\nwarmup_steps, total_training_steps\";\n",
       "                var nbb_formatted_code = \"warmup_steps = total_training_steps // 5\\nwarmup_steps, total_training_steps\";\n",
       "                var nbb_cells = Jupyter.notebook.get_cells();\n",
       "                for (var i = 0; i < nbb_cells.length; ++i) {\n",
       "                    if (nbb_cells[i].input_prompt_number == nbb_cell_id) {\n",
       "                        if (nbb_cells[i].get_text() == nbb_unformatted_code) {\n",
       "                             nbb_cells[i].set_text(nbb_formatted_code);\n",
       "                        }\n",
       "                        break;\n",
       "                    }\n",
       "                }\n",
       "            }, 500);\n",
       "            "
      ],
      "text/plain": [
       "<IPython.core.display.Javascript object>"
      ]
     },
     "metadata": {},
     "output_type": "display_data"
    }
   ],
   "source": [
    "warmup_steps = total_training_steps // 5\n",
    "warmup_steps, total_training_steps"
   ]
  },
  {
   "cell_type": "markdown",
   "id": "3b7dcc9f",
   "metadata": {},
   "source": [
    "We can now create an instance of our model:"
   ]
  },
  {
   "cell_type": "code",
   "execution_count": 59,
   "id": "bfa46e25",
   "metadata": {},
   "outputs": [
    {
     "name": "stderr",
     "output_type": "stream",
     "text": [
      "Some weights of the model checkpoint at bert-base-cased were not used when initializing BertModel: ['cls.predictions.transform.dense.bias', 'cls.predictions.transform.dense.weight', 'cls.predictions.decoder.weight', 'cls.predictions.transform.LayerNorm.bias', 'cls.seq_relationship.bias', 'cls.predictions.transform.LayerNorm.weight', 'cls.predictions.bias', 'cls.seq_relationship.weight']\n",
      "- This IS expected if you are initializing BertModel from the checkpoint of a model trained on another task or with another architecture (e.g. initializing a BertForSequenceClassification model from a BertForPreTraining model).\n",
      "- This IS NOT expected if you are initializing BertModel from the checkpoint of a model that you expect to be exactly identical (initializing a BertForSequenceClassification model from a BertForSequenceClassification model).\n"
     ]
    },
    {
     "data": {
      "application/javascript": [
       "\n",
       "            setTimeout(function() {\n",
       "                var nbb_cell_id = 59;\n",
       "                var nbb_unformatted_code = \"model = EmotionCommentTagger(\\n    n_classes=len(cols),\\n    n_warmup_steps=warmup_steps,\\n    n_training_steps=total_training_steps,\\n)\";\n",
       "                var nbb_formatted_code = \"model = EmotionCommentTagger(\\n    n_classes=len(cols),\\n    n_warmup_steps=warmup_steps,\\n    n_training_steps=total_training_steps,\\n)\";\n",
       "                var nbb_cells = Jupyter.notebook.get_cells();\n",
       "                for (var i = 0; i < nbb_cells.length; ++i) {\n",
       "                    if (nbb_cells[i].input_prompt_number == nbb_cell_id) {\n",
       "                        if (nbb_cells[i].get_text() == nbb_unformatted_code) {\n",
       "                             nbb_cells[i].set_text(nbb_formatted_code);\n",
       "                        }\n",
       "                        break;\n",
       "                    }\n",
       "                }\n",
       "            }, 500);\n",
       "            "
      ],
      "text/plain": [
       "<IPython.core.display.Javascript object>"
      ]
     },
     "metadata": {},
     "output_type": "display_data"
    }
   ],
   "source": [
    "model = EmotionCommentTagger(\n",
    "    n_classes=len(cols),\n",
    "    n_warmup_steps=warmup_steps,\n",
    "    n_training_steps=total_training_steps,\n",
    ")"
   ]
  },
  {
   "cell_type": "markdown",
   "id": "55d8aea7",
   "metadata": {},
   "source": [
    "### Evaluation\n",
    "\n",
    "Multi-label classification boils down to doing binary classification for each label/tag.\n",
    "\n",
    "We'll use Binary Cross Entropy to measure the error for each label. PyTorch has [BCELoss](https://pytorch.org/docs/stable/generated/torch.nn.BCELoss.html), which we're going to combine with a sigmoid function (as we did in the model implementation). Let's look at an example:"
   ]
  },
  {
   "cell_type": "code",
   "execution_count": 60,
   "id": "474af2f7",
   "metadata": {},
   "outputs": [
    {
     "data": {
      "application/javascript": [
       "\n",
       "            setTimeout(function() {\n",
       "                var nbb_cell_id = 60;\n",
       "                var nbb_unformatted_code = \"criterion = nn.BCELoss()\\n\\nprediction = torch.FloatTensor(\\n    [10.95873564, 1.07321467, 1.58524066, 0.03839076, 15.72987556, 1.09513213]\\n)\\nlabels = torch.FloatTensor([1.0, 0.0, 0.0, 0.0, 1.0, 0.0])\";\n",
       "                var nbb_formatted_code = \"criterion = nn.BCELoss()\\n\\nprediction = torch.FloatTensor(\\n    [10.95873564, 1.07321467, 1.58524066, 0.03839076, 15.72987556, 1.09513213]\\n)\\nlabels = torch.FloatTensor([1.0, 0.0, 0.0, 0.0, 1.0, 0.0])\";\n",
       "                var nbb_cells = Jupyter.notebook.get_cells();\n",
       "                for (var i = 0; i < nbb_cells.length; ++i) {\n",
       "                    if (nbb_cells[i].input_prompt_number == nbb_cell_id) {\n",
       "                        if (nbb_cells[i].get_text() == nbb_unformatted_code) {\n",
       "                             nbb_cells[i].set_text(nbb_formatted_code);\n",
       "                        }\n",
       "                        break;\n",
       "                    }\n",
       "                }\n",
       "            }, 500);\n",
       "            "
      ],
      "text/plain": [
       "<IPython.core.display.Javascript object>"
      ]
     },
     "metadata": {},
     "output_type": "display_data"
    }
   ],
   "source": [
    "criterion = nn.BCELoss()\n",
    "\n",
    "prediction = torch.FloatTensor(\n",
    "    [10.95873564, 1.07321467, 1.58524066, 0.03839076, 15.72987556, 1.09513213]\n",
    ")\n",
    "labels = torch.FloatTensor([1.0, 0.0, 0.0, 0.0, 1.0, 0.0])"
   ]
  },
  {
   "cell_type": "code",
   "execution_count": 61,
   "id": "8fbd197c",
   "metadata": {},
   "outputs": [
    {
     "data": {
      "text/plain": [
       "tensor([1.0000, 0.7452, 0.8299, 0.5096, 1.0000, 0.7493])"
      ]
     },
     "execution_count": 61,
     "metadata": {},
     "output_type": "execute_result"
    },
    {
     "data": {
      "application/javascript": [
       "\n",
       "            setTimeout(function() {\n",
       "                var nbb_cell_id = 61;\n",
       "                var nbb_unformatted_code = \"torch.sigmoid(prediction)\";\n",
       "                var nbb_formatted_code = \"torch.sigmoid(prediction)\";\n",
       "                var nbb_cells = Jupyter.notebook.get_cells();\n",
       "                for (var i = 0; i < nbb_cells.length; ++i) {\n",
       "                    if (nbb_cells[i].input_prompt_number == nbb_cell_id) {\n",
       "                        if (nbb_cells[i].get_text() == nbb_unformatted_code) {\n",
       "                             nbb_cells[i].set_text(nbb_formatted_code);\n",
       "                        }\n",
       "                        break;\n",
       "                    }\n",
       "                }\n",
       "            }, 500);\n",
       "            "
      ],
      "text/plain": [
       "<IPython.core.display.Javascript object>"
      ]
     },
     "metadata": {},
     "output_type": "display_data"
    }
   ],
   "source": [
    "torch.sigmoid(prediction)"
   ]
  },
  {
   "cell_type": "code",
   "execution_count": 62,
   "id": "be99266c",
   "metadata": {},
   "outputs": [
    {
     "data": {
      "text/plain": [
       "tensor(0.8725)"
      ]
     },
     "execution_count": 62,
     "metadata": {},
     "output_type": "execute_result"
    },
    {
     "data": {
      "application/javascript": [
       "\n",
       "            setTimeout(function() {\n",
       "                var nbb_cell_id = 62;\n",
       "                var nbb_unformatted_code = \"criterion(torch.sigmoid(prediction), labels)\";\n",
       "                var nbb_formatted_code = \"criterion(torch.sigmoid(prediction), labels)\";\n",
       "                var nbb_cells = Jupyter.notebook.get_cells();\n",
       "                for (var i = 0; i < nbb_cells.length; ++i) {\n",
       "                    if (nbb_cells[i].input_prompt_number == nbb_cell_id) {\n",
       "                        if (nbb_cells[i].get_text() == nbb_unformatted_code) {\n",
       "                             nbb_cells[i].set_text(nbb_formatted_code);\n",
       "                        }\n",
       "                        break;\n",
       "                    }\n",
       "                }\n",
       "            }, 500);\n",
       "            "
      ],
      "text/plain": [
       "<IPython.core.display.Javascript object>"
      ]
     },
     "metadata": {},
     "output_type": "display_data"
    }
   ],
   "source": [
    "criterion(torch.sigmoid(prediction), labels)"
   ]
  },
  {
   "cell_type": "markdown",
   "id": "97ee64b1",
   "metadata": {},
   "source": [
    "We can use the same approach to calculate the loss of the predictions:"
   ]
  },
  {
   "cell_type": "code",
   "execution_count": 63,
   "id": "1496574f",
   "metadata": {},
   "outputs": [
    {
     "data": {
      "text/plain": [
       "tensor([[0.5729, 0.5133, 0.3392, 0.3788, 0.5033],\n",
       "        [0.5466, 0.5016, 0.3567, 0.3800, 0.5055],\n",
       "        [0.5731, 0.5074, 0.3410, 0.3679, 0.5174],\n",
       "        [0.5497, 0.5143, 0.3682, 0.3852, 0.5016]], grad_fn=<SigmoidBackward0>)"
      ]
     },
     "execution_count": 63,
     "metadata": {},
     "output_type": "execute_result"
    },
    {
     "data": {
      "application/javascript": [
       "\n",
       "            setTimeout(function() {\n",
       "                var nbb_cell_id = 63;\n",
       "                var nbb_unformatted_code = \"_, predictions = model(sample_batch[\\\"input_ids\\\"], sample_batch[\\\"attention_mask\\\"])\\npredictions\";\n",
       "                var nbb_formatted_code = \"_, predictions = model(sample_batch[\\\"input_ids\\\"], sample_batch[\\\"attention_mask\\\"])\\npredictions\";\n",
       "                var nbb_cells = Jupyter.notebook.get_cells();\n",
       "                for (var i = 0; i < nbb_cells.length; ++i) {\n",
       "                    if (nbb_cells[i].input_prompt_number == nbb_cell_id) {\n",
       "                        if (nbb_cells[i].get_text() == nbb_unformatted_code) {\n",
       "                             nbb_cells[i].set_text(nbb_formatted_code);\n",
       "                        }\n",
       "                        break;\n",
       "                    }\n",
       "                }\n",
       "            }, 500);\n",
       "            "
      ],
      "text/plain": [
       "<IPython.core.display.Javascript object>"
      ]
     },
     "metadata": {},
     "output_type": "display_data"
    }
   ],
   "source": [
    "_, predictions = model(sample_batch[\"input_ids\"], sample_batch[\"attention_mask\"])\n",
    "predictions"
   ]
  },
  {
   "cell_type": "code",
   "execution_count": 64,
   "id": "63602009",
   "metadata": {},
   "outputs": [
    {
     "data": {
      "text/plain": [
       "tensor(0.7011, grad_fn=<BinaryCrossEntropyBackward0>)"
      ]
     },
     "execution_count": 64,
     "metadata": {},
     "output_type": "execute_result"
    },
    {
     "data": {
      "application/javascript": [
       "\n",
       "            setTimeout(function() {\n",
       "                var nbb_cell_id = 64;\n",
       "                var nbb_unformatted_code = \"criterion(predictions, sample_batch[\\\"labels\\\"])\";\n",
       "                var nbb_formatted_code = \"criterion(predictions, sample_batch[\\\"labels\\\"])\";\n",
       "                var nbb_cells = Jupyter.notebook.get_cells();\n",
       "                for (var i = 0; i < nbb_cells.length; ++i) {\n",
       "                    if (nbb_cells[i].input_prompt_number == nbb_cell_id) {\n",
       "                        if (nbb_cells[i].get_text() == nbb_unformatted_code) {\n",
       "                             nbb_cells[i].set_text(nbb_formatted_code);\n",
       "                        }\n",
       "                        break;\n",
       "                    }\n",
       "                }\n",
       "            }, 500);\n",
       "            "
      ],
      "text/plain": [
       "<IPython.core.display.Javascript object>"
      ]
     },
     "metadata": {},
     "output_type": "display_data"
    }
   ],
   "source": [
    "criterion(predictions, sample_batch[\"labels\"])"
   ]
  },
  {
   "cell_type": "markdown",
   "id": "081220e0",
   "metadata": {},
   "source": [
    "#### ROC Curve\n",
    "\n",
    "Another metric we're going to use is the area under the Receiver operating characteristic (ROC) for each tag. ROC is created by plotting the True Positive Rate (TPR) vs False Positive Rate (FPR):\n",
    "\n",
    "$$\n",
    "\\text{TPR} = \\frac{\\text{TP}}{\\text{TP} \\text{+} \\text{FN}}\n",
    "$$\n",
    "\n",
    "$$\n",
    "\\text{FPR} = \\frac{\\text{FP}}{\\text{FP} \\text{+} \\text{TN}}\n",
    "$$\n"
   ]
  },
  {
   "cell_type": "code",
   "execution_count": 65,
   "id": "2dddd336",
   "metadata": {},
   "outputs": [
    {
     "data": {
      "image/png": "[encoded data removed]",
      "text/plain": [
       "<Figure size 864x576 with 1 Axes>"
      ]
     },
     "metadata": {
      "image/png": {
       "height": 506,
       "width": 732
      }
     },
     "output_type": "display_data"
    },
    {
     "data": {
      "application/javascript": [
       "\n",
       "            setTimeout(function() {\n",
       "                var nbb_cell_id = 65;\n",
       "                var nbb_unformatted_code = \"from sklearn import metrics\\n\\nfpr = [0.0, 0.0, 0.0, 0.02857143, 0.02857143, 0.11428571, 0.11428571, 0.2, 0.4, 1.0]\\n\\ntpr = [\\n    0.0,\\n    0.01265823,\\n    0.67202532,\\n    0.76202532,\\n    0.91468354,\\n    0.97468354,\\n    0.98734177,\\n    0.98734177,\\n    1.0,\\n    1.0,\\n]\\n\\n_, ax = plt.subplots()\\nax.plot(fpr, tpr, label=\\\"ROC\\\")\\nax.plot(\\n    [0.05, 0.95],\\n    [0.05, 0.95],\\n    transform=ax.transAxes,\\n    label=\\\"Random classifier\\\",\\n    color=\\\"red\\\",\\n)\\nax.legend(loc=4)\\nax.set_xlabel(\\\"False positive rate\\\")\\nax.set_ylabel(\\\"True positive rate\\\")\\nax.set_title(\\\"Example ROC curve\\\")\\nplt.show()\";\n",
       "                var nbb_formatted_code = \"from sklearn import metrics\\n\\nfpr = [0.0, 0.0, 0.0, 0.02857143, 0.02857143, 0.11428571, 0.11428571, 0.2, 0.4, 1.0]\\n\\ntpr = [\\n    0.0,\\n    0.01265823,\\n    0.67202532,\\n    0.76202532,\\n    0.91468354,\\n    0.97468354,\\n    0.98734177,\\n    0.98734177,\\n    1.0,\\n    1.0,\\n]\\n\\n_, ax = plt.subplots()\\nax.plot(fpr, tpr, label=\\\"ROC\\\")\\nax.plot(\\n    [0.05, 0.95],\\n    [0.05, 0.95],\\n    transform=ax.transAxes,\\n    label=\\\"Random classifier\\\",\\n    color=\\\"red\\\",\\n)\\nax.legend(loc=4)\\nax.set_xlabel(\\\"False positive rate\\\")\\nax.set_ylabel(\\\"True positive rate\\\")\\nax.set_title(\\\"Example ROC curve\\\")\\nplt.show()\";\n",
       "                var nbb_cells = Jupyter.notebook.get_cells();\n",
       "                for (var i = 0; i < nbb_cells.length; ++i) {\n",
       "                    if (nbb_cells[i].input_prompt_number == nbb_cell_id) {\n",
       "                        if (nbb_cells[i].get_text() == nbb_unformatted_code) {\n",
       "                             nbb_cells[i].set_text(nbb_formatted_code);\n",
       "                        }\n",
       "                        break;\n",
       "                    }\n",
       "                }\n",
       "            }, 500);\n",
       "            "
      ],
      "text/plain": [
       "<IPython.core.display.Javascript object>"
      ]
     },
     "metadata": {},
     "output_type": "display_data"
    }
   ],
   "source": [
    "from sklearn import metrics\n",
    "\n",
    "fpr = [0.0, 0.0, 0.0, 0.02857143, 0.02857143, 0.11428571, 0.11428571, 0.2, 0.4, 1.0]\n",
    "\n",
    "tpr = [\n",
    "    0.0,\n",
    "    0.01265823,\n",
    "    0.67202532,\n",
    "    0.76202532,\n",
    "    0.91468354,\n",
    "    0.97468354,\n",
    "    0.98734177,\n",
    "    0.98734177,\n",
    "    1.0,\n",
    "    1.0,\n",
    "]\n",
    "\n",
    "_, ax = plt.subplots()\n",
    "ax.plot(fpr, tpr, label=\"ROC\")\n",
    "ax.plot(\n",
    "    [0.05, 0.95],\n",
    "    [0.05, 0.95],\n",
    "    transform=ax.transAxes,\n",
    "    label=\"Random classifier\",\n",
    "    color=\"red\",\n",
    ")\n",
    "ax.legend(loc=4)\n",
    "ax.set_xlabel(\"False positive rate\")\n",
    "ax.set_ylabel(\"True positive rate\")\n",
    "ax.set_title(\"Example ROC curve\")\n",
    "plt.show()"
   ]
  },
  {
   "cell_type": "markdown",
   "id": "07cf90f6",
   "metadata": {},
   "source": [
    "## Training"
   ]
  },
  {
   "cell_type": "markdown",
   "id": "9426f1be",
   "metadata": {},
   "source": [
    "The beauty of PyTorch Lightning is that you can build a standard pipeline that you like and train (almost?) every model you might imagine. I prefer to use at least 3 components.\n",
    "\n",
    "Checkpointing that saves the best model (based on validation loss):"
   ]
  },
  {
   "cell_type": "markdown",
   "id": "90002dfc",
   "metadata": {},
   "source": [
    "# Don't want to wait? Uncomment the next cell and download my pre-trained model in the prediction part:"
   ]
  },
  {
   "cell_type": "code",
   "execution_count": 78,
   "id": "da7adda4",
   "metadata": {},
   "outputs": [
    {
     "data": {
      "application/javascript": [
       "\n",
       "            setTimeout(function() {\n",
       "                var nbb_cell_id = 78;\n",
       "                var nbb_unformatted_code = \"checkpoint_callback = ModelCheckpoint(\\n    dirpath=\\\"checkpoints\\\",\\n    filename=\\\"best-checkpoint\\\",\\n    save_top_k=1,\\n    verbose=True,\\n    monitor=\\\"val_loss\\\",\\n    mode=\\\"min\\\",\\n)\";\n",
       "                var nbb_formatted_code = \"checkpoint_callback = ModelCheckpoint(\\n    dirpath=\\\"checkpoints\\\",\\n    filename=\\\"best-checkpoint\\\",\\n    save_top_k=1,\\n    verbose=True,\\n    monitor=\\\"val_loss\\\",\\n    mode=\\\"min\\\",\\n)\";\n",
       "                var nbb_cells = Jupyter.notebook.get_cells();\n",
       "                for (var i = 0; i < nbb_cells.length; ++i) {\n",
       "                    if (nbb_cells[i].input_prompt_number == nbb_cell_id) {\n",
       "                        if (nbb_cells[i].get_text() == nbb_unformatted_code) {\n",
       "                             nbb_cells[i].set_text(nbb_formatted_code);\n",
       "                        }\n",
       "                        break;\n",
       "                    }\n",
       "                }\n",
       "            }, 500);\n",
       "            "
      ],
      "text/plain": [
       "<IPython.core.display.Javascript object>"
      ]
     },
     "metadata": {},
     "output_type": "display_data"
    }
   ],
   "source": [
    "checkpoint_callback = ModelCheckpoint(\n",
    "    dirpath=\"checkpoints\",\n",
    "    filename=\"best-checkpoint\",\n",
    "    save_top_k=1,\n",
    "    verbose=True,\n",
    "    monitor=\"val_loss\",\n",
    "    mode=\"min\",\n",
    ")"
   ]
  },
  {
   "cell_type": "markdown",
   "id": "afc89759",
   "metadata": {},
   "source": [
    "Log the progress in TensorBoard:"
   ]
  },
  {
   "cell_type": "code",
   "execution_count": 79,
   "id": "6d55618a",
   "metadata": {},
   "outputs": [
    {
     "data": {
      "application/javascript": [
       "\n",
       "            setTimeout(function() {\n",
       "                var nbb_cell_id = 79;\n",
       "                var nbb_unformatted_code = \"path = \\\"data/lightning_logs_bert_multilabel/emotions-comments\\\"\\nfile_name = \\\"data/lightning_logs_bert_multilabel\\\"\\nisExist = os.path.exists(file_name)\\nif not isExist:\\n\\n    # Create a new directory because it does not exist\\n    os.makedirs(path)\";\n",
       "                var nbb_formatted_code = \"path = \\\"data/lightning_logs_bert_multilabel/emotions-comments\\\"\\nfile_name = \\\"data/lightning_logs_bert_multilabel\\\"\\nisExist = os.path.exists(file_name)\\nif not isExist:\\n\\n    # Create a new directory because it does not exist\\n    os.makedirs(path)\";\n",
       "                var nbb_cells = Jupyter.notebook.get_cells();\n",
       "                for (var i = 0; i < nbb_cells.length; ++i) {\n",
       "                    if (nbb_cells[i].input_prompt_number == nbb_cell_id) {\n",
       "                        if (nbb_cells[i].get_text() == nbb_unformatted_code) {\n",
       "                             nbb_cells[i].set_text(nbb_formatted_code);\n",
       "                        }\n",
       "                        break;\n",
       "                    }\n",
       "                }\n",
       "            }, 500);\n",
       "            "
      ],
      "text/plain": [
       "<IPython.core.display.Javascript object>"
      ]
     },
     "metadata": {},
     "output_type": "display_data"
    }
   ],
   "source": [
    "path = \"data/lightning_logs_bert_multilabel/emotions-comments\"\n",
    "file_name = \"data/lightning_logs_bert_multilabel\"\n",
    "isExist = os.path.exists(file_name)\n",
    "if not isExist:\n",
    "\n",
    "    # Create a new directory because it does not exist\n",
    "    os.makedirs(path)"
   ]
  },
  {
   "cell_type": "code",
   "execution_count": 80,
   "id": "7939a2aa",
   "metadata": {},
   "outputs": [
    {
     "data": {
      "application/javascript": [
       "\n",
       "            setTimeout(function() {\n",
       "                var nbb_cell_id = 80;\n",
       "                var nbb_unformatted_code = \"logger = TensorBoardLogger(\\n    \\\"data/lightning_logs_bert_multilabel\\\", name=\\\"emotions-comments\\\"\\n)\";\n",
       "                var nbb_formatted_code = \"logger = TensorBoardLogger(\\n    \\\"data/lightning_logs_bert_multilabel\\\", name=\\\"emotions-comments\\\"\\n)\";\n",
       "                var nbb_cells = Jupyter.notebook.get_cells();\n",
       "                for (var i = 0; i < nbb_cells.length; ++i) {\n",
       "                    if (nbb_cells[i].input_prompt_number == nbb_cell_id) {\n",
       "                        if (nbb_cells[i].get_text() == nbb_unformatted_code) {\n",
       "                             nbb_cells[i].set_text(nbb_formatted_code);\n",
       "                        }\n",
       "                        break;\n",
       "                    }\n",
       "                }\n",
       "            }, 500);\n",
       "            "
      ],
      "text/plain": [
       "<IPython.core.display.Javascript object>"
      ]
     },
     "metadata": {},
     "output_type": "display_data"
    }
   ],
   "source": [
    "logger = TensorBoardLogger(\n",
    "    \"data/lightning_logs_bert_multilabel\", name=\"emotions-comments\"\n",
    ")"
   ]
  },
  {
   "cell_type": "markdown",
   "id": "f9a38215",
   "metadata": {},
   "source": [
    "And early stopping triggers when the loss hasn't improved for the last 2 epochs (you might want to remove/reconsider this when training on real-world projects):"
   ]
  },
  {
   "cell_type": "code",
   "execution_count": 81,
   "id": "6bf03a66",
   "metadata": {},
   "outputs": [
    {
     "data": {
      "application/javascript": [
       "\n",
       "            setTimeout(function() {\n",
       "                var nbb_cell_id = 81;\n",
       "                var nbb_unformatted_code = \"early_stopping_callback = EarlyStopping(monitor=\\\"val_loss\\\", patience=2)\";\n",
       "                var nbb_formatted_code = \"early_stopping_callback = EarlyStopping(monitor=\\\"val_loss\\\", patience=2)\";\n",
       "                var nbb_cells = Jupyter.notebook.get_cells();\n",
       "                for (var i = 0; i < nbb_cells.length; ++i) {\n",
       "                    if (nbb_cells[i].input_prompt_number == nbb_cell_id) {\n",
       "                        if (nbb_cells[i].get_text() == nbb_unformatted_code) {\n",
       "                             nbb_cells[i].set_text(nbb_formatted_code);\n",
       "                        }\n",
       "                        break;\n",
       "                    }\n",
       "                }\n",
       "            }, 500);\n",
       "            "
      ],
      "text/plain": [
       "<IPython.core.display.Javascript object>"
      ]
     },
     "metadata": {},
     "output_type": "display_data"
    }
   ],
   "source": [
    "early_stopping_callback = EarlyStopping(monitor=\"val_loss\", patience=2)"
   ]
  },
  {
   "cell_type": "markdown",
   "id": "f784785b",
   "metadata": {},
   "source": [
    "We can start the training process:"
   ]
  },
  {
   "cell_type": "code",
   "execution_count": 82,
   "id": "4529882f",
   "metadata": {},
   "outputs": [
    {
     "name": "stderr",
     "output_type": "stream",
     "text": [
      "/home/experts-vision/anaconda3/envs/py38_3/lib/python3.8/site-packages/pytorch_lightning/trainer/connectors/callback_connector.py:151: LightningDeprecationWarning: Setting `Trainer(checkpoint_callback=<pytorch_lightning.callbacks.model_checkpoint.ModelCheckpoint object at 0x7f46e71d42e0>)` is deprecated in v1.5 and will be removed in v1.7. Please consider using `Trainer(enable_checkpointing=<pytorch_lightning.callbacks.model_checkpoint.ModelCheckpoint object at 0x7f46e71d42e0>)`.\n",
      "  rank_zero_deprecation(\n",
      "GPU available: True, used: True\n",
      "TPU available: False, using: 0 TPU cores\n",
      "IPU available: False, using: 0 IPUs\n",
      "HPU available: False, using: 0 HPUs\n"
     ]
    },
    {
     "data": {
      "application/javascript": [
       "\n",
       "            setTimeout(function() {\n",
       "                var nbb_cell_id = 82;\n",
       "                var nbb_unformatted_code = \"trainer = pl.Trainer(\\n    logger=logger,\\n    checkpoint_callback=checkpoint_callback,\\n    callbacks=[early_stopping_callback],\\n    max_epochs=N_EPOCHS,\\n    gpus=1,\\n    progress_bar_refresh_rate=30,\\n)\";\n",
       "                var nbb_formatted_code = \"trainer = pl.Trainer(\\n    logger=logger,\\n    checkpoint_callback=checkpoint_callback,\\n    callbacks=[early_stopping_callback],\\n    max_epochs=N_EPOCHS,\\n    gpus=1,\\n    progress_bar_refresh_rate=30,\\n)\";\n",
       "                var nbb_cells = Jupyter.notebook.get_cells();\n",
       "                for (var i = 0; i < nbb_cells.length; ++i) {\n",
       "                    if (nbb_cells[i].input_prompt_number == nbb_cell_id) {\n",
       "                        if (nbb_cells[i].get_text() == nbb_unformatted_code) {\n",
       "                             nbb_cells[i].set_text(nbb_formatted_code);\n",
       "                        }\n",
       "                        break;\n",
       "                    }\n",
       "                }\n",
       "            }, 500);\n",
       "            "
      ],
      "text/plain": [
       "<IPython.core.display.Javascript object>"
      ]
     },
     "metadata": {},
     "output_type": "display_data"
    }
   ],
   "source": [
    "trainer = pl.Trainer(\n",
    "    logger=logger,\n",
    "    checkpoint_callback=checkpoint_callback,\n",
    "    callbacks=[early_stopping_callback],\n",
    "    max_epochs=N_EPOCHS,\n",
    "    gpus=1,\n",
    "    progress_bar_refresh_rate=30,\n",
    ")"
   ]
  },
  {
   "cell_type": "code",
   "execution_count": 83,
   "id": "8e1a2181",
   "metadata": {},
   "outputs": [
    {
     "data": {
      "application/javascript": [
       "\n",
       "            setTimeout(function() {\n",
       "                var nbb_cell_id = 83;\n",
       "                var nbb_unformatted_code = \"TOKENIZERS_PARALLELISM = False\";\n",
       "                var nbb_formatted_code = \"TOKENIZERS_PARALLELISM = False\";\n",
       "                var nbb_cells = Jupyter.notebook.get_cells();\n",
       "                for (var i = 0; i < nbb_cells.length; ++i) {\n",
       "                    if (nbb_cells[i].input_prompt_number == nbb_cell_id) {\n",
       "                        if (nbb_cells[i].get_text() == nbb_unformatted_code) {\n",
       "                             nbb_cells[i].set_text(nbb_formatted_code);\n",
       "                        }\n",
       "                        break;\n",
       "                    }\n",
       "                }\n",
       "            }, 500);\n",
       "            "
      ],
      "text/plain": [
       "<IPython.core.display.Javascript object>"
      ]
     },
     "metadata": {},
     "output_type": "display_data"
    }
   ],
   "source": [
    "TOKENIZERS_PARALLELISM = False"
   ]
  },
  {
   "cell_type": "code",
   "execution_count": 84,
   "id": "2d766f48",
   "metadata": {},
   "outputs": [
    {
     "name": "stderr",
     "output_type": "stream",
     "text": [
      "LOCAL_RANK: 0 - CUDA_VISIBLE_DEVICES: [0]\n",
      "\n",
      "  | Name       | Type      | Params\n",
      "-----------------------------------------\n",
      "0 | bert       | BertModel | 108 M \n",
      "1 | classifier | Linear    | 3.8 K \n",
      "2 | criterion  | BCELoss   | 0     \n",
      "-----------------------------------------\n",
      "108 M     Trainable params\n",
      "0         Non-trainable params\n",
      "108 M     Total params\n",
      "433.256   Total estimated model params size (MB)\n"
     ]
    },
    {
     "data": {
      "application/vnd.jupyter.widget-view+json": {
       "model_id": "",
       "version_major": 2,
       "version_minor": 0
      },
      "text/plain": [
       "Sanity Checking: 0it [00:00, ?it/s]"
      ]
     },
     "metadata": {},
     "output_type": "display_data"
    },
    {
     "data": {
      "application/vnd.jupyter.widget-view+json": {
       "model_id": "624840ecd5bc42d191c5c2eeb15fb76b",
       "version_major": 2,
       "version_minor": 0
      },
      "text/plain": [
       "Training: 0it [00:00, ?it/s]"
      ]
     },
     "metadata": {},
     "output_type": "display_data"
    },
    {
     "name": "stderr",
     "output_type": "stream",
     "text": [
      "/home/experts-vision/anaconda3/envs/py38_3/lib/python3.8/site-packages/pytorch_lightning/trainer/trainer.py:726: UserWarning: Detected KeyboardInterrupt, attempting graceful shutdown...\n",
      "  rank_zero_warn(\"Detected KeyboardInterrupt, attempting graceful shutdown...\")\n"
     ]
    },
    {
     "data": {
      "application/javascript": [
       "\n",
       "            setTimeout(function() {\n",
       "                var nbb_cell_id = 84;\n",
       "                var nbb_unformatted_code = \"trainer.fit(model, data_module)\";\n",
       "                var nbb_formatted_code = \"trainer.fit(model, data_module)\";\n",
       "                var nbb_cells = Jupyter.notebook.get_cells();\n",
       "                for (var i = 0; i < nbb_cells.length; ++i) {\n",
       "                    if (nbb_cells[i].input_prompt_number == nbb_cell_id) {\n",
       "                        if (nbb_cells[i].get_text() == nbb_unformatted_code) {\n",
       "                             nbb_cells[i].set_text(nbb_formatted_code);\n",
       "                        }\n",
       "                        break;\n",
       "                    }\n",
       "                }\n",
       "            }, 500);\n",
       "            "
      ],
      "text/plain": [
       "<IPython.core.display.Javascript object>"
      ]
     },
     "metadata": {},
     "output_type": "display_data"
    }
   ],
   "source": [
    "trainer.fit(model, data_module)"
   ]
  },
  {
   "cell_type": "code",
   "execution_count": 85,
   "id": "d77b1810",
   "metadata": {},
   "outputs": [
    {
     "name": "stderr",
     "output_type": "stream",
     "text": [
      "LOCAL_RANK: 0 - CUDA_VISIBLE_DEVICES: [0]\n"
     ]
    },
    {
     "data": {
      "application/vnd.jupyter.widget-view+json": {
       "model_id": "3fe7675f0e16481eb6a19f2a45b931e1",
       "version_major": 2,
       "version_minor": 0
      },
      "text/plain": [
       "Testing: 0it [00:00, ?it/s]"
      ]
     },
     "metadata": {},
     "output_type": "display_data"
    },
    {
     "name": "stdout",
     "output_type": "stream",
     "text": [
      "────────────────────────────────────────────────────────────────────────────────────────────────────────────────────────\n",
      "       Test metric             DataLoader 0\n",
      "────────────────────────────────────────────────────────────────────────────────────────────────────────────────────────\n",
      "        test_loss           0.5919219255447388\n",
      "────────────────────────────────────────────────────────────────────────────────────────────────────────────────────────\n"
     ]
    },
    {
     "data": {
      "text/plain": [
       "[{'test_loss': 0.5919219255447388}]"
      ]
     },
     "execution_count": 85,
     "metadata": {},
     "output_type": "execute_result"
    },
    {
     "data": {
      "application/javascript": [
       "\n",
       "            setTimeout(function() {\n",
       "                var nbb_cell_id = 85;\n",
       "                var nbb_unformatted_code = \"trainer.test(model, data_module)\";\n",
       "                var nbb_formatted_code = \"trainer.test(model, data_module)\";\n",
       "                var nbb_cells = Jupyter.notebook.get_cells();\n",
       "                for (var i = 0; i < nbb_cells.length; ++i) {\n",
       "                    if (nbb_cells[i].input_prompt_number == nbb_cell_id) {\n",
       "                        if (nbb_cells[i].get_text() == nbb_unformatted_code) {\n",
       "                             nbb_cells[i].set_text(nbb_formatted_code);\n",
       "                        }\n",
       "                        break;\n",
       "                    }\n",
       "                }\n",
       "            }, 500);\n",
       "            "
      ],
      "text/plain": [
       "<IPython.core.display.Javascript object>"
      ]
     },
     "metadata": {},
     "output_type": "display_data"
    }
   ],
   "source": [
    "trainer.test(model, data_module)"
   ]
  },
  {
   "cell_type": "markdown",
   "id": "80609527",
   "metadata": {},
   "source": [
    "# Predictions"
   ]
  },
  {
   "cell_type": "markdown",
   "id": "a19390b3",
   "metadata": {},
   "source": [
    "I like to look at a small sample of predictions after the training is complete. This builds intuition about the quality of the predictions (qualitative evaluation).\n",
    "\n",
    "Let's load the best version (according to the validation loss) of our model:"
   ]
  },
  {
   "cell_type": "code",
   "execution_count": 94,
   "id": "b8e795b9",
   "metadata": {},
   "outputs": [
    {
     "data": {
      "application/javascript": [
       "\n",
       "            setTimeout(function() {\n",
       "                var nbb_cell_id = 94;\n",
       "                var nbb_unformatted_code = \"path = \\\"data\\\"\\nfile_name = \\\"data/lightning_logs_bert_multilabel\\\"\\nif os.path.exists(file_name):\\n    pass\\nelse:\\n    isExist = os.path.exists(path)\\n    if not isExist:\\n\\n        # Create a new directory because it does not exist\\n        os.makedirs(path)\\n        print(\\\"The new directory is created!\\\")\\n    !gdown  -O 'data/lightning_logs_bert_multilabel\\u200b.zip' 1H7lYGKKkJVmQlLexpIfYiQIyj256eJXk\\n    with zipfile.ZipFile(\\\"data/lightning_logs_bert_multilabel.zip\\\", \\\"r\\\") as zip_ref:\\n        zip_ref.extractall(\\\"data/lightning_logs_bert_multilabel.zip\\\")\";\n",
       "                var nbb_formatted_code = \"path = \\\"data\\\"\\nfile_name = \\\"data/lightning_logs_bert_multilabel\\\"\\nif os.path.exists(file_name):\\n    pass\\nelse:\\n    isExist = os.path.exists(path)\\n    if not isExist:\\n\\n        # Create a new directory because it does not exist\\n        os.makedirs(path)\\n        print(\\\"The new directory is created!\\\")\\n    !gdown  -O 'data/lightning_logs_bert_multilabel\\u200b.zip' 1H7lYGKKkJVmQlLexpIfYiQIyj256eJXk\\n    with zipfile.ZipFile(\\\"data/lightning_logs_bert_multilabel.zip\\\", \\\"r\\\") as zip_ref:\\n        zip_ref.extractall(\\\"data/lightning_logs_bert_multilabel.zip\\\")\";\n",
       "                var nbb_cells = Jupyter.notebook.get_cells();\n",
       "                for (var i = 0; i < nbb_cells.length; ++i) {\n",
       "                    if (nbb_cells[i].input_prompt_number == nbb_cell_id) {\n",
       "                        if (nbb_cells[i].get_text() == nbb_unformatted_code) {\n",
       "                             nbb_cells[i].set_text(nbb_formatted_code);\n",
       "                        }\n",
       "                        break;\n",
       "                    }\n",
       "                }\n",
       "            }, 500);\n",
       "            "
      ],
      "text/plain": [
       "<IPython.core.display.Javascript object>"
      ]
     },
     "metadata": {},
     "output_type": "display_data"
    }
   ],
   "source": [
    "path = \"data\"\n",
    "file_name = \"data/lightning_logs_bert_multilabel\"\n",
    "if os.path.exists(file_name):\n",
    "    pass\n",
    "else:\n",
    "    isExist = os.path.exists(path)\n",
    "    if not isExist:\n",
    "\n",
    "        # Create a new directory because it does not exist\n",
    "        os.makedirs(path)\n",
    "        print(\"The new directory is created!\")\n",
    "    !gdown  -O 'data/lightning_logs_bert_multilabel​.zip' 1H7lYGKKkJVmQlLexpIfYiQIyj256eJXk\n",
    "    with zipfile.ZipFile(\"data/lightning_logs_bert_multilabel.zip\", \"r\") as zip_ref:\n",
    "        zip_ref.extractall(\"data/lightning_logs_bert_multilabel.zip\")"
   ]
  },
  {
   "cell_type": "code",
   "execution_count": 87,
   "id": "e71a850a",
   "metadata": {},
   "outputs": [
    {
     "name": "stderr",
     "output_type": "stream",
     "text": [
      "Some weights of the model checkpoint at bert-base-cased were not used when initializing BertModel: ['cls.predictions.transform.dense.bias', 'cls.predictions.transform.dense.weight', 'cls.predictions.decoder.weight', 'cls.predictions.transform.LayerNorm.bias', 'cls.seq_relationship.bias', 'cls.predictions.transform.LayerNorm.weight', 'cls.predictions.bias', 'cls.seq_relationship.weight']\n",
      "- This IS expected if you are initializing BertModel from the checkpoint of a model trained on another task or with another architecture (e.g. initializing a BertForSequenceClassification model from a BertForPreTraining model).\n",
      "- This IS NOT expected if you are initializing BertModel from the checkpoint of a model that you expect to be exactly identical (initializing a BertForSequenceClassification model from a BertForSequenceClassification model).\n"
     ]
    },
    {
     "data": {
      "application/javascript": [
       "\n",
       "            setTimeout(function() {\n",
       "                var nbb_cell_id = 87;\n",
       "                var nbb_unformatted_code = \"trained_model = EmotionCommentTagger.load_from_checkpoint(\\n    checkpoint_path=\\\"data/lightning_logs_bert_multilabel/emotions-comments/version_2/checkpoints/epoch=3-step=7584.ckpt\\\",\\n    n_classes=len(cols),\\n)\\ntrained_model.eval()\\ntrained_model.freeze()\";\n",
       "                var nbb_formatted_code = \"trained_model = EmotionCommentTagger.load_from_checkpoint(\\n    checkpoint_path=\\\"data/lightning_logs_bert_multilabel/emotions-comments/version_2/checkpoints/epoch=3-step=7584.ckpt\\\",\\n    n_classes=len(cols),\\n)\\ntrained_model.eval()\\ntrained_model.freeze()\";\n",
       "                var nbb_cells = Jupyter.notebook.get_cells();\n",
       "                for (var i = 0; i < nbb_cells.length; ++i) {\n",
       "                    if (nbb_cells[i].input_prompt_number == nbb_cell_id) {\n",
       "                        if (nbb_cells[i].get_text() == nbb_unformatted_code) {\n",
       "                             nbb_cells[i].set_text(nbb_formatted_code);\n",
       "                        }\n",
       "                        break;\n",
       "                    }\n",
       "                }\n",
       "            }, 500);\n",
       "            "
      ],
      "text/plain": [
       "<IPython.core.display.Javascript object>"
      ]
     },
     "metadata": {},
     "output_type": "display_data"
    }
   ],
   "source": [
    "trained_model = EmotionCommentTagger.load_from_checkpoint(\n",
    "    checkpoint_path=\"data/lightning_logs_bert_multilabel/emotions-comments/version_2/checkpoints/epoch=3-step=7584.ckpt\",\n",
    "    n_classes=len(cols),\n",
    ")\n",
    "trained_model.eval()\n",
    "trained_model.freeze()"
   ]
  },
  {
   "cell_type": "markdown",
   "id": "ff47550f",
   "metadata": {},
   "source": [
    "We put our model into \"eval\" mode, and we're ready to make some predictions. Here's the prediction on a sample (totally fictional) comment:"
   ]
  },
  {
   "cell_type": "code",
   "execution_count": 88,
   "id": "d93dd11c",
   "metadata": {},
   "outputs": [
    {
     "name": "stdout",
     "output_type": "stream",
     "text": [
      "anger: 0.0120647381991148\n",
      "fear: 0.005505742970854044\n",
      "joy: 0.9620158672332764\n",
      "sadness: 0.617685079574585\n",
      "surprise: 0.015234323218464851\n"
     ]
    },
    {
     "data": {
      "application/javascript": [
       "\n",
       "            setTimeout(function() {\n",
       "                var nbb_cell_id = 88;\n",
       "                var nbb_unformatted_code = \"test_comment = \\\"I hope you\\u2019re okay! I\\u2019m so sorry that happened. I\\u2019m glad I don\\u2019t work in gastown anymore\\\"\\n\\nencoding = tokenizer.encode_plus(\\n    test_comment,\\n    add_special_tokens=True,\\n    max_length=512,\\n    return_token_type_ids=False,\\n    padding=\\\"max_length\\\",\\n    return_attention_mask=True,\\n    return_tensors=\\\"pt\\\",\\n)\\n\\n_, test_prediction = trained_model(encoding[\\\"input_ids\\\"], encoding[\\\"attention_mask\\\"])\\ntest_prediction = test_prediction.flatten().numpy()\\n\\nfor label, prediction in zip(cols, test_prediction):\\n    print(f\\\"{label}: {prediction}\\\")\";\n",
       "                var nbb_formatted_code = \"test_comment = \\\"I hope you\\u2019re okay! I\\u2019m so sorry that happened. I\\u2019m glad I don\\u2019t work in gastown anymore\\\"\\n\\nencoding = tokenizer.encode_plus(\\n    test_comment,\\n    add_special_tokens=True,\\n    max_length=512,\\n    return_token_type_ids=False,\\n    padding=\\\"max_length\\\",\\n    return_attention_mask=True,\\n    return_tensors=\\\"pt\\\",\\n)\\n\\n_, test_prediction = trained_model(encoding[\\\"input_ids\\\"], encoding[\\\"attention_mask\\\"])\\ntest_prediction = test_prediction.flatten().numpy()\\n\\nfor label, prediction in zip(cols, test_prediction):\\n    print(f\\\"{label}: {prediction}\\\")\";\n",
       "                var nbb_cells = Jupyter.notebook.get_cells();\n",
       "                for (var i = 0; i < nbb_cells.length; ++i) {\n",
       "                    if (nbb_cells[i].input_prompt_number == nbb_cell_id) {\n",
       "                        if (nbb_cells[i].get_text() == nbb_unformatted_code) {\n",
       "                             nbb_cells[i].set_text(nbb_formatted_code);\n",
       "                        }\n",
       "                        break;\n",
       "                    }\n",
       "                }\n",
       "            }, 500);\n",
       "            "
      ],
      "text/plain": [
       "<IPython.core.display.Javascript object>"
      ]
     },
     "metadata": {},
     "output_type": "display_data"
    }
   ],
   "source": [
    "test_comment = \"I hope you’re okay! I’m so sorry that happened. I’m glad I don’t work in gastown anymore\"\n",
    "\n",
    "encoding = tokenizer.encode_plus(\n",
    "    test_comment,\n",
    "    add_special_tokens=True,\n",
    "    max_length=512,\n",
    "    return_token_type_ids=False,\n",
    "    padding=\"max_length\",\n",
    "    return_attention_mask=True,\n",
    "    return_tensors=\"pt\",\n",
    ")\n",
    "\n",
    "_, test_prediction = trained_model(encoding[\"input_ids\"], encoding[\"attention_mask\"])\n",
    "test_prediction = test_prediction.flatten().numpy()\n",
    "\n",
    "for label, prediction in zip(cols, test_prediction):\n",
    "    print(f\"{label}: {prediction}\")"
   ]
  },
  {
   "cell_type": "markdown",
   "id": "0158e8a7",
   "metadata": {},
   "source": [
    "Looks good. This one is pretty clean. We'll reduce the noise of the predictions by thresholding (0.5) them. We'll take only tag predictions above (or equal) to the threshold. Let's try:"
   ]
  },
  {
   "cell_type": "code",
   "execution_count": 89,
   "id": "ec4025d2",
   "metadata": {},
   "outputs": [
    {
     "name": "stdout",
     "output_type": "stream",
     "text": [
      "sadness: 0.8875961303710938\n"
     ]
    },
    {
     "data": {
      "application/javascript": [
       "\n",
       "            setTimeout(function() {\n",
       "                var nbb_cell_id = 89;\n",
       "                var nbb_unformatted_code = \"THRESHOLD = 0.5\\n\\ntest_comment = \\\"You are such a loser! You'll regret everything you've done to me!\\\"\\nencoding = tokenizer.encode_plus(\\n    test_comment,\\n    add_special_tokens=True,\\n    max_length=512,\\n    return_token_type_ids=False,\\n    padding=\\\"max_length\\\",\\n    return_attention_mask=True,\\n    return_tensors=\\\"pt\\\",\\n)\\n\\n_, test_prediction = trained_model(encoding[\\\"input_ids\\\"], encoding[\\\"attention_mask\\\"])\\ntest_prediction = test_prediction.flatten().numpy()\\n\\nfor label, prediction in zip(cols, test_prediction):\\n    if prediction < THRESHOLD:\\n        continue\\n    print(f\\\"{label}: {prediction}\\\")\";\n",
       "                var nbb_formatted_code = \"THRESHOLD = 0.5\\n\\ntest_comment = \\\"You are such a loser! You'll regret everything you've done to me!\\\"\\nencoding = tokenizer.encode_plus(\\n    test_comment,\\n    add_special_tokens=True,\\n    max_length=512,\\n    return_token_type_ids=False,\\n    padding=\\\"max_length\\\",\\n    return_attention_mask=True,\\n    return_tensors=\\\"pt\\\",\\n)\\n\\n_, test_prediction = trained_model(encoding[\\\"input_ids\\\"], encoding[\\\"attention_mask\\\"])\\ntest_prediction = test_prediction.flatten().numpy()\\n\\nfor label, prediction in zip(cols, test_prediction):\\n    if prediction < THRESHOLD:\\n        continue\\n    print(f\\\"{label}: {prediction}\\\")\";\n",
       "                var nbb_cells = Jupyter.notebook.get_cells();\n",
       "                for (var i = 0; i < nbb_cells.length; ++i) {\n",
       "                    if (nbb_cells[i].input_prompt_number == nbb_cell_id) {\n",
       "                        if (nbb_cells[i].get_text() == nbb_unformatted_code) {\n",
       "                             nbb_cells[i].set_text(nbb_formatted_code);\n",
       "                        }\n",
       "                        break;\n",
       "                    }\n",
       "                }\n",
       "            }, 500);\n",
       "            "
      ],
      "text/plain": [
       "<IPython.core.display.Javascript object>"
      ]
     },
     "metadata": {},
     "output_type": "display_data"
    }
   ],
   "source": [
    "THRESHOLD = 0.5\n",
    "\n",
    "test_comment = \"You are such a loser! You'll regret everything you've done to me!\"\n",
    "encoding = tokenizer.encode_plus(\n",
    "    test_comment,\n",
    "    add_special_tokens=True,\n",
    "    max_length=512,\n",
    "    return_token_type_ids=False,\n",
    "    padding=\"max_length\",\n",
    "    return_attention_mask=True,\n",
    "    return_tensors=\"pt\",\n",
    ")\n",
    "\n",
    "_, test_prediction = trained_model(encoding[\"input_ids\"], encoding[\"attention_mask\"])\n",
    "test_prediction = test_prediction.flatten().numpy()\n",
    "\n",
    "for label, prediction in zip(cols, test_prediction):\n",
    "    if prediction < THRESHOLD:\n",
    "        continue\n",
    "    print(f\"{label}: {prediction}\")"
   ]
  },
  {
   "cell_type": "markdown",
   "id": "c6cef6fe",
   "metadata": {},
   "source": [
    "I definitely agree with those tags. It looks like our model is doing something reasonable, on those two examples."
   ]
  },
  {
   "cell_type": "markdown",
   "id": "8e7df0a5",
   "metadata": {},
   "source": [
    "# Evaluation"
   ]
  },
  {
   "cell_type": "markdown",
   "id": "67458cf0",
   "metadata": {},
   "source": [
    "Let's get a more complete overview of the performance of our model. We'll start by taking all predictions and labels from the validation set:"
   ]
  },
  {
   "cell_type": "code",
   "execution_count": 90,
   "id": "ff9326eb",
   "metadata": {},
   "outputs": [
    {
     "data": {
      "application/vnd.jupyter.widget-view+json": {
       "model_id": "f073424aeeb5477e9f45e651791782d0",
       "version_major": 2,
       "version_minor": 0
      },
      "text/plain": [
       "  0%|          | 0/5686 [00:00<?, ?it/s]"
      ]
     },
     "metadata": {},
     "output_type": "display_data"
    },
    {
     "data": {
      "application/javascript": [
       "\n",
       "            setTimeout(function() {\n",
       "                var nbb_cell_id = 90;\n",
       "                var nbb_unformatted_code = \"device = torch.device(\\\"cuda\\\" if torch.cuda.is_available() else \\\"cpu\\\")\\ntrained_model = trained_model.to(device)\\n\\nval_dataset = EmotionsCommentsDataset(val_df, tokenizer, max_token_len=MAX_TOKEN_COUNT)\\n\\npredictions = []\\nlabels = []\\n\\nfor item in tqdm(val_dataset):\\n    _, prediction = trained_model(\\n        item[\\\"input_ids\\\"].unsqueeze(dim=0).to(device),\\n        item[\\\"attention_mask\\\"].unsqueeze(dim=0).to(device),\\n    )\\n    predictions.append(prediction.flatten())\\n    labels.append(item[\\\"labels\\\"].int())\\n\\npredictions = torch.stack(predictions).detach().cpu()\\nlabels = torch.stack(labels).detach().cpu()\";\n",
       "                var nbb_formatted_code = \"device = torch.device(\\\"cuda\\\" if torch.cuda.is_available() else \\\"cpu\\\")\\ntrained_model = trained_model.to(device)\\n\\nval_dataset = EmotionsCommentsDataset(val_df, tokenizer, max_token_len=MAX_TOKEN_COUNT)\\n\\npredictions = []\\nlabels = []\\n\\nfor item in tqdm(val_dataset):\\n    _, prediction = trained_model(\\n        item[\\\"input_ids\\\"].unsqueeze(dim=0).to(device),\\n        item[\\\"attention_mask\\\"].unsqueeze(dim=0).to(device),\\n    )\\n    predictions.append(prediction.flatten())\\n    labels.append(item[\\\"labels\\\"].int())\\n\\npredictions = torch.stack(predictions).detach().cpu()\\nlabels = torch.stack(labels).detach().cpu()\";\n",
       "                var nbb_cells = Jupyter.notebook.get_cells();\n",
       "                for (var i = 0; i < nbb_cells.length; ++i) {\n",
       "                    if (nbb_cells[i].input_prompt_number == nbb_cell_id) {\n",
       "                        if (nbb_cells[i].get_text() == nbb_unformatted_code) {\n",
       "                             nbb_cells[i].set_text(nbb_formatted_code);\n",
       "                        }\n",
       "                        break;\n",
       "                    }\n",
       "                }\n",
       "            }, 500);\n",
       "            "
      ],
      "text/plain": [
       "<IPython.core.display.Javascript object>"
      ]
     },
     "metadata": {},
     "output_type": "display_data"
    }
   ],
   "source": [
    "device = torch.device(\"cuda\" if torch.cuda.is_available() else \"cpu\")\n",
    "trained_model = trained_model.to(device)\n",
    "\n",
    "val_dataset = EmotionsCommentsDataset(val_df, tokenizer, max_token_len=MAX_TOKEN_COUNT)\n",
    "\n",
    "predictions = []\n",
    "labels = []\n",
    "\n",
    "for item in tqdm(val_dataset):\n",
    "    _, prediction = trained_model(\n",
    "        item[\"input_ids\"].unsqueeze(dim=0).to(device),\n",
    "        item[\"attention_mask\"].unsqueeze(dim=0).to(device),\n",
    "    )\n",
    "    predictions.append(prediction.flatten())\n",
    "    labels.append(item[\"labels\"].int())\n",
    "\n",
    "predictions = torch.stack(predictions).detach().cpu()\n",
    "labels = torch.stack(labels).detach().cpu()"
   ]
  },
  {
   "cell_type": "markdown",
   "id": "f897d356",
   "metadata": {},
   "source": [
    "One simple metric is the accuracy of the model:"
   ]
  },
  {
   "cell_type": "code",
   "execution_count": 95,
   "id": "b16fd5ec",
   "metadata": {},
   "outputs": [
    {
     "data": {
      "text/plain": [
       "tensor(0.9154)"
      ]
     },
     "execution_count": 95,
     "metadata": {},
     "output_type": "execute_result"
    },
    {
     "data": {
      "application/javascript": [
       "\n",
       "            setTimeout(function() {\n",
       "                var nbb_cell_id = 95;\n",
       "                var nbb_unformatted_code = \"accuracy(predictions, labels, threshold=THRESHOLD)\";\n",
       "                var nbb_formatted_code = \"accuracy(predictions, labels, threshold=THRESHOLD)\";\n",
       "                var nbb_cells = Jupyter.notebook.get_cells();\n",
       "                for (var i = 0; i < nbb_cells.length; ++i) {\n",
       "                    if (nbb_cells[i].input_prompt_number == nbb_cell_id) {\n",
       "                        if (nbb_cells[i].get_text() == nbb_unformatted_code) {\n",
       "                             nbb_cells[i].set_text(nbb_formatted_code);\n",
       "                        }\n",
       "                        break;\n",
       "                    }\n",
       "                }\n",
       "            }, 500);\n",
       "            "
      ],
      "text/plain": [
       "<IPython.core.display.Javascript object>"
      ]
     },
     "metadata": {},
     "output_type": "display_data"
    }
   ],
   "source": [
    "accuracy(predictions, labels, threshold=THRESHOLD)"
   ]
  },
  {
   "cell_type": "markdown",
   "id": "df87ec01",
   "metadata": {},
   "source": [
    "That's great, but you should take this result with a grain of salt. We have a very imbalanced dataset. Let's check the ROC for each tag:"
   ]
  },
  {
   "cell_type": "code",
   "execution_count": 96,
   "id": "8be932f6",
   "metadata": {},
   "outputs": [
    {
     "name": "stdout",
     "output_type": "stream",
     "text": [
      "AUROC per tag\n",
      "anger: 0.9242473840713501\n",
      "fear: 0.9614473581314087\n",
      "joy: 0.9447811841964722\n",
      "sadness: 0.9298059940338135\n",
      "surprise: 0.9191710352897644\n"
     ]
    },
    {
     "data": {
      "application/javascript": [
       "\n",
       "            setTimeout(function() {\n",
       "                var nbb_cell_id = 96;\n",
       "                var nbb_unformatted_code = \"print(\\\"AUROC per tag\\\")\\nfor i, name in enumerate(cols):\\n    tag_auroc = auroc(predictions[:, i], labels[:, i], pos_label=1)\\n    print(f\\\"{name}: {tag_auroc}\\\")\";\n",
       "                var nbb_formatted_code = \"print(\\\"AUROC per tag\\\")\\nfor i, name in enumerate(cols):\\n    tag_auroc = auroc(predictions[:, i], labels[:, i], pos_label=1)\\n    print(f\\\"{name}: {tag_auroc}\\\")\";\n",
       "                var nbb_cells = Jupyter.notebook.get_cells();\n",
       "                for (var i = 0; i < nbb_cells.length; ++i) {\n",
       "                    if (nbb_cells[i].input_prompt_number == nbb_cell_id) {\n",
       "                        if (nbb_cells[i].get_text() == nbb_unformatted_code) {\n",
       "                             nbb_cells[i].set_text(nbb_formatted_code);\n",
       "                        }\n",
       "                        break;\n",
       "                    }\n",
       "                }\n",
       "            }, 500);\n",
       "            "
      ],
      "text/plain": [
       "<IPython.core.display.Javascript object>"
      ]
     },
     "metadata": {},
     "output_type": "display_data"
    }
   ],
   "source": [
    "print(\"AUROC per tag\")\n",
    "for i, name in enumerate(cols):\n",
    "    tag_auroc = auroc(predictions[:, i], labels[:, i], pos_label=1)\n",
    "    print(f\"{name}: {tag_auroc}\")"
   ]
  },
  {
   "cell_type": "markdown",
   "id": "ad775a8e",
   "metadata": {},
   "source": [
    "Very good results, but just before we go party, let's check the classification report for each class. To make this work, we must apply thresholding to the predictions:"
   ]
  },
  {
   "cell_type": "code",
   "execution_count": 97,
   "id": "c8c3e5ea",
   "metadata": {},
   "outputs": [
    {
     "name": "stdout",
     "output_type": "stream",
     "text": [
      "              precision    recall  f1-score   support\n",
      "\n",
      "       anger       0.66      0.73      0.69      1035\n",
      "        fear       0.68      0.64      0.66       133\n",
      "         joy       0.89      0.90      0.89      3383\n",
      "     sadness       0.68      0.64      0.66       594\n",
      "    surprise       0.80      0.61      0.69       980\n",
      "\n",
      "   micro avg       0.81      0.79      0.80      6125\n",
      "   macro avg       0.74      0.70      0.72      6125\n",
      "weighted avg       0.81      0.79      0.80      6125\n",
      " samples avg       0.82      0.81      0.81      6125\n",
      "\n"
     ]
    },
    {
     "data": {
      "application/javascript": [
       "\n",
       "            setTimeout(function() {\n",
       "                var nbb_cell_id = 97;\n",
       "                var nbb_unformatted_code = \"y_pred = predictions.numpy()\\ny_true = labels.numpy()\\n\\nupper, lower = 1, 0\\n\\ny_pred = np.where(y_pred > THRESHOLD, upper, lower)\\n\\nprint(classification_report(y_true, y_pred, target_names=cols, zero_division=0))\";\n",
       "                var nbb_formatted_code = \"y_pred = predictions.numpy()\\ny_true = labels.numpy()\\n\\nupper, lower = 1, 0\\n\\ny_pred = np.where(y_pred > THRESHOLD, upper, lower)\\n\\nprint(classification_report(y_true, y_pred, target_names=cols, zero_division=0))\";\n",
       "                var nbb_cells = Jupyter.notebook.get_cells();\n",
       "                for (var i = 0; i < nbb_cells.length; ++i) {\n",
       "                    if (nbb_cells[i].input_prompt_number == nbb_cell_id) {\n",
       "                        if (nbb_cells[i].get_text() == nbb_unformatted_code) {\n",
       "                             nbb_cells[i].set_text(nbb_formatted_code);\n",
       "                        }\n",
       "                        break;\n",
       "                    }\n",
       "                }\n",
       "            }, 500);\n",
       "            "
      ],
      "text/plain": [
       "<IPython.core.display.Javascript object>"
      ]
     },
     "metadata": {},
     "output_type": "display_data"
    }
   ],
   "source": [
    "y_pred = predictions.numpy()\n",
    "y_true = labels.numpy()\n",
    "\n",
    "upper, lower = 1, 0\n",
    "\n",
    "y_pred = np.where(y_pred > THRESHOLD, upper, lower)\n",
    "\n",
    "print(classification_report(y_true, y_pred, target_names=cols, zero_division=0))"
   ]
  },
  {
   "cell_type": "markdown",
   "id": "b0ed3901",
   "metadata": {},
   "source": [
    "That gives us a much more realistic picture of the overall performance. The model makes mistakes on the tags will low amounts of examples. What can you do about it?"
   ]
  },
  {
   "cell_type": "markdown",
   "id": "f6cab1d3",
   "metadata": {},
   "source": [
    "# Summary"
   ]
  },
  {
   "cell_type": "markdown",
   "id": "eabddf51",
   "metadata": {},
   "source": [
    "Great job, you have a model that can tell (to some extent) if a text is toxic (and what kind) or not! Fine-tuning modern pre-trained Transformer models allow you to get high accuracy on a variety of NLP tasks with little compute power and small datasets.\n",
    "\n",
    "- Read the tutorial\n",
    "- [Run the notebook in your browser (Google Colab)](https://colab.research.google.com/drive/14Ea4lIzsn5EFvPpYKtWStXEByT9qmbkj?usp=sharing)\n",
    "- [Read the Getting Things Done with Pytorch book](https://github.com/curiousily/Getting-Things-Done-with-Pytorch)\n",
    "\n",
    "In this tutorial, you'll learned how to:\n",
    "\n",
    "- Load, balance and split text data into sets\n",
    "- Tokenize text (with BERT tokenizer) and create PyTorch dataset\n",
    "- Fine-tune BERT model with PyTorch Lightning\n",
    "- Find out about warmup steps and use a learning rate scheduler\n",
    "- Use area under the ROC and binary cross-entropy to evaluate the model during training\n",
    "- How to make predictions using the fine-tuned BERT model\n",
    "- Evaluate the performance of the model for each class (possible comment tag)\n",
    "\n",
    "Can you increase the accuracy of the model? How about better parameters or different learning rate scheduling? Let me know in the comments."
   ]
  },
  {
   "cell_type": "code",
   "execution_count": null,
   "id": "fee12768",
   "metadata": {},
   "outputs": [],
   "source": []
  }
 ],
 "metadata": {
  "kernelspec": {
   "display_name": "Python 3 (ipykernel)",
   "language": "python",
   "name": "python3"
  },
  "language_info": {
   "codemirror_mode": {
    "name": "ipython",
    "version": 3
   },
   "file_extension": ".py",
   "mimetype": "text/x-python",
   "name": "python",
   "nbconvert_exporter": "python",
   "pygments_lexer": "ipython3",
   "version": "3.8.0"
  }
 },
 "nbformat": 4,
 "nbformat_minor": 5
}
